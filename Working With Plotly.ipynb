{
 "cells": [
  {
   "cell_type": "markdown",
   "metadata": {},
   "source": [
    "# <center>Working With Plotly</center>"
   ]
  },
  {
   "cell_type": "code",
   "execution_count": 1,
   "metadata": {},
   "outputs": [
    {
     "name": "stdout",
     "output_type": "stream",
     "text": [
      "4.14.1\n"
     ]
    }
   ],
   "source": [
    "#import\n",
    "import plotly\n",
    "from plotly import __version__\n",
    "print (__version__)\n",
    "from plotly.offline import download_plotlyjs, init_notebook_mode, plot, iplot\n",
    "\n",
    "#import sys\n",
    "#!{sys.executable} -m pip install chart_studio"
   ]
  },
  {
   "cell_type": "code",
   "execution_count": 2,
   "metadata": {},
   "outputs": [
    {
     "data": {
      "text/html": [
       "        <script type=\"text/javascript\">\n",
       "        window.PlotlyConfig = {MathJaxConfig: 'local'};\n",
       "        if (window.MathJax) {MathJax.Hub.Config({SVG: {font: \"STIX-Web\"}});}\n",
       "        if (typeof require !== 'undefined') {\n",
       "        require.undef(\"plotly\");\n",
       "        requirejs.config({\n",
       "            paths: {\n",
       "                'plotly': ['https://cdn.plot.ly/plotly-latest.min']\n",
       "            }\n",
       "        });\n",
       "        require(['plotly'], function(Plotly) {\n",
       "            window._Plotly = Plotly;\n",
       "        });\n",
       "        }\n",
       "        </script>\n",
       "        "
      ]
     },
     "metadata": {},
     "output_type": "display_data"
    }
   ],
   "source": [
    "#Jupyter setup\n",
    "init_notebook_mode(connected=True)"
   ]
  },
  {
   "cell_type": "markdown",
   "metadata": {},
   "source": [
    "<br>\n",
    "\n",
    "To save the chart to Plotly Cloud or Plotly Enterprise, use `plotly.plotly.iplot`.\n",
    "\n",
    "Use py.plot() to return the unique url and optionally open the url.\n",
    "\n",
    "Use py.iplot() when working in a Jupyter Notebook to display the plot in the notebook.\n",
    "\n",
    "<br>"
   ]
  },
  {
   "cell_type": "code",
   "execution_count": 3,
   "metadata": {},
   "outputs": [
    {
     "data": {
      "application/vnd.plotly.v1+json": {
       "config": {
        "linkText": "Export to plot.ly",
        "plotlyServerURL": "https://plot.ly",
        "showLink": false
       },
       "data": [
        {
         "type": "scatter",
         "x": [
          1,
          2,
          3,
          4,
          5
         ],
         "y": [
          1,
          2,
          6,
          4,
          1
         ]
        }
       ],
       "layout": {
        "template": {
         "data": {
          "bar": [
           {
            "error_x": {
             "color": "#2a3f5f"
            },
            "error_y": {
             "color": "#2a3f5f"
            },
            "marker": {
             "line": {
              "color": "#E5ECF6",
              "width": 0.5
             }
            },
            "type": "bar"
           }
          ],
          "barpolar": [
           {
            "marker": {
             "line": {
              "color": "#E5ECF6",
              "width": 0.5
             }
            },
            "type": "barpolar"
           }
          ],
          "carpet": [
           {
            "aaxis": {
             "endlinecolor": "#2a3f5f",
             "gridcolor": "white",
             "linecolor": "white",
             "minorgridcolor": "white",
             "startlinecolor": "#2a3f5f"
            },
            "baxis": {
             "endlinecolor": "#2a3f5f",
             "gridcolor": "white",
             "linecolor": "white",
             "minorgridcolor": "white",
             "startlinecolor": "#2a3f5f"
            },
            "type": "carpet"
           }
          ],
          "choropleth": [
           {
            "colorbar": {
             "outlinewidth": 0,
             "ticks": ""
            },
            "type": "choropleth"
           }
          ],
          "contour": [
           {
            "colorbar": {
             "outlinewidth": 0,
             "ticks": ""
            },
            "colorscale": [
             [
              0,
              "#0d0887"
             ],
             [
              0.1111111111111111,
              "#46039f"
             ],
             [
              0.2222222222222222,
              "#7201a8"
             ],
             [
              0.3333333333333333,
              "#9c179e"
             ],
             [
              0.4444444444444444,
              "#bd3786"
             ],
             [
              0.5555555555555556,
              "#d8576b"
             ],
             [
              0.6666666666666666,
              "#ed7953"
             ],
             [
              0.7777777777777778,
              "#fb9f3a"
             ],
             [
              0.8888888888888888,
              "#fdca26"
             ],
             [
              1,
              "#f0f921"
             ]
            ],
            "type": "contour"
           }
          ],
          "contourcarpet": [
           {
            "colorbar": {
             "outlinewidth": 0,
             "ticks": ""
            },
            "type": "contourcarpet"
           }
          ],
          "heatmap": [
           {
            "colorbar": {
             "outlinewidth": 0,
             "ticks": ""
            },
            "colorscale": [
             [
              0,
              "#0d0887"
             ],
             [
              0.1111111111111111,
              "#46039f"
             ],
             [
              0.2222222222222222,
              "#7201a8"
             ],
             [
              0.3333333333333333,
              "#9c179e"
             ],
             [
              0.4444444444444444,
              "#bd3786"
             ],
             [
              0.5555555555555556,
              "#d8576b"
             ],
             [
              0.6666666666666666,
              "#ed7953"
             ],
             [
              0.7777777777777778,
              "#fb9f3a"
             ],
             [
              0.8888888888888888,
              "#fdca26"
             ],
             [
              1,
              "#f0f921"
             ]
            ],
            "type": "heatmap"
           }
          ],
          "heatmapgl": [
           {
            "colorbar": {
             "outlinewidth": 0,
             "ticks": ""
            },
            "colorscale": [
             [
              0,
              "#0d0887"
             ],
             [
              0.1111111111111111,
              "#46039f"
             ],
             [
              0.2222222222222222,
              "#7201a8"
             ],
             [
              0.3333333333333333,
              "#9c179e"
             ],
             [
              0.4444444444444444,
              "#bd3786"
             ],
             [
              0.5555555555555556,
              "#d8576b"
             ],
             [
              0.6666666666666666,
              "#ed7953"
             ],
             [
              0.7777777777777778,
              "#fb9f3a"
             ],
             [
              0.8888888888888888,
              "#fdca26"
             ],
             [
              1,
              "#f0f921"
             ]
            ],
            "type": "heatmapgl"
           }
          ],
          "histogram": [
           {
            "marker": {
             "colorbar": {
              "outlinewidth": 0,
              "ticks": ""
             }
            },
            "type": "histogram"
           }
          ],
          "histogram2d": [
           {
            "colorbar": {
             "outlinewidth": 0,
             "ticks": ""
            },
            "colorscale": [
             [
              0,
              "#0d0887"
             ],
             [
              0.1111111111111111,
              "#46039f"
             ],
             [
              0.2222222222222222,
              "#7201a8"
             ],
             [
              0.3333333333333333,
              "#9c179e"
             ],
             [
              0.4444444444444444,
              "#bd3786"
             ],
             [
              0.5555555555555556,
              "#d8576b"
             ],
             [
              0.6666666666666666,
              "#ed7953"
             ],
             [
              0.7777777777777778,
              "#fb9f3a"
             ],
             [
              0.8888888888888888,
              "#fdca26"
             ],
             [
              1,
              "#f0f921"
             ]
            ],
            "type": "histogram2d"
           }
          ],
          "histogram2dcontour": [
           {
            "colorbar": {
             "outlinewidth": 0,
             "ticks": ""
            },
            "colorscale": [
             [
              0,
              "#0d0887"
             ],
             [
              0.1111111111111111,
              "#46039f"
             ],
             [
              0.2222222222222222,
              "#7201a8"
             ],
             [
              0.3333333333333333,
              "#9c179e"
             ],
             [
              0.4444444444444444,
              "#bd3786"
             ],
             [
              0.5555555555555556,
              "#d8576b"
             ],
             [
              0.6666666666666666,
              "#ed7953"
             ],
             [
              0.7777777777777778,
              "#fb9f3a"
             ],
             [
              0.8888888888888888,
              "#fdca26"
             ],
             [
              1,
              "#f0f921"
             ]
            ],
            "type": "histogram2dcontour"
           }
          ],
          "mesh3d": [
           {
            "colorbar": {
             "outlinewidth": 0,
             "ticks": ""
            },
            "type": "mesh3d"
           }
          ],
          "parcoords": [
           {
            "line": {
             "colorbar": {
              "outlinewidth": 0,
              "ticks": ""
             }
            },
            "type": "parcoords"
           }
          ],
          "pie": [
           {
            "automargin": true,
            "type": "pie"
           }
          ],
          "scatter": [
           {
            "marker": {
             "colorbar": {
              "outlinewidth": 0,
              "ticks": ""
             }
            },
            "type": "scatter"
           }
          ],
          "scatter3d": [
           {
            "line": {
             "colorbar": {
              "outlinewidth": 0,
              "ticks": ""
             }
            },
            "marker": {
             "colorbar": {
              "outlinewidth": 0,
              "ticks": ""
             }
            },
            "type": "scatter3d"
           }
          ],
          "scattercarpet": [
           {
            "marker": {
             "colorbar": {
              "outlinewidth": 0,
              "ticks": ""
             }
            },
            "type": "scattercarpet"
           }
          ],
          "scattergeo": [
           {
            "marker": {
             "colorbar": {
              "outlinewidth": 0,
              "ticks": ""
             }
            },
            "type": "scattergeo"
           }
          ],
          "scattergl": [
           {
            "marker": {
             "colorbar": {
              "outlinewidth": 0,
              "ticks": ""
             }
            },
            "type": "scattergl"
           }
          ],
          "scattermapbox": [
           {
            "marker": {
             "colorbar": {
              "outlinewidth": 0,
              "ticks": ""
             }
            },
            "type": "scattermapbox"
           }
          ],
          "scatterpolar": [
           {
            "marker": {
             "colorbar": {
              "outlinewidth": 0,
              "ticks": ""
             }
            },
            "type": "scatterpolar"
           }
          ],
          "scatterpolargl": [
           {
            "marker": {
             "colorbar": {
              "outlinewidth": 0,
              "ticks": ""
             }
            },
            "type": "scatterpolargl"
           }
          ],
          "scatterternary": [
           {
            "marker": {
             "colorbar": {
              "outlinewidth": 0,
              "ticks": ""
             }
            },
            "type": "scatterternary"
           }
          ],
          "surface": [
           {
            "colorbar": {
             "outlinewidth": 0,
             "ticks": ""
            },
            "colorscale": [
             [
              0,
              "#0d0887"
             ],
             [
              0.1111111111111111,
              "#46039f"
             ],
             [
              0.2222222222222222,
              "#7201a8"
             ],
             [
              0.3333333333333333,
              "#9c179e"
             ],
             [
              0.4444444444444444,
              "#bd3786"
             ],
             [
              0.5555555555555556,
              "#d8576b"
             ],
             [
              0.6666666666666666,
              "#ed7953"
             ],
             [
              0.7777777777777778,
              "#fb9f3a"
             ],
             [
              0.8888888888888888,
              "#fdca26"
             ],
             [
              1,
              "#f0f921"
             ]
            ],
            "type": "surface"
           }
          ],
          "table": [
           {
            "cells": {
             "fill": {
              "color": "#EBF0F8"
             },
             "line": {
              "color": "white"
             }
            },
            "header": {
             "fill": {
              "color": "#C8D4E3"
             },
             "line": {
              "color": "white"
             }
            },
            "type": "table"
           }
          ]
         },
         "layout": {
          "annotationdefaults": {
           "arrowcolor": "#2a3f5f",
           "arrowhead": 0,
           "arrowwidth": 1
          },
          "autotypenumbers": "strict",
          "coloraxis": {
           "colorbar": {
            "outlinewidth": 0,
            "ticks": ""
           }
          },
          "colorscale": {
           "diverging": [
            [
             0,
             "#8e0152"
            ],
            [
             0.1,
             "#c51b7d"
            ],
            [
             0.2,
             "#de77ae"
            ],
            [
             0.3,
             "#f1b6da"
            ],
            [
             0.4,
             "#fde0ef"
            ],
            [
             0.5,
             "#f7f7f7"
            ],
            [
             0.6,
             "#e6f5d0"
            ],
            [
             0.7,
             "#b8e186"
            ],
            [
             0.8,
             "#7fbc41"
            ],
            [
             0.9,
             "#4d9221"
            ],
            [
             1,
             "#276419"
            ]
           ],
           "sequential": [
            [
             0,
             "#0d0887"
            ],
            [
             0.1111111111111111,
             "#46039f"
            ],
            [
             0.2222222222222222,
             "#7201a8"
            ],
            [
             0.3333333333333333,
             "#9c179e"
            ],
            [
             0.4444444444444444,
             "#bd3786"
            ],
            [
             0.5555555555555556,
             "#d8576b"
            ],
            [
             0.6666666666666666,
             "#ed7953"
            ],
            [
             0.7777777777777778,
             "#fb9f3a"
            ],
            [
             0.8888888888888888,
             "#fdca26"
            ],
            [
             1,
             "#f0f921"
            ]
           ],
           "sequentialminus": [
            [
             0,
             "#0d0887"
            ],
            [
             0.1111111111111111,
             "#46039f"
            ],
            [
             0.2222222222222222,
             "#7201a8"
            ],
            [
             0.3333333333333333,
             "#9c179e"
            ],
            [
             0.4444444444444444,
             "#bd3786"
            ],
            [
             0.5555555555555556,
             "#d8576b"
            ],
            [
             0.6666666666666666,
             "#ed7953"
            ],
            [
             0.7777777777777778,
             "#fb9f3a"
            ],
            [
             0.8888888888888888,
             "#fdca26"
            ],
            [
             1,
             "#f0f921"
            ]
           ]
          },
          "colorway": [
           "#636efa",
           "#EF553B",
           "#00cc96",
           "#ab63fa",
           "#FFA15A",
           "#19d3f3",
           "#FF6692",
           "#B6E880",
           "#FF97FF",
           "#FECB52"
          ],
          "font": {
           "color": "#2a3f5f"
          },
          "geo": {
           "bgcolor": "white",
           "lakecolor": "white",
           "landcolor": "#E5ECF6",
           "showlakes": true,
           "showland": true,
           "subunitcolor": "white"
          },
          "hoverlabel": {
           "align": "left"
          },
          "hovermode": "closest",
          "mapbox": {
           "style": "light"
          },
          "paper_bgcolor": "white",
          "plot_bgcolor": "#E5ECF6",
          "polar": {
           "angularaxis": {
            "gridcolor": "white",
            "linecolor": "white",
            "ticks": ""
           },
           "bgcolor": "#E5ECF6",
           "radialaxis": {
            "gridcolor": "white",
            "linecolor": "white",
            "ticks": ""
           }
          },
          "scene": {
           "xaxis": {
            "backgroundcolor": "#E5ECF6",
            "gridcolor": "white",
            "gridwidth": 2,
            "linecolor": "white",
            "showbackground": true,
            "ticks": "",
            "zerolinecolor": "white"
           },
           "yaxis": {
            "backgroundcolor": "#E5ECF6",
            "gridcolor": "white",
            "gridwidth": 2,
            "linecolor": "white",
            "showbackground": true,
            "ticks": "",
            "zerolinecolor": "white"
           },
           "zaxis": {
            "backgroundcolor": "#E5ECF6",
            "gridcolor": "white",
            "gridwidth": 2,
            "linecolor": "white",
            "showbackground": true,
            "ticks": "",
            "zerolinecolor": "white"
           }
          },
          "shapedefaults": {
           "line": {
            "color": "#2a3f5f"
           }
          },
          "ternary": {
           "aaxis": {
            "gridcolor": "white",
            "linecolor": "white",
            "ticks": ""
           },
           "baxis": {
            "gridcolor": "white",
            "linecolor": "white",
            "ticks": ""
           },
           "bgcolor": "#E5ECF6",
           "caxis": {
            "gridcolor": "white",
            "linecolor": "white",
            "ticks": ""
           }
          },
          "title": {
           "x": 0.05
          },
          "xaxis": {
           "automargin": true,
           "gridcolor": "white",
           "linecolor": "white",
           "ticks": "",
           "title": {
            "standoff": 15
           },
           "zerolinecolor": "white",
           "zerolinewidth": 2
          },
          "yaxis": {
           "automargin": true,
           "gridcolor": "white",
           "linecolor": "white",
           "ticks": "",
           "title": {
            "standoff": 15
           },
           "zerolinecolor": "white",
           "zerolinewidth": 2
          }
         }
        }
       }
      },
      "text/html": [
       "<div>                            <div id=\"74f6a4ff-ed26-4f9d-853b-248643a6d306\" class=\"plotly-graph-div\" style=\"height:525px; width:100%;\"></div>            <script type=\"text/javascript\">                require([\"plotly\"], function(Plotly) {                    window.PLOTLYENV=window.PLOTLYENV || {};                                    if (document.getElementById(\"74f6a4ff-ed26-4f9d-853b-248643a6d306\")) {                    Plotly.newPlot(                        \"74f6a4ff-ed26-4f9d-853b-248643a6d306\",                        [{\"type\": \"scatter\", \"x\": [1, 2, 3, 4, 5], \"y\": [1, 2, 6, 4, 1]}],                        {\"template\": {\"data\": {\"bar\": [{\"error_x\": {\"color\": \"#2a3f5f\"}, \"error_y\": {\"color\": \"#2a3f5f\"}, \"marker\": {\"line\": {\"color\": \"#E5ECF6\", \"width\": 0.5}}, \"type\": \"bar\"}], \"barpolar\": [{\"marker\": {\"line\": {\"color\": \"#E5ECF6\", \"width\": 0.5}}, \"type\": \"barpolar\"}], \"carpet\": [{\"aaxis\": {\"endlinecolor\": \"#2a3f5f\", \"gridcolor\": \"white\", \"linecolor\": \"white\", \"minorgridcolor\": \"white\", \"startlinecolor\": \"#2a3f5f\"}, \"baxis\": {\"endlinecolor\": \"#2a3f5f\", \"gridcolor\": \"white\", \"linecolor\": \"white\", \"minorgridcolor\": \"white\", \"startlinecolor\": \"#2a3f5f\"}, \"type\": \"carpet\"}], \"choropleth\": [{\"colorbar\": {\"outlinewidth\": 0, \"ticks\": \"\"}, \"type\": \"choropleth\"}], \"contour\": [{\"colorbar\": {\"outlinewidth\": 0, \"ticks\": \"\"}, \"colorscale\": [[0.0, \"#0d0887\"], [0.1111111111111111, \"#46039f\"], [0.2222222222222222, \"#7201a8\"], [0.3333333333333333, \"#9c179e\"], [0.4444444444444444, \"#bd3786\"], [0.5555555555555556, \"#d8576b\"], [0.6666666666666666, \"#ed7953\"], [0.7777777777777778, \"#fb9f3a\"], [0.8888888888888888, \"#fdca26\"], [1.0, \"#f0f921\"]], \"type\": \"contour\"}], \"contourcarpet\": [{\"colorbar\": {\"outlinewidth\": 0, \"ticks\": \"\"}, \"type\": \"contourcarpet\"}], \"heatmap\": [{\"colorbar\": {\"outlinewidth\": 0, \"ticks\": \"\"}, \"colorscale\": [[0.0, \"#0d0887\"], [0.1111111111111111, \"#46039f\"], [0.2222222222222222, \"#7201a8\"], [0.3333333333333333, \"#9c179e\"], [0.4444444444444444, \"#bd3786\"], [0.5555555555555556, \"#d8576b\"], [0.6666666666666666, \"#ed7953\"], [0.7777777777777778, \"#fb9f3a\"], [0.8888888888888888, \"#fdca26\"], [1.0, \"#f0f921\"]], \"type\": \"heatmap\"}], \"heatmapgl\": [{\"colorbar\": {\"outlinewidth\": 0, \"ticks\": \"\"}, \"colorscale\": [[0.0, \"#0d0887\"], [0.1111111111111111, \"#46039f\"], [0.2222222222222222, \"#7201a8\"], [0.3333333333333333, \"#9c179e\"], [0.4444444444444444, \"#bd3786\"], [0.5555555555555556, \"#d8576b\"], [0.6666666666666666, \"#ed7953\"], [0.7777777777777778, \"#fb9f3a\"], [0.8888888888888888, \"#fdca26\"], [1.0, \"#f0f921\"]], \"type\": \"heatmapgl\"}], \"histogram\": [{\"marker\": {\"colorbar\": {\"outlinewidth\": 0, \"ticks\": \"\"}}, \"type\": \"histogram\"}], \"histogram2d\": [{\"colorbar\": {\"outlinewidth\": 0, \"ticks\": \"\"}, \"colorscale\": [[0.0, \"#0d0887\"], [0.1111111111111111, \"#46039f\"], [0.2222222222222222, \"#7201a8\"], [0.3333333333333333, \"#9c179e\"], [0.4444444444444444, \"#bd3786\"], [0.5555555555555556, \"#d8576b\"], [0.6666666666666666, \"#ed7953\"], [0.7777777777777778, \"#fb9f3a\"], [0.8888888888888888, \"#fdca26\"], [1.0, \"#f0f921\"]], \"type\": \"histogram2d\"}], \"histogram2dcontour\": [{\"colorbar\": {\"outlinewidth\": 0, \"ticks\": \"\"}, \"colorscale\": [[0.0, \"#0d0887\"], [0.1111111111111111, \"#46039f\"], [0.2222222222222222, \"#7201a8\"], [0.3333333333333333, \"#9c179e\"], [0.4444444444444444, \"#bd3786\"], [0.5555555555555556, \"#d8576b\"], [0.6666666666666666, \"#ed7953\"], [0.7777777777777778, \"#fb9f3a\"], [0.8888888888888888, \"#fdca26\"], [1.0, \"#f0f921\"]], \"type\": \"histogram2dcontour\"}], \"mesh3d\": [{\"colorbar\": {\"outlinewidth\": 0, \"ticks\": \"\"}, \"type\": \"mesh3d\"}], \"parcoords\": [{\"line\": {\"colorbar\": {\"outlinewidth\": 0, \"ticks\": \"\"}}, \"type\": \"parcoords\"}], \"pie\": [{\"automargin\": true, \"type\": \"pie\"}], \"scatter\": [{\"marker\": {\"colorbar\": {\"outlinewidth\": 0, \"ticks\": \"\"}}, \"type\": \"scatter\"}], \"scatter3d\": [{\"line\": {\"colorbar\": {\"outlinewidth\": 0, \"ticks\": \"\"}}, \"marker\": {\"colorbar\": {\"outlinewidth\": 0, \"ticks\": \"\"}}, \"type\": \"scatter3d\"}], \"scattercarpet\": [{\"marker\": {\"colorbar\": {\"outlinewidth\": 0, \"ticks\": \"\"}}, \"type\": \"scattercarpet\"}], \"scattergeo\": [{\"marker\": {\"colorbar\": {\"outlinewidth\": 0, \"ticks\": \"\"}}, \"type\": \"scattergeo\"}], \"scattergl\": [{\"marker\": {\"colorbar\": {\"outlinewidth\": 0, \"ticks\": \"\"}}, \"type\": \"scattergl\"}], \"scattermapbox\": [{\"marker\": {\"colorbar\": {\"outlinewidth\": 0, \"ticks\": \"\"}}, \"type\": \"scattermapbox\"}], \"scatterpolar\": [{\"marker\": {\"colorbar\": {\"outlinewidth\": 0, \"ticks\": \"\"}}, \"type\": \"scatterpolar\"}], \"scatterpolargl\": [{\"marker\": {\"colorbar\": {\"outlinewidth\": 0, \"ticks\": \"\"}}, \"type\": \"scatterpolargl\"}], \"scatterternary\": [{\"marker\": {\"colorbar\": {\"outlinewidth\": 0, \"ticks\": \"\"}}, \"type\": \"scatterternary\"}], \"surface\": [{\"colorbar\": {\"outlinewidth\": 0, \"ticks\": \"\"}, \"colorscale\": [[0.0, \"#0d0887\"], [0.1111111111111111, \"#46039f\"], [0.2222222222222222, \"#7201a8\"], [0.3333333333333333, \"#9c179e\"], [0.4444444444444444, \"#bd3786\"], [0.5555555555555556, \"#d8576b\"], [0.6666666666666666, \"#ed7953\"], [0.7777777777777778, \"#fb9f3a\"], [0.8888888888888888, \"#fdca26\"], [1.0, \"#f0f921\"]], \"type\": \"surface\"}], \"table\": [{\"cells\": {\"fill\": {\"color\": \"#EBF0F8\"}, \"line\": {\"color\": \"white\"}}, \"header\": {\"fill\": {\"color\": \"#C8D4E3\"}, \"line\": {\"color\": \"white\"}}, \"type\": \"table\"}]}, \"layout\": {\"annotationdefaults\": {\"arrowcolor\": \"#2a3f5f\", \"arrowhead\": 0, \"arrowwidth\": 1}, \"autotypenumbers\": \"strict\", \"coloraxis\": {\"colorbar\": {\"outlinewidth\": 0, \"ticks\": \"\"}}, \"colorscale\": {\"diverging\": [[0, \"#8e0152\"], [0.1, \"#c51b7d\"], [0.2, \"#de77ae\"], [0.3, \"#f1b6da\"], [0.4, \"#fde0ef\"], [0.5, \"#f7f7f7\"], [0.6, \"#e6f5d0\"], [0.7, \"#b8e186\"], [0.8, \"#7fbc41\"], [0.9, \"#4d9221\"], [1, \"#276419\"]], \"sequential\": [[0.0, \"#0d0887\"], [0.1111111111111111, \"#46039f\"], [0.2222222222222222, \"#7201a8\"], [0.3333333333333333, \"#9c179e\"], [0.4444444444444444, \"#bd3786\"], [0.5555555555555556, \"#d8576b\"], [0.6666666666666666, \"#ed7953\"], [0.7777777777777778, \"#fb9f3a\"], [0.8888888888888888, \"#fdca26\"], [1.0, \"#f0f921\"]], \"sequentialminus\": [[0.0, \"#0d0887\"], [0.1111111111111111, \"#46039f\"], [0.2222222222222222, \"#7201a8\"], [0.3333333333333333, \"#9c179e\"], [0.4444444444444444, \"#bd3786\"], [0.5555555555555556, \"#d8576b\"], [0.6666666666666666, \"#ed7953\"], [0.7777777777777778, \"#fb9f3a\"], [0.8888888888888888, \"#fdca26\"], [1.0, \"#f0f921\"]]}, \"colorway\": [\"#636efa\", \"#EF553B\", \"#00cc96\", \"#ab63fa\", \"#FFA15A\", \"#19d3f3\", \"#FF6692\", \"#B6E880\", \"#FF97FF\", \"#FECB52\"], \"font\": {\"color\": \"#2a3f5f\"}, \"geo\": {\"bgcolor\": \"white\", \"lakecolor\": \"white\", \"landcolor\": \"#E5ECF6\", \"showlakes\": true, \"showland\": true, \"subunitcolor\": \"white\"}, \"hoverlabel\": {\"align\": \"left\"}, \"hovermode\": \"closest\", \"mapbox\": {\"style\": \"light\"}, \"paper_bgcolor\": \"white\", \"plot_bgcolor\": \"#E5ECF6\", \"polar\": {\"angularaxis\": {\"gridcolor\": \"white\", \"linecolor\": \"white\", \"ticks\": \"\"}, \"bgcolor\": \"#E5ECF6\", \"radialaxis\": {\"gridcolor\": \"white\", \"linecolor\": \"white\", \"ticks\": \"\"}}, \"scene\": {\"xaxis\": {\"backgroundcolor\": \"#E5ECF6\", \"gridcolor\": \"white\", \"gridwidth\": 2, \"linecolor\": \"white\", \"showbackground\": true, \"ticks\": \"\", \"zerolinecolor\": \"white\"}, \"yaxis\": {\"backgroundcolor\": \"#E5ECF6\", \"gridcolor\": \"white\", \"gridwidth\": 2, \"linecolor\": \"white\", \"showbackground\": true, \"ticks\": \"\", \"zerolinecolor\": \"white\"}, \"zaxis\": {\"backgroundcolor\": \"#E5ECF6\", \"gridcolor\": \"white\", \"gridwidth\": 2, \"linecolor\": \"white\", \"showbackground\": true, \"ticks\": \"\", \"zerolinecolor\": \"white\"}}, \"shapedefaults\": {\"line\": {\"color\": \"#2a3f5f\"}}, \"ternary\": {\"aaxis\": {\"gridcolor\": \"white\", \"linecolor\": \"white\", \"ticks\": \"\"}, \"baxis\": {\"gridcolor\": \"white\", \"linecolor\": \"white\", \"ticks\": \"\"}, \"bgcolor\": \"#E5ECF6\", \"caxis\": {\"gridcolor\": \"white\", \"linecolor\": \"white\", \"ticks\": \"\"}}, \"title\": {\"x\": 0.05}, \"xaxis\": {\"automargin\": true, \"gridcolor\": \"white\", \"linecolor\": \"white\", \"ticks\": \"\", \"title\": {\"standoff\": 15}, \"zerolinecolor\": \"white\", \"zerolinewidth\": 2}, \"yaxis\": {\"automargin\": true, \"gridcolor\": \"white\", \"linecolor\": \"white\", \"ticks\": \"\", \"title\": {\"standoff\": 15}, \"zerolinecolor\": \"white\", \"zerolinewidth\": 2}}}},                        {\"responsive\": true}                    ).then(function(){\n",
       "                            \n",
       "var gd = document.getElementById('74f6a4ff-ed26-4f9d-853b-248643a6d306');\n",
       "var x = new MutationObserver(function (mutations, observer) {{\n",
       "        var display = window.getComputedStyle(gd).display;\n",
       "        if (!display || display === 'none') {{\n",
       "            console.log([gd, 'removed!']);\n",
       "            Plotly.purge(gd);\n",
       "            observer.disconnect();\n",
       "        }}\n",
       "}});\n",
       "\n",
       "// Listen for the removal of the full notebook cells\n",
       "var notebookContainer = gd.closest('#notebook-container');\n",
       "if (notebookContainer) {{\n",
       "    x.observe(notebookContainer, {childList: true});\n",
       "}}\n",
       "\n",
       "// Listen for the clearing of the current output cell\n",
       "var outputEl = gd.closest('.output');\n",
       "if (outputEl) {{\n",
       "    x.observe(outputEl, {childList: true});\n",
       "}}\n",
       "\n",
       "                        })                };                });            </script>        </div>"
      ]
     },
     "metadata": {},
     "output_type": "display_data"
    }
   ],
   "source": [
    "iplot([{\"x\": [1, 2, 3, 4, 5], \"y\": [1, 2, 6, 4, 1]}])"
   ]
  },
  {
   "cell_type": "code",
   "execution_count": 4,
   "metadata": {},
   "outputs": [
    {
     "data": {
      "application/vnd.plotly.v1+json": {
       "config": {
        "linkText": "Export to plot.ly",
        "plotlyServerURL": "https://plot.ly",
        "showLink": false
       },
       "data": [
        {
         "contours": {
          "coloring": "heatmap"
         },
         "type": "histogram2dcontour",
         "x": [
          1.42431316800419,
          0.2922182565191422,
          -0.6100348274522979,
          -0.07094880089610478,
          -1.0875521314683105,
          -0.943294804765724,
          0.2520054105212392,
          0.49434146967079606,
          0.27232192962409524,
          0.3805893349470849,
          -0.829839488136048,
          1.1697509751803346,
          1.8390531772692917,
          -0.5066186871716518,
          -0.3315153312342153,
          -0.4182508051176748,
          0.9841225543292499,
          0.7501863892782219,
          -0.26667512800741633,
          1.2714680023306784,
          1.016925328759142,
          -0.38622389933248064,
          -0.3824023500492277,
          -1.2416301941043006,
          -0.6681726901403843,
          0.5239956103800222,
          1.8308848349313378,
          0.08527061714781269,
          1.6633794820526668,
          1.012114503200857,
          -1.3726186585600308,
          -0.021856983995307087,
          -0.08890616835059166,
          -0.7976239554288559,
          0.64835854573148,
          -0.3375678877392042,
          -1.8454847620931605,
          -0.0317189398152935,
          1.6173374315860554,
          1.4713424681077192,
          -0.2710526580788573,
          0.4439024257122562,
          -0.16228844660477257,
          -0.3774021696053779,
          0.7041043323187216,
          0.23733136321374362,
          -0.2200184574505608,
          -1.0557179063205977,
          0.4947981329456479,
          1.1958589583923676,
          1.264636524173858,
          -0.9282928646731828,
          -1.3818432459876142,
          0.4558820593391029,
          -0.9231284576626322,
          0.7652090725797314,
          0.7778605134780658,
          0.24149443294305098,
          -0.13567880474989547,
          0.29488657303203236,
          1.5410343269902875,
          -0.5307465515858928,
          0.27709016032722183,
          -0.7570909317552551,
          -0.47208065018911505,
          -0.9927233953437579,
          -2.1664833360551317,
          1.7075616613545936,
          -2.3241489463880294,
          0.8135190486843292,
          -1.1270257667858674,
          0.2719933293113927,
          -0.7542318016955715,
          1.2752352542422607,
          -0.6281802962396802,
          0.011880483543172362,
          1.180391699105607,
          -1.0710457239042814,
          0.879111466560403,
          -0.3302691455803222,
          -0.29060172356100766,
          -0.8518040216014625,
          -0.21392981816319484,
          2.073945483896399,
          0.566436870947907,
          -0.08698850424588954,
          -0.032809670781324345,
          -0.6580956792833053,
          0.4706258410282746,
          0.49821970035212515,
          0.18335629439364987,
          0.8829290487420969,
          1.2876303015877442,
          -1.4819878050829292,
          -0.2098851366298537,
          -0.692085763689496,
          -1.833165193880717,
          -0.6953048337883776,
          -0.22701207029774512,
          0.05266312215905663,
          2.3925956574254736,
          0.7807067146985381,
          -0.7986361331354414,
          1.0951299174183322,
          -0.18574111960745057,
          -0.20208786266858939,
          0.35084518554897876,
          0.22098617560583972,
          0.054456653900521,
          0.13185924713870692,
          -0.429028807509428,
          0.07835673377525475,
          -0.1758778251643518,
          -2.122317218371569,
          -1.3332252370675297,
          0.44778474575463945,
          1.2324619512369792,
          -0.6040291649221279,
          0.722281529549575,
          -0.1889471624772625,
          -0.4728980180704642,
          0.17910793955374613,
          1.4841565163738217,
          -0.3778990900067518,
          -1.29327902833167,
          -1.669594532030794,
          1.1085110204450876,
          -1.5399617585852898,
          0.6026228641201324,
          -0.5455816744409049,
          -0.6393777988262168,
          -0.8020341277254754,
          -0.612205855701985,
          -3.3679290920196245,
          0.4480960246728102,
          0.3824212983790248,
          0.7734798051907767,
          0.6800454755655541,
          -0.6522057728784115,
          -0.31907966334175125,
          -1.2625578941133822,
          -0.6148158614573113,
          2.557152480858925,
          0.6968272216835458,
          -1.7740508777909794,
          -0.12767167401023582,
          0.40977927567901407,
          -1.5112180292339517,
          0.6360540058577676,
          -2.3243670662709164,
          1.849106831954565,
          -0.3672753924644618,
          -1.391503510824001,
          -2.296410321251444,
          0.6943813609259122,
          -0.9316724532457522,
          1.1622037431083687,
          1.3018501575981154,
          -0.5804727658660168,
          0.720857317560387,
          0.147443570792732,
          -1.2392580303072103,
          0.10385165267494606,
          -0.8422269324817243,
          -0.5602020776345811,
          1.543026695456277,
          -0.17099932309855542,
          0.07021046401131507,
          0.6030198470183825,
          -1.6580640605236594,
          0.2055678136162885,
          -0.5862010272391797,
          -0.9333351386020883,
          -0.18346371715188617,
          1.1488665091862875,
          1.4775075777566804,
          -1.93005881203239,
          0.5519510572006564,
          0.6283272351634334,
          0.853836459110897,
          0.8027376920221463,
          0.5785281137131709,
          -0.48558497796632605,
          -0.7059471224393973,
          0.593582324141747,
          -0.5056247150204577,
          -0.0073346395092963755,
          -0.2638004661441709,
          -2.5040729888961195,
          -0.02936367750398442,
          -0.5326571359677067,
          -0.9296124086761933,
          0.099458970696871,
          0.14045752582164187,
          0.5157605090674557,
          -1.3157399815667685,
          -1.4221844830876664,
          0.00953499121309903,
          1.9986783072076637,
          -0.4123648113721794,
          0.5175171765699984,
          -0.09303868989447976,
          0.11520014248469966,
          -0.9401699587097442,
          0.6977574340238137,
          -1.350217807758408,
          0.7701998010403553,
          2.681438321435926,
          0.6510777893252306,
          0.2919268608821053,
          0.5863047966729625,
          -0.0004482997268756463,
          0.690563301893188,
          2.6723364591090903,
          0.18786747455797168,
          1.0081696917367626,
          0.6577389595547982,
          -2.2206367587664166,
          0.4922093916580662,
          0.10519710433365373,
          1.9301540092366605,
          -0.018613901486843894,
          1.3821277840286197,
          0.9913476896126822,
          1.6942301144931444,
          -0.3348084146045354,
          0.6349248444478021,
          -0.803006475326154,
          1.304666016304632,
          1.158502803754109,
          0.9858840497827099,
          0.5947356382769492,
          -0.7166595652153666,
          -0.9006602157590798,
          -0.7185655473761847,
          0.11453131052680629,
          0.36381025224451685,
          0.4075490190884983,
          -1.9057616853818053,
          0.24924838815529338,
          -0.9738930290483766,
          -0.6170958221227054,
          -0.08143300855218993,
          0.6051278609148876,
          -0.8976687359893912,
          1.5223865085714343,
          0.49738802436180174,
          -2.293869980286339,
          -1.3587279342438305,
          -1.0282884541834396,
          -0.2448153297781602,
          -1.7150202008844448,
          0.11248474929268219,
          1.385379985041507,
          1.2614433224907722,
          0.38833078354605993,
          -0.22101289372698232,
          -0.34539263869327047,
          -0.13627594375118182,
          2.2030760235268185,
          1.0673533803998385,
          0.019826757623031887,
          0.5522698216087577,
          -0.34132384745746663,
          1.7616108230529417,
          -0.47191206018986653,
          0.20732374982961713,
          0.2840673862041888,
          0.19366338258853852,
          0.004770814683956002,
          -1.0196824588907065,
          -0.014576726304784949,
          0.665363592490015,
          0.651365921112465,
          0.6501374632097269,
          0.36597011674087837,
          0.3956194755458353,
          0.2843118812778929,
          0.31278324016235104,
          -2.3268621067904536,
          0.10158828059075493,
          0.2734402601084191,
          0.2558302004135467,
          1.4429951191092663,
          2.306701703126453,
          1.441065114229481,
          -0.2850027830754901,
          2.0131766642385185,
          0.1446456059737324,
          -0.9159403004569516,
          -0.7511045455402257,
          0.433914808370751,
          1.8393407986688877,
          0.16912220489116095,
          1.1477755800456784,
          -0.5514150910992907,
          -1.315904600334546,
          0.554478005621485,
          -0.433081490356974,
          0.5211859790722011,
          -1.7659240327682175,
          -0.8617889593652067,
          0.6165330808266558,
          0.8881028977120725,
          -0.34707770225107637,
          -0.5390233304850125,
          -0.1489775422040875,
          -0.9236450613465444,
          -2.2159795293704447,
          -0.12566819099222865,
          -2.014128212563826,
          2.258707028246153,
          0.4982110566918419,
          0.04366252643234646,
          0.12063656344877619,
          -0.309781137919035,
          -2.0836547632801263,
          -0.25525327281211563,
          0.6471472748150896,
          -0.7634986059601422,
          -0.1866537876800116,
          0.5203672059840174,
          -0.11588737048969999,
          -1.1843728407511558,
          0.31421341099064215,
          0.53114354220503,
          -0.37115897927246033,
          -0.36241278041620734,
          -0.9907606355217957,
          0.487576132807079,
          -1.3993161530834999,
          -1.4217240070940156,
          -1.4991366964830422,
          -1.5240618605087706,
          -1.6600834530135795,
          -2.555241006571509,
          -0.32739480280457534,
          -1.1041703137030219,
          1.0988321806444104,
          0.9202845022719446,
          -0.2197900388047018,
          -0.802410537949384,
          -0.15191973610507511,
          0.7623713206352597,
          0.2456469545185604,
          1.1458405979731265,
          1.7593608650952852,
          0.8719811661656549,
          -0.9236492158365638,
          0.40117542831199354,
          0.5867969235232058,
          0.3016901070886428,
          -2.270549330210612,
          1.1705532972053392,
          0.028369897054964465,
          0.23023781369497553,
          -1.3326155681400897,
          1.2370688802533931,
          0.13539202259112432,
          0.2994833130830155,
          0.008751484697794564,
          1.6554005822746027,
          -1.8659984422773375,
          0.0181484806422532,
          0.7350494954633617,
          -0.4994011973139804,
          -0.92384257721806,
          -0.9643003262045167,
          1.306070960938494,
          -1.2475188432827788,
          -0.013528202082897053,
          -0.9044450974684392,
          -0.5318751126931559,
          0.34879397833292697,
          1.3896175806420406,
          2.6927733204536497,
          0.7219576893029197,
          0.4445705421823254,
          -0.5046497909090298,
          0.31734864317781947,
          2.779698635126964,
          0.23289572613083934,
          0.7227255701163249,
          -1.0359277177552668,
          0.38812249211393807,
          0.6823357445974703,
          1.7827072688353474,
          -0.5431216037232883,
          -0.3648059174057627,
          -0.18689793391824394,
          -0.9473521104661919,
          0.9540465367069195,
          0.5071211821380345,
          -0.9843483014808568,
          -0.3354887026533869,
          -0.14145029661626266,
          1.4988761512106503,
          0.39041862683195944,
          0.23159913123660533,
          0.22571010227602828,
          0.15691508652385622,
          -1.0585836230471208,
          -0.9101234059611,
          0.08872370821907964,
          0.7028332043692737,
          -1.832257892853753,
          -0.5465827659579346,
          -2.973530240760106,
          0.09475793958396683,
          -2.015098342346237,
          -3.2690845863562106,
          -0.5581825951681181,
          1.0047381875406205,
          0.8327364411288314,
          -0.2302624765205976,
          -0.6503535494306288,
          -0.38505907578719434,
          0.2688716851162071,
          -0.7187025840704298,
          -1.8736867460197126,
          -0.9575947095187924,
          1.8618489695388807,
          1.237782386681308,
          1.041727489974807,
          0.17771776190478106,
          0.7780349846757905,
          1.7376030297888576,
          -0.41195711427508175,
          0.8848438314978796,
          1.8423120855714417,
          -0.9158076111181817,
          1.2252761363744744,
          0.26524814359731297,
          -1.8399135033136476,
          0.5927423904188619,
          1.4492451688451917,
          0.44687442389991566,
          0.7303073271509212,
          0.8452337895957455,
          2.248393177976788,
          0.08549396013504645,
          -0.3379757651112369,
          -0.6266102889412306,
          -0.21146958836981017,
          1.1058674308471625,
          0.884464099976861,
          -1.3325303060422033,
          -0.22371317746947042,
          0.23163391870889125,
          -0.626178671813615,
          -0.1585426776674212,
          0.15522880587497878,
          0.8796633042903437,
          0.5700812546058468,
          -2.1970922309213616,
          2.1328152677185264,
          1.1952495160458725,
          -0.8374996967882561,
          0.6334056766295442,
          -0.1218123224526366,
          0.9057383203828356,
          0.26073009082687937,
          -0.42062589652468835,
          0.9201925129543025,
          0.46962821229589746,
          -0.919689356657335,
          -0.27327965734059695,
          0.5293620364057817,
          0.007885480717027814,
          -0.042045165427549214,
          -0.10754847932919345,
          1.5252862825678883,
          1.4738826235396454,
          0.5867612696574667,
          -0.6530273768291855,
          -0.036138978740661694,
          0.5343019568789099,
          1.6878058297444287,
          -0.9255764664597894,
          0.08512775986802042,
          -0.4447425856347833,
          0.9300514670687474,
          1.9349579642898864,
          0.5593079372847342,
          0.8771223264665506,
          0.055559496831610114,
          2.2902537746973035,
          -0.45070318620309685,
          -0.9692582923292177,
          -1.8304629610350938,
          -0.22127105411459871,
          0.658434660709964,
          -0.5071016934517294,
          -0.8888459823813869,
          0.7499894058942689,
          -0.21211438033858906,
          -1.3695053742099539,
          0.9362185613813431,
          0.3334028450467918,
          -0.75014173772424,
          0.47614330953087086,
          -2.4702028386371255,
          -1.5316794346199272,
          0.31185816406648,
          -2.292707807702765,
          -0.5524877172307006,
          -1.560695426626466,
          1.9778088024376135,
          -0.7502719663126268,
          1.1539571384619982,
          -0.290200454148808,
          0.3486844395056871,
          -2.665740083752868,
          -0.1080208515169499,
          1.1825586562987112,
          -1.120096072215206,
          0.377220938664019,
          -0.25705584557222627,
          -0.4208574923991147,
          1.0902639191881822,
          0.37678608581145107,
          1.167321082770238,
          2.619377399699231,
          0.1115751799607544,
          -0.3266446297631061,
          2.1111302517360975,
          -0.8207609963923261,
          -0.03379122558639761,
          1.2099461157436504,
          -1.091078031791219,
          1.603664583044717,
          0.94190456770701,
          1.5111557546322334,
          -0.6541431656119688,
          -0.677146247582849,
          1.2757257873651453,
          0.4819635588705428,
          -0.7119632387042715,
          -0.925460321580159,
          1.4405934494600412,
          -0.38852551894383597,
          0.36200621625861273,
          0.45278461125582714,
          -0.5740570731740824,
          0.717347540381428,
          -0.3154025647212963,
          -0.04832259045177461,
          -2.3915945326368435,
          0.8439174318135625,
          1.3821931065638955,
          1.3040788961475553,
          -2.0703497552813377,
          0.41701715333326317,
          -0.9595654171472069,
          -0.22221162977013242,
          1.198565484330506,
          -0.18275548497838479,
          0.4601005026616005,
          -0.1819147690495628,
          0.01383042564498667,
          0.35473747613359446,
          0.9247142154206737,
          -0.6366211963530851,
          -0.8849639153748252,
          -0.8578707607930075,
          0.8481780233052824,
          -0.4919204682126709,
          -1.0917876821949457,
          -0.8665364080492121,
          -0.829885458074469,
          0.6102548267665248,
          0.9507587635453227,
          -0.32830679184780187,
          -0.5796568976050226,
          0.025751196860926313,
          0.36075067717382664,
          -0.6939108004523488,
          2.380883240055016,
          -1.375740292649016,
          0.7602913298794663,
          -0.4335800843882645,
          0.041639484932096425,
          -0.9695370057963736,
          -1.6960709625418187,
          0.23412275926331097,
          -0.5359984691763159,
          1.2366515384654564,
          -0.72359549248529,
          -1.37962826430378,
          -0.07129982435032135,
          0.3594098807968462,
          -0.6968446085671282,
          0.2954334977777223,
          0.9349833263642747,
          0.998152018192043,
          -2.078575040156901,
          -1.9777909756987744,
          -0.17447001864782954,
          0.5956869250740121,
          -1.9826835685689137,
          -0.24234827327600006,
          1.8004923086532598,
          -0.5247618216873561,
          -0.4991620849064127,
          -0.17787905347971544,
          0.21360481671970388,
          -0.23965029290791104,
          1.2187583519480532,
          0.41729431791314586,
          1.7327503789467082,
          0.39860924560803657,
          0.4064487738599096,
          -1.1811199354265551,
          1.196567344411335,
          1.5993962538732849,
          -0.17291451957965928,
          1.182266546258266,
          0.903369550005529,
          0.6642606258487229,
          -0.7663566295771078,
          0.528930584857256,
          0.5912460967124876,
          1.816344027615981,
          -0.48428291506927457,
          0.13132205514607997,
          -0.03973057191265489,
          -1.5635812513109428,
          0.9773672589052207,
          0.8840211783248372,
          0.05707140464302286,
          1.0973692539448312,
          0.5964296657973418,
          -0.4940077388908989,
          -0.4478469761050677,
          -0.5740081636944374,
          -0.5844078359145185,
          -0.7803984833749347,
          -0.46636137524668553,
          0.007984370399890533,
          1.173505368552129,
          1.003325852745704,
          -0.23841217675514834,
          0.9044245438098814,
          0.09052778078414726,
          -1.1768339249690691,
          0.4176639013203792,
          1.8822722392917357,
          1.2284470911549197,
          1.2906583781322687,
          1.021062763790283,
          -1.2186186471314515,
          1.1926496207603237,
          -0.227188125604269,
          -0.18047403082491276,
          0.41521064543681385,
          -0.00198006995436695,
          1.0880623318974323,
          -0.11937895363624919,
          0.5879461443563174,
          1.9734529515439134,
          0.8031484958026784,
          -0.33601698039282374,
          0.5719157293511389,
          -0.5349729430814832,
          -0.8635711137448775,
          0.28085309406284686,
          1.1248285169948784,
          -0.5520908871013958,
          0.7871270109251995,
          -0.27001871280239104,
          -2.0555160567515083,
          -0.4549963141528204,
          1.193480737164374,
          0.6647273837997433,
          -1.7216351252485416,
          0.025674767150815143,
          -1.3531400651437349,
          -1.0813459654017723,
          -1.5105568292480331,
          0.23282320707828869,
          0.7439843550048392,
          0.2625179533271903,
          -0.3258667365509017,
          0.17698637158316488,
          0.6194989424498346,
          0.9741280714501276,
          -0.6804889612225948,
          1.1381287142592642,
          -0.8525148497003802,
          1.0808185630962632,
          -0.15875589638796117,
          -0.2701724237521375,
          -0.7182595831421843,
          -0.19864033477089602,
          1.0454099097386758,
          -0.3304411958169905,
          0.5183253516071563,
          -0.43466354846695204,
          -0.553661896499448,
          1.2289186808579886,
          -0.42410450859244725,
          -0.007417776446561193,
          -1.3650982112973626,
          0.7527451583873153,
          -1.9448544412291133,
          0.111942818337635,
          0.7794975937243019,
          -0.2058274936531856,
          -0.2665898528535607,
          0.45048605833906413,
          0.9440283835253238,
          -0.1756262211623761,
          1.1085141343487732,
          0.10532819059422893,
          0.6001475838881162,
          0.18947324356601505,
          -0.797202449034645,
          1.8057358768665326,
          -0.7725655824813297,
          -0.9604472489616326,
          1.0210619609383913,
          -0.09398746784068297,
          1.4037008755151943,
          -1.9916081824219098,
          -0.3041161942918445,
          0.6449344903928707,
          -1.4377436975054458,
          -2.854898348020883,
          0.9554211431733414,
          -1.3157034210933272,
          1.131296794213891,
          -0.9725777345381691,
          -0.3167953455138293,
          -0.8341898362128753,
          -1.5597202737547613,
          2.225002287239809,
          0.6162772516655851,
          0.5607813762055376,
          0.042555258190819456,
          0.6836405923400644,
          0.8195332859159062,
          0.8857559596835567,
          1.0789437383379745,
          -0.4570539053216243,
          -1.6759282960490502,
          -1.395663061153307,
          -1.9317790043899616,
          -0.6606438726456487,
          0.6644336425523241,
          0.33466214214751255,
          0.38281296181305163,
          1.7788289617180402,
          0.8344110122985331,
          -0.5888374262902626,
          0.3725430484202877,
          -0.4505970336840346,
          -0.5245431584662529,
          1.509512590190122,
          -0.5332781211262724,
          0.08822661942776529,
          -0.7788110967756611,
          -0.3124420610528633,
          -0.4930128954703697,
          -0.22356543013453775,
          -0.8493982842085416,
          0.38683052735003814,
          0.6005944292659534,
          2.4691453030822745,
          -0.004782381111788935,
          -0.4304510287929226,
          -1.8759353739564881,
          1.210914412238469,
          2.019289884362341,
          0.3616728752657935,
          1.4461129763991964,
          0.5499308009780699,
          1.3073914458527116,
          0.17012032212733422,
          0.07256062998596242,
          -0.12807756186709823,
          0.6069887641815936,
          -0.6804733959869141,
          -0.5753827099743982,
          -1.731563967855412,
          -1.629803790432608,
          -0.1532358930787495,
          0.09818929507358884,
          -0.7482575412944625,
          0.7016581017916643,
          -1.239764479327604,
          -0.7935945023499867,
          -0.40732569122008594,
          0.6320905666061836,
          -1.041717239350029,
          0.8344871160415444,
          0.5038571465961764,
          0.700698617212064,
          0.012397245472072181,
          1.0469890603850647,
          -2.4179942142151782,
          -0.10719817341250955,
          1.3073422268298223,
          -0.394078866984992,
          1.662986019689017,
          0.41713731379340246,
          -0.22867396248908434,
          -1.9822904996146002,
          0.23586911743157676,
          -0.03906682569860976,
          -0.625691800579214,
          0.11248656678768552,
          -0.5060079709370368,
          -0.155886680988086,
          2.2349497014100437,
          -0.8519471208529564,
          -0.2307362627661558,
          -1.9548631526986575,
          0.7722854777044162,
          -1.1397112485822398,
          0.1598798139537397,
          0.5611070798263372,
          -1.6975292189817996,
          -1.1700972337103286,
          -0.016805870590801113,
          0.08154871098857838,
          0.9955843491117767,
          1.272178611155095,
          0.229951127124336,
          0.502501767540986,
          2.116296080669068,
          0.4997700232259598,
          -1.2583372189392528,
          -0.15934613092248787,
          0.13613028010034361,
          -0.9170312379979081,
          -0.984423810021442,
          -0.6967002882955794,
          1.048522545940373,
          -0.5205374459479339,
          -0.44567091728787744,
          -0.38282663033413644,
          0.048228927447765295,
          0.208561710726164,
          0.48982259710610615,
          -0.38894043288145724,
          -0.41691919217030027,
          1.7329252064497014,
          -0.3214494002387769,
          -1.921189450893121,
          -0.34773622719809066,
          1.2663738506790658,
          -0.6544968037745399,
          -0.5538432997624618,
          0.3207289130313743,
          -2.332742961761917,
          1.0966138928222187,
          2.283350947566283,
          0.280532348149601,
          -2.4231576456698325,
          1.1534929362569148,
          -1.0935898202896537,
          1.4095562575500074,
          -1.3100235837556298,
          0.32935920323484197,
          -0.14281293165270498,
          0.6325812546731922,
          -1.5039330298007338,
          -0.3279222852679739,
          -2.70333575173905,
          0.21433392306819074,
          0.19030115715961826,
          0.5429125790684687,
          0.8001033885573443,
          1.1483964073061608,
          -0.054580443061213194,
          -1.224229448494428,
          -0.8587309773369877,
          0.8823083634758195,
          -0.03626384857610675,
          0.6047297442589703,
          -1.0235891018167338,
          -0.052547193575969015,
          -0.45722383896020113,
          -0.773145651478684,
          -0.04269542451366998,
          -0.46958610775267573,
          0.5770990997272948,
          -0.9641420181581055,
          0.08195141855047339,
          -1.9456365627432668,
          -0.5672493776971841,
          -0.22478485695629097,
          0.21473700201788326,
          -0.7820384473594786,
          -0.2974559497522951,
          1.2856666860876964,
          -1.8390077366766915,
          -1.3019654983143636,
          0.15949174120485712,
          0.92537623171937,
          1.4295360056930584,
          -1.0101627010563343,
          0.6118698005092154,
          0.27758824378759406,
          1.7296497862711473,
          1.0804942351897404,
          -0.3929579901737725,
          0.8009149305879922,
          0.02612213770491798,
          -0.27158874426081736,
          -1.056194008032588,
          0.8225715057821306,
          -0.6524590577324584,
          -0.14867268798105945,
          0.25926080124202777,
          0.46853101897444577,
          -1.80975152014962,
          -0.5481010768773106,
          0.20527654876191048,
          0.16719329552326265,
          1.4840170240573851,
          1.3356030533022767,
          -0.3677255497182877,
          -0.3459273160720455,
          -0.007386049652660808,
          -0.16382443862925714,
          0.8636110468401933,
          0.338893592168206,
          -1.225451530460807,
          0.32903955593971274,
          1.71606138384416,
          0.8716477122475468,
          -1.4103736801207523,
          -0.09802375832259765,
          0.7862829463358476,
          2.457613981208097,
          -2.5788086435311093,
          0.8862815039309643,
          0.08676964544209716,
          -0.4892131042985004,
          0.8867271717670737,
          -0.974877069909773,
          0.8813857611124691,
          -1.862757272242469,
          1.008753785764516,
          0.5475556178927662,
          2.080514802654304,
          1.6330030486107332,
          1.265874071225509,
          0.18491665585531425,
          1.3405569987445634,
          0.7463567575769356,
          -2.3415281287314986,
          0.4687291004018643,
          -0.4995663377546732,
          -0.5492906088089761,
          -0.625397722170518,
          1.800774130977427,
          -0.9991470735024377,
          -0.1770915886301593,
          -0.9959174356282895,
          -1.064473740090723,
          -1.6717506523087344,
          -0.026245623756728162,
          0.4822484635005369,
          -0.4985148168132472,
          -1.4813433315754956,
          -0.5517703401555623,
          -0.24747299338510267,
          -1.0654845241969642,
          -0.9949604042551639,
          -0.7960096496599853,
          1.3209678531740867,
          1.2239806288226907,
          0.9440665286768432,
          1.1828098215934209,
          -1.510375395656219,
          0.7782164022851481,
          1.2448485697269918,
          -0.4933794581439353,
          0.4474401526854192,
          -0.9418260993637668,
          -0.8149779933972389,
          -1.8110900615633911,
          0.6331518718835187,
          0.9645918181555554,
          -0.061210944634818305,
          -1.103426783975047,
          -0.1359774246944414,
          0.38507484979264384,
          -0.6391193089103937,
          -1.3316142411450778,
          -0.15974631768096403,
          1.0456853393278043,
          -1.2662179592509604,
          1.6313344908764065,
          0.33310134947253817,
          0.451174404372594,
          0.7258793848141074,
          0.9781592702237368,
          0.029224435361392073,
          -1.1201417857545672,
          -1.48999157078779,
          -1.52206248738977,
          -1.5866643833987208,
          0.45943275809354034,
          -0.4445198207764939,
          -0.7156106569095722,
          0.550297132931224,
          0.9965800388479044,
          -1.0671042357419884,
          1.703814634656487,
          0.12862446775908787,
          -0.72042900975028,
          1.733026516075144,
          -1.266896682839602,
          -1.6467930701794833,
          -1.0132782924117696,
          0.36994461995517103,
          -0.44871327275606576,
          0.9935496135032181,
          -0.7057598026739381,
          -1.2701199462275787,
          0.9343909562521142,
          0.7530839984565115,
          -0.8385385539877381,
          -0.07755402638625473,
          -1.4903425756804842,
          -0.055050811411817877,
          1.3911454780175474,
          0.11227014342176724,
          1.2056600717319568,
          1.2254028293439003,
          -0.13184031758377754,
          -0.06282947391869086,
          -0.059253482351952075,
          -1.2300622240701595,
          -0.6529314623700169,
          0.40983283918353874,
          0.6202185555173818,
          1.6048686526297908,
          0.5986999982330765,
          2.7693837672259294,
          0.18126062982330043,
          0.08130198195713638,
          0.06391028584836511,
          -0.04350385071537177,
          1.025351672536392,
          -0.29801496895086116,
          -2.405220751713765,
          0.4804021350328186,
          -1.0264061556595514,
          0.1077630926812578,
          0.026877885882814454,
          -0.7097749753749347,
          0.05079102358619811,
          1.1583825826528837,
          -0.03684774174941383,
          0.24866888134332418,
          -1.11301073290521,
          -0.3827611464147158,
          0.1557914742774703,
          -1.3631954167217273,
          -0.14083490655390005,
          -0.21923423098244166,
          0.7694303623928017,
          0.06878597652962369,
          -0.661749226741707,
          2.3235037973200487,
          0.862949053177203,
          -1.2827301296993807,
          -0.8309977602085322,
          -0.5851593030765243,
          -0.02864795626610706,
          -0.07729167885932721,
          0.408236211957614,
          -0.37844953519493846,
          -0.009551243285603592,
          -0.3587633353916176,
          0.14545586289492332,
          -0.3881290042006176,
          1.0356877857820195,
          1.7058671664311056,
          1.622325545201905,
          0.165532694132968,
          1.0657434218901747,
          0.06764257397618414,
          -0.8832535888108798,
          0.9008688965630756,
          0.8601926880847597,
          0.19692879597700355,
          -1.5043690466600277,
          -0.3646488684346444,
          0.005040275394178747,
          -0.8501316444900234,
          -0.47491448391126617,
          -0.5150557722897267,
          -1.6041455095832753,
          -0.927523129996315,
          -0.44572655343373085,
          0.40357958161623503,
          1.2242767659127434,
          -0.6486619518940894,
          -0.14386136327000898,
          -0.2796686870540148,
          0.7141084437814894,
          0.383877531573112,
          -0.5471644994553316,
          0.06306447294773632,
          -0.7239630350068966,
          0.22336948645197602,
          0.543478673335813,
          0.6759047424909189,
          -0.10353672721053608,
          -1.0069323461533388,
          0.4780765430642611,
          0.5360192163747783,
          -0.07585942906914486,
          0.2720677765873192,
          1.5887095081737324,
          0.8846579518025123,
          -0.894867759373168,
          0.4046948814401597,
          -0.25217105199609224,
          -0.8877835046217515,
          0.5588544564987117,
          -0.20614759001785174,
          0.26101539592846434,
          -1.6210661060137979,
          0.021366902709676113,
          1.1111018550057161,
          0.19422995560594825,
          -1.5152763873493058,
          -1.5763064069985364,
          -0.5468579604741626,
          0.047216736241846156,
          -1.0943817492828607,
          1.6338121690832184,
          -0.7611620130254235,
          -0.00608609892767533,
          0.25856801127707124,
          2.522690496956681,
          -0.7908819897454381,
          0.4543728288400314,
          0.18258186245204241,
          -1.0414986635631864,
          -0.4362333350820449,
          0.18483179937933755,
          0.16215939424950335,
          0.25914918422983807,
          -1.293139474697232,
          0.17805789921871312,
          0.599427549883223,
          2.2526419818200907,
          -1.5409261035020307,
          0.5827941669163375,
          0.11156309151906363,
          -1.4903336263498181,
          0.43302425627460617,
          1.8673541096803798,
          0.6211041200808303,
          -1.0444323828425106,
          -0.1514692873506602,
          2.5116890412484056,
          1.3777436301638721,
          0.36474414995545923,
          -0.1584903394058671,
          0.591459186748123,
          -0.026600307012573748,
          -0.7103107069192749,
          0.9778125322284893,
          -0.45385505816307553,
          1.5294075121702146,
          1.607411085575797,
          0.9646791851758485,
          -1.3983780450449215,
          -0.4409811061664525,
          0.47771665825460624,
          0.8660536506357042,
          0.22129587362222367,
          -0.005534710756927321,
          0.5456735612049392,
          -0.11636812089275275,
          0.4705185292840031,
          -0.907854984226408,
          -0.2523897762459156,
          0.9698463642024757,
          -1.2652819444058725,
          0.20403137138316135,
          0.7040942667786253,
          0.5140177328339119,
          -1.7281502644692333,
          -0.2610396130734365,
          -0.43718153289750084,
          0.13240976315304995,
          -1.760360639084398,
          0.22218218887777658,
          0.27344818886638655,
          0.9296827788140792,
          0.3481809446730489,
          0.022489791785071798,
          -0.34362285495753825,
          0.429031973735929,
          -1.6418320631050993,
          1.0513603279633557,
          -1.1863113461126724,
          0.5214816767616526,
          -0.914737958755058,
          -0.291663675332157,
          -0.43017733630263433,
          -0.4485626798058901,
          -0.5238408353092249,
          0.17232008078836306,
          0.4903097487494351,
          0.6790669449498081,
          1.109667870658943,
          0.5342839976993767,
          -0.32284462369182265,
          0.6320296889362721,
          0.4518213576286462,
          -0.4406389526548206,
          -0.5619622363277085,
          -0.1976034038700527,
          0.10056880952387508,
          1.2494403667258889,
          0.36252609402311414,
          -0.7328607789612843,
          -1.1413479669289133,
          0.6387029211570731,
          -0.002267159003717601,
          -0.42759659774144043,
          1.1221784302164464,
          -0.17225294421667545,
          0.06803722977773154,
          -2.1693544510960083,
          0.3751721637515596,
          -0.02396195676467065,
          0.16056481832871047,
          -0.12760468700519131,
          0.4964251156986192,
          -1.969601713795734,
          0.022332201668904518,
          -0.21682422247896818,
          -1.1208549329897073,
          0.9383325757725238,
          2.186461679726421,
          1.036950789784145,
          0.9069136885729824,
          -0.9655381224807246,
          1.8313664243636512,
          0.41526189191433105,
          -1.0425042682654733,
          -0.5075980553747083,
          -0.6453494301312555,
          -1.1521058368497736,
          0.19048710986331002,
          0.8213569651630045,
          -0.6343582644168075,
          -2.1548144145349393,
          -0.6539582437720404,
          -1.1346305445952591,
          0.5309530816987225,
          -0.39978273864069475,
          -1.0905390091698537,
          0.293165862981311,
          1.835961784104462,
          0.23257691142002024,
          0.5818901511928595,
          0.18082578607924893,
          -0.18024173343473335,
          -0.5376094880442237,
          -0.7333915946028763,
          -0.6604276089004403,
          -0.8372016455825968,
          -0.7528543342111759,
          -0.3504814144613986,
          1.1976162315484153,
          0.6276312299057252,
          0.494947045690501,
          0.5590280827536644,
          0.5441665847662951,
          -0.1925854052702525,
          0.3565161361146732,
          -0.7118912269143787,
          -0.23467144021251807,
          0.9663683286833397,
          1.2492234440210854,
          -0.16860781129577257,
          -1.66863771426942,
          -1.3929371811408604,
          0.26843161203715193,
          -2.015503453469099,
          0.39124513244946235,
          0.3384081338384948,
          -0.6274843532094307,
          -0.625123902142225,
          -1.1706368311951723,
          -0.37314135460885706,
          1.2824835972890296,
          0.9292810749417227,
          -0.6257242793250164,
          0.5053625277163821,
          1.966386397280329,
          -0.4200267167947735,
          -1.0631578679475182,
          -0.5175451998802876,
          0.5165104564052995,
          -0.17369563062023385,
          0.31005475882537387,
          -0.48287678636339504,
          -2.1114194902051113,
          -0.5075712546007143,
          -2.034026207590505,
          1.2330738413127464,
          -1.3881274604725238,
          0.7666245430476967,
          0.009577337513967565,
          0.7481578860270904,
          0.3835272648988568,
          -0.4231483989999734,
          1.2302326831292025,
          -2.1839337765770757,
          0.3713770015434259,
          2.3484158905197354,
          1.6407595965932191,
          -1.5663065601927162,
          0.9726631197364838,
          -0.49588217049248645,
          0.2816613809951768,
          0.40222768957972865,
          -0.09432253713957048,
          0.05561634894760411,
          0.6775342532710379,
          0.5799483915260176,
          -0.08895687107176492,
          0.02236901296468301,
          0.647552853240096,
          -0.5322986939573993,
          -0.5171863144507147,
          0.8763412315693788,
          -0.7112345982758966,
          -0.3343391991399207,
          -0.1497122156489644,
          0.37784558987547623,
          0.4180415178361407,
          -2.2094181977322838,
          -0.2360959222616777,
          -0.4619325506329993,
          1.5500419865275181,
          0.6903026267999859,
          0.03148753190956024,
          2.457398131673368,
          0.528903885097127,
          0.5519003350167755,
          -0.38213517777201056,
          -0.7494355879241911,
          0.0056821875266434676,
          -0.4480057290374031,
          -1.463436980479821,
          -0.35404885756702736,
          0.06410310034281838,
          0.4603358871312974,
          -0.14483178515631429,
          -0.4870464098176705,
          0.3778839779311189,
          -0.3668253290074634,
          -0.21870595884361377,
          0.9243491534207594,
          2.365146756844672,
          1.4059064983094216,
          1.1297543021404683,
          -0.43722138715027553,
          0.14946760761673908,
          0.5998179485889967,
          1.135348625254622,
          -0.9646575352499164,
          -0.5542263237847309,
          -1.377401097400837,
          1.2136108610944683,
          1.2724713449899514,
          0.22315688781858423,
          0.5506237769739095,
          0.3917597696668971,
          -1.8002225796038347,
          -0.9270755020494954,
          0.09145258121993786,
          -0.8273530978717949,
          0.492249589045519,
          -0.4854932305438884,
          1.5007040172398527,
          1.4265623407272405,
          0.7978282919004166,
          -0.37678378178733457,
          1.2804440434623743,
          1.1822921403944264,
          -1.9357547241195552,
          -0.4314635164792258,
          0.9397311347634366,
          0.8095974700999526,
          1.327888327503908,
          -1.529172215556727,
          -0.32134718656089845,
          -0.09980929174274816,
          -1.2270234483398226,
          0.7088868022651933,
          0.400253343889457,
          2.0562831244503292,
          -0.7484924472463697,
          0.2788651562212278,
          0.9249927701746845,
          -0.26777064908775655,
          0.6974779389455912,
          0.876264558621664,
          1.524653249543993,
          -1.307625366188865,
          -0.7175552397329447,
          0.1535246679951575,
          -0.3756768821153787,
          -1.2304467709712719,
          -1.690385473201944,
          0.7274068489499333,
          1.4166691274044827,
          -0.2126863539859458,
          0.5061786755643788,
          0.030091178404249887,
          -0.22933786125972974,
          1.6092549885338325,
          0.8601075616368927,
          0.3611846650973671,
          0.7814287322141663,
          0.4009915138492829,
          -0.418991539813529,
          -0.3559379433686419,
          1.527588781676457,
          1.1747456523976956,
          -0.04442448759733625,
          0.5793385411758214,
          -0.1214376605292966,
          0.8297680090250974,
          -0.6379401326490698,
          -0.10007684022325712,
          -0.36134037265564106,
          0.3528590502989586,
          0.8131358025858786,
          0.4926600678640731,
          -2.047064377642871,
          0.6423878858738427,
          0.15610470979528368,
          -0.07301736702062885,
          0.8556920643961767,
          -0.5319371490794739,
          0.29061569478494453,
          -1.2572590210577712,
          -1.266708278511166,
          -0.5541380658059444,
          0.14375393265535646,
          0.6129324372343624,
          -0.603138000591343,
          1.902718294852255,
          -1.6911412885425248,
          -0.29609997672253385,
          3.018005611829195,
          -0.9793675370394771,
          -1.5325915022274657,
          0.5095105149884779,
          2.1852473509716157,
          1.0510917828347606,
          -0.507202741504318,
          -0.8433531470674025,
          0.7907908421795302,
          1.6954085605178575,
          -0.9774345414234236,
          -0.7028193657482505,
          -0.33058978679870854,
          -0.3171052273588424,
          -1.0874217320706607,
          -0.8264491997046168,
          0.2413523177941144,
          -0.6442215677104178,
          -0.3535709007967119,
          0.05371363109921803,
          -0.789228708082772,
          -1.7501038425934599,
          1.9431173550502345,
          -0.10925926626508813,
          -1.2175716507806689,
          -0.7234948431835974,
          0.2892435895396273,
          0.13717062818734593,
          -0.13654414245367494,
          0.22608887638919736,
          1.090322201180073,
          0.9124584948865578,
          0.2609156454239467,
          -0.15210091440131523,
          1.7194167582792892,
          0.8047485334853163,
          0.664530085635342,
          0.6803644615584991,
          -0.7716776846888278,
          -0.1012272709148546,
          0.21665930313328502,
          1.2492502643550107,
          1.6089889668463326,
          -0.9264791981114625,
          -0.2571167823618376,
          -1.4167740378451363,
          0.2434282031086699,
          -0.5017963016455053,
          0.5027919479281612,
          -0.053411577654852715,
          0.20025989293991614,
          0.35302402624476154,
          -0.055767082255005436,
          0.6363287498722139,
          -0.39642599201553225,
          -1.4981300770064003,
          0.6186173063579935,
          -0.7482660343896812,
          -1.0085868534390954,
          -0.16758334104998013,
          0.11116713186336204,
          -0.46255778085534244,
          -2.872062311352259,
          -0.0997158679678458,
          0.02834922048975062,
          -0.7164833278340755,
          1.1545959170539917,
          0.6390747733066049,
          -0.8010052447161023,
          -0.5895838587621062,
          -0.8624590048097815,
          0.4239157266599108,
          1.4347367442520298,
          0.07553514047005304,
          0.2037979819611345,
          -0.40800945093146296,
          -1.0011339342059309,
          -3.0167273135303105,
          0.3559309757673186,
          -0.47486078655068886,
          0.6533221817063009,
          0.09420773524058369,
          -1.478758712367734,
          1.645134311659078,
          0.4284400303799789,
          -0.13505511028856387,
          -0.6186446101228326,
          -1.6694232323732496,
          -0.030194159108290243,
          0.5737385112083608,
          0.6533564810192417,
          1.7744442858786709,
          -0.15433687710831936,
          0.2192609083718096,
          0.4691364795946648,
          -0.22226709482777846,
          -0.8829514418299087,
          0.31283635786238045,
          1.2385695398423682,
          0.9941149718551857,
          1.395251693870332,
          -0.35080960269771666,
          -0.03680139881152776,
          -1.767784172373028,
          -0.47784153070795377,
          1.918566833405833,
          -0.14077392436166836,
          -0.7863747159939448,
          -0.7400791362780665,
          0.6155049583034351,
          0.20122927772550933,
          -0.283454151621881,
          0.3361876371017398,
          -0.5803178644288538,
          -0.44787036935155417,
          -0.38647056272099484,
          0.4846157933614814,
          1.686916541740438,
          0.46137685333351025,
          -0.4725472552934201,
          -0.1490798127640228,
          0.35197922105218815,
          0.9793044219404252,
          1.0774095879528054,
          0.22849097985423733,
          1.455961518012795,
          0.11016140734307946,
          2.38815675891359,
          0.9220010839972901,
          -1.265653980834226,
          0.4282199153699222,
          -0.0305435193279655,
          -0.8891617390353279,
          0.27445307240705163,
          1.8286730514260443,
          -1.700701589787458,
          0.4037930391275171,
          -0.5250255951397129,
          0.7335865070320869,
          -0.7528827196144879,
          2.3770965453099846,
          -1.0698065261493959,
          -1.7581471897558925,
          0.638373923405954,
          -0.17375686748615543,
          -0.9286042570447102,
          -0.07789141638827635,
          -1.2113704568741173,
          0.758769732947938,
          -1.3334390554651994,
          1.404915628324743,
          0.04680414740407083,
          1.4877175001402,
          0.7479512058179825,
          0.01432806397625352,
          0.0002724740818849277,
          0.3785440571622839,
          -1.0167862688478408,
          -1.5322168207628342,
          -0.8381871972100947,
          -0.06212835084395802,
          -0.2780711731843563,
          0.3213955621178995,
          -0.6593798584366685,
          -0.21582881998539144,
          0.9986580961265968,
          0.1480968833860352,
          0.3306078557497522,
          1.6287729568071425,
          0.4806792485049543,
          0.28671784293529606,
          0.0031555215559778437,
          -1.4815150046489562,
          -0.33039025341706635,
          1.0721947583480615,
          -0.940700727264688,
          1.6748568410155507,
          -0.4454839322170559,
          0.30994304269379724,
          -0.9178001546974895,
          0.040463062395790866,
          0.7634360044964033,
          -0.37404159377693014,
          0.8050566499736129,
          -0.5245213804151263,
          1.4881864717102278,
          1.5500918189727761,
          -0.5990058133649694,
          0.2600751259863158,
          0.3588106151596639,
          -0.44855816011954835,
          0.024937204749376014,
          -0.08453973484133226,
          0.10870326576659244,
          -0.19891546149632056,
          1.0177127341070462,
          0.4199623717797037,
          0.49965861414273416,
          0.015630085842991845,
          0.18542892242945355,
          -0.04596739340512173,
          -0.9724767793320453,
          -0.16912869779389972,
          -0.8551582851956693,
          -0.94280093590087,
          -1.6441371179418727,
          -0.600529124904285,
          0.8835523626476334,
          0.6644174688927904,
          0.15093371311854167,
          0.7078965676373468,
          0.45916636392478116,
          1.089060433268145,
          -0.046476286532185634,
          0.6457603830998805,
          1.6342295057526024,
          -1.388750898801361,
          1.1666368950337245,
          1.2578296506124378,
          -0.5904418960137253,
          -0.8024489299731429,
          -0.25960406447922346,
          1.1185146074662096,
          -1.031548007004498,
          -1.526972644865215,
          -0.4366819151697646,
          -0.12182789161073085,
          0.12255828381837251,
          -0.3357009784265644,
          -0.2631644558084074,
          0.25396066673688045,
          -0.8292743120533715,
          -2.387159232688254,
          -0.8724570815852608,
          -1.6299037977490443,
          -1.8131449814171898,
          -0.055128311403043875,
          1.1631495467581408,
          -0.7039674401640057,
          -0.2914044020620111,
          2.04262960455742,
          -0.16991422121894653,
          1.5339738210490987,
          -0.6522055190046842,
          0.6169412078534106,
          -0.5220957025208859,
          -0.5715204401297947,
          0.8690909252734067,
          -0.5953251522920422,
          -1.3538527836818055,
          -0.49981221523655744,
          -0.024500966116347958,
          0.1941775250210006,
          -0.7119922342572237,
          1.9463151539771237,
          0.6447842299120935,
          2.046955644197755,
          -0.36174731180484915,
          -0.8058287066758919,
          -0.028449756753229975,
          -0.9231543371991023,
          -0.09004388185942411,
          0.9310965118301692,
          -0.5822693131431017,
          0.2966562448970346,
          -2.324651722869181,
          1.1539803345688229,
          -1.530284065474774,
          -0.28215158930425394,
          1.4989507939897204,
          -0.8713068293157031,
          0.510488236004713,
          -0.11533358358373828,
          -0.9729697545315752,
          1.1023015362307835,
          0.43031201036813493,
          2.504008208564737,
          0.8985970260456908,
          0.6706351202716309,
          0.38590114836150113,
          0.3225456639759201,
          0.3199017374583242,
          -0.12693468474467492,
          -0.9219512770223398,
          -0.8683785963606323,
          0.4638979454318223,
          -2.169881291805544,
          -0.51204070615905,
          1.2429492376483864,
          -1.2558411620262597,
          -0.26988257345905237,
          1.0982366868098086,
          1.266696491394974,
          0.5473132728415422,
          -0.5350221725260264,
          -1.6633499873257542,
          -0.2564367619889959,
          0.5985433153110883,
          1.366564840162461,
          -1.5603561762613483,
          -2.174102180660319,
          0.5046267772957111,
          0.47423622181076064,
          1.3329773044180138,
          -2.209046479514027,
          -0.5283075022061492,
          1.3847932342141713,
          0.666692478571652,
          1.297263071786261,
          0.41765227415507916,
          0.40372563616750484,
          0.4672442560414072,
          0.8216561239171151,
          0.46856892664152316,
          0.7815994336987873,
          -0.9585393698094093,
          1.3141434931078497,
          -1.5699802622060652,
          -1.7036356801966255,
          0.21119416713201328,
          0.3329823897273496,
          0.7460468760006953,
          0.45039911302259844,
          -0.7568708730707275,
          1.4122323960774763,
          -1.2748472059763951,
          -0.2914687798231036,
          0.006786826495596727,
          -0.06613224759420055,
          -0.5912933020882143,
          0.34856127917482477,
          0.4685203085335662,
          -1.4304387511588055,
          -0.11693834860389271,
          0.4394911152113722,
          0.4455799171378429,
          -0.4715864136494112,
          -0.08805584304443101,
          0.6882641335815096,
          -0.7131822611125288,
          -0.7232891291116882,
          -1.7843914947365618,
          2.003491497956912,
          -0.2024985891582746,
          -0.9813001459929857,
          -0.66632182405821,
          -0.8575557743017063,
          -0.4063804168876254,
          0.058659299269602866,
          0.9642905874988146,
          -0.9419379663218886,
          1.2378903032273416,
          0.2785665111361565,
          -0.1994813105592756,
          1.171171574539812,
          0.3735961201387051,
          0.24507569914483693,
          -0.056676084980390895,
          0.3309274782578583,
          -0.2558727016724651,
          0.9036729984044044,
          0.48691261706803435,
          -1.101489999214051,
          0.5959100439849722,
          -0.562898670871941,
          -0.3772803211893602,
          1.0436456674257257,
          -0.2309125182961911,
          -1.3373082418982118,
          -1.3598049517677142,
          1.1092095596439082,
          -0.23671843337702328,
          0.6567056048249639,
          0.21208353391770743,
          0.279160352520092,
          1.3068838295661473,
          -0.6583704330997523,
          1.4251436493594531,
          1.3697771874384037,
          -0.33252164481699764,
          0.2822250252997974,
          -0.9492175912990827,
          0.2768260591634213,
          0.9526559663101517,
          -0.5667297041246168,
          0.6446720959369044,
          -0.2785273372385245,
          0.42526163089398406,
          1.5980206428164312,
          0.4407813810436922,
          0.04179958266424797,
          -0.07439080188552032,
          0.4769751257934565,
          1.0271628037181009,
          -1.242978420481658,
          0.8507244857505283,
          -1.237903789066412,
          0.4826461738249845,
          0.0005311384899747869,
          -1.2826469544293106,
          0.3526866894095912,
          -0.3083781260998107,
          -0.10324073874905272,
          -0.1990194182104939,
          0.9533693026626093,
          0.08873549418684364,
          -1.9382264325456167,
          0.545989502416378,
          0.07761028241699831,
          1.448644952613549,
          -0.2724928619474482,
          0.32171400692735663,
          0.017727620519469037,
          -2.4455692137190908,
          0.9980120818591407,
          0.22007352865301805,
          -0.7600273862584903,
          0.32489182565162184,
          0.27462522584071786,
          -1.077017261957567,
          0.5334181480544739,
          -0.1350697383916091,
          0.4771404498885898,
          -1.6401715071306222,
          -0.008648408139781264,
          -0.5693131419311913,
          -0.13590770204066724,
          1.0077156584867655,
          0.13772951941369022,
          -0.369330967253572,
          -0.33646251602343863,
          -1.419880752997862,
          0.3625944119502541,
          0.5831279485872933,
          0.7240433887420193,
          1.3916108016833935,
          1.2744360873268128,
          -0.6574966499658337,
          0.7572500496864655,
          -0.06776238258890167,
          0.5095005892279202,
          0.3482933040980382,
          -0.527821360194781,
          -0.21033397262736372,
          -0.2186915034995092,
          1.6659020167194545,
          -1.5327352057979249,
          0.26733308743607465,
          -0.9946351801598098,
          0.8483626131852274,
          -1.4414570638668411,
          1.112322854082514,
          -1.737315315881271,
          0.6157817528789562,
          -1.5500067784189837,
          1.5717260789562195,
          0.8039600822134514,
          -1.4180994144366585,
          -1.8522196491819054,
          -0.8228345998847685,
          -0.24875770091201913,
          -0.046767120207886585,
          0.3739681874437178,
          -1.5538679629665955,
          0.8437043317628746,
          -0.23497056177030762,
          -1.3171829434634743,
          1.1275182326625255,
          -1.2538269665497952,
          -0.9598640830034673,
          0.08709151015401231,
          -0.46556522441051207,
          0.471900329732507,
          -0.9972113231657076,
          -0.1859401466162655,
          0.2933115071983343,
          -0.29609076470223933,
          -2.137205160371453,
          -0.16290298719550464,
          0.1175431388390694,
          0.38131143002079787,
          -1.2160931992093031,
          -1.5763783346904607,
          -0.3018296049319007,
          -0.351820019775747,
          -0.440908919152182,
          0.1108084945907711,
          -0.3742266357705766,
          0.3193925113689511,
          -1.2524140082106248,
          0.6648321106971932,
          -2.630901329761073,
          -1.5486281141488598,
          -0.017278880465426385,
          -0.7474679747620167,
          1.017557409873844,
          -0.9654790081912125,
          -0.05990198323964379,
          0.02307446530817293,
          -0.21867304912736307,
          -2.6419112776071243,
          -0.7629540630680254,
          0.22868371489690642,
          -1.0096955539505044,
          -1.0213554839205399,
          -0.32202022725414303,
          0.26848199346065527,
          -1.0154979620379245,
          -0.5842804843879867,
          0.05811683097557324,
          -0.08638875647792382,
          0.663025693942044,
          2.2434524586800393,
          -0.2424765985124236,
          -1.0494952720606276,
          -1.212528498075953,
          -0.700459815311009,
          -1.342086569860673,
          0.8446902832120969,
          0.8282384723771903,
          0.20962006878491135,
          -0.31534448850276614,
          0.807559163722302,
          0.6972548808392887,
          1.110718178652621,
          0.27796318249363755,
          -2.1399079767732654,
          -0.2867305401767441,
          -1.315703580748265,
          -1.2053200335060874,
          0.40771507033916377,
          -0.1428537030685021,
          0.5460308745600074,
          1.3699561145961219,
          -0.17910430480231992,
          0.4598082596462465,
          0.1209347757883767,
          -0.9558714502425146,
          -0.28752927276316326
         ],
         "y": [
          0.8391261345401889,
          0.28386848875477466,
          2.016274641792089,
          0.6329033070008699,
          0.2994067926588254,
          2.038884510517576,
          0.10217687708875828,
          1.2795369095628284,
          -1.263420725144901,
          1.1567092650527744,
          0.9446177964550488,
          -0.07313818237446053,
          0.785652111410313,
          1.2495346551276552,
          0.6779532764998258,
          0.4672893506982631,
          -0.6020488893289507,
          -0.6211788534063699,
          2.0113014508905835,
          -0.6638545736696756,
          0.5193287705538967,
          0.6874847744437994,
          -0.06792051391228554,
          1.0603328157921568,
          -0.7564674642770308,
          -0.39044917544139723,
          -0.698958396800229,
          -0.2313262338631616,
          0.41375708472174966,
          1.842994851087152,
          0.8590083530308661,
          -0.33647012004697774,
          -1.8320084216347445,
          1.1183392593441344,
          0.6465748688292724,
          -1.8365609172899162,
          -0.4265123107902057,
          0.1317747272086197,
          1.549085431849005,
          0.3649127429505807,
          -0.2151145916810905,
          0.2567487747471214,
          -0.37386064184621953,
          -1.7373820263818773,
          0.09516045632655842,
          -1.3384535433146192,
          -0.20824100310666238,
          -1.5548389555690876,
          -2.3015081853214983,
          0.08909735896215142,
          1.0769306283827518,
          -0.36751435178512337,
          1.1399434430229676,
          1.2283293054814208,
          0.2765566277049431,
          2.948246620247744,
          0.6404172443413432,
          -1.8024277338738743,
          0.33602978510926285,
          -0.37679894539288505,
          -0.8854380355867004,
          0.7193389124858192,
          -0.9057268464449241,
          0.9917085710694514,
          -0.22453039645644812,
          2.2732015616150902,
          -0.14907077900051954,
          1.397402519459202,
          0.8456094430132947,
          0.4981166052257917,
          -0.3754780815221316,
          1.5819938325489007,
          1.2593123255169003,
          -1.2899582432215686,
          0.5388753664013333,
          -1.2235495374647962,
          -0.4775663410896127,
          0.8707387533665236,
          0.9577383397076498,
          -1.6882731239834634,
          -1.5326542809059789,
          0.3439688877793179,
          1.7569028158898345,
          1.0262478033491287,
          1.4608742134160735,
          0.4623153123139565,
          0.03342790407460743,
          -0.450411936680648,
          0.022818410427684063,
          0.708926336822918,
          1.3984789778878317,
          -0.2724859320335554,
          0.24411963369571227,
          -2.0973268817905586,
          0.15411243422226034,
          0.16573750305956908,
          -0.6270101970898243,
          -1.7641592803617037,
          1.695771384737224,
          -0.13063449059828225,
          1.058825360635597,
          -0.7579734678867206,
          0.9853465077032203,
          1.0846062658611948,
          1.2197804040209919,
          2.016450417112615,
          -1.020557773619034,
          -1.7782626926653664,
          -1.3760502903402643,
          -0.41523628607354485,
          -0.12630989112910151,
          0.6195341019263951,
          1.8279296644720837,
          0.8231645536539886,
          0.3888521486516396,
          -1.4037653620071167,
          -0.9543229875649976,
          0.5648575176930285,
          -1.2716272678442744,
          1.0192846964609066,
          -1.0253802617941268,
          -0.0032827074037399873,
          0.25696743952511125,
          -1.9902916620225044,
          1.2261769227222086,
          -0.6536341730834891,
          -1.3803387011805897,
          1.3263012487387733,
          0.8217055118132908,
          0.7091369637471249,
          0.07011030449406282,
          -0.5449589880657915,
          0.9575270042645831,
          0.8788539967069585,
          -1.0371412073541242,
          -0.6372444047883075,
          0.6713041297361666,
          -1.2134330142732703,
          0.8337972493986002,
          0.19037856117453658,
          -0.7588928306390259,
          1.272647892359368,
          1.293076798943689,
          1.6525730975274786,
          1.991783717347733,
          1.5727395749728554,
          0.33038163644762286,
          -0.6665228317819333,
          0.9111976808150142,
          -1.099570079130264,
          0.821252096827566,
          -0.31217058608448467,
          1.5159785030566992,
          0.09944090594864777,
          -1.4053729029291144,
          -0.9442026019869,
          -0.9648327959252336,
          -0.5476508756584589,
          -0.21280215805260763,
          -0.4951520947797504,
          0.27779596548617447,
          -0.020370763837972452,
          -0.11444314016733523,
          0.13806033903586845,
          0.05114940973796903,
          0.38448407419926595,
          -2.2467473827748745,
          1.2437342968260603,
          -0.14288947935350416,
          0.49669736671284137,
          -0.7697688451360237,
          0.49482863028732854,
          -0.22294463552164376,
          -0.41014089351631927,
          1.108130763835465,
          -0.3709195223623139,
          -0.6142474447742107,
          0.18701524371953931,
          0.48349357874988086,
          -0.5950786582597096,
          -0.5203323058148036,
          2.0659301362804854,
          -1.1940741901944258,
          1.1648439469065244,
          -0.39547693232579134,
          -0.9592454738144799,
          -1.3372053400393256,
          -0.7067037826923788,
          0.042080573277755454,
          -1.0376918154850816,
          0.43510219211457035,
          0.3830838326930086,
          0.12138360795566165,
          0.9291855232225285,
          -0.4454753023934772,
          1.0351766746824849,
          0.5159157853897727,
          2.341278201543335,
          1.7302060000107324,
          1.213785192896522,
          0.7780404542621103,
          0.5782393721783569,
          1.2888630806502828,
          -0.05880341167714823,
          0.8882491745959737,
          0.2319699229605731,
          0.2281830074092922,
          -1.605036663772805,
          0.2279442614144744,
          1.0599415620454422,
          -0.021874984058960194,
          0.5251883661873437,
          -0.3977127269649456,
          -1.3836618584834521,
          1.225333504745777,
          0.34521586486137085,
          0.12665218001254874,
          -0.7027207405275926,
          -0.931011863244919,
          0.9791441403804254,
          -0.5697088576446216,
          1.6599577926704117,
          -0.6887181466093029,
          1.4421460055628477,
          -0.8714476244494685,
          0.33055975880914945,
          1.8189792595269363,
          0.008519268406207333,
          1.5385144903842414,
          -1.0144316532870443,
          0.9913927056198769,
          0.13824663934728165,
          0.7162029975297886,
          0.34092561201779875,
          -0.18525983376338478,
          -0.6370164749608969,
          0.16266342230582692,
          1.2873850238568527,
          0.3720595422246801,
          -1.8465961574685377,
          -1.1890344525231178,
          -0.41360760218474363,
          -1.0506745710124363,
          -0.21692865660550056,
          1.256261278001642,
          -0.2896138806026792,
          0.9138230757185278,
          0.4480801441660594,
          -0.5821564524139179,
          0.9508824557891683,
          -0.2549193124016306,
          2.023980645532588,
          1.6035293213898387,
          -0.38926548662695987,
          2.610591009755922,
          1.3693955944567249,
          -0.12250428573225206,
          1.7234631280641821,
          0.3315760462548208,
          -0.5237527879382741,
          -1.4240576541428034,
          -0.9176902959866783,
          0.5783447214436792,
          0.003674224167046315,
          1.4698031377859193,
          -1.2475323752840972,
          -1.5858659074635357,
          0.7003123249961039,
          -1.3606849898146036,
          2.0126151664744083,
          0.37398229985602766,
          -0.6496068447300115,
          0.40582755326379194,
          -1.875968946723702,
          0.1362041507852538,
          0.8656357225080886,
          -0.8394812266760585,
          0.5795559290722678,
          -0.3210016477417173,
          -1.285701537029125,
          0.08271290430452939,
          1.2123053460968178,
          -0.47336204189583764,
          -1.3909872284640266,
          0.9509734201725544,
          0.18103889249136332,
          -0.5312475991458597,
          0.12387461118356691,
          -0.5469956532904069,
          0.9969504044650455,
          -2.3417029531442823,
          -0.49502745501650075,
          -0.5225585590476627,
          -0.9126017441910166,
          0.8630370684720011,
          0.5579904036843967,
          0.4180198522987327,
          -0.1239030145646489,
          -0.3337926634959194,
          0.011763580850128531,
          -0.3064219429336357,
          1.5165796339361979,
          0.9391478379987567,
          0.5388298863097934,
          -0.1161704428052993,
          2.3543744349822795,
          -1.2010086535811144,
          0.8890001730953045,
          -0.5128661919399626,
          -0.8747965652685088,
          1.8677659861701805,
          1.972010658803613,
          0.09731075075112348,
          1.6184962216341903,
          -0.08823483831750571,
          1.584851338752319,
          0.957244446136167,
          0.573271030535849,
          1.5875774130154265,
          -0.1972509200581147,
          -0.09415220872805352,
          -0.041180425110173155,
          -1.728449774134646,
          -0.7005522913650895,
          0.7652752266814332,
          -0.6359014613842736,
          -0.49086042796128165,
          0.4238546555599622,
          -0.12773168110675004,
          -0.551862652676545,
          -0.7344533904918792,
          -0.08689422890586722,
          0.3322024961167019,
          -1.517949092716181,
          -0.31454466982677903,
          -0.38129843226763105,
          -0.0826704972563702,
          0.7677024128678573,
          0.6609410976249592,
          -2.033643757532241,
          -0.6698819625916426,
          -1.622165133958965,
          0.3212771539328629,
          0.24994286301771468,
          0.3146069338663855,
          0.04042342619888214,
          -0.31587669436812926,
          0.42678017752060493,
          0.8487503372080752,
          0.047170127881882545,
          -1.2634368206794815,
          0.8841484058038654,
          0.5928034547656149,
          -1.0382253315224619,
          -0.5679310281540983,
          0.8585052386460346,
          1.3603282752220094,
          1.5404029878044714,
          1.3039318490411551,
          -0.8084668860591143,
          0.19659329058578542,
          1.81163639438583,
          -0.09113294833090055,
          -0.8352144503222352,
          -1.2039039111711007,
          -0.3689806106377694,
          1.3633579286454636,
          0.8019704447456597,
          0.8646000334983794,
          -0.9407640254583325,
          0.6416194262025879,
          1.244169407152958,
          -0.06188896551656238,
          1.1757655429044778,
          1.3764715255464406,
          -1.8453561005055088,
          0.3105399217118754,
          -0.9483504635665987,
          0.3020817907636593,
          0.262378278685134,
          0.23879116318528115,
          -0.39701897167571387,
          0.541020366627947,
          0.7347718213603975,
          1.0367238163101924,
          1.4438710034587696,
          0.11376984252093977,
          0.12807805107078424,
          -0.21075466818033137,
          0.8384244538640089,
          0.3874426668883955,
          1.1557077125166557,
          -1.3439996102876546,
          0.6442202961141213,
          -0.007758975415054941,
          -0.05777319098878841,
          -1.0378466358408238,
          -0.4726885557508673,
          -0.24256349205818103,
          0.48988307292454814,
          -0.8973274274001941,
          -0.11224611000783749,
          -0.6409393474718212,
          0.6425550537640149,
          0.6302969465715286,
          -0.16192795726730455,
          0.5096294701028861,
          -0.5666429792685316,
          -0.5794722453397887,
          -0.23916225352823656,
          2.27524934698934,
          1.1559945711020025,
          1.049097013463956,
          -0.3770453157046677,
          -0.34987866242086946,
          1.2999520672931797,
          -1.707920553410853,
          -1.4898296647763096,
          1.4008169101000243,
          -1.6767266172723114,
          0.02003161251484598,
          -1.4057987635703135,
          -0.41667890265141533,
          -0.3054588480583088,
          0.03725781360594718,
          1.3933597613669602,
          0.9689947595441138,
          -0.4931661559107211,
          -1.8353148204984162,
          -0.7093383845149065,
          -2.041534842534261,
          1.07640078225529,
          0.5283408534509652,
          1.14145280377094,
          -1.3920092656277205,
          -0.40792231591497274,
          -1.466208962776611,
          -1.0500942479811268,
          -0.6485938384822527,
          -0.8326595299000463,
          0.45420760711953523,
          -2.2559728153351424,
          0.8261830287819754,
          -2.1420294797538264,
          0.8768254273592918,
          0.31045477440718,
          0.18727146866466896,
          1.0415935582654114,
          -0.15524825463843245,
          0.5169272461440185,
          -0.6510766741391223,
          0.061589417065506954,
          1.2329397140042047,
          -1.1583697700308941,
          -1.3046008110259995,
          0.2929145323317887,
          1.2412341884368177,
          1.5498342664717433,
          0.04301947871201157,
          -0.531721277798868,
          -0.08465584008669833,
          0.18581283106626484,
          0.5286965749303276,
          0.016220857797125694,
          0.8841577507090206,
          -0.8728355996491264,
          0.07409361229642827,
          -2.326280346171767,
          1.4684748759427617,
          -1.0833476966711333,
          0.6914622949526907,
          -0.2996516918207216,
          0.8586214656503455,
          1.3734946954016316,
          1.3742605015525027,
          0.4566430210627943,
          1.3133556133750055,
          -0.9516930287345148,
          0.6545467593499175,
          -0.3972297103314232,
          -0.00019599098834697232,
          0.1510329623078161,
          -2.0930251557939146,
          -0.762626455618953,
          -0.06409896118911455,
          0.433899206874039,
          0.5281886298751841,
          1.031791707513399,
          0.0956728684527019,
          0.7342397112543608,
          1.5842547278801273,
          0.058552670341060556,
          -0.2113242401156665,
          -1.0681605393790365,
          0.5751955245111667,
          -0.9135064623302881,
          0.35913609865244217,
          -0.08541600001225777,
          -0.5408786641851356,
          0.8991425350069188,
          -0.9205855656421391,
          1.9452743964710228,
          0.25449867381335334,
          1.1184136235094773,
          2.019678343585983,
          2.1740695341490186,
          1.01983703899977,
          -1.2434658823586595,
          1.5210492249911705,
          -0.8260270877798799,
          -1.2412567136404067,
          -0.8144317662119059,
          0.5915645818711124,
          -0.42456677985660607,
          -1.1637184424101246,
          -0.4023073398829429,
          0.6755366314858589,
          0.14067398054062077,
          0.8679498364221168,
          0.4454107912834788,
          -0.48146342379941404,
          0.7829372187740373,
          -2.149404151681587,
          0.39316780766203885,
          -0.13517671067910778,
          -2.2634630691209434,
          0.6820486770208363,
          -0.9925289891598952,
          1.0747862904212875,
          1.2197866325997915,
          -1.5246768532837807,
          0.36167040649517407,
          -0.9239553734820364,
          0.610744013480612,
          0.6823862054834499,
          -1.3683488337995506,
          1.557842138030344,
          -2.0515057520873783,
          -0.1720239442098131,
          0.0726175228772738,
          -1.0545624481540883,
          -0.6795006055726083,
          -0.902824002266989,
          1.1487632374365022,
          0.3232069659892298,
          0.5493476140437676,
          -0.4032806845648574,
          0.4298113984368886,
          -0.09647902718196946,
          2.1961540858129465,
          -0.10425035348038185,
          -0.3229862356486651,
          -0.951469042566693,
          2.2949458238672698,
          0.34898936054803636,
          -0.186995535537027,
          -0.21635478557580137,
          -1.0954234252430743,
          -0.25555401941336586,
          -0.4372545223690812,
          -0.23682769069400264,
          1.355029732877171,
          -1.163168569879062,
          -0.5068984880903794,
          -0.7089915010033433,
          1.525555606865416,
          -0.9414075102570932,
          1.486570173484128,
          1.0175309996943511,
          -0.519179861268555,
          1.5711160966160296,
          0.34307049223199015,
          -1.1934170666719133,
          -0.06563191330369042,
          -1.2269480097149108,
          0.1181721260638196,
          -0.055079573261634686,
          -0.7509270955162919,
          -0.9731006463983942,
          0.5284715704546257,
          -0.6608504481470252,
          -1.1487415154668679,
          0.2617202978963955,
          1.9488958743680609,
          -1.0538714757035794,
          0.6245546767010479,
          -0.7132317399079446,
          0.5824237255788314,
          -0.15146349876486206,
          0.023192662520607504,
          2.736572686541171,
          0.1806807500856917,
          -0.8756976786183656,
          0.2919105689934084,
          1.4222798406689787,
          -0.9256940539239764,
          -0.2273605471765485,
          1.190559006189721,
          1.0321412918617445,
          1.8019377518216175,
          -0.6567603116070905,
          0.7117195109992215,
          -0.41036676635243363,
          -0.30992859733727063,
          -0.6881121802648582,
          -0.3925617057612027,
          0.5321625584002059,
          0.47505679327351913,
          -0.2685123089589128,
          -0.8715738537434936,
          -0.853196072206545,
          -0.9748320851354588,
          0.086642671258248,
          -0.11075434837932094,
          -0.7632693866511572,
          0.5538928724125444,
          0.27807914096016967,
          1.4408993823366922,
          0.2254192145703617,
          0.6182219325278253,
          -0.5919381775995415,
          0.4273994550783832,
          -0.5161238146977699,
          0.9221341075192118,
          2.2805868532805906,
          -0.01395098903856555,
          0.2650219126101763,
          1.0972283442355948,
          -0.09568976215577958,
          -0.015033357922503642,
          0.04699431031541112,
          -1.2420166003384474,
          0.0025267573351013136,
          0.5933588978684262,
          -0.24990873204222205,
          -2.61313937757665,
          -1.3333033860180101,
          0.0890370808102466,
          0.42701833627082564,
          0.0328181237490783,
          -0.1774122567600791,
          -0.4445932268083272,
          1.9662222928307205,
          -1.1698782885131354,
          -1.3432945285583238,
          1.248584145712808,
          -0.384960252255826,
          1.5000556306391124,
          1.2143381423164101,
          1.2196771864076572,
          0.4136941573087016,
          1.0776576163928604,
          -1.1907564262745027,
          0.45261847444144154,
          -0.37441308558822123,
          -0.7389439400558857,
          1.212951065360106,
          -0.2828882310461377,
          0.10523956705339221,
          1.282414975116601,
          0.32290922727251103,
          1.1509913722278229,
          0.550040273462375,
          0.6772570359285149,
          1.2835545856706676,
          0.7487361424781303,
          -0.8475523835389998,
          0.8550330987782089,
          0.7961197285282425,
          -2.341125775599947,
          -2.7839045356013514,
          -0.7184327213255288,
          0.3330809296399013,
          -0.4473330751838776,
          -0.27567061003398524,
          0.3073522972035995,
          0.7809951587985824,
          -0.5735760081859104,
          0.0016899594560200518,
          -1.1429909790279296,
          -0.5568805475190692,
          1.0837985035480784,
          0.9730661367193078,
          -0.04021729831831811,
          -1.457155643274416,
          1.468367532019994,
          0.39834737310337726,
          0.13752700647679322,
          2.3295509280912294,
          -0.2342157812656217,
          -0.12538323753601294,
          1.5353287516063214,
          -0.6669527537967878,
          -0.38533097442929615,
          -1.361197682291488,
          0.6776771059103173,
          -1.8789039033078374,
          0.4521584534159455,
          1.9013271884796856,
          -0.578448683186672,
          1.0616230663834907,
          -0.2635876237110925,
          0.7858819707307901,
          -0.23261216564292278,
          -0.6136680420980327,
          -0.09876082269579724,
          -0.5200833164332388,
          1.403281809705337,
          -1.244670624151118,
          0.49598034513409706,
          0.22514581338931247,
          1.1533977955731414,
          1.9409985473433133,
          0.5433976592226974,
          0.39387308165457663,
          -1.3743313666508505,
          -0.2868302456083878,
          0.1177246235491258,
          -0.9134803692048155,
          1.4025866134953588,
          0.6435316777295363,
          -0.3070190159308981,
          -0.22802395747314969,
          1.7050145674382184,
          -0.9583922407260906,
          -0.45789314708156936,
          -0.6251059237159848,
          -2.0251849862729085,
          -2.1018604861983703,
          0.02943895903908612,
          -1.0938979750784583,
          0.6759774079863178,
          0.8353800592992379,
          -0.9915491926297553,
          1.4732275747765307,
          -1.7951265249222386,
          1.6484020900107677,
          -0.725070417650416,
          -0.4871808061852264,
          1.2307520925290798,
          0.7835416731937547,
          -2.0784585719548767,
          0.3480301012663768,
          -0.501698539905603,
          -1.3070659241845586,
          0.1619658709760878,
          -0.4527517373680517,
          -0.591278238501105,
          -2.0517829839421964,
          0.4240750367816664,
          1.0479688616023002,
          -0.5425406928355233,
          2.05111068737536,
          1.0445723000668705,
          0.39211439874703397,
          0.22270113741650233,
          1.3273979766228419,
          0.4583318802956599,
          -1.1293319737894403,
          -0.6773543393585401,
          0.6217131041996705,
          1.150733240030782,
          1.0113571850926197,
          -0.2278962293074667,
          -0.6384148104942887,
          0.7178941595363922,
          0.6209833932374824,
          -0.5223661886070292,
          0.5227064668817553,
          1.4365609064288096,
          1.9373362131788987,
          -0.3433288483737732,
          0.2583043337867544,
          0.12981016823161418,
          0.6109324868953688,
          0.07862559013698223,
          0.8895156289410913,
          -2.853349825000314,
          1.327356145409479,
          -1.1677472883492395,
          0.3132332355738,
          0.5021817806408888,
          -0.22740310064287617,
          0.016223403387245885,
          0.4140123110950936,
          -0.5713399474783588,
          0.9838740876392901,
          -0.2772897656855513,
          -2.778322123262975,
          -1.1324411067348386,
          1.1784997396004002,
          1.0263152392328478,
          -0.14747926972884007,
          1.4676818761177954,
          -1.055340128655884,
          1.597363281931686,
          -0.7760797626298943,
          0.8692025434127685,
          -1.3061690861163147,
          -0.6407091204702533,
          -1.7779862287660777,
          0.46019693919428656,
          0.8880198996767806,
          -0.059332354710574416,
          0.42460742671667134,
          -0.9476985319996184,
          0.4842974750086635,
          0.7171654355034494,
          -0.7722153299545054,
          1.277782960560207,
          1.7752014812695254,
          0.11828100044163212,
          0.9233844964329834,
          0.5467089406834706,
          -1.2200781014040296,
          -0.2659275681513742,
          0.14841105303972144,
          -0.5632039948083266,
          -0.4625652486101436,
          -0.6645177283037467,
          -1.3500104903212418,
          -0.8789949632609148,
          -0.30008940904776227,
          -0.14380905966706803,
          -0.6307149647532635,
          -1.642084755170695,
          0.18381744334299832,
          1.2456651260558813,
          -0.13793330155569855,
          -0.8908100743792187,
          -1.1770220353170748,
          -0.3508925363835257,
          -0.13034085301772244,
          -1.0076637164436215,
          0.5158474468523466,
          1.6259927813431279,
          0.11364256316930395,
          2.4033680923511733,
          1.4286730206237233,
          -0.5493416808429185,
          0.4169494116654762,
          -0.5204382503061474,
          0.18152717699556178,
          0.6914290631818335,
          -0.3885412959605804,
          -0.7177278817264402,
          -0.5675754810104804,
          0.07003371912218731,
          -1.8187416024296756,
          0.46622584484624763,
          0.23791804077402404,
          0.015448424735380705,
          -0.9134125495360307,
          -0.2420076893930394,
          0.38523371686879015,
          -1.278313138731,
          -0.1734595580752947,
          1.3527322741784806,
          0.4271640219337862,
          1.2297785453140357,
          1.1537375687531901,
          -0.3644597353804959,
          -0.17565955193130828,
          -2.7456774269159645,
          0.44453684779194186,
          -2.5258917929788343,
          0.29312508156569955,
          -0.0651388906322927,
          0.5218718898746151,
          0.5155966868991394,
          -0.829048145595193,
          0.45820203192810904,
          0.18220624063472982,
          0.3660113326357553,
          3.0884859713022066,
          -1.6647525042590994,
          0.10876902065697061,
          -0.6712336945408235,
          -1.2598238269680833,
          -1.682249270597863,
          0.044180416554764845,
          -0.4708477044896546,
          0.7053550214187324,
          0.402759031865348,
          2.9862521626229284,
          0.09955312801590502,
          0.6885433019811256,
          -0.49521360094754263,
          0.3748816352792042,
          0.7043441928886977,
          0.9001055999499799,
          -0.08140947214249662,
          1.899821616203418,
          1.0162298776363146,
          0.08698390640303152,
          -0.13414892430868977,
          -0.47334459094381554,
          0.702623612615944,
          -0.8630454234662799,
          1.2443061038642396,
          0.7618244264264705,
          -1.2645350226782763,
          1.2505670947020886,
          0.038725046225487524,
          -0.01999161154898616,
          0.16702249774820804,
          1.7159184745021352,
          0.6293729636120272,
          0.6381875183800971,
          -0.7078414578473112,
          1.8810877178204721,
          -1.640046855040914,
          -1.2978194042596138,
          0.800077033710028,
          -1.814277297686931,
          -1.2081761553849535,
          1.2306870194339739,
          0.29357500828210503,
          1.0161076528183897,
          -0.6641018202508712,
          -0.6956882759347987,
          -1.4079585387599174,
          -1.1508926312187613,
          1.2218233813364492,
          0.5978564198187647,
          -2.018245852302206,
          -0.1938560417465344,
          -0.48574125457888834,
          1.1480373952763738,
          -0.6913829890032958,
          -0.7650217242659185,
          -1.413830868821647,
          -0.2163794150469528,
          2.1920327045871306,
          0.5218313231308049,
          -0.3385593288654337,
          -0.11917353347252987,
          0.09133107960910208,
          1.602272792725541,
          -0.9414056568364297,
          0.14064419436694456,
          2.421861661691445,
          1.2135591213291,
          1.352758599824585,
          -0.9803449824146835,
          -0.5850356159588536,
          0.43843732846513783,
          -0.47937993919924066,
          -0.4726331408821043,
          -1.29113544227499,
          0.7579418394676666,
          -0.5219747806611482,
          0.7220312900549026,
          0.6453760011125695,
          1.261675078401091,
          -0.5918479302561268,
          1.1272541651261192,
          -0.25852521435081727,
          -0.033504516280778406,
          0.7628413425415295,
          0.46710045047572557,
          0.5096255205304592,
          1.1640768921447169,
          -0.18983026790409394,
          -0.11641460709149005,
          0.19439161540061992,
          0.06048652749454396,
          -0.08936481049726396,
          -1.4375276871715006,
          -0.45381904641724713,
          0.7282525915805632,
          -1.6286722634909496,
          -0.670313715414207,
          -1.183515640909304,
          -0.2521011059248498,
          -0.5129715430593037,
          -0.8525377913166732,
          -0.8017056590468953,
          0.7250364647208468,
          2.0087450251787127,
          -0.08746319424418043,
          -0.26571214273228416,
          0.2165252016833674,
          1.0614797909581322,
          -0.15662249815072793,
          0.9688306491127818,
          0.9877456617281785,
          -1.2757407026197634,
          -0.009698978172649583,
          1.8170706872042262,
          -0.6371340382824999,
          -0.5771488254067735,
          1.3427795942681502,
          1.0952377651850014,
          -0.126887768372445,
          0.6874189344454507,
          -0.3073099466918459,
          -1.3399561254244852,
          -1.502131907460098,
          0.3142339641250571,
          -1.7880976558145176,
          -2.091275482547028,
          0.5200583893335241,
          -0.8299932226645433,
          1.182766722188016,
          1.232471700217514,
          -0.07018015588801275,
          -1.456676591633421,
          -0.0653510713281657,
          -0.8263477531944091,
          1.1322056013438013,
          -0.31968336893118127,
          0.5977672920373485,
          -1.45866982396817,
          0.39203974277107617,
          -0.10291294999749365,
          -0.08769560062313624,
          1.1186969472783317,
          -0.33385461011668666,
          -0.5416201435457372,
          1.8266811919541002,
          0.859913577735768,
          0.9614297765644859,
          -1.6517107723999769,
          -0.11842249128860087,
          -1.5387261543721433,
          -0.7465349615898195,
          -0.3854044451262137,
          0.8159489213503572,
          -0.24711485772352532,
          -0.1225548342047559,
          0.3806225750429698,
          -0.5441665606940845,
          0.6075397384847673,
          -0.13029011576622684,
          -1.1002779792451998,
          0.5719686747601501,
          1.1175380554186813,
          0.0023873906668344367,
          0.8042086092023528,
          -0.2474926697699782,
          2.530083794309545,
          -1.446153140389961,
          1.0185658186871003,
          -0.22737029230040146,
          -0.39194828914679586,
          2.113600370096822,
          0.23732787302017427,
          -1.5926384060349674,
          -0.6511929068619257,
          0.2939240096618239,
          2.0823637451138612,
          1.0209045874881018,
          -0.2439481571310911,
          -0.02137462373758622,
          2.13310566729887,
          -0.5285323827442021,
          -1.1724829014990013,
          -0.5699579779235676,
          -1.6604070700874294,
          -0.031124252157865177,
          -1.1042291241398765,
          0.5701464854283773,
          0.7466898730262449,
          0.70009213773575,
          1.4325668096200233,
          -1.4612524230981556,
          -0.4961643490492252,
          -0.9730786725749484,
          -0.8635768105086029,
          0.6057252975981192,
          -0.11052509181866746,
          0.4910970785954204,
          -0.45472854496189896,
          -0.03779101815319954,
          1.277399458786906,
          -0.15814352431839995,
          -1.7785991056729977,
          -1.0920094468111041,
          -0.05999444879240138,
          1.1613707133296707,
          -2.125793214184674,
          2.0284775566034723,
          0.18478128877470273,
          0.3287285594562788,
          0.9172925642775043,
          -0.7851275202989927,
          0.5746515221647657,
          -0.05512857809898107,
          1.428946433909097,
          -0.693905600026667,
          0.9295812095704357,
          0.6220051517974726,
          0.111278474612989,
          1.0111547838371884,
          -1.2081752680735454,
          -1.0352430928655645,
          -0.5344952876471963,
          -0.4927786246721438,
          1.6494739751374137,
          -0.9554841404170589,
          0.3921497200236924,
          -0.7069726351877522,
          -1.5380937720484495,
          -1.3463930955672956,
          -0.5886629583687853,
          -0.714979188676848,
          -0.3235128147664441,
          -0.48249003008778113,
          0.9077882797207731,
          -0.34420707654074667,
          0.43355591960182277,
          1.366522285577002,
          -0.7979526303965189,
          1.115300287534996,
          2.2413728579531997,
          0.2404533623201046,
          0.5003902946799409,
          0.01630167469187045,
          -1.1552729780499402,
          -2.7311850278043557,
          0.4643227068125753,
          0.17590112806883895,
          0.4867069242599474,
          -0.6110157807392254,
          -0.6826575601480585,
          0.6432718464819308,
          -0.16779896766540464,
          -1.190555162199728,
          -1.445996794930249,
          -0.22328389866885215,
          1.5993652806098315,
          -0.7234141130992819,
          -0.20928556847333912,
          0.7479406482108832,
          -0.04240997178407199,
          -0.3199456441422896,
          0.8127409021873848,
          1.354810348183055,
          1.599833935759907,
          -1.232503866827463,
          -0.17134748341578235,
          0.5674880146914221,
          -0.6880704326126676,
          -0.6458567048705577,
          -1.2580730068796404,
          -1.0452596564749228,
          -2.121819503360573,
          -1.6544501613385696,
          0.35146967401900486,
          -1.0469831950728403,
          0.8680810864418825,
          -0.6145634225827965,
          -1.3087924791691576,
          1.033227859384173,
          0.14156315825965768,
          -1.7081325845090927,
          0.6506174574061648,
          -1.8309673744282942,
          0.11291850932119366,
          0.5246465190582144,
          0.6424403198392828,
          -0.7590705899755249,
          -0.2914730086196698,
          -1.486502333398265,
          1.7448137383722258,
          -1.294598336819833,
          0.12592008380379552,
          1.210310477156403,
          -0.07539219214384467,
          -0.602204565288468,
          0.37353477061054147,
          0.041687504636355295,
          -0.06322477222819253,
          1.1270436524306406,
          -0.7646254104422153,
          2.516760370024612,
          0.6134163318993584,
          -0.5435960217897234,
          1.4039106383760835,
          0.4679194380586635,
          0.7626935393902253,
          0.9222139280651404,
          0.2902746284807376,
          0.9630259876116145,
          0.08560685772795541,
          -0.5973812896361872,
          -1.7759690591610842,
          0.9193260099436895,
          0.29217849454190803,
          0.19333194374873897,
          0.3371593387727763,
          0.18642602359332813,
          -1.0461024711264015,
          -2.6055455981757767,
          -0.6705390466795083,
          -0.18516332003022265,
          0.36607125979009103,
          -0.9021584535042059,
          -0.5045473220938426,
          0.4378440588640768,
          -0.6361412333057838,
          -0.18495727715366592,
          0.19589987190985456,
          -0.8797977164364912,
          0.4075467042386751,
          0.5945726968588642,
          1.5858887352318902,
          -0.5603000072270221,
          -0.6464965399707588,
          -0.6459789333261629,
          1.4245367799172437,
          -1.1053059671837964,
          0.4768796647253893,
          -2.759296100017243,
          1.3318964822336399,
          -0.7470706745553927,
          0.03954639826533427,
          -2.139909592278193,
          2.4824993490986667,
          1.0191494017921325,
          -0.7803417528525115,
          1.5598010230742578,
          -0.9673542266891064,
          -1.523304822568468,
          -0.03663108434131067,
          0.6993704540544675,
          -0.23615282785325864,
          0.5652196637312411,
          -2.458348830586361,
          1.5754336677084335,
          -0.8838252689710021,
          -0.5825974520239399,
          -0.14103692225176068,
          -0.5225414817855241,
          0.7611316314156183,
          -0.14404827924590594,
          0.6427340418484532,
          1.0182495793812938,
          0.7225603282219405,
          0.4657702084863889,
          0.9174271530122069,
          0.2584489866627009,
          0.9598618951936871,
          0.4180312347344348,
          1.422012440295054,
          0.5236891678112741,
          1.8427096376429686,
          0.3744945784241766,
          0.6257960163605957,
          -0.11225195243591381,
          -0.1506379906237645,
          1.3964434960164591,
          -1.6083786031993328,
          1.6532636785080168,
          -3.276009873675027,
          -1.3957853355777128,
          -0.23017773922161322,
          1.5149156886593134,
          0.6471218122323227,
          0.5450515458482991,
          0.12929167276507644,
          0.6658818430931276,
          -0.6945415572036977,
          0.43754037833463005,
          -2.07674590824104,
          1.0934818484865805,
          -0.8912697682535958,
          -1.0922622391397812,
          -1.7152782628004737,
          0.13804327679554795,
          -0.5519097390199397,
          -0.026000209508456613,
          1.6497172304655678,
          1.1984139003582834,
          -0.19289268898535836,
          -1.2625991099492928,
          -0.9326292451753802,
          -0.4721453888778891,
          -0.02569749228324857,
          0.5053116128043342,
          0.07094362631994411,
          0.9340691583078777,
          -1.3754197071074852,
          0.3600881573501637,
          -2.837121380640491,
          0.10316532584195748,
          -0.24677241277158132,
          -0.5404281163230821,
          1.079917269751631,
          1.8477526209745012,
          1.0777746392961032,
          0.22569920326936846,
          -0.19524112146971748,
          -0.2498874344260323,
          -0.49666006434326776,
          0.9912233481278959,
          0.2019163493235992,
          -1.769212288546339,
          0.8790168171412922,
          0.1823590113636763,
          0.6139992939480816,
          0.2236870086578605,
          -1.5729685829315236,
          -0.004169059398725459,
          0.1622326929479732,
          -1.443406997347962,
          -1.4495893431291507,
          1.648318995247324,
          0.6530802818339695,
          0.33669155833967307,
          -0.9029099410048044,
          3.0394161607876296,
          -0.7282712229237128,
          1.4193400237921354,
          -1.7124770803527432,
          0.18579313988198584,
          2.1151076845263796,
          -0.4357789448031473,
          0.6568815043626367,
          -0.4389208881662997,
          -0.5208364745967965,
          0.6230337324992561,
          -0.504572101919151,
          0.9803452203326114,
          0.7173253897715595,
          -0.21993590618553693,
          -0.649484587946384,
          -0.8728896843246078,
          1.5048898418328487,
          -0.36074070754337806,
          -1.111732289491813,
          -0.4896704669676094,
          -0.8049368805905032,
          0.04918766081393421,
          -0.2972610735609732,
          1.6907980767007358,
          1.0034165300536202,
          1.007060946205526,
          0.6413335701847344,
          -0.3783899576818259,
          -0.6106252646615896,
          -0.2710520107697257,
          0.24651492413384687,
          0.5224674548602958,
          -1.1174501055003854,
          -0.773258604145245,
          0.46969252699359537,
          -0.34072607247012704,
          0.6838718829603196,
          -0.2207616100059891,
          0.04326317597546344,
          -0.014975275738342435,
          -0.10716813736689318,
          0.2862527003030245,
          0.2820114355012525,
          0.9447411207268629,
          1.4539112046937792,
          0.2683498308643596,
          0.9504138952546181,
          -0.19417888269121292,
          0.15015101998477576,
          0.03823677131915272,
          -0.8416360024184462,
          1.3163100738549833,
          0.11688856815876304,
          -0.19714616384106978,
          0.7451807372536758,
          0.5189272217632332,
          -0.1829460600667737,
          0.44726785969478994,
          -0.18208946909218382,
          0.27557346783832476,
          0.5155025956812992,
          -0.42069051612447056,
          -0.9116598379556272,
          -0.5084050881041144,
          0.31302500153085033,
          0.6628125786991295,
          -0.8815459118582607,
          -0.31530414801039625,
          0.7336624986267993,
          -0.00017110565096282047,
          -0.8960920744285173,
          -0.27961488449043165,
          -1.6494494053662065,
          -1.651045539415365,
          1.828350413426046,
          0.7396543045850046,
          -2.0414768524456717,
          -1.4205112425831186,
          0.3678233623658915,
          -1.4949166577367792,
          0.8500185099410515,
          -0.5105578735856559,
          0.24740037553295602,
          0.5589264494766718,
          1.1554111040001536,
          -0.18388240456049995,
          0.5309298216693371,
          -0.41029108125558206,
          -1.833527467576786,
          1.1600751805003002,
          0.8023090091371688,
          -1.8409724728793426,
          -0.5167491134971842,
          0.8707940051778549,
          -0.22672864115236477,
          1.2344899128708262,
          -1.1795765934430429,
          0.11692720081130906,
          -0.5323124005128717,
          -0.6959254175720756,
          0.3811357664100225,
          1.3568531173480773,
          0.3653783255936193,
          -0.6325834778799851,
          0.30773549463537514,
          0.7209571777431776,
          0.5201003599707638,
          -0.5994541143423754,
          0.732613835020825,
          0.87986292839102,
          0.7664340337524619,
          1.9056225732596388,
          0.9637557619031749,
          1.17376913199718,
          -1.1728366704930953,
          -0.2820526716065664,
          -2.062853427688618,
          0.8152337496533864,
          -0.040168910656861824,
          -0.060678347662774045,
          -0.15655951817743083,
          2.3721931895533572,
          -0.8617371814625235,
          0.22247325540273039,
          0.23439146501688585,
          -1.4147929299905369,
          -0.20003594531987065,
          0.3737010595775489,
          -1.8054787760820399,
          0.017456077599383144,
          0.9464120665410137,
          -0.14872299993435126,
          1.7033468525520583,
          1.6139286423018806,
          0.17086713708563966,
          -0.7508538535594338,
          -1.3121202976260748,
          0.2993040057424335,
          -0.9576116278436901,
          0.12646134800210493,
          0.5093125509453762,
          1.3145883627017128,
          0.8557521462513151,
          0.22193048121272405,
          -0.09678036648769567,
          -2.364933411703812,
          1.5396886279060227,
          0.4736465660496047,
          0.6683861463372268,
          1.6652489579316019,
          -0.8816142157614333,
          -0.20366623909457368,
          -1.7595942466211185,
          1.67946159625096,
          1.0561555279030637,
          1.3944276658574162,
          -1.9824776412043357,
          -0.002102438104674696,
          1.1285957580113235,
          0.8075564955174737,
          -0.14694278650571604,
          -1.6681574147812612,
          1.0286743320892016,
          0.2908654973655612,
          0.16722803745616768,
          1.2629601190406168,
          0.7757509108002203,
          0.6323001407359683,
          -0.05983305684514982,
          0.5380571085204305,
          -2.0004037756538486,
          -0.2046165674827066,
          -0.059112614837286984,
          -1.2608508731890524,
          0.0016736524430442387,
          0.9950177071637083,
          -0.7785239823014685,
          0.26447145667850513,
          -2.1521766950396466,
          1.064478839187021,
          -1.3964003691232583,
          0.766138840876144,
          -0.2862602968172208,
          0.799449817660228,
          0.20969777309727106,
          -0.48505614598374464,
          0.41146995961525357,
          1.2394055132589177,
          -0.3055544275666693,
          0.30317367522465627,
          -0.9833876494130394,
          -1.0199042066107418,
          1.6269836046433859,
          -0.3368918872953403,
          0.2294415041565205,
          0.3050392273074991,
          0.8328411119054742,
          1.4204250883493033,
          -2.2807283861571275,
          0.08049289909823483,
          -0.9256771633637062,
          1.1127367806556965,
          -1.575392424962297,
          -0.4356502094313256,
          -0.8864835215329551,
          0.3169602539892895,
          -0.023097616221841265,
          0.36755660586204497,
          1.4378527690492906,
          -0.09465938893832292,
          -0.5619846700602096,
          2.4280822989741115,
          1.3756406092522209,
          1.1440457185242268,
          -0.09731441162011585,
          -0.9420868918879501,
          -0.2544233649226425,
          1.2302439966951166,
          -1.606309822854003,
          0.19274692406113464,
          0.3197113899940565,
          -0.3298372758771968,
          1.4139220914466624,
          -0.05149371616090543,
          0.46497170926382175,
          1.2174369925675534,
          -0.24537191518253623,
          2.169304521772335,
          -0.9077156337523462,
          -1.75807330312089,
          -0.08349197988484522,
          0.47105821949529114,
          1.112914710350003,
          0.36465220795694914,
          1.0355615787009127,
          0.23590823600647934,
          0.7917464978426256,
          -0.9916352385908359,
          -0.010581339759037559,
          -0.2835494587218364,
          0.3673772871360301,
          -0.688676577959102,
          0.6615733905604178,
          0.7112394123670237,
          0.7578655321523698,
          2.232192488460578,
          0.6568452309265278,
          -0.5130314576326296,
          -0.9621945712587175,
          -0.1751203255766293,
          1.109820312806173,
          -0.5939359480306008,
          0.7815798710286997,
          1.3015216347682126,
          0.021971946077997132,
          0.5566186105659796,
          -0.9058871429323025,
          0.2172676232579174,
          -0.31160808232209425,
          -0.43293000732148285,
          -1.6664488769066432,
          -0.7083094703709347,
          0.25886530705074384,
          0.9825158504085078,
          -2.3129730672377944,
          0.3370171891828605,
          0.0735075199038801,
          -0.8893503533219447,
          0.7074456787840745,
          0.5331849309949185,
          2.208536638133351,
          0.19720244365435124,
          0.5656547103500031,
          -0.49895495060282014,
          0.6484880588775702,
          0.05572697144361539,
          1.9527117120772666,
          0.2840907595840693,
          0.7267828783286895,
          0.6780467673087109,
          -1.7600837068464965,
          -0.0640856291409788,
          0.22417812361671716,
          0.6886367399929244,
          0.21934331018069872,
          1.6109821438402145,
          1.39117286075928,
          -0.4326752975153845,
          -2.048584899444764,
          2.0390033576199826,
          -0.3781274699886848,
          0.2262016760719427,
          1.3175913142482214,
          -0.06242438545456769,
          0.8964514594264535,
          0.9442217287429167,
          -0.6196504744639301,
          0.4553665712342824,
          0.593042873063522,
          -0.29026873815890347,
          -0.7821291035337791,
          -0.43022872442870264,
          0.4022360899957722,
          -1.017023800232869,
          0.5268937630139051,
          1.7951044014576885,
          0.4208645846217104,
          -2.030797249297169,
          -0.6478431660655064,
          -0.18530381583638378,
          -0.3967862598703207,
          -0.15327783264384673,
          -0.8790877350934503,
          1.8363943757337824,
          0.7041124201886328,
          0.708957186421024,
          2.353560906272168,
          0.20623207676205507,
          0.9665745631776398,
          -0.4902341459288297,
          0.18150045894764405,
          -0.6736311697669304,
          1.0708022833635022,
          0.1982762294609684,
          -0.48413967832632954,
          -0.969371731174866,
          1.7147149132919992,
          -0.8636085668650382,
          0.5619882382113923,
          -1.812399022053081,
          -0.21889295672524162,
          1.4027122012130755,
          -0.32976934257792206,
          0.923237829220157,
          0.4861791830301767,
          -0.06970888492649735,
          0.9323774789519517,
          0.7876248065365681,
          0.07718606792625073,
          0.20367830459298963,
          0.21951659868248907,
          -0.515139679656397,
          -1.1544024632140828,
          -0.14052969809773333,
          -0.11625752322831577,
          0.5026662553693941,
          -2.1112803810698915,
          -1.6891537299010628,
          1.468092768858609,
          1.6637063535789811,
          -0.2908443721069404,
          1.5329441449795476,
          0.16330747452720623,
          -0.4694532121605474,
          -1.5998430113777282,
          0.3671974377216255,
          -0.3961555709171237,
          0.8885732938608604,
          -0.9939783165179292,
          0.17356036948021997,
          -0.015155278261282575,
          0.867263815041769,
          -0.501486761968074,
          1.585397892622977,
          -1.8637252878258872,
          1.0262278785830592,
          -0.3864367717572713,
          0.7305785422019492,
          0.11379625676658314,
          -1.3738912858994443,
          0.6545599926000667,
          1.302868023299304,
          -1.2612698128783721,
          1.488473784712123,
          0.13625702827334818,
          0.34282999035623435,
          -0.8891358287694343,
          -0.8544136797470221,
          0.9684919944102528,
          0.9000987652554959,
          0.45965316372140386,
          -4.137870880859122,
          -1.8202939765267434,
          -0.16421798414024125,
          -0.4407873319788722,
          -1.0805214551193318,
          -1.2163033468065634,
          1.5488329778321885,
          0.3769808082762805,
          0.7536928467200902,
          0.34485344481677627,
          0.05787940343247928,
          -0.3599062943344753,
          2.3778916462,
          1.978884865520185,
          0.7274709477290852,
          1.2026676626163775,
          -0.658869806681169,
          0.6119336485228891,
          -0.8407059444846124,
          -2.5441595084139554,
          -0.09527828564714609,
          0.4276304668596015,
          0.46251352599637574,
          -0.1284669858707346,
          1.0383664661093865,
          0.4761303575039128,
          -0.47842773080708434,
          0.7562385241206988,
          0.41238760588104595,
          1.0029720177128414,
          0.19883551961380594,
          -0.9841301689685483,
          -0.7187467968608126,
          0.5233149783764636,
          0.4281494974649827,
          -0.5631768237933585,
          -0.6375883336059411,
          0.6471983543840316,
          1.350357063713942,
          -0.25053897850553253,
          -0.5409450615218445,
          -1.58762026381239,
          0.9969519667742869,
          -0.363688289637154,
          -0.0881210610059887,
          0.3683391282044973,
          1.9181660533172582,
          0.6218979079104406,
          0.7364881279427636,
          1.4470784487820647,
          0.29982125937464366,
          0.3595397409779244,
          -2.095187733490855,
          0.7925040198340796,
          0.3747771808493902,
          0.3687309108570814,
          0.4639932926829153,
          -0.5249825023940858,
          0.17912147914441837,
          -1.468894395668941,
          -0.20336119594684193,
          -0.28041442154665186,
          0.13317697583245736,
          -0.23122835938862213,
          -1.2352761474885294,
          -1.3097180956875203,
          -0.3916593695867858,
          -1.7477870436602878,
          0.9773035018227965,
          1.5438604964079639,
          0.004254593886300562,
          -0.7030689803918199,
          -0.609700882966067,
          -0.021355956494075245,
          -0.5661865830520197,
          1.2573102382007313,
          0.22580753151438993,
          0.5463810982321711,
          -0.7166359900977928,
          -0.06279937752628127,
          0.47751966986747607,
          0.7589635651172233,
          0.049351126098073114,
          1.025560464854507,
          0.7642250702544939,
          -0.373631550127663,
          -1.2798718574196195,
          -0.4134619271725016,
          -0.7894039626331298,
          -1.7116775898674563,
          0.8259880502367242,
          -0.32932154279432413,
          1.6305103826730107,
          -0.4842399775722658,
          0.2666176043026602,
          -0.2632118297930938,
          1.8094364762981359,
          -0.8593310649894473,
          -1.1893251619743461,
          0.6751621987576081,
          0.325455705276383,
          1.3772856283873294,
          0.6253148673137652,
          3.5290933676982714,
          -0.28331998964885724,
          -2.029028485953036,
          0.10604435580452187,
          1.1129796244021664,
          -0.7532346068380914,
          0.31557600890365245,
          0.8654422053983386,
          0.4789146574375933,
          -1.3831365086418215,
          -0.5094843469489668,
          -0.9464312857075629,
          -1.2041006541223878,
          -0.5929934847201727,
          1.9102207615016948,
          -0.5296484472809848,
          -0.5253439638640839,
          0.23388414173696664,
          -0.4775508894673016,
          2.1372558215595374,
          0.34291954322596413,
          0.2962934964751496,
          -0.7155018942242698,
          0.7128207085008058,
          0.6529515709341328,
          -0.8585392960263328,
          0.6768302738405743,
          1.700058873923086,
          -2.2082358266710416,
          -1.616031073455226,
          -1.630158242552944,
          -1.7196619291460302,
          -0.23800529911418386,
          0.5119313853209648,
          0.5840621090971858,
          0.46198556687347103,
          -0.5981419256123233,
          0.48653150651102867,
          0.2524762954958828,
          0.07676469855743404,
          0.27262140422661735,
          -0.9362266421326084,
          1.482649750359038,
          -1.3997705337960449,
          1.5691320715188766,
          1.513467608926213,
          -0.2908040111761853,
          0.8442497722051118,
          -0.20953417790671072,
          -0.27784117987420875,
          -1.7866589795683534,
          -1.0796822194953486,
          1.3068040293358414,
          1.035242594603472,
          0.1966816685726236,
          0.3847665380350872,
          0.7072024163236563,
          -0.26593833949805196,
          1.4747590959870494,
          -1.751995119196877,
          0.17988026543070157,
          -1.3379915979797299,
          0.631918795501498,
          -0.9234956447821842,
          -1.4681823464468258,
          0.5680591706120531,
          0.2879733798744301,
          -0.9354857968050859,
          -0.3606194964723603,
          0.9754539862559809,
          1.5918261827893228,
          -0.7444480085110019,
          -0.8035718480865381,
          -0.08987312125810594,
          1.4569989294007042,
          2.146830606662301,
          -1.1688703526550321,
          -1.1875710644023856,
          -2.343793298852141,
          0.08320485358210858,
          0.4116106803967142,
          -0.5764358883199278,
          0.19407353449708933,
          0.8118940166658237,
          -0.16968896744213538,
          0.9158868346018655,
          0.1476255875052149,
          -1.860550228344826,
          0.2353133725134601,
          0.01584747842216081,
          0.6382242817595014,
          -1.3246364388361829,
          -1.2105838510279585,
          -0.3061774590028071,
          1.0469119372189235,
          -0.1322398559203635,
          -0.39644764252826814,
          0.9137115089222017,
          0.7778627840262837,
          -0.9494821686265483,
          1.5657025263677555,
          1.0862348903299368,
          -0.6405299328431497,
          0.02016885671117149,
          2.4333135324981203,
          0.520678818178165,
          -0.09491821489798327,
          -0.6507083672082993,
          -0.23545899788902097,
          -1.44884886121048,
          1.1566316170739306,
          0.2525920250836712,
          -0.8295369176499225,
          -0.6549406012465872,
          1.1260325085384388,
          -0.6399788849454516,
          -0.08550891930021527,
          1.0296953013670935,
          -0.6673261368958462,
          -0.8559470409069816,
          -1.5038277510063995,
          -0.6110466103365475,
          -0.25651276725452565,
          0.16607860327669433,
          -0.060149729456325574,
          -1.3424266779894087,
          0.017661488635338007,
          -0.18637131397021514,
          -0.26059362774914796,
          0.015100019893254466,
          1.0526582714838733,
          -0.5246470699919091,
          -1.0069516368379567,
          0.8916247304434833,
          1.1041423378692674,
          0.5508569670564926,
          -1.907506242403317,
          1.4659104165469776,
          -0.19200032198109335,
          -0.25285557038288786,
          -1.3350795105639888,
          -0.267645001505278,
          -0.38640999284493566,
          0.5327712189819139,
          0.3167451032262826,
          -0.40607984509101375,
          0.7899459882684103,
          -1.1313169280882909,
          -1.4864860244673912,
          0.7291656325989165,
          -1.0934910656342327,
          0.24850516768290024,
          -0.8840444513185701,
          0.38468709491132047,
          -0.27017739213025793,
          1.1813897009500223,
          0.4888234186911122,
          0.7388054959646896,
          -0.34444027096765945,
          0.12647276482130318,
          -0.6268401039857417,
          1.170963607629918,
          -0.25001311088268424,
          -0.5281138645699097,
          0.2785699506913256,
          -0.23382631781420737,
          0.5682643014765775,
          1.9478694886180932,
          -0.3051600033002107,
          -0.2787037593846739,
          -0.8105483068829449,
          0.49932624856016616,
          1.8022511921329665,
          0.09849179396939119,
          -1.2075622142588414,
          -0.42647441207889647,
          -0.4541711597605433,
          -0.743316321975878,
          -0.39123521448530924,
          -1.4032916489980078,
          -0.16035885759593685,
          0.8926607423103371,
          -0.570132886256331,
          -1.0515555087428077,
          0.820452267394931,
          -1.2887631833975792,
          0.4360932468251382,
          0.23916417629238124,
          -0.6742419178008491,
          -1.0967478632549037,
          0.5165998725139549,
          -0.17319152579184702,
          0.5716110842700569,
          -0.3954520708393579,
          -1.1090816544412871,
          0.8982929754848165,
          0.9772726905469585,
          -0.6711689193063879,
          -0.37909306517130287,
          -0.18823717351636982,
          -0.23613399729658535,
          0.7785792851124942,
          -0.4299701287839652
         ]
        },
        {
         "marker": {
          "color": "white",
          "opacity": 0.3,
          "size": 3
         },
         "mode": "markers",
         "type": "scatter",
         "x": [
          1.42431316800419,
          0.2922182565191422,
          -0.6100348274522979,
          -0.07094880089610478,
          -1.0875521314683105,
          -0.943294804765724,
          0.2520054105212392,
          0.49434146967079606,
          0.27232192962409524,
          0.3805893349470849,
          -0.829839488136048,
          1.1697509751803346,
          1.8390531772692917,
          -0.5066186871716518,
          -0.3315153312342153,
          -0.4182508051176748,
          0.9841225543292499,
          0.7501863892782219,
          -0.26667512800741633,
          1.2714680023306784,
          1.016925328759142,
          -0.38622389933248064,
          -0.3824023500492277,
          -1.2416301941043006,
          -0.6681726901403843,
          0.5239956103800222,
          1.8308848349313378,
          0.08527061714781269,
          1.6633794820526668,
          1.012114503200857,
          -1.3726186585600308,
          -0.021856983995307087,
          -0.08890616835059166,
          -0.7976239554288559,
          0.64835854573148,
          -0.3375678877392042,
          -1.8454847620931605,
          -0.0317189398152935,
          1.6173374315860554,
          1.4713424681077192,
          -0.2710526580788573,
          0.4439024257122562,
          -0.16228844660477257,
          -0.3774021696053779,
          0.7041043323187216,
          0.23733136321374362,
          -0.2200184574505608,
          -1.0557179063205977,
          0.4947981329456479,
          1.1958589583923676,
          1.264636524173858,
          -0.9282928646731828,
          -1.3818432459876142,
          0.4558820593391029,
          -0.9231284576626322,
          0.7652090725797314,
          0.7778605134780658,
          0.24149443294305098,
          -0.13567880474989547,
          0.29488657303203236,
          1.5410343269902875,
          -0.5307465515858928,
          0.27709016032722183,
          -0.7570909317552551,
          -0.47208065018911505,
          -0.9927233953437579,
          -2.1664833360551317,
          1.7075616613545936,
          -2.3241489463880294,
          0.8135190486843292,
          -1.1270257667858674,
          0.2719933293113927,
          -0.7542318016955715,
          1.2752352542422607,
          -0.6281802962396802,
          0.011880483543172362,
          1.180391699105607,
          -1.0710457239042814,
          0.879111466560403,
          -0.3302691455803222,
          -0.29060172356100766,
          -0.8518040216014625,
          -0.21392981816319484,
          2.073945483896399,
          0.566436870947907,
          -0.08698850424588954,
          -0.032809670781324345,
          -0.6580956792833053,
          0.4706258410282746,
          0.49821970035212515,
          0.18335629439364987,
          0.8829290487420969,
          1.2876303015877442,
          -1.4819878050829292,
          -0.2098851366298537,
          -0.692085763689496,
          -1.833165193880717,
          -0.6953048337883776,
          -0.22701207029774512,
          0.05266312215905663,
          2.3925956574254736,
          0.7807067146985381,
          -0.7986361331354414,
          1.0951299174183322,
          -0.18574111960745057,
          -0.20208786266858939,
          0.35084518554897876,
          0.22098617560583972,
          0.054456653900521,
          0.13185924713870692,
          -0.429028807509428,
          0.07835673377525475,
          -0.1758778251643518,
          -2.122317218371569,
          -1.3332252370675297,
          0.44778474575463945,
          1.2324619512369792,
          -0.6040291649221279,
          0.722281529549575,
          -0.1889471624772625,
          -0.4728980180704642,
          0.17910793955374613,
          1.4841565163738217,
          -0.3778990900067518,
          -1.29327902833167,
          -1.669594532030794,
          1.1085110204450876,
          -1.5399617585852898,
          0.6026228641201324,
          -0.5455816744409049,
          -0.6393777988262168,
          -0.8020341277254754,
          -0.612205855701985,
          -3.3679290920196245,
          0.4480960246728102,
          0.3824212983790248,
          0.7734798051907767,
          0.6800454755655541,
          -0.6522057728784115,
          -0.31907966334175125,
          -1.2625578941133822,
          -0.6148158614573113,
          2.557152480858925,
          0.6968272216835458,
          -1.7740508777909794,
          -0.12767167401023582,
          0.40977927567901407,
          -1.5112180292339517,
          0.6360540058577676,
          -2.3243670662709164,
          1.849106831954565,
          -0.3672753924644618,
          -1.391503510824001,
          -2.296410321251444,
          0.6943813609259122,
          -0.9316724532457522,
          1.1622037431083687,
          1.3018501575981154,
          -0.5804727658660168,
          0.720857317560387,
          0.147443570792732,
          -1.2392580303072103,
          0.10385165267494606,
          -0.8422269324817243,
          -0.5602020776345811,
          1.543026695456277,
          -0.17099932309855542,
          0.07021046401131507,
          0.6030198470183825,
          -1.6580640605236594,
          0.2055678136162885,
          -0.5862010272391797,
          -0.9333351386020883,
          -0.18346371715188617,
          1.1488665091862875,
          1.4775075777566804,
          -1.93005881203239,
          0.5519510572006564,
          0.6283272351634334,
          0.853836459110897,
          0.8027376920221463,
          0.5785281137131709,
          -0.48558497796632605,
          -0.7059471224393973,
          0.593582324141747,
          -0.5056247150204577,
          -0.0073346395092963755,
          -0.2638004661441709,
          -2.5040729888961195,
          -0.02936367750398442,
          -0.5326571359677067,
          -0.9296124086761933,
          0.099458970696871,
          0.14045752582164187,
          0.5157605090674557,
          -1.3157399815667685,
          -1.4221844830876664,
          0.00953499121309903,
          1.9986783072076637,
          -0.4123648113721794,
          0.5175171765699984,
          -0.09303868989447976,
          0.11520014248469966,
          -0.9401699587097442,
          0.6977574340238137,
          -1.350217807758408,
          0.7701998010403553,
          2.681438321435926,
          0.6510777893252306,
          0.2919268608821053,
          0.5863047966729625,
          -0.0004482997268756463,
          0.690563301893188,
          2.6723364591090903,
          0.18786747455797168,
          1.0081696917367626,
          0.6577389595547982,
          -2.2206367587664166,
          0.4922093916580662,
          0.10519710433365373,
          1.9301540092366605,
          -0.018613901486843894,
          1.3821277840286197,
          0.9913476896126822,
          1.6942301144931444,
          -0.3348084146045354,
          0.6349248444478021,
          -0.803006475326154,
          1.304666016304632,
          1.158502803754109,
          0.9858840497827099,
          0.5947356382769492,
          -0.7166595652153666,
          -0.9006602157590798,
          -0.7185655473761847,
          0.11453131052680629,
          0.36381025224451685,
          0.4075490190884983,
          -1.9057616853818053,
          0.24924838815529338,
          -0.9738930290483766,
          -0.6170958221227054,
          -0.08143300855218993,
          0.6051278609148876,
          -0.8976687359893912,
          1.5223865085714343,
          0.49738802436180174,
          -2.293869980286339,
          -1.3587279342438305,
          -1.0282884541834396,
          -0.2448153297781602,
          -1.7150202008844448,
          0.11248474929268219,
          1.385379985041507,
          1.2614433224907722,
          0.38833078354605993,
          -0.22101289372698232,
          -0.34539263869327047,
          -0.13627594375118182,
          2.2030760235268185,
          1.0673533803998385,
          0.019826757623031887,
          0.5522698216087577,
          -0.34132384745746663,
          1.7616108230529417,
          -0.47191206018986653,
          0.20732374982961713,
          0.2840673862041888,
          0.19366338258853852,
          0.004770814683956002,
          -1.0196824588907065,
          -0.014576726304784949,
          0.665363592490015,
          0.651365921112465,
          0.6501374632097269,
          0.36597011674087837,
          0.3956194755458353,
          0.2843118812778929,
          0.31278324016235104,
          -2.3268621067904536,
          0.10158828059075493,
          0.2734402601084191,
          0.2558302004135467,
          1.4429951191092663,
          2.306701703126453,
          1.441065114229481,
          -0.2850027830754901,
          2.0131766642385185,
          0.1446456059737324,
          -0.9159403004569516,
          -0.7511045455402257,
          0.433914808370751,
          1.8393407986688877,
          0.16912220489116095,
          1.1477755800456784,
          -0.5514150910992907,
          -1.315904600334546,
          0.554478005621485,
          -0.433081490356974,
          0.5211859790722011,
          -1.7659240327682175,
          -0.8617889593652067,
          0.6165330808266558,
          0.8881028977120725,
          -0.34707770225107637,
          -0.5390233304850125,
          -0.1489775422040875,
          -0.9236450613465444,
          -2.2159795293704447,
          -0.12566819099222865,
          -2.014128212563826,
          2.258707028246153,
          0.4982110566918419,
          0.04366252643234646,
          0.12063656344877619,
          -0.309781137919035,
          -2.0836547632801263,
          -0.25525327281211563,
          0.6471472748150896,
          -0.7634986059601422,
          -0.1866537876800116,
          0.5203672059840174,
          -0.11588737048969999,
          -1.1843728407511558,
          0.31421341099064215,
          0.53114354220503,
          -0.37115897927246033,
          -0.36241278041620734,
          -0.9907606355217957,
          0.487576132807079,
          -1.3993161530834999,
          -1.4217240070940156,
          -1.4991366964830422,
          -1.5240618605087706,
          -1.6600834530135795,
          -2.555241006571509,
          -0.32739480280457534,
          -1.1041703137030219,
          1.0988321806444104,
          0.9202845022719446,
          -0.2197900388047018,
          -0.802410537949384,
          -0.15191973610507511,
          0.7623713206352597,
          0.2456469545185604,
          1.1458405979731265,
          1.7593608650952852,
          0.8719811661656549,
          -0.9236492158365638,
          0.40117542831199354,
          0.5867969235232058,
          0.3016901070886428,
          -2.270549330210612,
          1.1705532972053392,
          0.028369897054964465,
          0.23023781369497553,
          -1.3326155681400897,
          1.2370688802533931,
          0.13539202259112432,
          0.2994833130830155,
          0.008751484697794564,
          1.6554005822746027,
          -1.8659984422773375,
          0.0181484806422532,
          0.7350494954633617,
          -0.4994011973139804,
          -0.92384257721806,
          -0.9643003262045167,
          1.306070960938494,
          -1.2475188432827788,
          -0.013528202082897053,
          -0.9044450974684392,
          -0.5318751126931559,
          0.34879397833292697,
          1.3896175806420406,
          2.6927733204536497,
          0.7219576893029197,
          0.4445705421823254,
          -0.5046497909090298,
          0.31734864317781947,
          2.779698635126964,
          0.23289572613083934,
          0.7227255701163249,
          -1.0359277177552668,
          0.38812249211393807,
          0.6823357445974703,
          1.7827072688353474,
          -0.5431216037232883,
          -0.3648059174057627,
          -0.18689793391824394,
          -0.9473521104661919,
          0.9540465367069195,
          0.5071211821380345,
          -0.9843483014808568,
          -0.3354887026533869,
          -0.14145029661626266,
          1.4988761512106503,
          0.39041862683195944,
          0.23159913123660533,
          0.22571010227602828,
          0.15691508652385622,
          -1.0585836230471208,
          -0.9101234059611,
          0.08872370821907964,
          0.7028332043692737,
          -1.832257892853753,
          -0.5465827659579346,
          -2.973530240760106,
          0.09475793958396683,
          -2.015098342346237,
          -3.2690845863562106,
          -0.5581825951681181,
          1.0047381875406205,
          0.8327364411288314,
          -0.2302624765205976,
          -0.6503535494306288,
          -0.38505907578719434,
          0.2688716851162071,
          -0.7187025840704298,
          -1.8736867460197126,
          -0.9575947095187924,
          1.8618489695388807,
          1.237782386681308,
          1.041727489974807,
          0.17771776190478106,
          0.7780349846757905,
          1.7376030297888576,
          -0.41195711427508175,
          0.8848438314978796,
          1.8423120855714417,
          -0.9158076111181817,
          1.2252761363744744,
          0.26524814359731297,
          -1.8399135033136476,
          0.5927423904188619,
          1.4492451688451917,
          0.44687442389991566,
          0.7303073271509212,
          0.8452337895957455,
          2.248393177976788,
          0.08549396013504645,
          -0.3379757651112369,
          -0.6266102889412306,
          -0.21146958836981017,
          1.1058674308471625,
          0.884464099976861,
          -1.3325303060422033,
          -0.22371317746947042,
          0.23163391870889125,
          -0.626178671813615,
          -0.1585426776674212,
          0.15522880587497878,
          0.8796633042903437,
          0.5700812546058468,
          -2.1970922309213616,
          2.1328152677185264,
          1.1952495160458725,
          -0.8374996967882561,
          0.6334056766295442,
          -0.1218123224526366,
          0.9057383203828356,
          0.26073009082687937,
          -0.42062589652468835,
          0.9201925129543025,
          0.46962821229589746,
          -0.919689356657335,
          -0.27327965734059695,
          0.5293620364057817,
          0.007885480717027814,
          -0.042045165427549214,
          -0.10754847932919345,
          1.5252862825678883,
          1.4738826235396454,
          0.5867612696574667,
          -0.6530273768291855,
          -0.036138978740661694,
          0.5343019568789099,
          1.6878058297444287,
          -0.9255764664597894,
          0.08512775986802042,
          -0.4447425856347833,
          0.9300514670687474,
          1.9349579642898864,
          0.5593079372847342,
          0.8771223264665506,
          0.055559496831610114,
          2.2902537746973035,
          -0.45070318620309685,
          -0.9692582923292177,
          -1.8304629610350938,
          -0.22127105411459871,
          0.658434660709964,
          -0.5071016934517294,
          -0.8888459823813869,
          0.7499894058942689,
          -0.21211438033858906,
          -1.3695053742099539,
          0.9362185613813431,
          0.3334028450467918,
          -0.75014173772424,
          0.47614330953087086,
          -2.4702028386371255,
          -1.5316794346199272,
          0.31185816406648,
          -2.292707807702765,
          -0.5524877172307006,
          -1.560695426626466,
          1.9778088024376135,
          -0.7502719663126268,
          1.1539571384619982,
          -0.290200454148808,
          0.3486844395056871,
          -2.665740083752868,
          -0.1080208515169499,
          1.1825586562987112,
          -1.120096072215206,
          0.377220938664019,
          -0.25705584557222627,
          -0.4208574923991147,
          1.0902639191881822,
          0.37678608581145107,
          1.167321082770238,
          2.619377399699231,
          0.1115751799607544,
          -0.3266446297631061,
          2.1111302517360975,
          -0.8207609963923261,
          -0.03379122558639761,
          1.2099461157436504,
          -1.091078031791219,
          1.603664583044717,
          0.94190456770701,
          1.5111557546322334,
          -0.6541431656119688,
          -0.677146247582849,
          1.2757257873651453,
          0.4819635588705428,
          -0.7119632387042715,
          -0.925460321580159,
          1.4405934494600412,
          -0.38852551894383597,
          0.36200621625861273,
          0.45278461125582714,
          -0.5740570731740824,
          0.717347540381428,
          -0.3154025647212963,
          -0.04832259045177461,
          -2.3915945326368435,
          0.8439174318135625,
          1.3821931065638955,
          1.3040788961475553,
          -2.0703497552813377,
          0.41701715333326317,
          -0.9595654171472069,
          -0.22221162977013242,
          1.198565484330506,
          -0.18275548497838479,
          0.4601005026616005,
          -0.1819147690495628,
          0.01383042564498667,
          0.35473747613359446,
          0.9247142154206737,
          -0.6366211963530851,
          -0.8849639153748252,
          -0.8578707607930075,
          0.8481780233052824,
          -0.4919204682126709,
          -1.0917876821949457,
          -0.8665364080492121,
          -0.829885458074469,
          0.6102548267665248,
          0.9507587635453227,
          -0.32830679184780187,
          -0.5796568976050226,
          0.025751196860926313,
          0.36075067717382664,
          -0.6939108004523488,
          2.380883240055016,
          -1.375740292649016,
          0.7602913298794663,
          -0.4335800843882645,
          0.041639484932096425,
          -0.9695370057963736,
          -1.6960709625418187,
          0.23412275926331097,
          -0.5359984691763159,
          1.2366515384654564,
          -0.72359549248529,
          -1.37962826430378,
          -0.07129982435032135,
          0.3594098807968462,
          -0.6968446085671282,
          0.2954334977777223,
          0.9349833263642747,
          0.998152018192043,
          -2.078575040156901,
          -1.9777909756987744,
          -0.17447001864782954,
          0.5956869250740121,
          -1.9826835685689137,
          -0.24234827327600006,
          1.8004923086532598,
          -0.5247618216873561,
          -0.4991620849064127,
          -0.17787905347971544,
          0.21360481671970388,
          -0.23965029290791104,
          1.2187583519480532,
          0.41729431791314586,
          1.7327503789467082,
          0.39860924560803657,
          0.4064487738599096,
          -1.1811199354265551,
          1.196567344411335,
          1.5993962538732849,
          -0.17291451957965928,
          1.182266546258266,
          0.903369550005529,
          0.6642606258487229,
          -0.7663566295771078,
          0.528930584857256,
          0.5912460967124876,
          1.816344027615981,
          -0.48428291506927457,
          0.13132205514607997,
          -0.03973057191265489,
          -1.5635812513109428,
          0.9773672589052207,
          0.8840211783248372,
          0.05707140464302286,
          1.0973692539448312,
          0.5964296657973418,
          -0.4940077388908989,
          -0.4478469761050677,
          -0.5740081636944374,
          -0.5844078359145185,
          -0.7803984833749347,
          -0.46636137524668553,
          0.007984370399890533,
          1.173505368552129,
          1.003325852745704,
          -0.23841217675514834,
          0.9044245438098814,
          0.09052778078414726,
          -1.1768339249690691,
          0.4176639013203792,
          1.8822722392917357,
          1.2284470911549197,
          1.2906583781322687,
          1.021062763790283,
          -1.2186186471314515,
          1.1926496207603237,
          -0.227188125604269,
          -0.18047403082491276,
          0.41521064543681385,
          -0.00198006995436695,
          1.0880623318974323,
          -0.11937895363624919,
          0.5879461443563174,
          1.9734529515439134,
          0.8031484958026784,
          -0.33601698039282374,
          0.5719157293511389,
          -0.5349729430814832,
          -0.8635711137448775,
          0.28085309406284686,
          1.1248285169948784,
          -0.5520908871013958,
          0.7871270109251995,
          -0.27001871280239104,
          -2.0555160567515083,
          -0.4549963141528204,
          1.193480737164374,
          0.6647273837997433,
          -1.7216351252485416,
          0.025674767150815143,
          -1.3531400651437349,
          -1.0813459654017723,
          -1.5105568292480331,
          0.23282320707828869,
          0.7439843550048392,
          0.2625179533271903,
          -0.3258667365509017,
          0.17698637158316488,
          0.6194989424498346,
          0.9741280714501276,
          -0.6804889612225948,
          1.1381287142592642,
          -0.8525148497003802,
          1.0808185630962632,
          -0.15875589638796117,
          -0.2701724237521375,
          -0.7182595831421843,
          -0.19864033477089602,
          1.0454099097386758,
          -0.3304411958169905,
          0.5183253516071563,
          -0.43466354846695204,
          -0.553661896499448,
          1.2289186808579886,
          -0.42410450859244725,
          -0.007417776446561193,
          -1.3650982112973626,
          0.7527451583873153,
          -1.9448544412291133,
          0.111942818337635,
          0.7794975937243019,
          -0.2058274936531856,
          -0.2665898528535607,
          0.45048605833906413,
          0.9440283835253238,
          -0.1756262211623761,
          1.1085141343487732,
          0.10532819059422893,
          0.6001475838881162,
          0.18947324356601505,
          -0.797202449034645,
          1.8057358768665326,
          -0.7725655824813297,
          -0.9604472489616326,
          1.0210619609383913,
          -0.09398746784068297,
          1.4037008755151943,
          -1.9916081824219098,
          -0.3041161942918445,
          0.6449344903928707,
          -1.4377436975054458,
          -2.854898348020883,
          0.9554211431733414,
          -1.3157034210933272,
          1.131296794213891,
          -0.9725777345381691,
          -0.3167953455138293,
          -0.8341898362128753,
          -1.5597202737547613,
          2.225002287239809,
          0.6162772516655851,
          0.5607813762055376,
          0.042555258190819456,
          0.6836405923400644,
          0.8195332859159062,
          0.8857559596835567,
          1.0789437383379745,
          -0.4570539053216243,
          -1.6759282960490502,
          -1.395663061153307,
          -1.9317790043899616,
          -0.6606438726456487,
          0.6644336425523241,
          0.33466214214751255,
          0.38281296181305163,
          1.7788289617180402,
          0.8344110122985331,
          -0.5888374262902626,
          0.3725430484202877,
          -0.4505970336840346,
          -0.5245431584662529,
          1.509512590190122,
          -0.5332781211262724,
          0.08822661942776529,
          -0.7788110967756611,
          -0.3124420610528633,
          -0.4930128954703697,
          -0.22356543013453775,
          -0.8493982842085416,
          0.38683052735003814,
          0.6005944292659534,
          2.4691453030822745,
          -0.004782381111788935,
          -0.4304510287929226,
          -1.8759353739564881,
          1.210914412238469,
          2.019289884362341,
          0.3616728752657935,
          1.4461129763991964,
          0.5499308009780699,
          1.3073914458527116,
          0.17012032212733422,
          0.07256062998596242,
          -0.12807756186709823,
          0.6069887641815936,
          -0.6804733959869141,
          -0.5753827099743982,
          -1.731563967855412,
          -1.629803790432608,
          -0.1532358930787495,
          0.09818929507358884,
          -0.7482575412944625,
          0.7016581017916643,
          -1.239764479327604,
          -0.7935945023499867,
          -0.40732569122008594,
          0.6320905666061836,
          -1.041717239350029,
          0.8344871160415444,
          0.5038571465961764,
          0.700698617212064,
          0.012397245472072181,
          1.0469890603850647,
          -2.4179942142151782,
          -0.10719817341250955,
          1.3073422268298223,
          -0.394078866984992,
          1.662986019689017,
          0.41713731379340246,
          -0.22867396248908434,
          -1.9822904996146002,
          0.23586911743157676,
          -0.03906682569860976,
          -0.625691800579214,
          0.11248656678768552,
          -0.5060079709370368,
          -0.155886680988086,
          2.2349497014100437,
          -0.8519471208529564,
          -0.2307362627661558,
          -1.9548631526986575,
          0.7722854777044162,
          -1.1397112485822398,
          0.1598798139537397,
          0.5611070798263372,
          -1.6975292189817996,
          -1.1700972337103286,
          -0.016805870590801113,
          0.08154871098857838,
          0.9955843491117767,
          1.272178611155095,
          0.229951127124336,
          0.502501767540986,
          2.116296080669068,
          0.4997700232259598,
          -1.2583372189392528,
          -0.15934613092248787,
          0.13613028010034361,
          -0.9170312379979081,
          -0.984423810021442,
          -0.6967002882955794,
          1.048522545940373,
          -0.5205374459479339,
          -0.44567091728787744,
          -0.38282663033413644,
          0.048228927447765295,
          0.208561710726164,
          0.48982259710610615,
          -0.38894043288145724,
          -0.41691919217030027,
          1.7329252064497014,
          -0.3214494002387769,
          -1.921189450893121,
          -0.34773622719809066,
          1.2663738506790658,
          -0.6544968037745399,
          -0.5538432997624618,
          0.3207289130313743,
          -2.332742961761917,
          1.0966138928222187,
          2.283350947566283,
          0.280532348149601,
          -2.4231576456698325,
          1.1534929362569148,
          -1.0935898202896537,
          1.4095562575500074,
          -1.3100235837556298,
          0.32935920323484197,
          -0.14281293165270498,
          0.6325812546731922,
          -1.5039330298007338,
          -0.3279222852679739,
          -2.70333575173905,
          0.21433392306819074,
          0.19030115715961826,
          0.5429125790684687,
          0.8001033885573443,
          1.1483964073061608,
          -0.054580443061213194,
          -1.224229448494428,
          -0.8587309773369877,
          0.8823083634758195,
          -0.03626384857610675,
          0.6047297442589703,
          -1.0235891018167338,
          -0.052547193575969015,
          -0.45722383896020113,
          -0.773145651478684,
          -0.04269542451366998,
          -0.46958610775267573,
          0.5770990997272948,
          -0.9641420181581055,
          0.08195141855047339,
          -1.9456365627432668,
          -0.5672493776971841,
          -0.22478485695629097,
          0.21473700201788326,
          -0.7820384473594786,
          -0.2974559497522951,
          1.2856666860876964,
          -1.8390077366766915,
          -1.3019654983143636,
          0.15949174120485712,
          0.92537623171937,
          1.4295360056930584,
          -1.0101627010563343,
          0.6118698005092154,
          0.27758824378759406,
          1.7296497862711473,
          1.0804942351897404,
          -0.3929579901737725,
          0.8009149305879922,
          0.02612213770491798,
          -0.27158874426081736,
          -1.056194008032588,
          0.8225715057821306,
          -0.6524590577324584,
          -0.14867268798105945,
          0.25926080124202777,
          0.46853101897444577,
          -1.80975152014962,
          -0.5481010768773106,
          0.20527654876191048,
          0.16719329552326265,
          1.4840170240573851,
          1.3356030533022767,
          -0.3677255497182877,
          -0.3459273160720455,
          -0.007386049652660808,
          -0.16382443862925714,
          0.8636110468401933,
          0.338893592168206,
          -1.225451530460807,
          0.32903955593971274,
          1.71606138384416,
          0.8716477122475468,
          -1.4103736801207523,
          -0.09802375832259765,
          0.7862829463358476,
          2.457613981208097,
          -2.5788086435311093,
          0.8862815039309643,
          0.08676964544209716,
          -0.4892131042985004,
          0.8867271717670737,
          -0.974877069909773,
          0.8813857611124691,
          -1.862757272242469,
          1.008753785764516,
          0.5475556178927662,
          2.080514802654304,
          1.6330030486107332,
          1.265874071225509,
          0.18491665585531425,
          1.3405569987445634,
          0.7463567575769356,
          -2.3415281287314986,
          0.4687291004018643,
          -0.4995663377546732,
          -0.5492906088089761,
          -0.625397722170518,
          1.800774130977427,
          -0.9991470735024377,
          -0.1770915886301593,
          -0.9959174356282895,
          -1.064473740090723,
          -1.6717506523087344,
          -0.026245623756728162,
          0.4822484635005369,
          -0.4985148168132472,
          -1.4813433315754956,
          -0.5517703401555623,
          -0.24747299338510267,
          -1.0654845241969642,
          -0.9949604042551639,
          -0.7960096496599853,
          1.3209678531740867,
          1.2239806288226907,
          0.9440665286768432,
          1.1828098215934209,
          -1.510375395656219,
          0.7782164022851481,
          1.2448485697269918,
          -0.4933794581439353,
          0.4474401526854192,
          -0.9418260993637668,
          -0.8149779933972389,
          -1.8110900615633911,
          0.6331518718835187,
          0.9645918181555554,
          -0.061210944634818305,
          -1.103426783975047,
          -0.1359774246944414,
          0.38507484979264384,
          -0.6391193089103937,
          -1.3316142411450778,
          -0.15974631768096403,
          1.0456853393278043,
          -1.2662179592509604,
          1.6313344908764065,
          0.33310134947253817,
          0.451174404372594,
          0.7258793848141074,
          0.9781592702237368,
          0.029224435361392073,
          -1.1201417857545672,
          -1.48999157078779,
          -1.52206248738977,
          -1.5866643833987208,
          0.45943275809354034,
          -0.4445198207764939,
          -0.7156106569095722,
          0.550297132931224,
          0.9965800388479044,
          -1.0671042357419884,
          1.703814634656487,
          0.12862446775908787,
          -0.72042900975028,
          1.733026516075144,
          -1.266896682839602,
          -1.6467930701794833,
          -1.0132782924117696,
          0.36994461995517103,
          -0.44871327275606576,
          0.9935496135032181,
          -0.7057598026739381,
          -1.2701199462275787,
          0.9343909562521142,
          0.7530839984565115,
          -0.8385385539877381,
          -0.07755402638625473,
          -1.4903425756804842,
          -0.055050811411817877,
          1.3911454780175474,
          0.11227014342176724,
          1.2056600717319568,
          1.2254028293439003,
          -0.13184031758377754,
          -0.06282947391869086,
          -0.059253482351952075,
          -1.2300622240701595,
          -0.6529314623700169,
          0.40983283918353874,
          0.6202185555173818,
          1.6048686526297908,
          0.5986999982330765,
          2.7693837672259294,
          0.18126062982330043,
          0.08130198195713638,
          0.06391028584836511,
          -0.04350385071537177,
          1.025351672536392,
          -0.29801496895086116,
          -2.405220751713765,
          0.4804021350328186,
          -1.0264061556595514,
          0.1077630926812578,
          0.026877885882814454,
          -0.7097749753749347,
          0.05079102358619811,
          1.1583825826528837,
          -0.03684774174941383,
          0.24866888134332418,
          -1.11301073290521,
          -0.3827611464147158,
          0.1557914742774703,
          -1.3631954167217273,
          -0.14083490655390005,
          -0.21923423098244166,
          0.7694303623928017,
          0.06878597652962369,
          -0.661749226741707,
          2.3235037973200487,
          0.862949053177203,
          -1.2827301296993807,
          -0.8309977602085322,
          -0.5851593030765243,
          -0.02864795626610706,
          -0.07729167885932721,
          0.408236211957614,
          -0.37844953519493846,
          -0.009551243285603592,
          -0.3587633353916176,
          0.14545586289492332,
          -0.3881290042006176,
          1.0356877857820195,
          1.7058671664311056,
          1.622325545201905,
          0.165532694132968,
          1.0657434218901747,
          0.06764257397618414,
          -0.8832535888108798,
          0.9008688965630756,
          0.8601926880847597,
          0.19692879597700355,
          -1.5043690466600277,
          -0.3646488684346444,
          0.005040275394178747,
          -0.8501316444900234,
          -0.47491448391126617,
          -0.5150557722897267,
          -1.6041455095832753,
          -0.927523129996315,
          -0.44572655343373085,
          0.40357958161623503,
          1.2242767659127434,
          -0.6486619518940894,
          -0.14386136327000898,
          -0.2796686870540148,
          0.7141084437814894,
          0.383877531573112,
          -0.5471644994553316,
          0.06306447294773632,
          -0.7239630350068966,
          0.22336948645197602,
          0.543478673335813,
          0.6759047424909189,
          -0.10353672721053608,
          -1.0069323461533388,
          0.4780765430642611,
          0.5360192163747783,
          -0.07585942906914486,
          0.2720677765873192,
          1.5887095081737324,
          0.8846579518025123,
          -0.894867759373168,
          0.4046948814401597,
          -0.25217105199609224,
          -0.8877835046217515,
          0.5588544564987117,
          -0.20614759001785174,
          0.26101539592846434,
          -1.6210661060137979,
          0.021366902709676113,
          1.1111018550057161,
          0.19422995560594825,
          -1.5152763873493058,
          -1.5763064069985364,
          -0.5468579604741626,
          0.047216736241846156,
          -1.0943817492828607,
          1.6338121690832184,
          -0.7611620130254235,
          -0.00608609892767533,
          0.25856801127707124,
          2.522690496956681,
          -0.7908819897454381,
          0.4543728288400314,
          0.18258186245204241,
          -1.0414986635631864,
          -0.4362333350820449,
          0.18483179937933755,
          0.16215939424950335,
          0.25914918422983807,
          -1.293139474697232,
          0.17805789921871312,
          0.599427549883223,
          2.2526419818200907,
          -1.5409261035020307,
          0.5827941669163375,
          0.11156309151906363,
          -1.4903336263498181,
          0.43302425627460617,
          1.8673541096803798,
          0.6211041200808303,
          -1.0444323828425106,
          -0.1514692873506602,
          2.5116890412484056,
          1.3777436301638721,
          0.36474414995545923,
          -0.1584903394058671,
          0.591459186748123,
          -0.026600307012573748,
          -0.7103107069192749,
          0.9778125322284893,
          -0.45385505816307553,
          1.5294075121702146,
          1.607411085575797,
          0.9646791851758485,
          -1.3983780450449215,
          -0.4409811061664525,
          0.47771665825460624,
          0.8660536506357042,
          0.22129587362222367,
          -0.005534710756927321,
          0.5456735612049392,
          -0.11636812089275275,
          0.4705185292840031,
          -0.907854984226408,
          -0.2523897762459156,
          0.9698463642024757,
          -1.2652819444058725,
          0.20403137138316135,
          0.7040942667786253,
          0.5140177328339119,
          -1.7281502644692333,
          -0.2610396130734365,
          -0.43718153289750084,
          0.13240976315304995,
          -1.760360639084398,
          0.22218218887777658,
          0.27344818886638655,
          0.9296827788140792,
          0.3481809446730489,
          0.022489791785071798,
          -0.34362285495753825,
          0.429031973735929,
          -1.6418320631050993,
          1.0513603279633557,
          -1.1863113461126724,
          0.5214816767616526,
          -0.914737958755058,
          -0.291663675332157,
          -0.43017733630263433,
          -0.4485626798058901,
          -0.5238408353092249,
          0.17232008078836306,
          0.4903097487494351,
          0.6790669449498081,
          1.109667870658943,
          0.5342839976993767,
          -0.32284462369182265,
          0.6320296889362721,
          0.4518213576286462,
          -0.4406389526548206,
          -0.5619622363277085,
          -0.1976034038700527,
          0.10056880952387508,
          1.2494403667258889,
          0.36252609402311414,
          -0.7328607789612843,
          -1.1413479669289133,
          0.6387029211570731,
          -0.002267159003717601,
          -0.42759659774144043,
          1.1221784302164464,
          -0.17225294421667545,
          0.06803722977773154,
          -2.1693544510960083,
          0.3751721637515596,
          -0.02396195676467065,
          0.16056481832871047,
          -0.12760468700519131,
          0.4964251156986192,
          -1.969601713795734,
          0.022332201668904518,
          -0.21682422247896818,
          -1.1208549329897073,
          0.9383325757725238,
          2.186461679726421,
          1.036950789784145,
          0.9069136885729824,
          -0.9655381224807246,
          1.8313664243636512,
          0.41526189191433105,
          -1.0425042682654733,
          -0.5075980553747083,
          -0.6453494301312555,
          -1.1521058368497736,
          0.19048710986331002,
          0.8213569651630045,
          -0.6343582644168075,
          -2.1548144145349393,
          -0.6539582437720404,
          -1.1346305445952591,
          0.5309530816987225,
          -0.39978273864069475,
          -1.0905390091698537,
          0.293165862981311,
          1.835961784104462,
          0.23257691142002024,
          0.5818901511928595,
          0.18082578607924893,
          -0.18024173343473335,
          -0.5376094880442237,
          -0.7333915946028763,
          -0.6604276089004403,
          -0.8372016455825968,
          -0.7528543342111759,
          -0.3504814144613986,
          1.1976162315484153,
          0.6276312299057252,
          0.494947045690501,
          0.5590280827536644,
          0.5441665847662951,
          -0.1925854052702525,
          0.3565161361146732,
          -0.7118912269143787,
          -0.23467144021251807,
          0.9663683286833397,
          1.2492234440210854,
          -0.16860781129577257,
          -1.66863771426942,
          -1.3929371811408604,
          0.26843161203715193,
          -2.015503453469099,
          0.39124513244946235,
          0.3384081338384948,
          -0.6274843532094307,
          -0.625123902142225,
          -1.1706368311951723,
          -0.37314135460885706,
          1.2824835972890296,
          0.9292810749417227,
          -0.6257242793250164,
          0.5053625277163821,
          1.966386397280329,
          -0.4200267167947735,
          -1.0631578679475182,
          -0.5175451998802876,
          0.5165104564052995,
          -0.17369563062023385,
          0.31005475882537387,
          -0.48287678636339504,
          -2.1114194902051113,
          -0.5075712546007143,
          -2.034026207590505,
          1.2330738413127464,
          -1.3881274604725238,
          0.7666245430476967,
          0.009577337513967565,
          0.7481578860270904,
          0.3835272648988568,
          -0.4231483989999734,
          1.2302326831292025,
          -2.1839337765770757,
          0.3713770015434259,
          2.3484158905197354,
          1.6407595965932191,
          -1.5663065601927162,
          0.9726631197364838,
          -0.49588217049248645,
          0.2816613809951768,
          0.40222768957972865,
          -0.09432253713957048,
          0.05561634894760411,
          0.6775342532710379,
          0.5799483915260176,
          -0.08895687107176492,
          0.02236901296468301,
          0.647552853240096,
          -0.5322986939573993,
          -0.5171863144507147,
          0.8763412315693788,
          -0.7112345982758966,
          -0.3343391991399207,
          -0.1497122156489644,
          0.37784558987547623,
          0.4180415178361407,
          -2.2094181977322838,
          -0.2360959222616777,
          -0.4619325506329993,
          1.5500419865275181,
          0.6903026267999859,
          0.03148753190956024,
          2.457398131673368,
          0.528903885097127,
          0.5519003350167755,
          -0.38213517777201056,
          -0.7494355879241911,
          0.0056821875266434676,
          -0.4480057290374031,
          -1.463436980479821,
          -0.35404885756702736,
          0.06410310034281838,
          0.4603358871312974,
          -0.14483178515631429,
          -0.4870464098176705,
          0.3778839779311189,
          -0.3668253290074634,
          -0.21870595884361377,
          0.9243491534207594,
          2.365146756844672,
          1.4059064983094216,
          1.1297543021404683,
          -0.43722138715027553,
          0.14946760761673908,
          0.5998179485889967,
          1.135348625254622,
          -0.9646575352499164,
          -0.5542263237847309,
          -1.377401097400837,
          1.2136108610944683,
          1.2724713449899514,
          0.22315688781858423,
          0.5506237769739095,
          0.3917597696668971,
          -1.8002225796038347,
          -0.9270755020494954,
          0.09145258121993786,
          -0.8273530978717949,
          0.492249589045519,
          -0.4854932305438884,
          1.5007040172398527,
          1.4265623407272405,
          0.7978282919004166,
          -0.37678378178733457,
          1.2804440434623743,
          1.1822921403944264,
          -1.9357547241195552,
          -0.4314635164792258,
          0.9397311347634366,
          0.8095974700999526,
          1.327888327503908,
          -1.529172215556727,
          -0.32134718656089845,
          -0.09980929174274816,
          -1.2270234483398226,
          0.7088868022651933,
          0.400253343889457,
          2.0562831244503292,
          -0.7484924472463697,
          0.2788651562212278,
          0.9249927701746845,
          -0.26777064908775655,
          0.6974779389455912,
          0.876264558621664,
          1.524653249543993,
          -1.307625366188865,
          -0.7175552397329447,
          0.1535246679951575,
          -0.3756768821153787,
          -1.2304467709712719,
          -1.690385473201944,
          0.7274068489499333,
          1.4166691274044827,
          -0.2126863539859458,
          0.5061786755643788,
          0.030091178404249887,
          -0.22933786125972974,
          1.6092549885338325,
          0.8601075616368927,
          0.3611846650973671,
          0.7814287322141663,
          0.4009915138492829,
          -0.418991539813529,
          -0.3559379433686419,
          1.527588781676457,
          1.1747456523976956,
          -0.04442448759733625,
          0.5793385411758214,
          -0.1214376605292966,
          0.8297680090250974,
          -0.6379401326490698,
          -0.10007684022325712,
          -0.36134037265564106,
          0.3528590502989586,
          0.8131358025858786,
          0.4926600678640731,
          -2.047064377642871,
          0.6423878858738427,
          0.15610470979528368,
          -0.07301736702062885,
          0.8556920643961767,
          -0.5319371490794739,
          0.29061569478494453,
          -1.2572590210577712,
          -1.266708278511166,
          -0.5541380658059444,
          0.14375393265535646,
          0.6129324372343624,
          -0.603138000591343,
          1.902718294852255,
          -1.6911412885425248,
          -0.29609997672253385,
          3.018005611829195,
          -0.9793675370394771,
          -1.5325915022274657,
          0.5095105149884779,
          2.1852473509716157,
          1.0510917828347606,
          -0.507202741504318,
          -0.8433531470674025,
          0.7907908421795302,
          1.6954085605178575,
          -0.9774345414234236,
          -0.7028193657482505,
          -0.33058978679870854,
          -0.3171052273588424,
          -1.0874217320706607,
          -0.8264491997046168,
          0.2413523177941144,
          -0.6442215677104178,
          -0.3535709007967119,
          0.05371363109921803,
          -0.789228708082772,
          -1.7501038425934599,
          1.9431173550502345,
          -0.10925926626508813,
          -1.2175716507806689,
          -0.7234948431835974,
          0.2892435895396273,
          0.13717062818734593,
          -0.13654414245367494,
          0.22608887638919736,
          1.090322201180073,
          0.9124584948865578,
          0.2609156454239467,
          -0.15210091440131523,
          1.7194167582792892,
          0.8047485334853163,
          0.664530085635342,
          0.6803644615584991,
          -0.7716776846888278,
          -0.1012272709148546,
          0.21665930313328502,
          1.2492502643550107,
          1.6089889668463326,
          -0.9264791981114625,
          -0.2571167823618376,
          -1.4167740378451363,
          0.2434282031086699,
          -0.5017963016455053,
          0.5027919479281612,
          -0.053411577654852715,
          0.20025989293991614,
          0.35302402624476154,
          -0.055767082255005436,
          0.6363287498722139,
          -0.39642599201553225,
          -1.4981300770064003,
          0.6186173063579935,
          -0.7482660343896812,
          -1.0085868534390954,
          -0.16758334104998013,
          0.11116713186336204,
          -0.46255778085534244,
          -2.872062311352259,
          -0.0997158679678458,
          0.02834922048975062,
          -0.7164833278340755,
          1.1545959170539917,
          0.6390747733066049,
          -0.8010052447161023,
          -0.5895838587621062,
          -0.8624590048097815,
          0.4239157266599108,
          1.4347367442520298,
          0.07553514047005304,
          0.2037979819611345,
          -0.40800945093146296,
          -1.0011339342059309,
          -3.0167273135303105,
          0.3559309757673186,
          -0.47486078655068886,
          0.6533221817063009,
          0.09420773524058369,
          -1.478758712367734,
          1.645134311659078,
          0.4284400303799789,
          -0.13505511028856387,
          -0.6186446101228326,
          -1.6694232323732496,
          -0.030194159108290243,
          0.5737385112083608,
          0.6533564810192417,
          1.7744442858786709,
          -0.15433687710831936,
          0.2192609083718096,
          0.4691364795946648,
          -0.22226709482777846,
          -0.8829514418299087,
          0.31283635786238045,
          1.2385695398423682,
          0.9941149718551857,
          1.395251693870332,
          -0.35080960269771666,
          -0.03680139881152776,
          -1.767784172373028,
          -0.47784153070795377,
          1.918566833405833,
          -0.14077392436166836,
          -0.7863747159939448,
          -0.7400791362780665,
          0.6155049583034351,
          0.20122927772550933,
          -0.283454151621881,
          0.3361876371017398,
          -0.5803178644288538,
          -0.44787036935155417,
          -0.38647056272099484,
          0.4846157933614814,
          1.686916541740438,
          0.46137685333351025,
          -0.4725472552934201,
          -0.1490798127640228,
          0.35197922105218815,
          0.9793044219404252,
          1.0774095879528054,
          0.22849097985423733,
          1.455961518012795,
          0.11016140734307946,
          2.38815675891359,
          0.9220010839972901,
          -1.265653980834226,
          0.4282199153699222,
          -0.0305435193279655,
          -0.8891617390353279,
          0.27445307240705163,
          1.8286730514260443,
          -1.700701589787458,
          0.4037930391275171,
          -0.5250255951397129,
          0.7335865070320869,
          -0.7528827196144879,
          2.3770965453099846,
          -1.0698065261493959,
          -1.7581471897558925,
          0.638373923405954,
          -0.17375686748615543,
          -0.9286042570447102,
          -0.07789141638827635,
          -1.2113704568741173,
          0.758769732947938,
          -1.3334390554651994,
          1.404915628324743,
          0.04680414740407083,
          1.4877175001402,
          0.7479512058179825,
          0.01432806397625352,
          0.0002724740818849277,
          0.3785440571622839,
          -1.0167862688478408,
          -1.5322168207628342,
          -0.8381871972100947,
          -0.06212835084395802,
          -0.2780711731843563,
          0.3213955621178995,
          -0.6593798584366685,
          -0.21582881998539144,
          0.9986580961265968,
          0.1480968833860352,
          0.3306078557497522,
          1.6287729568071425,
          0.4806792485049543,
          0.28671784293529606,
          0.0031555215559778437,
          -1.4815150046489562,
          -0.33039025341706635,
          1.0721947583480615,
          -0.940700727264688,
          1.6748568410155507,
          -0.4454839322170559,
          0.30994304269379724,
          -0.9178001546974895,
          0.040463062395790866,
          0.7634360044964033,
          -0.37404159377693014,
          0.8050566499736129,
          -0.5245213804151263,
          1.4881864717102278,
          1.5500918189727761,
          -0.5990058133649694,
          0.2600751259863158,
          0.3588106151596639,
          -0.44855816011954835,
          0.024937204749376014,
          -0.08453973484133226,
          0.10870326576659244,
          -0.19891546149632056,
          1.0177127341070462,
          0.4199623717797037,
          0.49965861414273416,
          0.015630085842991845,
          0.18542892242945355,
          -0.04596739340512173,
          -0.9724767793320453,
          -0.16912869779389972,
          -0.8551582851956693,
          -0.94280093590087,
          -1.6441371179418727,
          -0.600529124904285,
          0.8835523626476334,
          0.6644174688927904,
          0.15093371311854167,
          0.7078965676373468,
          0.45916636392478116,
          1.089060433268145,
          -0.046476286532185634,
          0.6457603830998805,
          1.6342295057526024,
          -1.388750898801361,
          1.1666368950337245,
          1.2578296506124378,
          -0.5904418960137253,
          -0.8024489299731429,
          -0.25960406447922346,
          1.1185146074662096,
          -1.031548007004498,
          -1.526972644865215,
          -0.4366819151697646,
          -0.12182789161073085,
          0.12255828381837251,
          -0.3357009784265644,
          -0.2631644558084074,
          0.25396066673688045,
          -0.8292743120533715,
          -2.387159232688254,
          -0.8724570815852608,
          -1.6299037977490443,
          -1.8131449814171898,
          -0.055128311403043875,
          1.1631495467581408,
          -0.7039674401640057,
          -0.2914044020620111,
          2.04262960455742,
          -0.16991422121894653,
          1.5339738210490987,
          -0.6522055190046842,
          0.6169412078534106,
          -0.5220957025208859,
          -0.5715204401297947,
          0.8690909252734067,
          -0.5953251522920422,
          -1.3538527836818055,
          -0.49981221523655744,
          -0.024500966116347958,
          0.1941775250210006,
          -0.7119922342572237,
          1.9463151539771237,
          0.6447842299120935,
          2.046955644197755,
          -0.36174731180484915,
          -0.8058287066758919,
          -0.028449756753229975,
          -0.9231543371991023,
          -0.09004388185942411,
          0.9310965118301692,
          -0.5822693131431017,
          0.2966562448970346,
          -2.324651722869181,
          1.1539803345688229,
          -1.530284065474774,
          -0.28215158930425394,
          1.4989507939897204,
          -0.8713068293157031,
          0.510488236004713,
          -0.11533358358373828,
          -0.9729697545315752,
          1.1023015362307835,
          0.43031201036813493,
          2.504008208564737,
          0.8985970260456908,
          0.6706351202716309,
          0.38590114836150113,
          0.3225456639759201,
          0.3199017374583242,
          -0.12693468474467492,
          -0.9219512770223398,
          -0.8683785963606323,
          0.4638979454318223,
          -2.169881291805544,
          -0.51204070615905,
          1.2429492376483864,
          -1.2558411620262597,
          -0.26988257345905237,
          1.0982366868098086,
          1.266696491394974,
          0.5473132728415422,
          -0.5350221725260264,
          -1.6633499873257542,
          -0.2564367619889959,
          0.5985433153110883,
          1.366564840162461,
          -1.5603561762613483,
          -2.174102180660319,
          0.5046267772957111,
          0.47423622181076064,
          1.3329773044180138,
          -2.209046479514027,
          -0.5283075022061492,
          1.3847932342141713,
          0.666692478571652,
          1.297263071786261,
          0.41765227415507916,
          0.40372563616750484,
          0.4672442560414072,
          0.8216561239171151,
          0.46856892664152316,
          0.7815994336987873,
          -0.9585393698094093,
          1.3141434931078497,
          -1.5699802622060652,
          -1.7036356801966255,
          0.21119416713201328,
          0.3329823897273496,
          0.7460468760006953,
          0.45039911302259844,
          -0.7568708730707275,
          1.4122323960774763,
          -1.2748472059763951,
          -0.2914687798231036,
          0.006786826495596727,
          -0.06613224759420055,
          -0.5912933020882143,
          0.34856127917482477,
          0.4685203085335662,
          -1.4304387511588055,
          -0.11693834860389271,
          0.4394911152113722,
          0.4455799171378429,
          -0.4715864136494112,
          -0.08805584304443101,
          0.6882641335815096,
          -0.7131822611125288,
          -0.7232891291116882,
          -1.7843914947365618,
          2.003491497956912,
          -0.2024985891582746,
          -0.9813001459929857,
          -0.66632182405821,
          -0.8575557743017063,
          -0.4063804168876254,
          0.058659299269602866,
          0.9642905874988146,
          -0.9419379663218886,
          1.2378903032273416,
          0.2785665111361565,
          -0.1994813105592756,
          1.171171574539812,
          0.3735961201387051,
          0.24507569914483693,
          -0.056676084980390895,
          0.3309274782578583,
          -0.2558727016724651,
          0.9036729984044044,
          0.48691261706803435,
          -1.101489999214051,
          0.5959100439849722,
          -0.562898670871941,
          -0.3772803211893602,
          1.0436456674257257,
          -0.2309125182961911,
          -1.3373082418982118,
          -1.3598049517677142,
          1.1092095596439082,
          -0.23671843337702328,
          0.6567056048249639,
          0.21208353391770743,
          0.279160352520092,
          1.3068838295661473,
          -0.6583704330997523,
          1.4251436493594531,
          1.3697771874384037,
          -0.33252164481699764,
          0.2822250252997974,
          -0.9492175912990827,
          0.2768260591634213,
          0.9526559663101517,
          -0.5667297041246168,
          0.6446720959369044,
          -0.2785273372385245,
          0.42526163089398406,
          1.5980206428164312,
          0.4407813810436922,
          0.04179958266424797,
          -0.07439080188552032,
          0.4769751257934565,
          1.0271628037181009,
          -1.242978420481658,
          0.8507244857505283,
          -1.237903789066412,
          0.4826461738249845,
          0.0005311384899747869,
          -1.2826469544293106,
          0.3526866894095912,
          -0.3083781260998107,
          -0.10324073874905272,
          -0.1990194182104939,
          0.9533693026626093,
          0.08873549418684364,
          -1.9382264325456167,
          0.545989502416378,
          0.07761028241699831,
          1.448644952613549,
          -0.2724928619474482,
          0.32171400692735663,
          0.017727620519469037,
          -2.4455692137190908,
          0.9980120818591407,
          0.22007352865301805,
          -0.7600273862584903,
          0.32489182565162184,
          0.27462522584071786,
          -1.077017261957567,
          0.5334181480544739,
          -0.1350697383916091,
          0.4771404498885898,
          -1.6401715071306222,
          -0.008648408139781264,
          -0.5693131419311913,
          -0.13590770204066724,
          1.0077156584867655,
          0.13772951941369022,
          -0.369330967253572,
          -0.33646251602343863,
          -1.419880752997862,
          0.3625944119502541,
          0.5831279485872933,
          0.7240433887420193,
          1.3916108016833935,
          1.2744360873268128,
          -0.6574966499658337,
          0.7572500496864655,
          -0.06776238258890167,
          0.5095005892279202,
          0.3482933040980382,
          -0.527821360194781,
          -0.21033397262736372,
          -0.2186915034995092,
          1.6659020167194545,
          -1.5327352057979249,
          0.26733308743607465,
          -0.9946351801598098,
          0.8483626131852274,
          -1.4414570638668411,
          1.112322854082514,
          -1.737315315881271,
          0.6157817528789562,
          -1.5500067784189837,
          1.5717260789562195,
          0.8039600822134514,
          -1.4180994144366585,
          -1.8522196491819054,
          -0.8228345998847685,
          -0.24875770091201913,
          -0.046767120207886585,
          0.3739681874437178,
          -1.5538679629665955,
          0.8437043317628746,
          -0.23497056177030762,
          -1.3171829434634743,
          1.1275182326625255,
          -1.2538269665497952,
          -0.9598640830034673,
          0.08709151015401231,
          -0.46556522441051207,
          0.471900329732507,
          -0.9972113231657076,
          -0.1859401466162655,
          0.2933115071983343,
          -0.29609076470223933,
          -2.137205160371453,
          -0.16290298719550464,
          0.1175431388390694,
          0.38131143002079787,
          -1.2160931992093031,
          -1.5763783346904607,
          -0.3018296049319007,
          -0.351820019775747,
          -0.440908919152182,
          0.1108084945907711,
          -0.3742266357705766,
          0.3193925113689511,
          -1.2524140082106248,
          0.6648321106971932,
          -2.630901329761073,
          -1.5486281141488598,
          -0.017278880465426385,
          -0.7474679747620167,
          1.017557409873844,
          -0.9654790081912125,
          -0.05990198323964379,
          0.02307446530817293,
          -0.21867304912736307,
          -2.6419112776071243,
          -0.7629540630680254,
          0.22868371489690642,
          -1.0096955539505044,
          -1.0213554839205399,
          -0.32202022725414303,
          0.26848199346065527,
          -1.0154979620379245,
          -0.5842804843879867,
          0.05811683097557324,
          -0.08638875647792382,
          0.663025693942044,
          2.2434524586800393,
          -0.2424765985124236,
          -1.0494952720606276,
          -1.212528498075953,
          -0.700459815311009,
          -1.342086569860673,
          0.8446902832120969,
          0.8282384723771903,
          0.20962006878491135,
          -0.31534448850276614,
          0.807559163722302,
          0.6972548808392887,
          1.110718178652621,
          0.27796318249363755,
          -2.1399079767732654,
          -0.2867305401767441,
          -1.315703580748265,
          -1.2053200335060874,
          0.40771507033916377,
          -0.1428537030685021,
          0.5460308745600074,
          1.3699561145961219,
          -0.17910430480231992,
          0.4598082596462465,
          0.1209347757883767,
          -0.9558714502425146,
          -0.28752927276316326
         ],
         "y": [
          0.8391261345401889,
          0.28386848875477466,
          2.016274641792089,
          0.6329033070008699,
          0.2994067926588254,
          2.038884510517576,
          0.10217687708875828,
          1.2795369095628284,
          -1.263420725144901,
          1.1567092650527744,
          0.9446177964550488,
          -0.07313818237446053,
          0.785652111410313,
          1.2495346551276552,
          0.6779532764998258,
          0.4672893506982631,
          -0.6020488893289507,
          -0.6211788534063699,
          2.0113014508905835,
          -0.6638545736696756,
          0.5193287705538967,
          0.6874847744437994,
          -0.06792051391228554,
          1.0603328157921568,
          -0.7564674642770308,
          -0.39044917544139723,
          -0.698958396800229,
          -0.2313262338631616,
          0.41375708472174966,
          1.842994851087152,
          0.8590083530308661,
          -0.33647012004697774,
          -1.8320084216347445,
          1.1183392593441344,
          0.6465748688292724,
          -1.8365609172899162,
          -0.4265123107902057,
          0.1317747272086197,
          1.549085431849005,
          0.3649127429505807,
          -0.2151145916810905,
          0.2567487747471214,
          -0.37386064184621953,
          -1.7373820263818773,
          0.09516045632655842,
          -1.3384535433146192,
          -0.20824100310666238,
          -1.5548389555690876,
          -2.3015081853214983,
          0.08909735896215142,
          1.0769306283827518,
          -0.36751435178512337,
          1.1399434430229676,
          1.2283293054814208,
          0.2765566277049431,
          2.948246620247744,
          0.6404172443413432,
          -1.8024277338738743,
          0.33602978510926285,
          -0.37679894539288505,
          -0.8854380355867004,
          0.7193389124858192,
          -0.9057268464449241,
          0.9917085710694514,
          -0.22453039645644812,
          2.2732015616150902,
          -0.14907077900051954,
          1.397402519459202,
          0.8456094430132947,
          0.4981166052257917,
          -0.3754780815221316,
          1.5819938325489007,
          1.2593123255169003,
          -1.2899582432215686,
          0.5388753664013333,
          -1.2235495374647962,
          -0.4775663410896127,
          0.8707387533665236,
          0.9577383397076498,
          -1.6882731239834634,
          -1.5326542809059789,
          0.3439688877793179,
          1.7569028158898345,
          1.0262478033491287,
          1.4608742134160735,
          0.4623153123139565,
          0.03342790407460743,
          -0.450411936680648,
          0.022818410427684063,
          0.708926336822918,
          1.3984789778878317,
          -0.2724859320335554,
          0.24411963369571227,
          -2.0973268817905586,
          0.15411243422226034,
          0.16573750305956908,
          -0.6270101970898243,
          -1.7641592803617037,
          1.695771384737224,
          -0.13063449059828225,
          1.058825360635597,
          -0.7579734678867206,
          0.9853465077032203,
          1.0846062658611948,
          1.2197804040209919,
          2.016450417112615,
          -1.020557773619034,
          -1.7782626926653664,
          -1.3760502903402643,
          -0.41523628607354485,
          -0.12630989112910151,
          0.6195341019263951,
          1.8279296644720837,
          0.8231645536539886,
          0.3888521486516396,
          -1.4037653620071167,
          -0.9543229875649976,
          0.5648575176930285,
          -1.2716272678442744,
          1.0192846964609066,
          -1.0253802617941268,
          -0.0032827074037399873,
          0.25696743952511125,
          -1.9902916620225044,
          1.2261769227222086,
          -0.6536341730834891,
          -1.3803387011805897,
          1.3263012487387733,
          0.8217055118132908,
          0.7091369637471249,
          0.07011030449406282,
          -0.5449589880657915,
          0.9575270042645831,
          0.8788539967069585,
          -1.0371412073541242,
          -0.6372444047883075,
          0.6713041297361666,
          -1.2134330142732703,
          0.8337972493986002,
          0.19037856117453658,
          -0.7588928306390259,
          1.272647892359368,
          1.293076798943689,
          1.6525730975274786,
          1.991783717347733,
          1.5727395749728554,
          0.33038163644762286,
          -0.6665228317819333,
          0.9111976808150142,
          -1.099570079130264,
          0.821252096827566,
          -0.31217058608448467,
          1.5159785030566992,
          0.09944090594864777,
          -1.4053729029291144,
          -0.9442026019869,
          -0.9648327959252336,
          -0.5476508756584589,
          -0.21280215805260763,
          -0.4951520947797504,
          0.27779596548617447,
          -0.020370763837972452,
          -0.11444314016733523,
          0.13806033903586845,
          0.05114940973796903,
          0.38448407419926595,
          -2.2467473827748745,
          1.2437342968260603,
          -0.14288947935350416,
          0.49669736671284137,
          -0.7697688451360237,
          0.49482863028732854,
          -0.22294463552164376,
          -0.41014089351631927,
          1.108130763835465,
          -0.3709195223623139,
          -0.6142474447742107,
          0.18701524371953931,
          0.48349357874988086,
          -0.5950786582597096,
          -0.5203323058148036,
          2.0659301362804854,
          -1.1940741901944258,
          1.1648439469065244,
          -0.39547693232579134,
          -0.9592454738144799,
          -1.3372053400393256,
          -0.7067037826923788,
          0.042080573277755454,
          -1.0376918154850816,
          0.43510219211457035,
          0.3830838326930086,
          0.12138360795566165,
          0.9291855232225285,
          -0.4454753023934772,
          1.0351766746824849,
          0.5159157853897727,
          2.341278201543335,
          1.7302060000107324,
          1.213785192896522,
          0.7780404542621103,
          0.5782393721783569,
          1.2888630806502828,
          -0.05880341167714823,
          0.8882491745959737,
          0.2319699229605731,
          0.2281830074092922,
          -1.605036663772805,
          0.2279442614144744,
          1.0599415620454422,
          -0.021874984058960194,
          0.5251883661873437,
          -0.3977127269649456,
          -1.3836618584834521,
          1.225333504745777,
          0.34521586486137085,
          0.12665218001254874,
          -0.7027207405275926,
          -0.931011863244919,
          0.9791441403804254,
          -0.5697088576446216,
          1.6599577926704117,
          -0.6887181466093029,
          1.4421460055628477,
          -0.8714476244494685,
          0.33055975880914945,
          1.8189792595269363,
          0.008519268406207333,
          1.5385144903842414,
          -1.0144316532870443,
          0.9913927056198769,
          0.13824663934728165,
          0.7162029975297886,
          0.34092561201779875,
          -0.18525983376338478,
          -0.6370164749608969,
          0.16266342230582692,
          1.2873850238568527,
          0.3720595422246801,
          -1.8465961574685377,
          -1.1890344525231178,
          -0.41360760218474363,
          -1.0506745710124363,
          -0.21692865660550056,
          1.256261278001642,
          -0.2896138806026792,
          0.9138230757185278,
          0.4480801441660594,
          -0.5821564524139179,
          0.9508824557891683,
          -0.2549193124016306,
          2.023980645532588,
          1.6035293213898387,
          -0.38926548662695987,
          2.610591009755922,
          1.3693955944567249,
          -0.12250428573225206,
          1.7234631280641821,
          0.3315760462548208,
          -0.5237527879382741,
          -1.4240576541428034,
          -0.9176902959866783,
          0.5783447214436792,
          0.003674224167046315,
          1.4698031377859193,
          -1.2475323752840972,
          -1.5858659074635357,
          0.7003123249961039,
          -1.3606849898146036,
          2.0126151664744083,
          0.37398229985602766,
          -0.6496068447300115,
          0.40582755326379194,
          -1.875968946723702,
          0.1362041507852538,
          0.8656357225080886,
          -0.8394812266760585,
          0.5795559290722678,
          -0.3210016477417173,
          -1.285701537029125,
          0.08271290430452939,
          1.2123053460968178,
          -0.47336204189583764,
          -1.3909872284640266,
          0.9509734201725544,
          0.18103889249136332,
          -0.5312475991458597,
          0.12387461118356691,
          -0.5469956532904069,
          0.9969504044650455,
          -2.3417029531442823,
          -0.49502745501650075,
          -0.5225585590476627,
          -0.9126017441910166,
          0.8630370684720011,
          0.5579904036843967,
          0.4180198522987327,
          -0.1239030145646489,
          -0.3337926634959194,
          0.011763580850128531,
          -0.3064219429336357,
          1.5165796339361979,
          0.9391478379987567,
          0.5388298863097934,
          -0.1161704428052993,
          2.3543744349822795,
          -1.2010086535811144,
          0.8890001730953045,
          -0.5128661919399626,
          -0.8747965652685088,
          1.8677659861701805,
          1.972010658803613,
          0.09731075075112348,
          1.6184962216341903,
          -0.08823483831750571,
          1.584851338752319,
          0.957244446136167,
          0.573271030535849,
          1.5875774130154265,
          -0.1972509200581147,
          -0.09415220872805352,
          -0.041180425110173155,
          -1.728449774134646,
          -0.7005522913650895,
          0.7652752266814332,
          -0.6359014613842736,
          -0.49086042796128165,
          0.4238546555599622,
          -0.12773168110675004,
          -0.551862652676545,
          -0.7344533904918792,
          -0.08689422890586722,
          0.3322024961167019,
          -1.517949092716181,
          -0.31454466982677903,
          -0.38129843226763105,
          -0.0826704972563702,
          0.7677024128678573,
          0.6609410976249592,
          -2.033643757532241,
          -0.6698819625916426,
          -1.622165133958965,
          0.3212771539328629,
          0.24994286301771468,
          0.3146069338663855,
          0.04042342619888214,
          -0.31587669436812926,
          0.42678017752060493,
          0.8487503372080752,
          0.047170127881882545,
          -1.2634368206794815,
          0.8841484058038654,
          0.5928034547656149,
          -1.0382253315224619,
          -0.5679310281540983,
          0.8585052386460346,
          1.3603282752220094,
          1.5404029878044714,
          1.3039318490411551,
          -0.8084668860591143,
          0.19659329058578542,
          1.81163639438583,
          -0.09113294833090055,
          -0.8352144503222352,
          -1.2039039111711007,
          -0.3689806106377694,
          1.3633579286454636,
          0.8019704447456597,
          0.8646000334983794,
          -0.9407640254583325,
          0.6416194262025879,
          1.244169407152958,
          -0.06188896551656238,
          1.1757655429044778,
          1.3764715255464406,
          -1.8453561005055088,
          0.3105399217118754,
          -0.9483504635665987,
          0.3020817907636593,
          0.262378278685134,
          0.23879116318528115,
          -0.39701897167571387,
          0.541020366627947,
          0.7347718213603975,
          1.0367238163101924,
          1.4438710034587696,
          0.11376984252093977,
          0.12807805107078424,
          -0.21075466818033137,
          0.8384244538640089,
          0.3874426668883955,
          1.1557077125166557,
          -1.3439996102876546,
          0.6442202961141213,
          -0.007758975415054941,
          -0.05777319098878841,
          -1.0378466358408238,
          -0.4726885557508673,
          -0.24256349205818103,
          0.48988307292454814,
          -0.8973274274001941,
          -0.11224611000783749,
          -0.6409393474718212,
          0.6425550537640149,
          0.6302969465715286,
          -0.16192795726730455,
          0.5096294701028861,
          -0.5666429792685316,
          -0.5794722453397887,
          -0.23916225352823656,
          2.27524934698934,
          1.1559945711020025,
          1.049097013463956,
          -0.3770453157046677,
          -0.34987866242086946,
          1.2999520672931797,
          -1.707920553410853,
          -1.4898296647763096,
          1.4008169101000243,
          -1.6767266172723114,
          0.02003161251484598,
          -1.4057987635703135,
          -0.41667890265141533,
          -0.3054588480583088,
          0.03725781360594718,
          1.3933597613669602,
          0.9689947595441138,
          -0.4931661559107211,
          -1.8353148204984162,
          -0.7093383845149065,
          -2.041534842534261,
          1.07640078225529,
          0.5283408534509652,
          1.14145280377094,
          -1.3920092656277205,
          -0.40792231591497274,
          -1.466208962776611,
          -1.0500942479811268,
          -0.6485938384822527,
          -0.8326595299000463,
          0.45420760711953523,
          -2.2559728153351424,
          0.8261830287819754,
          -2.1420294797538264,
          0.8768254273592918,
          0.31045477440718,
          0.18727146866466896,
          1.0415935582654114,
          -0.15524825463843245,
          0.5169272461440185,
          -0.6510766741391223,
          0.061589417065506954,
          1.2329397140042047,
          -1.1583697700308941,
          -1.3046008110259995,
          0.2929145323317887,
          1.2412341884368177,
          1.5498342664717433,
          0.04301947871201157,
          -0.531721277798868,
          -0.08465584008669833,
          0.18581283106626484,
          0.5286965749303276,
          0.016220857797125694,
          0.8841577507090206,
          -0.8728355996491264,
          0.07409361229642827,
          -2.326280346171767,
          1.4684748759427617,
          -1.0833476966711333,
          0.6914622949526907,
          -0.2996516918207216,
          0.8586214656503455,
          1.3734946954016316,
          1.3742605015525027,
          0.4566430210627943,
          1.3133556133750055,
          -0.9516930287345148,
          0.6545467593499175,
          -0.3972297103314232,
          -0.00019599098834697232,
          0.1510329623078161,
          -2.0930251557939146,
          -0.762626455618953,
          -0.06409896118911455,
          0.433899206874039,
          0.5281886298751841,
          1.031791707513399,
          0.0956728684527019,
          0.7342397112543608,
          1.5842547278801273,
          0.058552670341060556,
          -0.2113242401156665,
          -1.0681605393790365,
          0.5751955245111667,
          -0.9135064623302881,
          0.35913609865244217,
          -0.08541600001225777,
          -0.5408786641851356,
          0.8991425350069188,
          -0.9205855656421391,
          1.9452743964710228,
          0.25449867381335334,
          1.1184136235094773,
          2.019678343585983,
          2.1740695341490186,
          1.01983703899977,
          -1.2434658823586595,
          1.5210492249911705,
          -0.8260270877798799,
          -1.2412567136404067,
          -0.8144317662119059,
          0.5915645818711124,
          -0.42456677985660607,
          -1.1637184424101246,
          -0.4023073398829429,
          0.6755366314858589,
          0.14067398054062077,
          0.8679498364221168,
          0.4454107912834788,
          -0.48146342379941404,
          0.7829372187740373,
          -2.149404151681587,
          0.39316780766203885,
          -0.13517671067910778,
          -2.2634630691209434,
          0.6820486770208363,
          -0.9925289891598952,
          1.0747862904212875,
          1.2197866325997915,
          -1.5246768532837807,
          0.36167040649517407,
          -0.9239553734820364,
          0.610744013480612,
          0.6823862054834499,
          -1.3683488337995506,
          1.557842138030344,
          -2.0515057520873783,
          -0.1720239442098131,
          0.0726175228772738,
          -1.0545624481540883,
          -0.6795006055726083,
          -0.902824002266989,
          1.1487632374365022,
          0.3232069659892298,
          0.5493476140437676,
          -0.4032806845648574,
          0.4298113984368886,
          -0.09647902718196946,
          2.1961540858129465,
          -0.10425035348038185,
          -0.3229862356486651,
          -0.951469042566693,
          2.2949458238672698,
          0.34898936054803636,
          -0.186995535537027,
          -0.21635478557580137,
          -1.0954234252430743,
          -0.25555401941336586,
          -0.4372545223690812,
          -0.23682769069400264,
          1.355029732877171,
          -1.163168569879062,
          -0.5068984880903794,
          -0.7089915010033433,
          1.525555606865416,
          -0.9414075102570932,
          1.486570173484128,
          1.0175309996943511,
          -0.519179861268555,
          1.5711160966160296,
          0.34307049223199015,
          -1.1934170666719133,
          -0.06563191330369042,
          -1.2269480097149108,
          0.1181721260638196,
          -0.055079573261634686,
          -0.7509270955162919,
          -0.9731006463983942,
          0.5284715704546257,
          -0.6608504481470252,
          -1.1487415154668679,
          0.2617202978963955,
          1.9488958743680609,
          -1.0538714757035794,
          0.6245546767010479,
          -0.7132317399079446,
          0.5824237255788314,
          -0.15146349876486206,
          0.023192662520607504,
          2.736572686541171,
          0.1806807500856917,
          -0.8756976786183656,
          0.2919105689934084,
          1.4222798406689787,
          -0.9256940539239764,
          -0.2273605471765485,
          1.190559006189721,
          1.0321412918617445,
          1.8019377518216175,
          -0.6567603116070905,
          0.7117195109992215,
          -0.41036676635243363,
          -0.30992859733727063,
          -0.6881121802648582,
          -0.3925617057612027,
          0.5321625584002059,
          0.47505679327351913,
          -0.2685123089589128,
          -0.8715738537434936,
          -0.853196072206545,
          -0.9748320851354588,
          0.086642671258248,
          -0.11075434837932094,
          -0.7632693866511572,
          0.5538928724125444,
          0.27807914096016967,
          1.4408993823366922,
          0.2254192145703617,
          0.6182219325278253,
          -0.5919381775995415,
          0.4273994550783832,
          -0.5161238146977699,
          0.9221341075192118,
          2.2805868532805906,
          -0.01395098903856555,
          0.2650219126101763,
          1.0972283442355948,
          -0.09568976215577958,
          -0.015033357922503642,
          0.04699431031541112,
          -1.2420166003384474,
          0.0025267573351013136,
          0.5933588978684262,
          -0.24990873204222205,
          -2.61313937757665,
          -1.3333033860180101,
          0.0890370808102466,
          0.42701833627082564,
          0.0328181237490783,
          -0.1774122567600791,
          -0.4445932268083272,
          1.9662222928307205,
          -1.1698782885131354,
          -1.3432945285583238,
          1.248584145712808,
          -0.384960252255826,
          1.5000556306391124,
          1.2143381423164101,
          1.2196771864076572,
          0.4136941573087016,
          1.0776576163928604,
          -1.1907564262745027,
          0.45261847444144154,
          -0.37441308558822123,
          -0.7389439400558857,
          1.212951065360106,
          -0.2828882310461377,
          0.10523956705339221,
          1.282414975116601,
          0.32290922727251103,
          1.1509913722278229,
          0.550040273462375,
          0.6772570359285149,
          1.2835545856706676,
          0.7487361424781303,
          -0.8475523835389998,
          0.8550330987782089,
          0.7961197285282425,
          -2.341125775599947,
          -2.7839045356013514,
          -0.7184327213255288,
          0.3330809296399013,
          -0.4473330751838776,
          -0.27567061003398524,
          0.3073522972035995,
          0.7809951587985824,
          -0.5735760081859104,
          0.0016899594560200518,
          -1.1429909790279296,
          -0.5568805475190692,
          1.0837985035480784,
          0.9730661367193078,
          -0.04021729831831811,
          -1.457155643274416,
          1.468367532019994,
          0.39834737310337726,
          0.13752700647679322,
          2.3295509280912294,
          -0.2342157812656217,
          -0.12538323753601294,
          1.5353287516063214,
          -0.6669527537967878,
          -0.38533097442929615,
          -1.361197682291488,
          0.6776771059103173,
          -1.8789039033078374,
          0.4521584534159455,
          1.9013271884796856,
          -0.578448683186672,
          1.0616230663834907,
          -0.2635876237110925,
          0.7858819707307901,
          -0.23261216564292278,
          -0.6136680420980327,
          -0.09876082269579724,
          -0.5200833164332388,
          1.403281809705337,
          -1.244670624151118,
          0.49598034513409706,
          0.22514581338931247,
          1.1533977955731414,
          1.9409985473433133,
          0.5433976592226974,
          0.39387308165457663,
          -1.3743313666508505,
          -0.2868302456083878,
          0.1177246235491258,
          -0.9134803692048155,
          1.4025866134953588,
          0.6435316777295363,
          -0.3070190159308981,
          -0.22802395747314969,
          1.7050145674382184,
          -0.9583922407260906,
          -0.45789314708156936,
          -0.6251059237159848,
          -2.0251849862729085,
          -2.1018604861983703,
          0.02943895903908612,
          -1.0938979750784583,
          0.6759774079863178,
          0.8353800592992379,
          -0.9915491926297553,
          1.4732275747765307,
          -1.7951265249222386,
          1.6484020900107677,
          -0.725070417650416,
          -0.4871808061852264,
          1.2307520925290798,
          0.7835416731937547,
          -2.0784585719548767,
          0.3480301012663768,
          -0.501698539905603,
          -1.3070659241845586,
          0.1619658709760878,
          -0.4527517373680517,
          -0.591278238501105,
          -2.0517829839421964,
          0.4240750367816664,
          1.0479688616023002,
          -0.5425406928355233,
          2.05111068737536,
          1.0445723000668705,
          0.39211439874703397,
          0.22270113741650233,
          1.3273979766228419,
          0.4583318802956599,
          -1.1293319737894403,
          -0.6773543393585401,
          0.6217131041996705,
          1.150733240030782,
          1.0113571850926197,
          -0.2278962293074667,
          -0.6384148104942887,
          0.7178941595363922,
          0.6209833932374824,
          -0.5223661886070292,
          0.5227064668817553,
          1.4365609064288096,
          1.9373362131788987,
          -0.3433288483737732,
          0.2583043337867544,
          0.12981016823161418,
          0.6109324868953688,
          0.07862559013698223,
          0.8895156289410913,
          -2.853349825000314,
          1.327356145409479,
          -1.1677472883492395,
          0.3132332355738,
          0.5021817806408888,
          -0.22740310064287617,
          0.016223403387245885,
          0.4140123110950936,
          -0.5713399474783588,
          0.9838740876392901,
          -0.2772897656855513,
          -2.778322123262975,
          -1.1324411067348386,
          1.1784997396004002,
          1.0263152392328478,
          -0.14747926972884007,
          1.4676818761177954,
          -1.055340128655884,
          1.597363281931686,
          -0.7760797626298943,
          0.8692025434127685,
          -1.3061690861163147,
          -0.6407091204702533,
          -1.7779862287660777,
          0.46019693919428656,
          0.8880198996767806,
          -0.059332354710574416,
          0.42460742671667134,
          -0.9476985319996184,
          0.4842974750086635,
          0.7171654355034494,
          -0.7722153299545054,
          1.277782960560207,
          1.7752014812695254,
          0.11828100044163212,
          0.9233844964329834,
          0.5467089406834706,
          -1.2200781014040296,
          -0.2659275681513742,
          0.14841105303972144,
          -0.5632039948083266,
          -0.4625652486101436,
          -0.6645177283037467,
          -1.3500104903212418,
          -0.8789949632609148,
          -0.30008940904776227,
          -0.14380905966706803,
          -0.6307149647532635,
          -1.642084755170695,
          0.18381744334299832,
          1.2456651260558813,
          -0.13793330155569855,
          -0.8908100743792187,
          -1.1770220353170748,
          -0.3508925363835257,
          -0.13034085301772244,
          -1.0076637164436215,
          0.5158474468523466,
          1.6259927813431279,
          0.11364256316930395,
          2.4033680923511733,
          1.4286730206237233,
          -0.5493416808429185,
          0.4169494116654762,
          -0.5204382503061474,
          0.18152717699556178,
          0.6914290631818335,
          -0.3885412959605804,
          -0.7177278817264402,
          -0.5675754810104804,
          0.07003371912218731,
          -1.8187416024296756,
          0.46622584484624763,
          0.23791804077402404,
          0.015448424735380705,
          -0.9134125495360307,
          -0.2420076893930394,
          0.38523371686879015,
          -1.278313138731,
          -0.1734595580752947,
          1.3527322741784806,
          0.4271640219337862,
          1.2297785453140357,
          1.1537375687531901,
          -0.3644597353804959,
          -0.17565955193130828,
          -2.7456774269159645,
          0.44453684779194186,
          -2.5258917929788343,
          0.29312508156569955,
          -0.0651388906322927,
          0.5218718898746151,
          0.5155966868991394,
          -0.829048145595193,
          0.45820203192810904,
          0.18220624063472982,
          0.3660113326357553,
          3.0884859713022066,
          -1.6647525042590994,
          0.10876902065697061,
          -0.6712336945408235,
          -1.2598238269680833,
          -1.682249270597863,
          0.044180416554764845,
          -0.4708477044896546,
          0.7053550214187324,
          0.402759031865348,
          2.9862521626229284,
          0.09955312801590502,
          0.6885433019811256,
          -0.49521360094754263,
          0.3748816352792042,
          0.7043441928886977,
          0.9001055999499799,
          -0.08140947214249662,
          1.899821616203418,
          1.0162298776363146,
          0.08698390640303152,
          -0.13414892430868977,
          -0.47334459094381554,
          0.702623612615944,
          -0.8630454234662799,
          1.2443061038642396,
          0.7618244264264705,
          -1.2645350226782763,
          1.2505670947020886,
          0.038725046225487524,
          -0.01999161154898616,
          0.16702249774820804,
          1.7159184745021352,
          0.6293729636120272,
          0.6381875183800971,
          -0.7078414578473112,
          1.8810877178204721,
          -1.640046855040914,
          -1.2978194042596138,
          0.800077033710028,
          -1.814277297686931,
          -1.2081761553849535,
          1.2306870194339739,
          0.29357500828210503,
          1.0161076528183897,
          -0.6641018202508712,
          -0.6956882759347987,
          -1.4079585387599174,
          -1.1508926312187613,
          1.2218233813364492,
          0.5978564198187647,
          -2.018245852302206,
          -0.1938560417465344,
          -0.48574125457888834,
          1.1480373952763738,
          -0.6913829890032958,
          -0.7650217242659185,
          -1.413830868821647,
          -0.2163794150469528,
          2.1920327045871306,
          0.5218313231308049,
          -0.3385593288654337,
          -0.11917353347252987,
          0.09133107960910208,
          1.602272792725541,
          -0.9414056568364297,
          0.14064419436694456,
          2.421861661691445,
          1.2135591213291,
          1.352758599824585,
          -0.9803449824146835,
          -0.5850356159588536,
          0.43843732846513783,
          -0.47937993919924066,
          -0.4726331408821043,
          -1.29113544227499,
          0.7579418394676666,
          -0.5219747806611482,
          0.7220312900549026,
          0.6453760011125695,
          1.261675078401091,
          -0.5918479302561268,
          1.1272541651261192,
          -0.25852521435081727,
          -0.033504516280778406,
          0.7628413425415295,
          0.46710045047572557,
          0.5096255205304592,
          1.1640768921447169,
          -0.18983026790409394,
          -0.11641460709149005,
          0.19439161540061992,
          0.06048652749454396,
          -0.08936481049726396,
          -1.4375276871715006,
          -0.45381904641724713,
          0.7282525915805632,
          -1.6286722634909496,
          -0.670313715414207,
          -1.183515640909304,
          -0.2521011059248498,
          -0.5129715430593037,
          -0.8525377913166732,
          -0.8017056590468953,
          0.7250364647208468,
          2.0087450251787127,
          -0.08746319424418043,
          -0.26571214273228416,
          0.2165252016833674,
          1.0614797909581322,
          -0.15662249815072793,
          0.9688306491127818,
          0.9877456617281785,
          -1.2757407026197634,
          -0.009698978172649583,
          1.8170706872042262,
          -0.6371340382824999,
          -0.5771488254067735,
          1.3427795942681502,
          1.0952377651850014,
          -0.126887768372445,
          0.6874189344454507,
          -0.3073099466918459,
          -1.3399561254244852,
          -1.502131907460098,
          0.3142339641250571,
          -1.7880976558145176,
          -2.091275482547028,
          0.5200583893335241,
          -0.8299932226645433,
          1.182766722188016,
          1.232471700217514,
          -0.07018015588801275,
          -1.456676591633421,
          -0.0653510713281657,
          -0.8263477531944091,
          1.1322056013438013,
          -0.31968336893118127,
          0.5977672920373485,
          -1.45866982396817,
          0.39203974277107617,
          -0.10291294999749365,
          -0.08769560062313624,
          1.1186969472783317,
          -0.33385461011668666,
          -0.5416201435457372,
          1.8266811919541002,
          0.859913577735768,
          0.9614297765644859,
          -1.6517107723999769,
          -0.11842249128860087,
          -1.5387261543721433,
          -0.7465349615898195,
          -0.3854044451262137,
          0.8159489213503572,
          -0.24711485772352532,
          -0.1225548342047559,
          0.3806225750429698,
          -0.5441665606940845,
          0.6075397384847673,
          -0.13029011576622684,
          -1.1002779792451998,
          0.5719686747601501,
          1.1175380554186813,
          0.0023873906668344367,
          0.8042086092023528,
          -0.2474926697699782,
          2.530083794309545,
          -1.446153140389961,
          1.0185658186871003,
          -0.22737029230040146,
          -0.39194828914679586,
          2.113600370096822,
          0.23732787302017427,
          -1.5926384060349674,
          -0.6511929068619257,
          0.2939240096618239,
          2.0823637451138612,
          1.0209045874881018,
          -0.2439481571310911,
          -0.02137462373758622,
          2.13310566729887,
          -0.5285323827442021,
          -1.1724829014990013,
          -0.5699579779235676,
          -1.6604070700874294,
          -0.031124252157865177,
          -1.1042291241398765,
          0.5701464854283773,
          0.7466898730262449,
          0.70009213773575,
          1.4325668096200233,
          -1.4612524230981556,
          -0.4961643490492252,
          -0.9730786725749484,
          -0.8635768105086029,
          0.6057252975981192,
          -0.11052509181866746,
          0.4910970785954204,
          -0.45472854496189896,
          -0.03779101815319954,
          1.277399458786906,
          -0.15814352431839995,
          -1.7785991056729977,
          -1.0920094468111041,
          -0.05999444879240138,
          1.1613707133296707,
          -2.125793214184674,
          2.0284775566034723,
          0.18478128877470273,
          0.3287285594562788,
          0.9172925642775043,
          -0.7851275202989927,
          0.5746515221647657,
          -0.05512857809898107,
          1.428946433909097,
          -0.693905600026667,
          0.9295812095704357,
          0.6220051517974726,
          0.111278474612989,
          1.0111547838371884,
          -1.2081752680735454,
          -1.0352430928655645,
          -0.5344952876471963,
          -0.4927786246721438,
          1.6494739751374137,
          -0.9554841404170589,
          0.3921497200236924,
          -0.7069726351877522,
          -1.5380937720484495,
          -1.3463930955672956,
          -0.5886629583687853,
          -0.714979188676848,
          -0.3235128147664441,
          -0.48249003008778113,
          0.9077882797207731,
          -0.34420707654074667,
          0.43355591960182277,
          1.366522285577002,
          -0.7979526303965189,
          1.115300287534996,
          2.2413728579531997,
          0.2404533623201046,
          0.5003902946799409,
          0.01630167469187045,
          -1.1552729780499402,
          -2.7311850278043557,
          0.4643227068125753,
          0.17590112806883895,
          0.4867069242599474,
          -0.6110157807392254,
          -0.6826575601480585,
          0.6432718464819308,
          -0.16779896766540464,
          -1.190555162199728,
          -1.445996794930249,
          -0.22328389866885215,
          1.5993652806098315,
          -0.7234141130992819,
          -0.20928556847333912,
          0.7479406482108832,
          -0.04240997178407199,
          -0.3199456441422896,
          0.8127409021873848,
          1.354810348183055,
          1.599833935759907,
          -1.232503866827463,
          -0.17134748341578235,
          0.5674880146914221,
          -0.6880704326126676,
          -0.6458567048705577,
          -1.2580730068796404,
          -1.0452596564749228,
          -2.121819503360573,
          -1.6544501613385696,
          0.35146967401900486,
          -1.0469831950728403,
          0.8680810864418825,
          -0.6145634225827965,
          -1.3087924791691576,
          1.033227859384173,
          0.14156315825965768,
          -1.7081325845090927,
          0.6506174574061648,
          -1.8309673744282942,
          0.11291850932119366,
          0.5246465190582144,
          0.6424403198392828,
          -0.7590705899755249,
          -0.2914730086196698,
          -1.486502333398265,
          1.7448137383722258,
          -1.294598336819833,
          0.12592008380379552,
          1.210310477156403,
          -0.07539219214384467,
          -0.602204565288468,
          0.37353477061054147,
          0.041687504636355295,
          -0.06322477222819253,
          1.1270436524306406,
          -0.7646254104422153,
          2.516760370024612,
          0.6134163318993584,
          -0.5435960217897234,
          1.4039106383760835,
          0.4679194380586635,
          0.7626935393902253,
          0.9222139280651404,
          0.2902746284807376,
          0.9630259876116145,
          0.08560685772795541,
          -0.5973812896361872,
          -1.7759690591610842,
          0.9193260099436895,
          0.29217849454190803,
          0.19333194374873897,
          0.3371593387727763,
          0.18642602359332813,
          -1.0461024711264015,
          -2.6055455981757767,
          -0.6705390466795083,
          -0.18516332003022265,
          0.36607125979009103,
          -0.9021584535042059,
          -0.5045473220938426,
          0.4378440588640768,
          -0.6361412333057838,
          -0.18495727715366592,
          0.19589987190985456,
          -0.8797977164364912,
          0.4075467042386751,
          0.5945726968588642,
          1.5858887352318902,
          -0.5603000072270221,
          -0.6464965399707588,
          -0.6459789333261629,
          1.4245367799172437,
          -1.1053059671837964,
          0.4768796647253893,
          -2.759296100017243,
          1.3318964822336399,
          -0.7470706745553927,
          0.03954639826533427,
          -2.139909592278193,
          2.4824993490986667,
          1.0191494017921325,
          -0.7803417528525115,
          1.5598010230742578,
          -0.9673542266891064,
          -1.523304822568468,
          -0.03663108434131067,
          0.6993704540544675,
          -0.23615282785325864,
          0.5652196637312411,
          -2.458348830586361,
          1.5754336677084335,
          -0.8838252689710021,
          -0.5825974520239399,
          -0.14103692225176068,
          -0.5225414817855241,
          0.7611316314156183,
          -0.14404827924590594,
          0.6427340418484532,
          1.0182495793812938,
          0.7225603282219405,
          0.4657702084863889,
          0.9174271530122069,
          0.2584489866627009,
          0.9598618951936871,
          0.4180312347344348,
          1.422012440295054,
          0.5236891678112741,
          1.8427096376429686,
          0.3744945784241766,
          0.6257960163605957,
          -0.11225195243591381,
          -0.1506379906237645,
          1.3964434960164591,
          -1.6083786031993328,
          1.6532636785080168,
          -3.276009873675027,
          -1.3957853355777128,
          -0.23017773922161322,
          1.5149156886593134,
          0.6471218122323227,
          0.5450515458482991,
          0.12929167276507644,
          0.6658818430931276,
          -0.6945415572036977,
          0.43754037833463005,
          -2.07674590824104,
          1.0934818484865805,
          -0.8912697682535958,
          -1.0922622391397812,
          -1.7152782628004737,
          0.13804327679554795,
          -0.5519097390199397,
          -0.026000209508456613,
          1.6497172304655678,
          1.1984139003582834,
          -0.19289268898535836,
          -1.2625991099492928,
          -0.9326292451753802,
          -0.4721453888778891,
          -0.02569749228324857,
          0.5053116128043342,
          0.07094362631994411,
          0.9340691583078777,
          -1.3754197071074852,
          0.3600881573501637,
          -2.837121380640491,
          0.10316532584195748,
          -0.24677241277158132,
          -0.5404281163230821,
          1.079917269751631,
          1.8477526209745012,
          1.0777746392961032,
          0.22569920326936846,
          -0.19524112146971748,
          -0.2498874344260323,
          -0.49666006434326776,
          0.9912233481278959,
          0.2019163493235992,
          -1.769212288546339,
          0.8790168171412922,
          0.1823590113636763,
          0.6139992939480816,
          0.2236870086578605,
          -1.5729685829315236,
          -0.004169059398725459,
          0.1622326929479732,
          -1.443406997347962,
          -1.4495893431291507,
          1.648318995247324,
          0.6530802818339695,
          0.33669155833967307,
          -0.9029099410048044,
          3.0394161607876296,
          -0.7282712229237128,
          1.4193400237921354,
          -1.7124770803527432,
          0.18579313988198584,
          2.1151076845263796,
          -0.4357789448031473,
          0.6568815043626367,
          -0.4389208881662997,
          -0.5208364745967965,
          0.6230337324992561,
          -0.504572101919151,
          0.9803452203326114,
          0.7173253897715595,
          -0.21993590618553693,
          -0.649484587946384,
          -0.8728896843246078,
          1.5048898418328487,
          -0.36074070754337806,
          -1.111732289491813,
          -0.4896704669676094,
          -0.8049368805905032,
          0.04918766081393421,
          -0.2972610735609732,
          1.6907980767007358,
          1.0034165300536202,
          1.007060946205526,
          0.6413335701847344,
          -0.3783899576818259,
          -0.6106252646615896,
          -0.2710520107697257,
          0.24651492413384687,
          0.5224674548602958,
          -1.1174501055003854,
          -0.773258604145245,
          0.46969252699359537,
          -0.34072607247012704,
          0.6838718829603196,
          -0.2207616100059891,
          0.04326317597546344,
          -0.014975275738342435,
          -0.10716813736689318,
          0.2862527003030245,
          0.2820114355012525,
          0.9447411207268629,
          1.4539112046937792,
          0.2683498308643596,
          0.9504138952546181,
          -0.19417888269121292,
          0.15015101998477576,
          0.03823677131915272,
          -0.8416360024184462,
          1.3163100738549833,
          0.11688856815876304,
          -0.19714616384106978,
          0.7451807372536758,
          0.5189272217632332,
          -0.1829460600667737,
          0.44726785969478994,
          -0.18208946909218382,
          0.27557346783832476,
          0.5155025956812992,
          -0.42069051612447056,
          -0.9116598379556272,
          -0.5084050881041144,
          0.31302500153085033,
          0.6628125786991295,
          -0.8815459118582607,
          -0.31530414801039625,
          0.7336624986267993,
          -0.00017110565096282047,
          -0.8960920744285173,
          -0.27961488449043165,
          -1.6494494053662065,
          -1.651045539415365,
          1.828350413426046,
          0.7396543045850046,
          -2.0414768524456717,
          -1.4205112425831186,
          0.3678233623658915,
          -1.4949166577367792,
          0.8500185099410515,
          -0.5105578735856559,
          0.24740037553295602,
          0.5589264494766718,
          1.1554111040001536,
          -0.18388240456049995,
          0.5309298216693371,
          -0.41029108125558206,
          -1.833527467576786,
          1.1600751805003002,
          0.8023090091371688,
          -1.8409724728793426,
          -0.5167491134971842,
          0.8707940051778549,
          -0.22672864115236477,
          1.2344899128708262,
          -1.1795765934430429,
          0.11692720081130906,
          -0.5323124005128717,
          -0.6959254175720756,
          0.3811357664100225,
          1.3568531173480773,
          0.3653783255936193,
          -0.6325834778799851,
          0.30773549463537514,
          0.7209571777431776,
          0.5201003599707638,
          -0.5994541143423754,
          0.732613835020825,
          0.87986292839102,
          0.7664340337524619,
          1.9056225732596388,
          0.9637557619031749,
          1.17376913199718,
          -1.1728366704930953,
          -0.2820526716065664,
          -2.062853427688618,
          0.8152337496533864,
          -0.040168910656861824,
          -0.060678347662774045,
          -0.15655951817743083,
          2.3721931895533572,
          -0.8617371814625235,
          0.22247325540273039,
          0.23439146501688585,
          -1.4147929299905369,
          -0.20003594531987065,
          0.3737010595775489,
          -1.8054787760820399,
          0.017456077599383144,
          0.9464120665410137,
          -0.14872299993435126,
          1.7033468525520583,
          1.6139286423018806,
          0.17086713708563966,
          -0.7508538535594338,
          -1.3121202976260748,
          0.2993040057424335,
          -0.9576116278436901,
          0.12646134800210493,
          0.5093125509453762,
          1.3145883627017128,
          0.8557521462513151,
          0.22193048121272405,
          -0.09678036648769567,
          -2.364933411703812,
          1.5396886279060227,
          0.4736465660496047,
          0.6683861463372268,
          1.6652489579316019,
          -0.8816142157614333,
          -0.20366623909457368,
          -1.7595942466211185,
          1.67946159625096,
          1.0561555279030637,
          1.3944276658574162,
          -1.9824776412043357,
          -0.002102438104674696,
          1.1285957580113235,
          0.8075564955174737,
          -0.14694278650571604,
          -1.6681574147812612,
          1.0286743320892016,
          0.2908654973655612,
          0.16722803745616768,
          1.2629601190406168,
          0.7757509108002203,
          0.6323001407359683,
          -0.05983305684514982,
          0.5380571085204305,
          -2.0004037756538486,
          -0.2046165674827066,
          -0.059112614837286984,
          -1.2608508731890524,
          0.0016736524430442387,
          0.9950177071637083,
          -0.7785239823014685,
          0.26447145667850513,
          -2.1521766950396466,
          1.064478839187021,
          -1.3964003691232583,
          0.766138840876144,
          -0.2862602968172208,
          0.799449817660228,
          0.20969777309727106,
          -0.48505614598374464,
          0.41146995961525357,
          1.2394055132589177,
          -0.3055544275666693,
          0.30317367522465627,
          -0.9833876494130394,
          -1.0199042066107418,
          1.6269836046433859,
          -0.3368918872953403,
          0.2294415041565205,
          0.3050392273074991,
          0.8328411119054742,
          1.4204250883493033,
          -2.2807283861571275,
          0.08049289909823483,
          -0.9256771633637062,
          1.1127367806556965,
          -1.575392424962297,
          -0.4356502094313256,
          -0.8864835215329551,
          0.3169602539892895,
          -0.023097616221841265,
          0.36755660586204497,
          1.4378527690492906,
          -0.09465938893832292,
          -0.5619846700602096,
          2.4280822989741115,
          1.3756406092522209,
          1.1440457185242268,
          -0.09731441162011585,
          -0.9420868918879501,
          -0.2544233649226425,
          1.2302439966951166,
          -1.606309822854003,
          0.19274692406113464,
          0.3197113899940565,
          -0.3298372758771968,
          1.4139220914466624,
          -0.05149371616090543,
          0.46497170926382175,
          1.2174369925675534,
          -0.24537191518253623,
          2.169304521772335,
          -0.9077156337523462,
          -1.75807330312089,
          -0.08349197988484522,
          0.47105821949529114,
          1.112914710350003,
          0.36465220795694914,
          1.0355615787009127,
          0.23590823600647934,
          0.7917464978426256,
          -0.9916352385908359,
          -0.010581339759037559,
          -0.2835494587218364,
          0.3673772871360301,
          -0.688676577959102,
          0.6615733905604178,
          0.7112394123670237,
          0.7578655321523698,
          2.232192488460578,
          0.6568452309265278,
          -0.5130314576326296,
          -0.9621945712587175,
          -0.1751203255766293,
          1.109820312806173,
          -0.5939359480306008,
          0.7815798710286997,
          1.3015216347682126,
          0.021971946077997132,
          0.5566186105659796,
          -0.9058871429323025,
          0.2172676232579174,
          -0.31160808232209425,
          -0.43293000732148285,
          -1.6664488769066432,
          -0.7083094703709347,
          0.25886530705074384,
          0.9825158504085078,
          -2.3129730672377944,
          0.3370171891828605,
          0.0735075199038801,
          -0.8893503533219447,
          0.7074456787840745,
          0.5331849309949185,
          2.208536638133351,
          0.19720244365435124,
          0.5656547103500031,
          -0.49895495060282014,
          0.6484880588775702,
          0.05572697144361539,
          1.9527117120772666,
          0.2840907595840693,
          0.7267828783286895,
          0.6780467673087109,
          -1.7600837068464965,
          -0.0640856291409788,
          0.22417812361671716,
          0.6886367399929244,
          0.21934331018069872,
          1.6109821438402145,
          1.39117286075928,
          -0.4326752975153845,
          -2.048584899444764,
          2.0390033576199826,
          -0.3781274699886848,
          0.2262016760719427,
          1.3175913142482214,
          -0.06242438545456769,
          0.8964514594264535,
          0.9442217287429167,
          -0.6196504744639301,
          0.4553665712342824,
          0.593042873063522,
          -0.29026873815890347,
          -0.7821291035337791,
          -0.43022872442870264,
          0.4022360899957722,
          -1.017023800232869,
          0.5268937630139051,
          1.7951044014576885,
          0.4208645846217104,
          -2.030797249297169,
          -0.6478431660655064,
          -0.18530381583638378,
          -0.3967862598703207,
          -0.15327783264384673,
          -0.8790877350934503,
          1.8363943757337824,
          0.7041124201886328,
          0.708957186421024,
          2.353560906272168,
          0.20623207676205507,
          0.9665745631776398,
          -0.4902341459288297,
          0.18150045894764405,
          -0.6736311697669304,
          1.0708022833635022,
          0.1982762294609684,
          -0.48413967832632954,
          -0.969371731174866,
          1.7147149132919992,
          -0.8636085668650382,
          0.5619882382113923,
          -1.812399022053081,
          -0.21889295672524162,
          1.4027122012130755,
          -0.32976934257792206,
          0.923237829220157,
          0.4861791830301767,
          -0.06970888492649735,
          0.9323774789519517,
          0.7876248065365681,
          0.07718606792625073,
          0.20367830459298963,
          0.21951659868248907,
          -0.515139679656397,
          -1.1544024632140828,
          -0.14052969809773333,
          -0.11625752322831577,
          0.5026662553693941,
          -2.1112803810698915,
          -1.6891537299010628,
          1.468092768858609,
          1.6637063535789811,
          -0.2908443721069404,
          1.5329441449795476,
          0.16330747452720623,
          -0.4694532121605474,
          -1.5998430113777282,
          0.3671974377216255,
          -0.3961555709171237,
          0.8885732938608604,
          -0.9939783165179292,
          0.17356036948021997,
          -0.015155278261282575,
          0.867263815041769,
          -0.501486761968074,
          1.585397892622977,
          -1.8637252878258872,
          1.0262278785830592,
          -0.3864367717572713,
          0.7305785422019492,
          0.11379625676658314,
          -1.3738912858994443,
          0.6545599926000667,
          1.302868023299304,
          -1.2612698128783721,
          1.488473784712123,
          0.13625702827334818,
          0.34282999035623435,
          -0.8891358287694343,
          -0.8544136797470221,
          0.9684919944102528,
          0.9000987652554959,
          0.45965316372140386,
          -4.137870880859122,
          -1.8202939765267434,
          -0.16421798414024125,
          -0.4407873319788722,
          -1.0805214551193318,
          -1.2163033468065634,
          1.5488329778321885,
          0.3769808082762805,
          0.7536928467200902,
          0.34485344481677627,
          0.05787940343247928,
          -0.3599062943344753,
          2.3778916462,
          1.978884865520185,
          0.7274709477290852,
          1.2026676626163775,
          -0.658869806681169,
          0.6119336485228891,
          -0.8407059444846124,
          -2.5441595084139554,
          -0.09527828564714609,
          0.4276304668596015,
          0.46251352599637574,
          -0.1284669858707346,
          1.0383664661093865,
          0.4761303575039128,
          -0.47842773080708434,
          0.7562385241206988,
          0.41238760588104595,
          1.0029720177128414,
          0.19883551961380594,
          -0.9841301689685483,
          -0.7187467968608126,
          0.5233149783764636,
          0.4281494974649827,
          -0.5631768237933585,
          -0.6375883336059411,
          0.6471983543840316,
          1.350357063713942,
          -0.25053897850553253,
          -0.5409450615218445,
          -1.58762026381239,
          0.9969519667742869,
          -0.363688289637154,
          -0.0881210610059887,
          0.3683391282044973,
          1.9181660533172582,
          0.6218979079104406,
          0.7364881279427636,
          1.4470784487820647,
          0.29982125937464366,
          0.3595397409779244,
          -2.095187733490855,
          0.7925040198340796,
          0.3747771808493902,
          0.3687309108570814,
          0.4639932926829153,
          -0.5249825023940858,
          0.17912147914441837,
          -1.468894395668941,
          -0.20336119594684193,
          -0.28041442154665186,
          0.13317697583245736,
          -0.23122835938862213,
          -1.2352761474885294,
          -1.3097180956875203,
          -0.3916593695867858,
          -1.7477870436602878,
          0.9773035018227965,
          1.5438604964079639,
          0.004254593886300562,
          -0.7030689803918199,
          -0.609700882966067,
          -0.021355956494075245,
          -0.5661865830520197,
          1.2573102382007313,
          0.22580753151438993,
          0.5463810982321711,
          -0.7166359900977928,
          -0.06279937752628127,
          0.47751966986747607,
          0.7589635651172233,
          0.049351126098073114,
          1.025560464854507,
          0.7642250702544939,
          -0.373631550127663,
          -1.2798718574196195,
          -0.4134619271725016,
          -0.7894039626331298,
          -1.7116775898674563,
          0.8259880502367242,
          -0.32932154279432413,
          1.6305103826730107,
          -0.4842399775722658,
          0.2666176043026602,
          -0.2632118297930938,
          1.8094364762981359,
          -0.8593310649894473,
          -1.1893251619743461,
          0.6751621987576081,
          0.325455705276383,
          1.3772856283873294,
          0.6253148673137652,
          3.5290933676982714,
          -0.28331998964885724,
          -2.029028485953036,
          0.10604435580452187,
          1.1129796244021664,
          -0.7532346068380914,
          0.31557600890365245,
          0.8654422053983386,
          0.4789146574375933,
          -1.3831365086418215,
          -0.5094843469489668,
          -0.9464312857075629,
          -1.2041006541223878,
          -0.5929934847201727,
          1.9102207615016948,
          -0.5296484472809848,
          -0.5253439638640839,
          0.23388414173696664,
          -0.4775508894673016,
          2.1372558215595374,
          0.34291954322596413,
          0.2962934964751496,
          -0.7155018942242698,
          0.7128207085008058,
          0.6529515709341328,
          -0.8585392960263328,
          0.6768302738405743,
          1.700058873923086,
          -2.2082358266710416,
          -1.616031073455226,
          -1.630158242552944,
          -1.7196619291460302,
          -0.23800529911418386,
          0.5119313853209648,
          0.5840621090971858,
          0.46198556687347103,
          -0.5981419256123233,
          0.48653150651102867,
          0.2524762954958828,
          0.07676469855743404,
          0.27262140422661735,
          -0.9362266421326084,
          1.482649750359038,
          -1.3997705337960449,
          1.5691320715188766,
          1.513467608926213,
          -0.2908040111761853,
          0.8442497722051118,
          -0.20953417790671072,
          -0.27784117987420875,
          -1.7866589795683534,
          -1.0796822194953486,
          1.3068040293358414,
          1.035242594603472,
          0.1966816685726236,
          0.3847665380350872,
          0.7072024163236563,
          -0.26593833949805196,
          1.4747590959870494,
          -1.751995119196877,
          0.17988026543070157,
          -1.3379915979797299,
          0.631918795501498,
          -0.9234956447821842,
          -1.4681823464468258,
          0.5680591706120531,
          0.2879733798744301,
          -0.9354857968050859,
          -0.3606194964723603,
          0.9754539862559809,
          1.5918261827893228,
          -0.7444480085110019,
          -0.8035718480865381,
          -0.08987312125810594,
          1.4569989294007042,
          2.146830606662301,
          -1.1688703526550321,
          -1.1875710644023856,
          -2.343793298852141,
          0.08320485358210858,
          0.4116106803967142,
          -0.5764358883199278,
          0.19407353449708933,
          0.8118940166658237,
          -0.16968896744213538,
          0.9158868346018655,
          0.1476255875052149,
          -1.860550228344826,
          0.2353133725134601,
          0.01584747842216081,
          0.6382242817595014,
          -1.3246364388361829,
          -1.2105838510279585,
          -0.3061774590028071,
          1.0469119372189235,
          -0.1322398559203635,
          -0.39644764252826814,
          0.9137115089222017,
          0.7778627840262837,
          -0.9494821686265483,
          1.5657025263677555,
          1.0862348903299368,
          -0.6405299328431497,
          0.02016885671117149,
          2.4333135324981203,
          0.520678818178165,
          -0.09491821489798327,
          -0.6507083672082993,
          -0.23545899788902097,
          -1.44884886121048,
          1.1566316170739306,
          0.2525920250836712,
          -0.8295369176499225,
          -0.6549406012465872,
          1.1260325085384388,
          -0.6399788849454516,
          -0.08550891930021527,
          1.0296953013670935,
          -0.6673261368958462,
          -0.8559470409069816,
          -1.5038277510063995,
          -0.6110466103365475,
          -0.25651276725452565,
          0.16607860327669433,
          -0.060149729456325574,
          -1.3424266779894087,
          0.017661488635338007,
          -0.18637131397021514,
          -0.26059362774914796,
          0.015100019893254466,
          1.0526582714838733,
          -0.5246470699919091,
          -1.0069516368379567,
          0.8916247304434833,
          1.1041423378692674,
          0.5508569670564926,
          -1.907506242403317,
          1.4659104165469776,
          -0.19200032198109335,
          -0.25285557038288786,
          -1.3350795105639888,
          -0.267645001505278,
          -0.38640999284493566,
          0.5327712189819139,
          0.3167451032262826,
          -0.40607984509101375,
          0.7899459882684103,
          -1.1313169280882909,
          -1.4864860244673912,
          0.7291656325989165,
          -1.0934910656342327,
          0.24850516768290024,
          -0.8840444513185701,
          0.38468709491132047,
          -0.27017739213025793,
          1.1813897009500223,
          0.4888234186911122,
          0.7388054959646896,
          -0.34444027096765945,
          0.12647276482130318,
          -0.6268401039857417,
          1.170963607629918,
          -0.25001311088268424,
          -0.5281138645699097,
          0.2785699506913256,
          -0.23382631781420737,
          0.5682643014765775,
          1.9478694886180932,
          -0.3051600033002107,
          -0.2787037593846739,
          -0.8105483068829449,
          0.49932624856016616,
          1.8022511921329665,
          0.09849179396939119,
          -1.2075622142588414,
          -0.42647441207889647,
          -0.4541711597605433,
          -0.743316321975878,
          -0.39123521448530924,
          -1.4032916489980078,
          -0.16035885759593685,
          0.8926607423103371,
          -0.570132886256331,
          -1.0515555087428077,
          0.820452267394931,
          -1.2887631833975792,
          0.4360932468251382,
          0.23916417629238124,
          -0.6742419178008491,
          -1.0967478632549037,
          0.5165998725139549,
          -0.17319152579184702,
          0.5716110842700569,
          -0.3954520708393579,
          -1.1090816544412871,
          0.8982929754848165,
          0.9772726905469585,
          -0.6711689193063879,
          -0.37909306517130287,
          -0.18823717351636982,
          -0.23613399729658535,
          0.7785792851124942,
          -0.4299701287839652
         ]
        }
       ],
       "layout": {
        "template": {
         "data": {
          "bar": [
           {
            "error_x": {
             "color": "#2a3f5f"
            },
            "error_y": {
             "color": "#2a3f5f"
            },
            "marker": {
             "line": {
              "color": "#E5ECF6",
              "width": 0.5
             }
            },
            "type": "bar"
           }
          ],
          "barpolar": [
           {
            "marker": {
             "line": {
              "color": "#E5ECF6",
              "width": 0.5
             }
            },
            "type": "barpolar"
           }
          ],
          "carpet": [
           {
            "aaxis": {
             "endlinecolor": "#2a3f5f",
             "gridcolor": "white",
             "linecolor": "white",
             "minorgridcolor": "white",
             "startlinecolor": "#2a3f5f"
            },
            "baxis": {
             "endlinecolor": "#2a3f5f",
             "gridcolor": "white",
             "linecolor": "white",
             "minorgridcolor": "white",
             "startlinecolor": "#2a3f5f"
            },
            "type": "carpet"
           }
          ],
          "choropleth": [
           {
            "colorbar": {
             "outlinewidth": 0,
             "ticks": ""
            },
            "type": "choropleth"
           }
          ],
          "contour": [
           {
            "colorbar": {
             "outlinewidth": 0,
             "ticks": ""
            },
            "colorscale": [
             [
              0,
              "#0d0887"
             ],
             [
              0.1111111111111111,
              "#46039f"
             ],
             [
              0.2222222222222222,
              "#7201a8"
             ],
             [
              0.3333333333333333,
              "#9c179e"
             ],
             [
              0.4444444444444444,
              "#bd3786"
             ],
             [
              0.5555555555555556,
              "#d8576b"
             ],
             [
              0.6666666666666666,
              "#ed7953"
             ],
             [
              0.7777777777777778,
              "#fb9f3a"
             ],
             [
              0.8888888888888888,
              "#fdca26"
             ],
             [
              1,
              "#f0f921"
             ]
            ],
            "type": "contour"
           }
          ],
          "contourcarpet": [
           {
            "colorbar": {
             "outlinewidth": 0,
             "ticks": ""
            },
            "type": "contourcarpet"
           }
          ],
          "heatmap": [
           {
            "colorbar": {
             "outlinewidth": 0,
             "ticks": ""
            },
            "colorscale": [
             [
              0,
              "#0d0887"
             ],
             [
              0.1111111111111111,
              "#46039f"
             ],
             [
              0.2222222222222222,
              "#7201a8"
             ],
             [
              0.3333333333333333,
              "#9c179e"
             ],
             [
              0.4444444444444444,
              "#bd3786"
             ],
             [
              0.5555555555555556,
              "#d8576b"
             ],
             [
              0.6666666666666666,
              "#ed7953"
             ],
             [
              0.7777777777777778,
              "#fb9f3a"
             ],
             [
              0.8888888888888888,
              "#fdca26"
             ],
             [
              1,
              "#f0f921"
             ]
            ],
            "type": "heatmap"
           }
          ],
          "heatmapgl": [
           {
            "colorbar": {
             "outlinewidth": 0,
             "ticks": ""
            },
            "colorscale": [
             [
              0,
              "#0d0887"
             ],
             [
              0.1111111111111111,
              "#46039f"
             ],
             [
              0.2222222222222222,
              "#7201a8"
             ],
             [
              0.3333333333333333,
              "#9c179e"
             ],
             [
              0.4444444444444444,
              "#bd3786"
             ],
             [
              0.5555555555555556,
              "#d8576b"
             ],
             [
              0.6666666666666666,
              "#ed7953"
             ],
             [
              0.7777777777777778,
              "#fb9f3a"
             ],
             [
              0.8888888888888888,
              "#fdca26"
             ],
             [
              1,
              "#f0f921"
             ]
            ],
            "type": "heatmapgl"
           }
          ],
          "histogram": [
           {
            "marker": {
             "colorbar": {
              "outlinewidth": 0,
              "ticks": ""
             }
            },
            "type": "histogram"
           }
          ],
          "histogram2d": [
           {
            "colorbar": {
             "outlinewidth": 0,
             "ticks": ""
            },
            "colorscale": [
             [
              0,
              "#0d0887"
             ],
             [
              0.1111111111111111,
              "#46039f"
             ],
             [
              0.2222222222222222,
              "#7201a8"
             ],
             [
              0.3333333333333333,
              "#9c179e"
             ],
             [
              0.4444444444444444,
              "#bd3786"
             ],
             [
              0.5555555555555556,
              "#d8576b"
             ],
             [
              0.6666666666666666,
              "#ed7953"
             ],
             [
              0.7777777777777778,
              "#fb9f3a"
             ],
             [
              0.8888888888888888,
              "#fdca26"
             ],
             [
              1,
              "#f0f921"
             ]
            ],
            "type": "histogram2d"
           }
          ],
          "histogram2dcontour": [
           {
            "colorbar": {
             "outlinewidth": 0,
             "ticks": ""
            },
            "colorscale": [
             [
              0,
              "#0d0887"
             ],
             [
              0.1111111111111111,
              "#46039f"
             ],
             [
              0.2222222222222222,
              "#7201a8"
             ],
             [
              0.3333333333333333,
              "#9c179e"
             ],
             [
              0.4444444444444444,
              "#bd3786"
             ],
             [
              0.5555555555555556,
              "#d8576b"
             ],
             [
              0.6666666666666666,
              "#ed7953"
             ],
             [
              0.7777777777777778,
              "#fb9f3a"
             ],
             [
              0.8888888888888888,
              "#fdca26"
             ],
             [
              1,
              "#f0f921"
             ]
            ],
            "type": "histogram2dcontour"
           }
          ],
          "mesh3d": [
           {
            "colorbar": {
             "outlinewidth": 0,
             "ticks": ""
            },
            "type": "mesh3d"
           }
          ],
          "parcoords": [
           {
            "line": {
             "colorbar": {
              "outlinewidth": 0,
              "ticks": ""
             }
            },
            "type": "parcoords"
           }
          ],
          "pie": [
           {
            "automargin": true,
            "type": "pie"
           }
          ],
          "scatter": [
           {
            "marker": {
             "colorbar": {
              "outlinewidth": 0,
              "ticks": ""
             }
            },
            "type": "scatter"
           }
          ],
          "scatter3d": [
           {
            "line": {
             "colorbar": {
              "outlinewidth": 0,
              "ticks": ""
             }
            },
            "marker": {
             "colorbar": {
              "outlinewidth": 0,
              "ticks": ""
             }
            },
            "type": "scatter3d"
           }
          ],
          "scattercarpet": [
           {
            "marker": {
             "colorbar": {
              "outlinewidth": 0,
              "ticks": ""
             }
            },
            "type": "scattercarpet"
           }
          ],
          "scattergeo": [
           {
            "marker": {
             "colorbar": {
              "outlinewidth": 0,
              "ticks": ""
             }
            },
            "type": "scattergeo"
           }
          ],
          "scattergl": [
           {
            "marker": {
             "colorbar": {
              "outlinewidth": 0,
              "ticks": ""
             }
            },
            "type": "scattergl"
           }
          ],
          "scattermapbox": [
           {
            "marker": {
             "colorbar": {
              "outlinewidth": 0,
              "ticks": ""
             }
            },
            "type": "scattermapbox"
           }
          ],
          "scatterpolar": [
           {
            "marker": {
             "colorbar": {
              "outlinewidth": 0,
              "ticks": ""
             }
            },
            "type": "scatterpolar"
           }
          ],
          "scatterpolargl": [
           {
            "marker": {
             "colorbar": {
              "outlinewidth": 0,
              "ticks": ""
             }
            },
            "type": "scatterpolargl"
           }
          ],
          "scatterternary": [
           {
            "marker": {
             "colorbar": {
              "outlinewidth": 0,
              "ticks": ""
             }
            },
            "type": "scatterternary"
           }
          ],
          "surface": [
           {
            "colorbar": {
             "outlinewidth": 0,
             "ticks": ""
            },
            "colorscale": [
             [
              0,
              "#0d0887"
             ],
             [
              0.1111111111111111,
              "#46039f"
             ],
             [
              0.2222222222222222,
              "#7201a8"
             ],
             [
              0.3333333333333333,
              "#9c179e"
             ],
             [
              0.4444444444444444,
              "#bd3786"
             ],
             [
              0.5555555555555556,
              "#d8576b"
             ],
             [
              0.6666666666666666,
              "#ed7953"
             ],
             [
              0.7777777777777778,
              "#fb9f3a"
             ],
             [
              0.8888888888888888,
              "#fdca26"
             ],
             [
              1,
              "#f0f921"
             ]
            ],
            "type": "surface"
           }
          ],
          "table": [
           {
            "cells": {
             "fill": {
              "color": "#EBF0F8"
             },
             "line": {
              "color": "white"
             }
            },
            "header": {
             "fill": {
              "color": "#C8D4E3"
             },
             "line": {
              "color": "white"
             }
            },
            "type": "table"
           }
          ]
         },
         "layout": {
          "annotationdefaults": {
           "arrowcolor": "#2a3f5f",
           "arrowhead": 0,
           "arrowwidth": 1
          },
          "autotypenumbers": "strict",
          "coloraxis": {
           "colorbar": {
            "outlinewidth": 0,
            "ticks": ""
           }
          },
          "colorscale": {
           "diverging": [
            [
             0,
             "#8e0152"
            ],
            [
             0.1,
             "#c51b7d"
            ],
            [
             0.2,
             "#de77ae"
            ],
            [
             0.3,
             "#f1b6da"
            ],
            [
             0.4,
             "#fde0ef"
            ],
            [
             0.5,
             "#f7f7f7"
            ],
            [
             0.6,
             "#e6f5d0"
            ],
            [
             0.7,
             "#b8e186"
            ],
            [
             0.8,
             "#7fbc41"
            ],
            [
             0.9,
             "#4d9221"
            ],
            [
             1,
             "#276419"
            ]
           ],
           "sequential": [
            [
             0,
             "#0d0887"
            ],
            [
             0.1111111111111111,
             "#46039f"
            ],
            [
             0.2222222222222222,
             "#7201a8"
            ],
            [
             0.3333333333333333,
             "#9c179e"
            ],
            [
             0.4444444444444444,
             "#bd3786"
            ],
            [
             0.5555555555555556,
             "#d8576b"
            ],
            [
             0.6666666666666666,
             "#ed7953"
            ],
            [
             0.7777777777777778,
             "#fb9f3a"
            ],
            [
             0.8888888888888888,
             "#fdca26"
            ],
            [
             1,
             "#f0f921"
            ]
           ],
           "sequentialminus": [
            [
             0,
             "#0d0887"
            ],
            [
             0.1111111111111111,
             "#46039f"
            ],
            [
             0.2222222222222222,
             "#7201a8"
            ],
            [
             0.3333333333333333,
             "#9c179e"
            ],
            [
             0.4444444444444444,
             "#bd3786"
            ],
            [
             0.5555555555555556,
             "#d8576b"
            ],
            [
             0.6666666666666666,
             "#ed7953"
            ],
            [
             0.7777777777777778,
             "#fb9f3a"
            ],
            [
             0.8888888888888888,
             "#fdca26"
            ],
            [
             1,
             "#f0f921"
            ]
           ]
          },
          "colorway": [
           "#636efa",
           "#EF553B",
           "#00cc96",
           "#ab63fa",
           "#FFA15A",
           "#19d3f3",
           "#FF6692",
           "#B6E880",
           "#FF97FF",
           "#FECB52"
          ],
          "font": {
           "color": "#2a3f5f"
          },
          "geo": {
           "bgcolor": "white",
           "lakecolor": "white",
           "landcolor": "#E5ECF6",
           "showlakes": true,
           "showland": true,
           "subunitcolor": "white"
          },
          "hoverlabel": {
           "align": "left"
          },
          "hovermode": "closest",
          "mapbox": {
           "style": "light"
          },
          "paper_bgcolor": "white",
          "plot_bgcolor": "#E5ECF6",
          "polar": {
           "angularaxis": {
            "gridcolor": "white",
            "linecolor": "white",
            "ticks": ""
           },
           "bgcolor": "#E5ECF6",
           "radialaxis": {
            "gridcolor": "white",
            "linecolor": "white",
            "ticks": ""
           }
          },
          "scene": {
           "xaxis": {
            "backgroundcolor": "#E5ECF6",
            "gridcolor": "white",
            "gridwidth": 2,
            "linecolor": "white",
            "showbackground": true,
            "ticks": "",
            "zerolinecolor": "white"
           },
           "yaxis": {
            "backgroundcolor": "#E5ECF6",
            "gridcolor": "white",
            "gridwidth": 2,
            "linecolor": "white",
            "showbackground": true,
            "ticks": "",
            "zerolinecolor": "white"
           },
           "zaxis": {
            "backgroundcolor": "#E5ECF6",
            "gridcolor": "white",
            "gridwidth": 2,
            "linecolor": "white",
            "showbackground": true,
            "ticks": "",
            "zerolinecolor": "white"
           }
          },
          "shapedefaults": {
           "line": {
            "color": "#2a3f5f"
           }
          },
          "ternary": {
           "aaxis": {
            "gridcolor": "white",
            "linecolor": "white",
            "ticks": ""
           },
           "baxis": {
            "gridcolor": "white",
            "linecolor": "white",
            "ticks": ""
           },
           "bgcolor": "#E5ECF6",
           "caxis": {
            "gridcolor": "white",
            "linecolor": "white",
            "ticks": ""
           }
          },
          "title": {
           "x": 0.05
          },
          "xaxis": {
           "automargin": true,
           "gridcolor": "white",
           "linecolor": "white",
           "ticks": "",
           "title": {
            "standoff": 15
           },
           "zerolinecolor": "white",
           "zerolinewidth": 2
          },
          "yaxis": {
           "automargin": true,
           "gridcolor": "white",
           "linecolor": "white",
           "ticks": "",
           "title": {
            "standoff": 15
           },
           "zerolinecolor": "white",
           "zerolinewidth": 2
          }
         }
        }
       }
      },
      "text/html": [
       "<div>                            <div id=\"0fdbd0d7-87a0-48d4-be90-4869983330f4\" class=\"plotly-graph-div\" style=\"height:525px; width:100%;\"></div>            <script type=\"text/javascript\">                require([\"plotly\"], function(Plotly) {                    window.PLOTLYENV=window.PLOTLYENV || {};                                    if (document.getElementById(\"0fdbd0d7-87a0-48d4-be90-4869983330f4\")) {                    Plotly.newPlot(                        \"0fdbd0d7-87a0-48d4-be90-4869983330f4\",                        [{\"contours\": {\"coloring\": \"heatmap\"}, \"type\": \"histogram2dcontour\", \"x\": [1.42431316800419, 0.2922182565191422, -0.6100348274522979, -0.07094880089610478, -1.0875521314683105, -0.943294804765724, 0.2520054105212392, 0.49434146967079606, 0.27232192962409524, 0.3805893349470849, -0.829839488136048, 1.1697509751803346, 1.8390531772692917, -0.5066186871716518, -0.3315153312342153, -0.4182508051176748, 0.9841225543292499, 0.7501863892782219, -0.26667512800741633, 1.2714680023306784, 1.016925328759142, -0.38622389933248064, -0.3824023500492277, -1.2416301941043006, -0.6681726901403843, 0.5239956103800222, 1.8308848349313378, 0.08527061714781269, 1.6633794820526668, 1.012114503200857, -1.3726186585600308, -0.021856983995307087, -0.08890616835059166, -0.7976239554288559, 0.64835854573148, -0.3375678877392042, -1.8454847620931605, -0.0317189398152935, 1.6173374315860554, 1.4713424681077192, -0.2710526580788573, 0.4439024257122562, -0.16228844660477257, -0.3774021696053779, 0.7041043323187216, 0.23733136321374362, -0.2200184574505608, -1.0557179063205977, 0.4947981329456479, 1.1958589583923676, 1.264636524173858, -0.9282928646731828, -1.3818432459876142, 0.4558820593391029, -0.9231284576626322, 0.7652090725797314, 0.7778605134780658, 0.24149443294305098, -0.13567880474989547, 0.29488657303203236, 1.5410343269902875, -0.5307465515858928, 0.27709016032722183, -0.7570909317552551, -0.47208065018911505, -0.9927233953437579, -2.1664833360551317, 1.7075616613545936, -2.3241489463880294, 0.8135190486843292, -1.1270257667858674, 0.2719933293113927, -0.7542318016955715, 1.2752352542422607, -0.6281802962396802, 0.011880483543172362, 1.180391699105607, -1.0710457239042814, 0.879111466560403, -0.3302691455803222, -0.29060172356100766, -0.8518040216014625, -0.21392981816319484, 2.073945483896399, 0.566436870947907, -0.08698850424588954, -0.032809670781324345, -0.6580956792833053, 0.4706258410282746, 0.49821970035212515, 0.18335629439364987, 0.8829290487420969, 1.2876303015877442, -1.4819878050829292, -0.2098851366298537, -0.692085763689496, -1.833165193880717, -0.6953048337883776, -0.22701207029774512, 0.05266312215905663, 2.3925956574254736, 0.7807067146985381, -0.7986361331354414, 1.0951299174183322, -0.18574111960745057, -0.20208786266858939, 0.35084518554897876, 0.22098617560583972, 0.054456653900521, 0.13185924713870692, -0.429028807509428, 0.07835673377525475, -0.1758778251643518, -2.122317218371569, -1.3332252370675297, 0.44778474575463945, 1.2324619512369792, -0.6040291649221279, 0.722281529549575, -0.1889471624772625, -0.4728980180704642, 0.17910793955374613, 1.4841565163738217, -0.3778990900067518, -1.29327902833167, -1.669594532030794, 1.1085110204450876, -1.5399617585852898, 0.6026228641201324, -0.5455816744409049, -0.6393777988262168, -0.8020341277254754, -0.612205855701985, -3.3679290920196245, 0.4480960246728102, 0.3824212983790248, 0.7734798051907767, 0.6800454755655541, -0.6522057728784115, -0.31907966334175125, -1.2625578941133822, -0.6148158614573113, 2.557152480858925, 0.6968272216835458, -1.7740508777909794, -0.12767167401023582, 0.40977927567901407, -1.5112180292339517, 0.6360540058577676, -2.3243670662709164, 1.849106831954565, -0.3672753924644618, -1.391503510824001, -2.296410321251444, 0.6943813609259122, -0.9316724532457522, 1.1622037431083687, 1.3018501575981154, -0.5804727658660168, 0.720857317560387, 0.147443570792732, -1.2392580303072103, 0.10385165267494606, -0.8422269324817243, -0.5602020776345811, 1.543026695456277, -0.17099932309855542, 0.07021046401131507, 0.6030198470183825, -1.6580640605236594, 0.2055678136162885, -0.5862010272391797, -0.9333351386020883, -0.18346371715188617, 1.1488665091862875, 1.4775075777566804, -1.93005881203239, 0.5519510572006564, 0.6283272351634334, 0.853836459110897, 0.8027376920221463, 0.5785281137131709, -0.48558497796632605, -0.7059471224393973, 0.593582324141747, -0.5056247150204577, -0.0073346395092963755, -0.2638004661441709, -2.5040729888961195, -0.02936367750398442, -0.5326571359677067, -0.9296124086761933, 0.099458970696871, 0.14045752582164187, 0.5157605090674557, -1.3157399815667685, -1.4221844830876664, 0.00953499121309903, 1.9986783072076637, -0.4123648113721794, 0.5175171765699984, -0.09303868989447976, 0.11520014248469966, -0.9401699587097442, 0.6977574340238137, -1.350217807758408, 0.7701998010403553, 2.681438321435926, 0.6510777893252306, 0.2919268608821053, 0.5863047966729625, -0.0004482997268756463, 0.690563301893188, 2.6723364591090903, 0.18786747455797168, 1.0081696917367626, 0.6577389595547982, -2.2206367587664166, 0.4922093916580662, 0.10519710433365373, 1.9301540092366605, -0.018613901486843894, 1.3821277840286197, 0.9913476896126822, 1.6942301144931444, -0.3348084146045354, 0.6349248444478021, -0.803006475326154, 1.304666016304632, 1.158502803754109, 0.9858840497827099, 0.5947356382769492, -0.7166595652153666, -0.9006602157590798, -0.7185655473761847, 0.11453131052680629, 0.36381025224451685, 0.4075490190884983, -1.9057616853818053, 0.24924838815529338, -0.9738930290483766, -0.6170958221227054, -0.08143300855218993, 0.6051278609148876, -0.8976687359893912, 1.5223865085714343, 0.49738802436180174, -2.293869980286339, -1.3587279342438305, -1.0282884541834396, -0.2448153297781602, -1.7150202008844448, 0.11248474929268219, 1.385379985041507, 1.2614433224907722, 0.38833078354605993, -0.22101289372698232, -0.34539263869327047, -0.13627594375118182, 2.2030760235268185, 1.0673533803998385, 0.019826757623031887, 0.5522698216087577, -0.34132384745746663, 1.7616108230529417, -0.47191206018986653, 0.20732374982961713, 0.2840673862041888, 0.19366338258853852, 0.004770814683956002, -1.0196824588907065, -0.014576726304784949, 0.665363592490015, 0.651365921112465, 0.6501374632097269, 0.36597011674087837, 0.3956194755458353, 0.2843118812778929, 0.31278324016235104, -2.3268621067904536, 0.10158828059075493, 0.2734402601084191, 0.2558302004135467, 1.4429951191092663, 2.306701703126453, 1.441065114229481, -0.2850027830754901, 2.0131766642385185, 0.1446456059737324, -0.9159403004569516, -0.7511045455402257, 0.433914808370751, 1.8393407986688877, 0.16912220489116095, 1.1477755800456784, -0.5514150910992907, -1.315904600334546, 0.554478005621485, -0.433081490356974, 0.5211859790722011, -1.7659240327682175, -0.8617889593652067, 0.6165330808266558, 0.8881028977120725, -0.34707770225107637, -0.5390233304850125, -0.1489775422040875, -0.9236450613465444, -2.2159795293704447, -0.12566819099222865, -2.014128212563826, 2.258707028246153, 0.4982110566918419, 0.04366252643234646, 0.12063656344877619, -0.309781137919035, -2.0836547632801263, -0.25525327281211563, 0.6471472748150896, -0.7634986059601422, -0.1866537876800116, 0.5203672059840174, -0.11588737048969999, -1.1843728407511558, 0.31421341099064215, 0.53114354220503, -0.37115897927246033, -0.36241278041620734, -0.9907606355217957, 0.487576132807079, -1.3993161530834999, -1.4217240070940156, -1.4991366964830422, -1.5240618605087706, -1.6600834530135795, -2.555241006571509, -0.32739480280457534, -1.1041703137030219, 1.0988321806444104, 0.9202845022719446, -0.2197900388047018, -0.802410537949384, -0.15191973610507511, 0.7623713206352597, 0.2456469545185604, 1.1458405979731265, 1.7593608650952852, 0.8719811661656549, -0.9236492158365638, 0.40117542831199354, 0.5867969235232058, 0.3016901070886428, -2.270549330210612, 1.1705532972053392, 0.028369897054964465, 0.23023781369497553, -1.3326155681400897, 1.2370688802533931, 0.13539202259112432, 0.2994833130830155, 0.008751484697794564, 1.6554005822746027, -1.8659984422773375, 0.0181484806422532, 0.7350494954633617, -0.4994011973139804, -0.92384257721806, -0.9643003262045167, 1.306070960938494, -1.2475188432827788, -0.013528202082897053, -0.9044450974684392, -0.5318751126931559, 0.34879397833292697, 1.3896175806420406, 2.6927733204536497, 0.7219576893029197, 0.4445705421823254, -0.5046497909090298, 0.31734864317781947, 2.779698635126964, 0.23289572613083934, 0.7227255701163249, -1.0359277177552668, 0.38812249211393807, 0.6823357445974703, 1.7827072688353474, -0.5431216037232883, -0.3648059174057627, -0.18689793391824394, -0.9473521104661919, 0.9540465367069195, 0.5071211821380345, -0.9843483014808568, -0.3354887026533869, -0.14145029661626266, 1.4988761512106503, 0.39041862683195944, 0.23159913123660533, 0.22571010227602828, 0.15691508652385622, -1.0585836230471208, -0.9101234059611, 0.08872370821907964, 0.7028332043692737, -1.832257892853753, -0.5465827659579346, -2.973530240760106, 0.09475793958396683, -2.015098342346237, -3.2690845863562106, -0.5581825951681181, 1.0047381875406205, 0.8327364411288314, -0.2302624765205976, -0.6503535494306288, -0.38505907578719434, 0.2688716851162071, -0.7187025840704298, -1.8736867460197126, -0.9575947095187924, 1.8618489695388807, 1.237782386681308, 1.041727489974807, 0.17771776190478106, 0.7780349846757905, 1.7376030297888576, -0.41195711427508175, 0.8848438314978796, 1.8423120855714417, -0.9158076111181817, 1.2252761363744744, 0.26524814359731297, -1.8399135033136476, 0.5927423904188619, 1.4492451688451917, 0.44687442389991566, 0.7303073271509212, 0.8452337895957455, 2.248393177976788, 0.08549396013504645, -0.3379757651112369, -0.6266102889412306, -0.21146958836981017, 1.1058674308471625, 0.884464099976861, -1.3325303060422033, -0.22371317746947042, 0.23163391870889125, -0.626178671813615, -0.1585426776674212, 0.15522880587497878, 0.8796633042903437, 0.5700812546058468, -2.1970922309213616, 2.1328152677185264, 1.1952495160458725, -0.8374996967882561, 0.6334056766295442, -0.1218123224526366, 0.9057383203828356, 0.26073009082687937, -0.42062589652468835, 0.9201925129543025, 0.46962821229589746, -0.919689356657335, -0.27327965734059695, 0.5293620364057817, 0.007885480717027814, -0.042045165427549214, -0.10754847932919345, 1.5252862825678883, 1.4738826235396454, 0.5867612696574667, -0.6530273768291855, -0.036138978740661694, 0.5343019568789099, 1.6878058297444287, -0.9255764664597894, 0.08512775986802042, -0.4447425856347833, 0.9300514670687474, 1.9349579642898864, 0.5593079372847342, 0.8771223264665506, 0.055559496831610114, 2.2902537746973035, -0.45070318620309685, -0.9692582923292177, -1.8304629610350938, -0.22127105411459871, 0.658434660709964, -0.5071016934517294, -0.8888459823813869, 0.7499894058942689, -0.21211438033858906, -1.3695053742099539, 0.9362185613813431, 0.3334028450467918, -0.75014173772424, 0.47614330953087086, -2.4702028386371255, -1.5316794346199272, 0.31185816406648, -2.292707807702765, -0.5524877172307006, -1.560695426626466, 1.9778088024376135, -0.7502719663126268, 1.1539571384619982, -0.290200454148808, 0.3486844395056871, -2.665740083752868, -0.1080208515169499, 1.1825586562987112, -1.120096072215206, 0.377220938664019, -0.25705584557222627, -0.4208574923991147, 1.0902639191881822, 0.37678608581145107, 1.167321082770238, 2.619377399699231, 0.1115751799607544, -0.3266446297631061, 2.1111302517360975, -0.8207609963923261, -0.03379122558639761, 1.2099461157436504, -1.091078031791219, 1.603664583044717, 0.94190456770701, 1.5111557546322334, -0.6541431656119688, -0.677146247582849, 1.2757257873651453, 0.4819635588705428, -0.7119632387042715, -0.925460321580159, 1.4405934494600412, -0.38852551894383597, 0.36200621625861273, 0.45278461125582714, -0.5740570731740824, 0.717347540381428, -0.3154025647212963, -0.04832259045177461, -2.3915945326368435, 0.8439174318135625, 1.3821931065638955, 1.3040788961475553, -2.0703497552813377, 0.41701715333326317, -0.9595654171472069, -0.22221162977013242, 1.198565484330506, -0.18275548497838479, 0.4601005026616005, -0.1819147690495628, 0.01383042564498667, 0.35473747613359446, 0.9247142154206737, -0.6366211963530851, -0.8849639153748252, -0.8578707607930075, 0.8481780233052824, -0.4919204682126709, -1.0917876821949457, -0.8665364080492121, -0.829885458074469, 0.6102548267665248, 0.9507587635453227, -0.32830679184780187, -0.5796568976050226, 0.025751196860926313, 0.36075067717382664, -0.6939108004523488, 2.380883240055016, -1.375740292649016, 0.7602913298794663, -0.4335800843882645, 0.041639484932096425, -0.9695370057963736, -1.6960709625418187, 0.23412275926331097, -0.5359984691763159, 1.2366515384654564, -0.72359549248529, -1.37962826430378, -0.07129982435032135, 0.3594098807968462, -0.6968446085671282, 0.2954334977777223, 0.9349833263642747, 0.998152018192043, -2.078575040156901, -1.9777909756987744, -0.17447001864782954, 0.5956869250740121, -1.9826835685689137, -0.24234827327600006, 1.8004923086532598, -0.5247618216873561, -0.4991620849064127, -0.17787905347971544, 0.21360481671970388, -0.23965029290791104, 1.2187583519480532, 0.41729431791314586, 1.7327503789467082, 0.39860924560803657, 0.4064487738599096, -1.1811199354265551, 1.196567344411335, 1.5993962538732849, -0.17291451957965928, 1.182266546258266, 0.903369550005529, 0.6642606258487229, -0.7663566295771078, 0.528930584857256, 0.5912460967124876, 1.816344027615981, -0.48428291506927457, 0.13132205514607997, -0.03973057191265489, -1.5635812513109428, 0.9773672589052207, 0.8840211783248372, 0.05707140464302286, 1.0973692539448312, 0.5964296657973418, -0.4940077388908989, -0.4478469761050677, -0.5740081636944374, -0.5844078359145185, -0.7803984833749347, -0.46636137524668553, 0.007984370399890533, 1.173505368552129, 1.003325852745704, -0.23841217675514834, 0.9044245438098814, 0.09052778078414726, -1.1768339249690691, 0.4176639013203792, 1.8822722392917357, 1.2284470911549197, 1.2906583781322687, 1.021062763790283, -1.2186186471314515, 1.1926496207603237, -0.227188125604269, -0.18047403082491276, 0.41521064543681385, -0.00198006995436695, 1.0880623318974323, -0.11937895363624919, 0.5879461443563174, 1.9734529515439134, 0.8031484958026784, -0.33601698039282374, 0.5719157293511389, -0.5349729430814832, -0.8635711137448775, 0.28085309406284686, 1.1248285169948784, -0.5520908871013958, 0.7871270109251995, -0.27001871280239104, -2.0555160567515083, -0.4549963141528204, 1.193480737164374, 0.6647273837997433, -1.7216351252485416, 0.025674767150815143, -1.3531400651437349, -1.0813459654017723, -1.5105568292480331, 0.23282320707828869, 0.7439843550048392, 0.2625179533271903, -0.3258667365509017, 0.17698637158316488, 0.6194989424498346, 0.9741280714501276, -0.6804889612225948, 1.1381287142592642, -0.8525148497003802, 1.0808185630962632, -0.15875589638796117, -0.2701724237521375, -0.7182595831421843, -0.19864033477089602, 1.0454099097386758, -0.3304411958169905, 0.5183253516071563, -0.43466354846695204, -0.553661896499448, 1.2289186808579886, -0.42410450859244725, -0.007417776446561193, -1.3650982112973626, 0.7527451583873153, -1.9448544412291133, 0.111942818337635, 0.7794975937243019, -0.2058274936531856, -0.2665898528535607, 0.45048605833906413, 0.9440283835253238, -0.1756262211623761, 1.1085141343487732, 0.10532819059422893, 0.6001475838881162, 0.18947324356601505, -0.797202449034645, 1.8057358768665326, -0.7725655824813297, -0.9604472489616326, 1.0210619609383913, -0.09398746784068297, 1.4037008755151943, -1.9916081824219098, -0.3041161942918445, 0.6449344903928707, -1.4377436975054458, -2.854898348020883, 0.9554211431733414, -1.3157034210933272, 1.131296794213891, -0.9725777345381691, -0.3167953455138293, -0.8341898362128753, -1.5597202737547613, 2.225002287239809, 0.6162772516655851, 0.5607813762055376, 0.042555258190819456, 0.6836405923400644, 0.8195332859159062, 0.8857559596835567, 1.0789437383379745, -0.4570539053216243, -1.6759282960490502, -1.395663061153307, -1.9317790043899616, -0.6606438726456487, 0.6644336425523241, 0.33466214214751255, 0.38281296181305163, 1.7788289617180402, 0.8344110122985331, -0.5888374262902626, 0.3725430484202877, -0.4505970336840346, -0.5245431584662529, 1.509512590190122, -0.5332781211262724, 0.08822661942776529, -0.7788110967756611, -0.3124420610528633, -0.4930128954703697, -0.22356543013453775, -0.8493982842085416, 0.38683052735003814, 0.6005944292659534, 2.4691453030822745, -0.004782381111788935, -0.4304510287929226, -1.8759353739564881, 1.210914412238469, 2.019289884362341, 0.3616728752657935, 1.4461129763991964, 0.5499308009780699, 1.3073914458527116, 0.17012032212733422, 0.07256062998596242, -0.12807756186709823, 0.6069887641815936, -0.6804733959869141, -0.5753827099743982, -1.731563967855412, -1.629803790432608, -0.1532358930787495, 0.09818929507358884, -0.7482575412944625, 0.7016581017916643, -1.239764479327604, -0.7935945023499867, -0.40732569122008594, 0.6320905666061836, -1.041717239350029, 0.8344871160415444, 0.5038571465961764, 0.700698617212064, 0.012397245472072181, 1.0469890603850647, -2.4179942142151782, -0.10719817341250955, 1.3073422268298223, -0.394078866984992, 1.662986019689017, 0.41713731379340246, -0.22867396248908434, -1.9822904996146002, 0.23586911743157676, -0.03906682569860976, -0.625691800579214, 0.11248656678768552, -0.5060079709370368, -0.155886680988086, 2.2349497014100437, -0.8519471208529564, -0.2307362627661558, -1.9548631526986575, 0.7722854777044162, -1.1397112485822398, 0.1598798139537397, 0.5611070798263372, -1.6975292189817996, -1.1700972337103286, -0.016805870590801113, 0.08154871098857838, 0.9955843491117767, 1.272178611155095, 0.229951127124336, 0.502501767540986, 2.116296080669068, 0.4997700232259598, -1.2583372189392528, -0.15934613092248787, 0.13613028010034361, -0.9170312379979081, -0.984423810021442, -0.6967002882955794, 1.048522545940373, -0.5205374459479339, -0.44567091728787744, -0.38282663033413644, 0.048228927447765295, 0.208561710726164, 0.48982259710610615, -0.38894043288145724, -0.41691919217030027, 1.7329252064497014, -0.3214494002387769, -1.921189450893121, -0.34773622719809066, 1.2663738506790658, -0.6544968037745399, -0.5538432997624618, 0.3207289130313743, -2.332742961761917, 1.0966138928222187, 2.283350947566283, 0.280532348149601, -2.4231576456698325, 1.1534929362569148, -1.0935898202896537, 1.4095562575500074, -1.3100235837556298, 0.32935920323484197, -0.14281293165270498, 0.6325812546731922, -1.5039330298007338, -0.3279222852679739, -2.70333575173905, 0.21433392306819074, 0.19030115715961826, 0.5429125790684687, 0.8001033885573443, 1.1483964073061608, -0.054580443061213194, -1.224229448494428, -0.8587309773369877, 0.8823083634758195, -0.03626384857610675, 0.6047297442589703, -1.0235891018167338, -0.052547193575969015, -0.45722383896020113, -0.773145651478684, -0.04269542451366998, -0.46958610775267573, 0.5770990997272948, -0.9641420181581055, 0.08195141855047339, -1.9456365627432668, -0.5672493776971841, -0.22478485695629097, 0.21473700201788326, -0.7820384473594786, -0.2974559497522951, 1.2856666860876964, -1.8390077366766915, -1.3019654983143636, 0.15949174120485712, 0.92537623171937, 1.4295360056930584, -1.0101627010563343, 0.6118698005092154, 0.27758824378759406, 1.7296497862711473, 1.0804942351897404, -0.3929579901737725, 0.8009149305879922, 0.02612213770491798, -0.27158874426081736, -1.056194008032588, 0.8225715057821306, -0.6524590577324584, -0.14867268798105945, 0.25926080124202777, 0.46853101897444577, -1.80975152014962, -0.5481010768773106, 0.20527654876191048, 0.16719329552326265, 1.4840170240573851, 1.3356030533022767, -0.3677255497182877, -0.3459273160720455, -0.007386049652660808, -0.16382443862925714, 0.8636110468401933, 0.338893592168206, -1.225451530460807, 0.32903955593971274, 1.71606138384416, 0.8716477122475468, -1.4103736801207523, -0.09802375832259765, 0.7862829463358476, 2.457613981208097, -2.5788086435311093, 0.8862815039309643, 0.08676964544209716, -0.4892131042985004, 0.8867271717670737, -0.974877069909773, 0.8813857611124691, -1.862757272242469, 1.008753785764516, 0.5475556178927662, 2.080514802654304, 1.6330030486107332, 1.265874071225509, 0.18491665585531425, 1.3405569987445634, 0.7463567575769356, -2.3415281287314986, 0.4687291004018643, -0.4995663377546732, -0.5492906088089761, -0.625397722170518, 1.800774130977427, -0.9991470735024377, -0.1770915886301593, -0.9959174356282895, -1.064473740090723, -1.6717506523087344, -0.026245623756728162, 0.4822484635005369, -0.4985148168132472, -1.4813433315754956, -0.5517703401555623, -0.24747299338510267, -1.0654845241969642, -0.9949604042551639, -0.7960096496599853, 1.3209678531740867, 1.2239806288226907, 0.9440665286768432, 1.1828098215934209, -1.510375395656219, 0.7782164022851481, 1.2448485697269918, -0.4933794581439353, 0.4474401526854192, -0.9418260993637668, -0.8149779933972389, -1.8110900615633911, 0.6331518718835187, 0.9645918181555554, -0.061210944634818305, -1.103426783975047, -0.1359774246944414, 0.38507484979264384, -0.6391193089103937, -1.3316142411450778, -0.15974631768096403, 1.0456853393278043, -1.2662179592509604, 1.6313344908764065, 0.33310134947253817, 0.451174404372594, 0.7258793848141074, 0.9781592702237368, 0.029224435361392073, -1.1201417857545672, -1.48999157078779, -1.52206248738977, -1.5866643833987208, 0.45943275809354034, -0.4445198207764939, -0.7156106569095722, 0.550297132931224, 0.9965800388479044, -1.0671042357419884, 1.703814634656487, 0.12862446775908787, -0.72042900975028, 1.733026516075144, -1.266896682839602, -1.6467930701794833, -1.0132782924117696, 0.36994461995517103, -0.44871327275606576, 0.9935496135032181, -0.7057598026739381, -1.2701199462275787, 0.9343909562521142, 0.7530839984565115, -0.8385385539877381, -0.07755402638625473, -1.4903425756804842, -0.055050811411817877, 1.3911454780175474, 0.11227014342176724, 1.2056600717319568, 1.2254028293439003, -0.13184031758377754, -0.06282947391869086, -0.059253482351952075, -1.2300622240701595, -0.6529314623700169, 0.40983283918353874, 0.6202185555173818, 1.6048686526297908, 0.5986999982330765, 2.7693837672259294, 0.18126062982330043, 0.08130198195713638, 0.06391028584836511, -0.04350385071537177, 1.025351672536392, -0.29801496895086116, -2.405220751713765, 0.4804021350328186, -1.0264061556595514, 0.1077630926812578, 0.026877885882814454, -0.7097749753749347, 0.05079102358619811, 1.1583825826528837, -0.03684774174941383, 0.24866888134332418, -1.11301073290521, -0.3827611464147158, 0.1557914742774703, -1.3631954167217273, -0.14083490655390005, -0.21923423098244166, 0.7694303623928017, 0.06878597652962369, -0.661749226741707, 2.3235037973200487, 0.862949053177203, -1.2827301296993807, -0.8309977602085322, -0.5851593030765243, -0.02864795626610706, -0.07729167885932721, 0.408236211957614, -0.37844953519493846, -0.009551243285603592, -0.3587633353916176, 0.14545586289492332, -0.3881290042006176, 1.0356877857820195, 1.7058671664311056, 1.622325545201905, 0.165532694132968, 1.0657434218901747, 0.06764257397618414, -0.8832535888108798, 0.9008688965630756, 0.8601926880847597, 0.19692879597700355, -1.5043690466600277, -0.3646488684346444, 0.005040275394178747, -0.8501316444900234, -0.47491448391126617, -0.5150557722897267, -1.6041455095832753, -0.927523129996315, -0.44572655343373085, 0.40357958161623503, 1.2242767659127434, -0.6486619518940894, -0.14386136327000898, -0.2796686870540148, 0.7141084437814894, 0.383877531573112, -0.5471644994553316, 0.06306447294773632, -0.7239630350068966, 0.22336948645197602, 0.543478673335813, 0.6759047424909189, -0.10353672721053608, -1.0069323461533388, 0.4780765430642611, 0.5360192163747783, -0.07585942906914486, 0.2720677765873192, 1.5887095081737324, 0.8846579518025123, -0.894867759373168, 0.4046948814401597, -0.25217105199609224, -0.8877835046217515, 0.5588544564987117, -0.20614759001785174, 0.26101539592846434, -1.6210661060137979, 0.021366902709676113, 1.1111018550057161, 0.19422995560594825, -1.5152763873493058, -1.5763064069985364, -0.5468579604741626, 0.047216736241846156, -1.0943817492828607, 1.6338121690832184, -0.7611620130254235, -0.00608609892767533, 0.25856801127707124, 2.522690496956681, -0.7908819897454381, 0.4543728288400314, 0.18258186245204241, -1.0414986635631864, -0.4362333350820449, 0.18483179937933755, 0.16215939424950335, 0.25914918422983807, -1.293139474697232, 0.17805789921871312, 0.599427549883223, 2.2526419818200907, -1.5409261035020307, 0.5827941669163375, 0.11156309151906363, -1.4903336263498181, 0.43302425627460617, 1.8673541096803798, 0.6211041200808303, -1.0444323828425106, -0.1514692873506602, 2.5116890412484056, 1.3777436301638721, 0.36474414995545923, -0.1584903394058671, 0.591459186748123, -0.026600307012573748, -0.7103107069192749, 0.9778125322284893, -0.45385505816307553, 1.5294075121702146, 1.607411085575797, 0.9646791851758485, -1.3983780450449215, -0.4409811061664525, 0.47771665825460624, 0.8660536506357042, 0.22129587362222367, -0.005534710756927321, 0.5456735612049392, -0.11636812089275275, 0.4705185292840031, -0.907854984226408, -0.2523897762459156, 0.9698463642024757, -1.2652819444058725, 0.20403137138316135, 0.7040942667786253, 0.5140177328339119, -1.7281502644692333, -0.2610396130734365, -0.43718153289750084, 0.13240976315304995, -1.760360639084398, 0.22218218887777658, 0.27344818886638655, 0.9296827788140792, 0.3481809446730489, 0.022489791785071798, -0.34362285495753825, 0.429031973735929, -1.6418320631050993, 1.0513603279633557, -1.1863113461126724, 0.5214816767616526, -0.914737958755058, -0.291663675332157, -0.43017733630263433, -0.4485626798058901, -0.5238408353092249, 0.17232008078836306, 0.4903097487494351, 0.6790669449498081, 1.109667870658943, 0.5342839976993767, -0.32284462369182265, 0.6320296889362721, 0.4518213576286462, -0.4406389526548206, -0.5619622363277085, -0.1976034038700527, 0.10056880952387508, 1.2494403667258889, 0.36252609402311414, -0.7328607789612843, -1.1413479669289133, 0.6387029211570731, -0.002267159003717601, -0.42759659774144043, 1.1221784302164464, -0.17225294421667545, 0.06803722977773154, -2.1693544510960083, 0.3751721637515596, -0.02396195676467065, 0.16056481832871047, -0.12760468700519131, 0.4964251156986192, -1.969601713795734, 0.022332201668904518, -0.21682422247896818, -1.1208549329897073, 0.9383325757725238, 2.186461679726421, 1.036950789784145, 0.9069136885729824, -0.9655381224807246, 1.8313664243636512, 0.41526189191433105, -1.0425042682654733, -0.5075980553747083, -0.6453494301312555, -1.1521058368497736, 0.19048710986331002, 0.8213569651630045, -0.6343582644168075, -2.1548144145349393, -0.6539582437720404, -1.1346305445952591, 0.5309530816987225, -0.39978273864069475, -1.0905390091698537, 0.293165862981311, 1.835961784104462, 0.23257691142002024, 0.5818901511928595, 0.18082578607924893, -0.18024173343473335, -0.5376094880442237, -0.7333915946028763, -0.6604276089004403, -0.8372016455825968, -0.7528543342111759, -0.3504814144613986, 1.1976162315484153, 0.6276312299057252, 0.494947045690501, 0.5590280827536644, 0.5441665847662951, -0.1925854052702525, 0.3565161361146732, -0.7118912269143787, -0.23467144021251807, 0.9663683286833397, 1.2492234440210854, -0.16860781129577257, -1.66863771426942, -1.3929371811408604, 0.26843161203715193, -2.015503453469099, 0.39124513244946235, 0.3384081338384948, -0.6274843532094307, -0.625123902142225, -1.1706368311951723, -0.37314135460885706, 1.2824835972890296, 0.9292810749417227, -0.6257242793250164, 0.5053625277163821, 1.966386397280329, -0.4200267167947735, -1.0631578679475182, -0.5175451998802876, 0.5165104564052995, -0.17369563062023385, 0.31005475882537387, -0.48287678636339504, -2.1114194902051113, -0.5075712546007143, -2.034026207590505, 1.2330738413127464, -1.3881274604725238, 0.7666245430476967, 0.009577337513967565, 0.7481578860270904, 0.3835272648988568, -0.4231483989999734, 1.2302326831292025, -2.1839337765770757, 0.3713770015434259, 2.3484158905197354, 1.6407595965932191, -1.5663065601927162, 0.9726631197364838, -0.49588217049248645, 0.2816613809951768, 0.40222768957972865, -0.09432253713957048, 0.05561634894760411, 0.6775342532710379, 0.5799483915260176, -0.08895687107176492, 0.02236901296468301, 0.647552853240096, -0.5322986939573993, -0.5171863144507147, 0.8763412315693788, -0.7112345982758966, -0.3343391991399207, -0.1497122156489644, 0.37784558987547623, 0.4180415178361407, -2.2094181977322838, -0.2360959222616777, -0.4619325506329993, 1.5500419865275181, 0.6903026267999859, 0.03148753190956024, 2.457398131673368, 0.528903885097127, 0.5519003350167755, -0.38213517777201056, -0.7494355879241911, 0.0056821875266434676, -0.4480057290374031, -1.463436980479821, -0.35404885756702736, 0.06410310034281838, 0.4603358871312974, -0.14483178515631429, -0.4870464098176705, 0.3778839779311189, -0.3668253290074634, -0.21870595884361377, 0.9243491534207594, 2.365146756844672, 1.4059064983094216, 1.1297543021404683, -0.43722138715027553, 0.14946760761673908, 0.5998179485889967, 1.135348625254622, -0.9646575352499164, -0.5542263237847309, -1.377401097400837, 1.2136108610944683, 1.2724713449899514, 0.22315688781858423, 0.5506237769739095, 0.3917597696668971, -1.8002225796038347, -0.9270755020494954, 0.09145258121993786, -0.8273530978717949, 0.492249589045519, -0.4854932305438884, 1.5007040172398527, 1.4265623407272405, 0.7978282919004166, -0.37678378178733457, 1.2804440434623743, 1.1822921403944264, -1.9357547241195552, -0.4314635164792258, 0.9397311347634366, 0.8095974700999526, 1.327888327503908, -1.529172215556727, -0.32134718656089845, -0.09980929174274816, -1.2270234483398226, 0.7088868022651933, 0.400253343889457, 2.0562831244503292, -0.7484924472463697, 0.2788651562212278, 0.9249927701746845, -0.26777064908775655, 0.6974779389455912, 0.876264558621664, 1.524653249543993, -1.307625366188865, -0.7175552397329447, 0.1535246679951575, -0.3756768821153787, -1.2304467709712719, -1.690385473201944, 0.7274068489499333, 1.4166691274044827, -0.2126863539859458, 0.5061786755643788, 0.030091178404249887, -0.22933786125972974, 1.6092549885338325, 0.8601075616368927, 0.3611846650973671, 0.7814287322141663, 0.4009915138492829, -0.418991539813529, -0.3559379433686419, 1.527588781676457, 1.1747456523976956, -0.04442448759733625, 0.5793385411758214, -0.1214376605292966, 0.8297680090250974, -0.6379401326490698, -0.10007684022325712, -0.36134037265564106, 0.3528590502989586, 0.8131358025858786, 0.4926600678640731, -2.047064377642871, 0.6423878858738427, 0.15610470979528368, -0.07301736702062885, 0.8556920643961767, -0.5319371490794739, 0.29061569478494453, -1.2572590210577712, -1.266708278511166, -0.5541380658059444, 0.14375393265535646, 0.6129324372343624, -0.603138000591343, 1.902718294852255, -1.6911412885425248, -0.29609997672253385, 3.018005611829195, -0.9793675370394771, -1.5325915022274657, 0.5095105149884779, 2.1852473509716157, 1.0510917828347606, -0.507202741504318, -0.8433531470674025, 0.7907908421795302, 1.6954085605178575, -0.9774345414234236, -0.7028193657482505, -0.33058978679870854, -0.3171052273588424, -1.0874217320706607, -0.8264491997046168, 0.2413523177941144, -0.6442215677104178, -0.3535709007967119, 0.05371363109921803, -0.789228708082772, -1.7501038425934599, 1.9431173550502345, -0.10925926626508813, -1.2175716507806689, -0.7234948431835974, 0.2892435895396273, 0.13717062818734593, -0.13654414245367494, 0.22608887638919736, 1.090322201180073, 0.9124584948865578, 0.2609156454239467, -0.15210091440131523, 1.7194167582792892, 0.8047485334853163, 0.664530085635342, 0.6803644615584991, -0.7716776846888278, -0.1012272709148546, 0.21665930313328502, 1.2492502643550107, 1.6089889668463326, -0.9264791981114625, -0.2571167823618376, -1.4167740378451363, 0.2434282031086699, -0.5017963016455053, 0.5027919479281612, -0.053411577654852715, 0.20025989293991614, 0.35302402624476154, -0.055767082255005436, 0.6363287498722139, -0.39642599201553225, -1.4981300770064003, 0.6186173063579935, -0.7482660343896812, -1.0085868534390954, -0.16758334104998013, 0.11116713186336204, -0.46255778085534244, -2.872062311352259, -0.0997158679678458, 0.02834922048975062, -0.7164833278340755, 1.1545959170539917, 0.6390747733066049, -0.8010052447161023, -0.5895838587621062, -0.8624590048097815, 0.4239157266599108, 1.4347367442520298, 0.07553514047005304, 0.2037979819611345, -0.40800945093146296, -1.0011339342059309, -3.0167273135303105, 0.3559309757673186, -0.47486078655068886, 0.6533221817063009, 0.09420773524058369, -1.478758712367734, 1.645134311659078, 0.4284400303799789, -0.13505511028856387, -0.6186446101228326, -1.6694232323732496, -0.030194159108290243, 0.5737385112083608, 0.6533564810192417, 1.7744442858786709, -0.15433687710831936, 0.2192609083718096, 0.4691364795946648, -0.22226709482777846, -0.8829514418299087, 0.31283635786238045, 1.2385695398423682, 0.9941149718551857, 1.395251693870332, -0.35080960269771666, -0.03680139881152776, -1.767784172373028, -0.47784153070795377, 1.918566833405833, -0.14077392436166836, -0.7863747159939448, -0.7400791362780665, 0.6155049583034351, 0.20122927772550933, -0.283454151621881, 0.3361876371017398, -0.5803178644288538, -0.44787036935155417, -0.38647056272099484, 0.4846157933614814, 1.686916541740438, 0.46137685333351025, -0.4725472552934201, -0.1490798127640228, 0.35197922105218815, 0.9793044219404252, 1.0774095879528054, 0.22849097985423733, 1.455961518012795, 0.11016140734307946, 2.38815675891359, 0.9220010839972901, -1.265653980834226, 0.4282199153699222, -0.0305435193279655, -0.8891617390353279, 0.27445307240705163, 1.8286730514260443, -1.700701589787458, 0.4037930391275171, -0.5250255951397129, 0.7335865070320869, -0.7528827196144879, 2.3770965453099846, -1.0698065261493959, -1.7581471897558925, 0.638373923405954, -0.17375686748615543, -0.9286042570447102, -0.07789141638827635, -1.2113704568741173, 0.758769732947938, -1.3334390554651994, 1.404915628324743, 0.04680414740407083, 1.4877175001402, 0.7479512058179825, 0.01432806397625352, 0.0002724740818849277, 0.3785440571622839, -1.0167862688478408, -1.5322168207628342, -0.8381871972100947, -0.06212835084395802, -0.2780711731843563, 0.3213955621178995, -0.6593798584366685, -0.21582881998539144, 0.9986580961265968, 0.1480968833860352, 0.3306078557497522, 1.6287729568071425, 0.4806792485049543, 0.28671784293529606, 0.0031555215559778437, -1.4815150046489562, -0.33039025341706635, 1.0721947583480615, -0.940700727264688, 1.6748568410155507, -0.4454839322170559, 0.30994304269379724, -0.9178001546974895, 0.040463062395790866, 0.7634360044964033, -0.37404159377693014, 0.8050566499736129, -0.5245213804151263, 1.4881864717102278, 1.5500918189727761, -0.5990058133649694, 0.2600751259863158, 0.3588106151596639, -0.44855816011954835, 0.024937204749376014, -0.08453973484133226, 0.10870326576659244, -0.19891546149632056, 1.0177127341070462, 0.4199623717797037, 0.49965861414273416, 0.015630085842991845, 0.18542892242945355, -0.04596739340512173, -0.9724767793320453, -0.16912869779389972, -0.8551582851956693, -0.94280093590087, -1.6441371179418727, -0.600529124904285, 0.8835523626476334, 0.6644174688927904, 0.15093371311854167, 0.7078965676373468, 0.45916636392478116, 1.089060433268145, -0.046476286532185634, 0.6457603830998805, 1.6342295057526024, -1.388750898801361, 1.1666368950337245, 1.2578296506124378, -0.5904418960137253, -0.8024489299731429, -0.25960406447922346, 1.1185146074662096, -1.031548007004498, -1.526972644865215, -0.4366819151697646, -0.12182789161073085, 0.12255828381837251, -0.3357009784265644, -0.2631644558084074, 0.25396066673688045, -0.8292743120533715, -2.387159232688254, -0.8724570815852608, -1.6299037977490443, -1.8131449814171898, -0.055128311403043875, 1.1631495467581408, -0.7039674401640057, -0.2914044020620111, 2.04262960455742, -0.16991422121894653, 1.5339738210490987, -0.6522055190046842, 0.6169412078534106, -0.5220957025208859, -0.5715204401297947, 0.8690909252734067, -0.5953251522920422, -1.3538527836818055, -0.49981221523655744, -0.024500966116347958, 0.1941775250210006, -0.7119922342572237, 1.9463151539771237, 0.6447842299120935, 2.046955644197755, -0.36174731180484915, -0.8058287066758919, -0.028449756753229975, -0.9231543371991023, -0.09004388185942411, 0.9310965118301692, -0.5822693131431017, 0.2966562448970346, -2.324651722869181, 1.1539803345688229, -1.530284065474774, -0.28215158930425394, 1.4989507939897204, -0.8713068293157031, 0.510488236004713, -0.11533358358373828, -0.9729697545315752, 1.1023015362307835, 0.43031201036813493, 2.504008208564737, 0.8985970260456908, 0.6706351202716309, 0.38590114836150113, 0.3225456639759201, 0.3199017374583242, -0.12693468474467492, -0.9219512770223398, -0.8683785963606323, 0.4638979454318223, -2.169881291805544, -0.51204070615905, 1.2429492376483864, -1.2558411620262597, -0.26988257345905237, 1.0982366868098086, 1.266696491394974, 0.5473132728415422, -0.5350221725260264, -1.6633499873257542, -0.2564367619889959, 0.5985433153110883, 1.366564840162461, -1.5603561762613483, -2.174102180660319, 0.5046267772957111, 0.47423622181076064, 1.3329773044180138, -2.209046479514027, -0.5283075022061492, 1.3847932342141713, 0.666692478571652, 1.297263071786261, 0.41765227415507916, 0.40372563616750484, 0.4672442560414072, 0.8216561239171151, 0.46856892664152316, 0.7815994336987873, -0.9585393698094093, 1.3141434931078497, -1.5699802622060652, -1.7036356801966255, 0.21119416713201328, 0.3329823897273496, 0.7460468760006953, 0.45039911302259844, -0.7568708730707275, 1.4122323960774763, -1.2748472059763951, -0.2914687798231036, 0.006786826495596727, -0.06613224759420055, -0.5912933020882143, 0.34856127917482477, 0.4685203085335662, -1.4304387511588055, -0.11693834860389271, 0.4394911152113722, 0.4455799171378429, -0.4715864136494112, -0.08805584304443101, 0.6882641335815096, -0.7131822611125288, -0.7232891291116882, -1.7843914947365618, 2.003491497956912, -0.2024985891582746, -0.9813001459929857, -0.66632182405821, -0.8575557743017063, -0.4063804168876254, 0.058659299269602866, 0.9642905874988146, -0.9419379663218886, 1.2378903032273416, 0.2785665111361565, -0.1994813105592756, 1.171171574539812, 0.3735961201387051, 0.24507569914483693, -0.056676084980390895, 0.3309274782578583, -0.2558727016724651, 0.9036729984044044, 0.48691261706803435, -1.101489999214051, 0.5959100439849722, -0.562898670871941, -0.3772803211893602, 1.0436456674257257, -0.2309125182961911, -1.3373082418982118, -1.3598049517677142, 1.1092095596439082, -0.23671843337702328, 0.6567056048249639, 0.21208353391770743, 0.279160352520092, 1.3068838295661473, -0.6583704330997523, 1.4251436493594531, 1.3697771874384037, -0.33252164481699764, 0.2822250252997974, -0.9492175912990827, 0.2768260591634213, 0.9526559663101517, -0.5667297041246168, 0.6446720959369044, -0.2785273372385245, 0.42526163089398406, 1.5980206428164312, 0.4407813810436922, 0.04179958266424797, -0.07439080188552032, 0.4769751257934565, 1.0271628037181009, -1.242978420481658, 0.8507244857505283, -1.237903789066412, 0.4826461738249845, 0.0005311384899747869, -1.2826469544293106, 0.3526866894095912, -0.3083781260998107, -0.10324073874905272, -0.1990194182104939, 0.9533693026626093, 0.08873549418684364, -1.9382264325456167, 0.545989502416378, 0.07761028241699831, 1.448644952613549, -0.2724928619474482, 0.32171400692735663, 0.017727620519469037, -2.4455692137190908, 0.9980120818591407, 0.22007352865301805, -0.7600273862584903, 0.32489182565162184, 0.27462522584071786, -1.077017261957567, 0.5334181480544739, -0.1350697383916091, 0.4771404498885898, -1.6401715071306222, -0.008648408139781264, -0.5693131419311913, -0.13590770204066724, 1.0077156584867655, 0.13772951941369022, -0.369330967253572, -0.33646251602343863, -1.419880752997862, 0.3625944119502541, 0.5831279485872933, 0.7240433887420193, 1.3916108016833935, 1.2744360873268128, -0.6574966499658337, 0.7572500496864655, -0.06776238258890167, 0.5095005892279202, 0.3482933040980382, -0.527821360194781, -0.21033397262736372, -0.2186915034995092, 1.6659020167194545, -1.5327352057979249, 0.26733308743607465, -0.9946351801598098, 0.8483626131852274, -1.4414570638668411, 1.112322854082514, -1.737315315881271, 0.6157817528789562, -1.5500067784189837, 1.5717260789562195, 0.8039600822134514, -1.4180994144366585, -1.8522196491819054, -0.8228345998847685, -0.24875770091201913, -0.046767120207886585, 0.3739681874437178, -1.5538679629665955, 0.8437043317628746, -0.23497056177030762, -1.3171829434634743, 1.1275182326625255, -1.2538269665497952, -0.9598640830034673, 0.08709151015401231, -0.46556522441051207, 0.471900329732507, -0.9972113231657076, -0.1859401466162655, 0.2933115071983343, -0.29609076470223933, -2.137205160371453, -0.16290298719550464, 0.1175431388390694, 0.38131143002079787, -1.2160931992093031, -1.5763783346904607, -0.3018296049319007, -0.351820019775747, -0.440908919152182, 0.1108084945907711, -0.3742266357705766, 0.3193925113689511, -1.2524140082106248, 0.6648321106971932, -2.630901329761073, -1.5486281141488598, -0.017278880465426385, -0.7474679747620167, 1.017557409873844, -0.9654790081912125, -0.05990198323964379, 0.02307446530817293, -0.21867304912736307, -2.6419112776071243, -0.7629540630680254, 0.22868371489690642, -1.0096955539505044, -1.0213554839205399, -0.32202022725414303, 0.26848199346065527, -1.0154979620379245, -0.5842804843879867, 0.05811683097557324, -0.08638875647792382, 0.663025693942044, 2.2434524586800393, -0.2424765985124236, -1.0494952720606276, -1.212528498075953, -0.700459815311009, -1.342086569860673, 0.8446902832120969, 0.8282384723771903, 0.20962006878491135, -0.31534448850276614, 0.807559163722302, 0.6972548808392887, 1.110718178652621, 0.27796318249363755, -2.1399079767732654, -0.2867305401767441, -1.315703580748265, -1.2053200335060874, 0.40771507033916377, -0.1428537030685021, 0.5460308745600074, 1.3699561145961219, -0.17910430480231992, 0.4598082596462465, 0.1209347757883767, -0.9558714502425146, -0.28752927276316326], \"y\": [0.8391261345401889, 0.28386848875477466, 2.016274641792089, 0.6329033070008699, 0.2994067926588254, 2.038884510517576, 0.10217687708875828, 1.2795369095628284, -1.263420725144901, 1.1567092650527744, 0.9446177964550488, -0.07313818237446053, 0.785652111410313, 1.2495346551276552, 0.6779532764998258, 0.4672893506982631, -0.6020488893289507, -0.6211788534063699, 2.0113014508905835, -0.6638545736696756, 0.5193287705538967, 0.6874847744437994, -0.06792051391228554, 1.0603328157921568, -0.7564674642770308, -0.39044917544139723, -0.698958396800229, -0.2313262338631616, 0.41375708472174966, 1.842994851087152, 0.8590083530308661, -0.33647012004697774, -1.8320084216347445, 1.1183392593441344, 0.6465748688292724, -1.8365609172899162, -0.4265123107902057, 0.1317747272086197, 1.549085431849005, 0.3649127429505807, -0.2151145916810905, 0.2567487747471214, -0.37386064184621953, -1.7373820263818773, 0.09516045632655842, -1.3384535433146192, -0.20824100310666238, -1.5548389555690876, -2.3015081853214983, 0.08909735896215142, 1.0769306283827518, -0.36751435178512337, 1.1399434430229676, 1.2283293054814208, 0.2765566277049431, 2.948246620247744, 0.6404172443413432, -1.8024277338738743, 0.33602978510926285, -0.37679894539288505, -0.8854380355867004, 0.7193389124858192, -0.9057268464449241, 0.9917085710694514, -0.22453039645644812, 2.2732015616150902, -0.14907077900051954, 1.397402519459202, 0.8456094430132947, 0.4981166052257917, -0.3754780815221316, 1.5819938325489007, 1.2593123255169003, -1.2899582432215686, 0.5388753664013333, -1.2235495374647962, -0.4775663410896127, 0.8707387533665236, 0.9577383397076498, -1.6882731239834634, -1.5326542809059789, 0.3439688877793179, 1.7569028158898345, 1.0262478033491287, 1.4608742134160735, 0.4623153123139565, 0.03342790407460743, -0.450411936680648, 0.022818410427684063, 0.708926336822918, 1.3984789778878317, -0.2724859320335554, 0.24411963369571227, -2.0973268817905586, 0.15411243422226034, 0.16573750305956908, -0.6270101970898243, -1.7641592803617037, 1.695771384737224, -0.13063449059828225, 1.058825360635597, -0.7579734678867206, 0.9853465077032203, 1.0846062658611948, 1.2197804040209919, 2.016450417112615, -1.020557773619034, -1.7782626926653664, -1.3760502903402643, -0.41523628607354485, -0.12630989112910151, 0.6195341019263951, 1.8279296644720837, 0.8231645536539886, 0.3888521486516396, -1.4037653620071167, -0.9543229875649976, 0.5648575176930285, -1.2716272678442744, 1.0192846964609066, -1.0253802617941268, -0.0032827074037399873, 0.25696743952511125, -1.9902916620225044, 1.2261769227222086, -0.6536341730834891, -1.3803387011805897, 1.3263012487387733, 0.8217055118132908, 0.7091369637471249, 0.07011030449406282, -0.5449589880657915, 0.9575270042645831, 0.8788539967069585, -1.0371412073541242, -0.6372444047883075, 0.6713041297361666, -1.2134330142732703, 0.8337972493986002, 0.19037856117453658, -0.7588928306390259, 1.272647892359368, 1.293076798943689, 1.6525730975274786, 1.991783717347733, 1.5727395749728554, 0.33038163644762286, -0.6665228317819333, 0.9111976808150142, -1.099570079130264, 0.821252096827566, -0.31217058608448467, 1.5159785030566992, 0.09944090594864777, -1.4053729029291144, -0.9442026019869, -0.9648327959252336, -0.5476508756584589, -0.21280215805260763, -0.4951520947797504, 0.27779596548617447, -0.020370763837972452, -0.11444314016733523, 0.13806033903586845, 0.05114940973796903, 0.38448407419926595, -2.2467473827748745, 1.2437342968260603, -0.14288947935350416, 0.49669736671284137, -0.7697688451360237, 0.49482863028732854, -0.22294463552164376, -0.41014089351631927, 1.108130763835465, -0.3709195223623139, -0.6142474447742107, 0.18701524371953931, 0.48349357874988086, -0.5950786582597096, -0.5203323058148036, 2.0659301362804854, -1.1940741901944258, 1.1648439469065244, -0.39547693232579134, -0.9592454738144799, -1.3372053400393256, -0.7067037826923788, 0.042080573277755454, -1.0376918154850816, 0.43510219211457035, 0.3830838326930086, 0.12138360795566165, 0.9291855232225285, -0.4454753023934772, 1.0351766746824849, 0.5159157853897727, 2.341278201543335, 1.7302060000107324, 1.213785192896522, 0.7780404542621103, 0.5782393721783569, 1.2888630806502828, -0.05880341167714823, 0.8882491745959737, 0.2319699229605731, 0.2281830074092922, -1.605036663772805, 0.2279442614144744, 1.0599415620454422, -0.021874984058960194, 0.5251883661873437, -0.3977127269649456, -1.3836618584834521, 1.225333504745777, 0.34521586486137085, 0.12665218001254874, -0.7027207405275926, -0.931011863244919, 0.9791441403804254, -0.5697088576446216, 1.6599577926704117, -0.6887181466093029, 1.4421460055628477, -0.8714476244494685, 0.33055975880914945, 1.8189792595269363, 0.008519268406207333, 1.5385144903842414, -1.0144316532870443, 0.9913927056198769, 0.13824663934728165, 0.7162029975297886, 0.34092561201779875, -0.18525983376338478, -0.6370164749608969, 0.16266342230582692, 1.2873850238568527, 0.3720595422246801, -1.8465961574685377, -1.1890344525231178, -0.41360760218474363, -1.0506745710124363, -0.21692865660550056, 1.256261278001642, -0.2896138806026792, 0.9138230757185278, 0.4480801441660594, -0.5821564524139179, 0.9508824557891683, -0.2549193124016306, 2.023980645532588, 1.6035293213898387, -0.38926548662695987, 2.610591009755922, 1.3693955944567249, -0.12250428573225206, 1.7234631280641821, 0.3315760462548208, -0.5237527879382741, -1.4240576541428034, -0.9176902959866783, 0.5783447214436792, 0.003674224167046315, 1.4698031377859193, -1.2475323752840972, -1.5858659074635357, 0.7003123249961039, -1.3606849898146036, 2.0126151664744083, 0.37398229985602766, -0.6496068447300115, 0.40582755326379194, -1.875968946723702, 0.1362041507852538, 0.8656357225080886, -0.8394812266760585, 0.5795559290722678, -0.3210016477417173, -1.285701537029125, 0.08271290430452939, 1.2123053460968178, -0.47336204189583764, -1.3909872284640266, 0.9509734201725544, 0.18103889249136332, -0.5312475991458597, 0.12387461118356691, -0.5469956532904069, 0.9969504044650455, -2.3417029531442823, -0.49502745501650075, -0.5225585590476627, -0.9126017441910166, 0.8630370684720011, 0.5579904036843967, 0.4180198522987327, -0.1239030145646489, -0.3337926634959194, 0.011763580850128531, -0.3064219429336357, 1.5165796339361979, 0.9391478379987567, 0.5388298863097934, -0.1161704428052993, 2.3543744349822795, -1.2010086535811144, 0.8890001730953045, -0.5128661919399626, -0.8747965652685088, 1.8677659861701805, 1.972010658803613, 0.09731075075112348, 1.6184962216341903, -0.08823483831750571, 1.584851338752319, 0.957244446136167, 0.573271030535849, 1.5875774130154265, -0.1972509200581147, -0.09415220872805352, -0.041180425110173155, -1.728449774134646, -0.7005522913650895, 0.7652752266814332, -0.6359014613842736, -0.49086042796128165, 0.4238546555599622, -0.12773168110675004, -0.551862652676545, -0.7344533904918792, -0.08689422890586722, 0.3322024961167019, -1.517949092716181, -0.31454466982677903, -0.38129843226763105, -0.0826704972563702, 0.7677024128678573, 0.6609410976249592, -2.033643757532241, -0.6698819625916426, -1.622165133958965, 0.3212771539328629, 0.24994286301771468, 0.3146069338663855, 0.04042342619888214, -0.31587669436812926, 0.42678017752060493, 0.8487503372080752, 0.047170127881882545, -1.2634368206794815, 0.8841484058038654, 0.5928034547656149, -1.0382253315224619, -0.5679310281540983, 0.8585052386460346, 1.3603282752220094, 1.5404029878044714, 1.3039318490411551, -0.8084668860591143, 0.19659329058578542, 1.81163639438583, -0.09113294833090055, -0.8352144503222352, -1.2039039111711007, -0.3689806106377694, 1.3633579286454636, 0.8019704447456597, 0.8646000334983794, -0.9407640254583325, 0.6416194262025879, 1.244169407152958, -0.06188896551656238, 1.1757655429044778, 1.3764715255464406, -1.8453561005055088, 0.3105399217118754, -0.9483504635665987, 0.3020817907636593, 0.262378278685134, 0.23879116318528115, -0.39701897167571387, 0.541020366627947, 0.7347718213603975, 1.0367238163101924, 1.4438710034587696, 0.11376984252093977, 0.12807805107078424, -0.21075466818033137, 0.8384244538640089, 0.3874426668883955, 1.1557077125166557, -1.3439996102876546, 0.6442202961141213, -0.007758975415054941, -0.05777319098878841, -1.0378466358408238, -0.4726885557508673, -0.24256349205818103, 0.48988307292454814, -0.8973274274001941, -0.11224611000783749, -0.6409393474718212, 0.6425550537640149, 0.6302969465715286, -0.16192795726730455, 0.5096294701028861, -0.5666429792685316, -0.5794722453397887, -0.23916225352823656, 2.27524934698934, 1.1559945711020025, 1.049097013463956, -0.3770453157046677, -0.34987866242086946, 1.2999520672931797, -1.707920553410853, -1.4898296647763096, 1.4008169101000243, -1.6767266172723114, 0.02003161251484598, -1.4057987635703135, -0.41667890265141533, -0.3054588480583088, 0.03725781360594718, 1.3933597613669602, 0.9689947595441138, -0.4931661559107211, -1.8353148204984162, -0.7093383845149065, -2.041534842534261, 1.07640078225529, 0.5283408534509652, 1.14145280377094, -1.3920092656277205, -0.40792231591497274, -1.466208962776611, -1.0500942479811268, -0.6485938384822527, -0.8326595299000463, 0.45420760711953523, -2.2559728153351424, 0.8261830287819754, -2.1420294797538264, 0.8768254273592918, 0.31045477440718, 0.18727146866466896, 1.0415935582654114, -0.15524825463843245, 0.5169272461440185, -0.6510766741391223, 0.061589417065506954, 1.2329397140042047, -1.1583697700308941, -1.3046008110259995, 0.2929145323317887, 1.2412341884368177, 1.5498342664717433, 0.04301947871201157, -0.531721277798868, -0.08465584008669833, 0.18581283106626484, 0.5286965749303276, 0.016220857797125694, 0.8841577507090206, -0.8728355996491264, 0.07409361229642827, -2.326280346171767, 1.4684748759427617, -1.0833476966711333, 0.6914622949526907, -0.2996516918207216, 0.8586214656503455, 1.3734946954016316, 1.3742605015525027, 0.4566430210627943, 1.3133556133750055, -0.9516930287345148, 0.6545467593499175, -0.3972297103314232, -0.00019599098834697232, 0.1510329623078161, -2.0930251557939146, -0.762626455618953, -0.06409896118911455, 0.433899206874039, 0.5281886298751841, 1.031791707513399, 0.0956728684527019, 0.7342397112543608, 1.5842547278801273, 0.058552670341060556, -0.2113242401156665, -1.0681605393790365, 0.5751955245111667, -0.9135064623302881, 0.35913609865244217, -0.08541600001225777, -0.5408786641851356, 0.8991425350069188, -0.9205855656421391, 1.9452743964710228, 0.25449867381335334, 1.1184136235094773, 2.019678343585983, 2.1740695341490186, 1.01983703899977, -1.2434658823586595, 1.5210492249911705, -0.8260270877798799, -1.2412567136404067, -0.8144317662119059, 0.5915645818711124, -0.42456677985660607, -1.1637184424101246, -0.4023073398829429, 0.6755366314858589, 0.14067398054062077, 0.8679498364221168, 0.4454107912834788, -0.48146342379941404, 0.7829372187740373, -2.149404151681587, 0.39316780766203885, -0.13517671067910778, -2.2634630691209434, 0.6820486770208363, -0.9925289891598952, 1.0747862904212875, 1.2197866325997915, -1.5246768532837807, 0.36167040649517407, -0.9239553734820364, 0.610744013480612, 0.6823862054834499, -1.3683488337995506, 1.557842138030344, -2.0515057520873783, -0.1720239442098131, 0.0726175228772738, -1.0545624481540883, -0.6795006055726083, -0.902824002266989, 1.1487632374365022, 0.3232069659892298, 0.5493476140437676, -0.4032806845648574, 0.4298113984368886, -0.09647902718196946, 2.1961540858129465, -0.10425035348038185, -0.3229862356486651, -0.951469042566693, 2.2949458238672698, 0.34898936054803636, -0.186995535537027, -0.21635478557580137, -1.0954234252430743, -0.25555401941336586, -0.4372545223690812, -0.23682769069400264, 1.355029732877171, -1.163168569879062, -0.5068984880903794, -0.7089915010033433, 1.525555606865416, -0.9414075102570932, 1.486570173484128, 1.0175309996943511, -0.519179861268555, 1.5711160966160296, 0.34307049223199015, -1.1934170666719133, -0.06563191330369042, -1.2269480097149108, 0.1181721260638196, -0.055079573261634686, -0.7509270955162919, -0.9731006463983942, 0.5284715704546257, -0.6608504481470252, -1.1487415154668679, 0.2617202978963955, 1.9488958743680609, -1.0538714757035794, 0.6245546767010479, -0.7132317399079446, 0.5824237255788314, -0.15146349876486206, 0.023192662520607504, 2.736572686541171, 0.1806807500856917, -0.8756976786183656, 0.2919105689934084, 1.4222798406689787, -0.9256940539239764, -0.2273605471765485, 1.190559006189721, 1.0321412918617445, 1.8019377518216175, -0.6567603116070905, 0.7117195109992215, -0.41036676635243363, -0.30992859733727063, -0.6881121802648582, -0.3925617057612027, 0.5321625584002059, 0.47505679327351913, -0.2685123089589128, -0.8715738537434936, -0.853196072206545, -0.9748320851354588, 0.086642671258248, -0.11075434837932094, -0.7632693866511572, 0.5538928724125444, 0.27807914096016967, 1.4408993823366922, 0.2254192145703617, 0.6182219325278253, -0.5919381775995415, 0.4273994550783832, -0.5161238146977699, 0.9221341075192118, 2.2805868532805906, -0.01395098903856555, 0.2650219126101763, 1.0972283442355948, -0.09568976215577958, -0.015033357922503642, 0.04699431031541112, -1.2420166003384474, 0.0025267573351013136, 0.5933588978684262, -0.24990873204222205, -2.61313937757665, -1.3333033860180101, 0.0890370808102466, 0.42701833627082564, 0.0328181237490783, -0.1774122567600791, -0.4445932268083272, 1.9662222928307205, -1.1698782885131354, -1.3432945285583238, 1.248584145712808, -0.384960252255826, 1.5000556306391124, 1.2143381423164101, 1.2196771864076572, 0.4136941573087016, 1.0776576163928604, -1.1907564262745027, 0.45261847444144154, -0.37441308558822123, -0.7389439400558857, 1.212951065360106, -0.2828882310461377, 0.10523956705339221, 1.282414975116601, 0.32290922727251103, 1.1509913722278229, 0.550040273462375, 0.6772570359285149, 1.2835545856706676, 0.7487361424781303, -0.8475523835389998, 0.8550330987782089, 0.7961197285282425, -2.341125775599947, -2.7839045356013514, -0.7184327213255288, 0.3330809296399013, -0.4473330751838776, -0.27567061003398524, 0.3073522972035995, 0.7809951587985824, -0.5735760081859104, 0.0016899594560200518, -1.1429909790279296, -0.5568805475190692, 1.0837985035480784, 0.9730661367193078, -0.04021729831831811, -1.457155643274416, 1.468367532019994, 0.39834737310337726, 0.13752700647679322, 2.3295509280912294, -0.2342157812656217, -0.12538323753601294, 1.5353287516063214, -0.6669527537967878, -0.38533097442929615, -1.361197682291488, 0.6776771059103173, -1.8789039033078374, 0.4521584534159455, 1.9013271884796856, -0.578448683186672, 1.0616230663834907, -0.2635876237110925, 0.7858819707307901, -0.23261216564292278, -0.6136680420980327, -0.09876082269579724, -0.5200833164332388, 1.403281809705337, -1.244670624151118, 0.49598034513409706, 0.22514581338931247, 1.1533977955731414, 1.9409985473433133, 0.5433976592226974, 0.39387308165457663, -1.3743313666508505, -0.2868302456083878, 0.1177246235491258, -0.9134803692048155, 1.4025866134953588, 0.6435316777295363, -0.3070190159308981, -0.22802395747314969, 1.7050145674382184, -0.9583922407260906, -0.45789314708156936, -0.6251059237159848, -2.0251849862729085, -2.1018604861983703, 0.02943895903908612, -1.0938979750784583, 0.6759774079863178, 0.8353800592992379, -0.9915491926297553, 1.4732275747765307, -1.7951265249222386, 1.6484020900107677, -0.725070417650416, -0.4871808061852264, 1.2307520925290798, 0.7835416731937547, -2.0784585719548767, 0.3480301012663768, -0.501698539905603, -1.3070659241845586, 0.1619658709760878, -0.4527517373680517, -0.591278238501105, -2.0517829839421964, 0.4240750367816664, 1.0479688616023002, -0.5425406928355233, 2.05111068737536, 1.0445723000668705, 0.39211439874703397, 0.22270113741650233, 1.3273979766228419, 0.4583318802956599, -1.1293319737894403, -0.6773543393585401, 0.6217131041996705, 1.150733240030782, 1.0113571850926197, -0.2278962293074667, -0.6384148104942887, 0.7178941595363922, 0.6209833932374824, -0.5223661886070292, 0.5227064668817553, 1.4365609064288096, 1.9373362131788987, -0.3433288483737732, 0.2583043337867544, 0.12981016823161418, 0.6109324868953688, 0.07862559013698223, 0.8895156289410913, -2.853349825000314, 1.327356145409479, -1.1677472883492395, 0.3132332355738, 0.5021817806408888, -0.22740310064287617, 0.016223403387245885, 0.4140123110950936, -0.5713399474783588, 0.9838740876392901, -0.2772897656855513, -2.778322123262975, -1.1324411067348386, 1.1784997396004002, 1.0263152392328478, -0.14747926972884007, 1.4676818761177954, -1.055340128655884, 1.597363281931686, -0.7760797626298943, 0.8692025434127685, -1.3061690861163147, -0.6407091204702533, -1.7779862287660777, 0.46019693919428656, 0.8880198996767806, -0.059332354710574416, 0.42460742671667134, -0.9476985319996184, 0.4842974750086635, 0.7171654355034494, -0.7722153299545054, 1.277782960560207, 1.7752014812695254, 0.11828100044163212, 0.9233844964329834, 0.5467089406834706, -1.2200781014040296, -0.2659275681513742, 0.14841105303972144, -0.5632039948083266, -0.4625652486101436, -0.6645177283037467, -1.3500104903212418, -0.8789949632609148, -0.30008940904776227, -0.14380905966706803, -0.6307149647532635, -1.642084755170695, 0.18381744334299832, 1.2456651260558813, -0.13793330155569855, -0.8908100743792187, -1.1770220353170748, -0.3508925363835257, -0.13034085301772244, -1.0076637164436215, 0.5158474468523466, 1.6259927813431279, 0.11364256316930395, 2.4033680923511733, 1.4286730206237233, -0.5493416808429185, 0.4169494116654762, -0.5204382503061474, 0.18152717699556178, 0.6914290631818335, -0.3885412959605804, -0.7177278817264402, -0.5675754810104804, 0.07003371912218731, -1.8187416024296756, 0.46622584484624763, 0.23791804077402404, 0.015448424735380705, -0.9134125495360307, -0.2420076893930394, 0.38523371686879015, -1.278313138731, -0.1734595580752947, 1.3527322741784806, 0.4271640219337862, 1.2297785453140357, 1.1537375687531901, -0.3644597353804959, -0.17565955193130828, -2.7456774269159645, 0.44453684779194186, -2.5258917929788343, 0.29312508156569955, -0.0651388906322927, 0.5218718898746151, 0.5155966868991394, -0.829048145595193, 0.45820203192810904, 0.18220624063472982, 0.3660113326357553, 3.0884859713022066, -1.6647525042590994, 0.10876902065697061, -0.6712336945408235, -1.2598238269680833, -1.682249270597863, 0.044180416554764845, -0.4708477044896546, 0.7053550214187324, 0.402759031865348, 2.9862521626229284, 0.09955312801590502, 0.6885433019811256, -0.49521360094754263, 0.3748816352792042, 0.7043441928886977, 0.9001055999499799, -0.08140947214249662, 1.899821616203418, 1.0162298776363146, 0.08698390640303152, -0.13414892430868977, -0.47334459094381554, 0.702623612615944, -0.8630454234662799, 1.2443061038642396, 0.7618244264264705, -1.2645350226782763, 1.2505670947020886, 0.038725046225487524, -0.01999161154898616, 0.16702249774820804, 1.7159184745021352, 0.6293729636120272, 0.6381875183800971, -0.7078414578473112, 1.8810877178204721, -1.640046855040914, -1.2978194042596138, 0.800077033710028, -1.814277297686931, -1.2081761553849535, 1.2306870194339739, 0.29357500828210503, 1.0161076528183897, -0.6641018202508712, -0.6956882759347987, -1.4079585387599174, -1.1508926312187613, 1.2218233813364492, 0.5978564198187647, -2.018245852302206, -0.1938560417465344, -0.48574125457888834, 1.1480373952763738, -0.6913829890032958, -0.7650217242659185, -1.413830868821647, -0.2163794150469528, 2.1920327045871306, 0.5218313231308049, -0.3385593288654337, -0.11917353347252987, 0.09133107960910208, 1.602272792725541, -0.9414056568364297, 0.14064419436694456, 2.421861661691445, 1.2135591213291, 1.352758599824585, -0.9803449824146835, -0.5850356159588536, 0.43843732846513783, -0.47937993919924066, -0.4726331408821043, -1.29113544227499, 0.7579418394676666, -0.5219747806611482, 0.7220312900549026, 0.6453760011125695, 1.261675078401091, -0.5918479302561268, 1.1272541651261192, -0.25852521435081727, -0.033504516280778406, 0.7628413425415295, 0.46710045047572557, 0.5096255205304592, 1.1640768921447169, -0.18983026790409394, -0.11641460709149005, 0.19439161540061992, 0.06048652749454396, -0.08936481049726396, -1.4375276871715006, -0.45381904641724713, 0.7282525915805632, -1.6286722634909496, -0.670313715414207, -1.183515640909304, -0.2521011059248498, -0.5129715430593037, -0.8525377913166732, -0.8017056590468953, 0.7250364647208468, 2.0087450251787127, -0.08746319424418043, -0.26571214273228416, 0.2165252016833674, 1.0614797909581322, -0.15662249815072793, 0.9688306491127818, 0.9877456617281785, -1.2757407026197634, -0.009698978172649583, 1.8170706872042262, -0.6371340382824999, -0.5771488254067735, 1.3427795942681502, 1.0952377651850014, -0.126887768372445, 0.6874189344454507, -0.3073099466918459, -1.3399561254244852, -1.502131907460098, 0.3142339641250571, -1.7880976558145176, -2.091275482547028, 0.5200583893335241, -0.8299932226645433, 1.182766722188016, 1.232471700217514, -0.07018015588801275, -1.456676591633421, -0.0653510713281657, -0.8263477531944091, 1.1322056013438013, -0.31968336893118127, 0.5977672920373485, -1.45866982396817, 0.39203974277107617, -0.10291294999749365, -0.08769560062313624, 1.1186969472783317, -0.33385461011668666, -0.5416201435457372, 1.8266811919541002, 0.859913577735768, 0.9614297765644859, -1.6517107723999769, -0.11842249128860087, -1.5387261543721433, -0.7465349615898195, -0.3854044451262137, 0.8159489213503572, -0.24711485772352532, -0.1225548342047559, 0.3806225750429698, -0.5441665606940845, 0.6075397384847673, -0.13029011576622684, -1.1002779792451998, 0.5719686747601501, 1.1175380554186813, 0.0023873906668344367, 0.8042086092023528, -0.2474926697699782, 2.530083794309545, -1.446153140389961, 1.0185658186871003, -0.22737029230040146, -0.39194828914679586, 2.113600370096822, 0.23732787302017427, -1.5926384060349674, -0.6511929068619257, 0.2939240096618239, 2.0823637451138612, 1.0209045874881018, -0.2439481571310911, -0.02137462373758622, 2.13310566729887, -0.5285323827442021, -1.1724829014990013, -0.5699579779235676, -1.6604070700874294, -0.031124252157865177, -1.1042291241398765, 0.5701464854283773, 0.7466898730262449, 0.70009213773575, 1.4325668096200233, -1.4612524230981556, -0.4961643490492252, -0.9730786725749484, -0.8635768105086029, 0.6057252975981192, -0.11052509181866746, 0.4910970785954204, -0.45472854496189896, -0.03779101815319954, 1.277399458786906, -0.15814352431839995, -1.7785991056729977, -1.0920094468111041, -0.05999444879240138, 1.1613707133296707, -2.125793214184674, 2.0284775566034723, 0.18478128877470273, 0.3287285594562788, 0.9172925642775043, -0.7851275202989927, 0.5746515221647657, -0.05512857809898107, 1.428946433909097, -0.693905600026667, 0.9295812095704357, 0.6220051517974726, 0.111278474612989, 1.0111547838371884, -1.2081752680735454, -1.0352430928655645, -0.5344952876471963, -0.4927786246721438, 1.6494739751374137, -0.9554841404170589, 0.3921497200236924, -0.7069726351877522, -1.5380937720484495, -1.3463930955672956, -0.5886629583687853, -0.714979188676848, -0.3235128147664441, -0.48249003008778113, 0.9077882797207731, -0.34420707654074667, 0.43355591960182277, 1.366522285577002, -0.7979526303965189, 1.115300287534996, 2.2413728579531997, 0.2404533623201046, 0.5003902946799409, 0.01630167469187045, -1.1552729780499402, -2.7311850278043557, 0.4643227068125753, 0.17590112806883895, 0.4867069242599474, -0.6110157807392254, -0.6826575601480585, 0.6432718464819308, -0.16779896766540464, -1.190555162199728, -1.445996794930249, -0.22328389866885215, 1.5993652806098315, -0.7234141130992819, -0.20928556847333912, 0.7479406482108832, -0.04240997178407199, -0.3199456441422896, 0.8127409021873848, 1.354810348183055, 1.599833935759907, -1.232503866827463, -0.17134748341578235, 0.5674880146914221, -0.6880704326126676, -0.6458567048705577, -1.2580730068796404, -1.0452596564749228, -2.121819503360573, -1.6544501613385696, 0.35146967401900486, -1.0469831950728403, 0.8680810864418825, -0.6145634225827965, -1.3087924791691576, 1.033227859384173, 0.14156315825965768, -1.7081325845090927, 0.6506174574061648, -1.8309673744282942, 0.11291850932119366, 0.5246465190582144, 0.6424403198392828, -0.7590705899755249, -0.2914730086196698, -1.486502333398265, 1.7448137383722258, -1.294598336819833, 0.12592008380379552, 1.210310477156403, -0.07539219214384467, -0.602204565288468, 0.37353477061054147, 0.041687504636355295, -0.06322477222819253, 1.1270436524306406, -0.7646254104422153, 2.516760370024612, 0.6134163318993584, -0.5435960217897234, 1.4039106383760835, 0.4679194380586635, 0.7626935393902253, 0.9222139280651404, 0.2902746284807376, 0.9630259876116145, 0.08560685772795541, -0.5973812896361872, -1.7759690591610842, 0.9193260099436895, 0.29217849454190803, 0.19333194374873897, 0.3371593387727763, 0.18642602359332813, -1.0461024711264015, -2.6055455981757767, -0.6705390466795083, -0.18516332003022265, 0.36607125979009103, -0.9021584535042059, -0.5045473220938426, 0.4378440588640768, -0.6361412333057838, -0.18495727715366592, 0.19589987190985456, -0.8797977164364912, 0.4075467042386751, 0.5945726968588642, 1.5858887352318902, -0.5603000072270221, -0.6464965399707588, -0.6459789333261629, 1.4245367799172437, -1.1053059671837964, 0.4768796647253893, -2.759296100017243, 1.3318964822336399, -0.7470706745553927, 0.03954639826533427, -2.139909592278193, 2.4824993490986667, 1.0191494017921325, -0.7803417528525115, 1.5598010230742578, -0.9673542266891064, -1.523304822568468, -0.03663108434131067, 0.6993704540544675, -0.23615282785325864, 0.5652196637312411, -2.458348830586361, 1.5754336677084335, -0.8838252689710021, -0.5825974520239399, -0.14103692225176068, -0.5225414817855241, 0.7611316314156183, -0.14404827924590594, 0.6427340418484532, 1.0182495793812938, 0.7225603282219405, 0.4657702084863889, 0.9174271530122069, 0.2584489866627009, 0.9598618951936871, 0.4180312347344348, 1.422012440295054, 0.5236891678112741, 1.8427096376429686, 0.3744945784241766, 0.6257960163605957, -0.11225195243591381, -0.1506379906237645, 1.3964434960164591, -1.6083786031993328, 1.6532636785080168, -3.276009873675027, -1.3957853355777128, -0.23017773922161322, 1.5149156886593134, 0.6471218122323227, 0.5450515458482991, 0.12929167276507644, 0.6658818430931276, -0.6945415572036977, 0.43754037833463005, -2.07674590824104, 1.0934818484865805, -0.8912697682535958, -1.0922622391397812, -1.7152782628004737, 0.13804327679554795, -0.5519097390199397, -0.026000209508456613, 1.6497172304655678, 1.1984139003582834, -0.19289268898535836, -1.2625991099492928, -0.9326292451753802, -0.4721453888778891, -0.02569749228324857, 0.5053116128043342, 0.07094362631994411, 0.9340691583078777, -1.3754197071074852, 0.3600881573501637, -2.837121380640491, 0.10316532584195748, -0.24677241277158132, -0.5404281163230821, 1.079917269751631, 1.8477526209745012, 1.0777746392961032, 0.22569920326936846, -0.19524112146971748, -0.2498874344260323, -0.49666006434326776, 0.9912233481278959, 0.2019163493235992, -1.769212288546339, 0.8790168171412922, 0.1823590113636763, 0.6139992939480816, 0.2236870086578605, -1.5729685829315236, -0.004169059398725459, 0.1622326929479732, -1.443406997347962, -1.4495893431291507, 1.648318995247324, 0.6530802818339695, 0.33669155833967307, -0.9029099410048044, 3.0394161607876296, -0.7282712229237128, 1.4193400237921354, -1.7124770803527432, 0.18579313988198584, 2.1151076845263796, -0.4357789448031473, 0.6568815043626367, -0.4389208881662997, -0.5208364745967965, 0.6230337324992561, -0.504572101919151, 0.9803452203326114, 0.7173253897715595, -0.21993590618553693, -0.649484587946384, -0.8728896843246078, 1.5048898418328487, -0.36074070754337806, -1.111732289491813, -0.4896704669676094, -0.8049368805905032, 0.04918766081393421, -0.2972610735609732, 1.6907980767007358, 1.0034165300536202, 1.007060946205526, 0.6413335701847344, -0.3783899576818259, -0.6106252646615896, -0.2710520107697257, 0.24651492413384687, 0.5224674548602958, -1.1174501055003854, -0.773258604145245, 0.46969252699359537, -0.34072607247012704, 0.6838718829603196, -0.2207616100059891, 0.04326317597546344, -0.014975275738342435, -0.10716813736689318, 0.2862527003030245, 0.2820114355012525, 0.9447411207268629, 1.4539112046937792, 0.2683498308643596, 0.9504138952546181, -0.19417888269121292, 0.15015101998477576, 0.03823677131915272, -0.8416360024184462, 1.3163100738549833, 0.11688856815876304, -0.19714616384106978, 0.7451807372536758, 0.5189272217632332, -0.1829460600667737, 0.44726785969478994, -0.18208946909218382, 0.27557346783832476, 0.5155025956812992, -0.42069051612447056, -0.9116598379556272, -0.5084050881041144, 0.31302500153085033, 0.6628125786991295, -0.8815459118582607, -0.31530414801039625, 0.7336624986267993, -0.00017110565096282047, -0.8960920744285173, -0.27961488449043165, -1.6494494053662065, -1.651045539415365, 1.828350413426046, 0.7396543045850046, -2.0414768524456717, -1.4205112425831186, 0.3678233623658915, -1.4949166577367792, 0.8500185099410515, -0.5105578735856559, 0.24740037553295602, 0.5589264494766718, 1.1554111040001536, -0.18388240456049995, 0.5309298216693371, -0.41029108125558206, -1.833527467576786, 1.1600751805003002, 0.8023090091371688, -1.8409724728793426, -0.5167491134971842, 0.8707940051778549, -0.22672864115236477, 1.2344899128708262, -1.1795765934430429, 0.11692720081130906, -0.5323124005128717, -0.6959254175720756, 0.3811357664100225, 1.3568531173480773, 0.3653783255936193, -0.6325834778799851, 0.30773549463537514, 0.7209571777431776, 0.5201003599707638, -0.5994541143423754, 0.732613835020825, 0.87986292839102, 0.7664340337524619, 1.9056225732596388, 0.9637557619031749, 1.17376913199718, -1.1728366704930953, -0.2820526716065664, -2.062853427688618, 0.8152337496533864, -0.040168910656861824, -0.060678347662774045, -0.15655951817743083, 2.3721931895533572, -0.8617371814625235, 0.22247325540273039, 0.23439146501688585, -1.4147929299905369, -0.20003594531987065, 0.3737010595775489, -1.8054787760820399, 0.017456077599383144, 0.9464120665410137, -0.14872299993435126, 1.7033468525520583, 1.6139286423018806, 0.17086713708563966, -0.7508538535594338, -1.3121202976260748, 0.2993040057424335, -0.9576116278436901, 0.12646134800210493, 0.5093125509453762, 1.3145883627017128, 0.8557521462513151, 0.22193048121272405, -0.09678036648769567, -2.364933411703812, 1.5396886279060227, 0.4736465660496047, 0.6683861463372268, 1.6652489579316019, -0.8816142157614333, -0.20366623909457368, -1.7595942466211185, 1.67946159625096, 1.0561555279030637, 1.3944276658574162, -1.9824776412043357, -0.002102438104674696, 1.1285957580113235, 0.8075564955174737, -0.14694278650571604, -1.6681574147812612, 1.0286743320892016, 0.2908654973655612, 0.16722803745616768, 1.2629601190406168, 0.7757509108002203, 0.6323001407359683, -0.05983305684514982, 0.5380571085204305, -2.0004037756538486, -0.2046165674827066, -0.059112614837286984, -1.2608508731890524, 0.0016736524430442387, 0.9950177071637083, -0.7785239823014685, 0.26447145667850513, -2.1521766950396466, 1.064478839187021, -1.3964003691232583, 0.766138840876144, -0.2862602968172208, 0.799449817660228, 0.20969777309727106, -0.48505614598374464, 0.41146995961525357, 1.2394055132589177, -0.3055544275666693, 0.30317367522465627, -0.9833876494130394, -1.0199042066107418, 1.6269836046433859, -0.3368918872953403, 0.2294415041565205, 0.3050392273074991, 0.8328411119054742, 1.4204250883493033, -2.2807283861571275, 0.08049289909823483, -0.9256771633637062, 1.1127367806556965, -1.575392424962297, -0.4356502094313256, -0.8864835215329551, 0.3169602539892895, -0.023097616221841265, 0.36755660586204497, 1.4378527690492906, -0.09465938893832292, -0.5619846700602096, 2.4280822989741115, 1.3756406092522209, 1.1440457185242268, -0.09731441162011585, -0.9420868918879501, -0.2544233649226425, 1.2302439966951166, -1.606309822854003, 0.19274692406113464, 0.3197113899940565, -0.3298372758771968, 1.4139220914466624, -0.05149371616090543, 0.46497170926382175, 1.2174369925675534, -0.24537191518253623, 2.169304521772335, -0.9077156337523462, -1.75807330312089, -0.08349197988484522, 0.47105821949529114, 1.112914710350003, 0.36465220795694914, 1.0355615787009127, 0.23590823600647934, 0.7917464978426256, -0.9916352385908359, -0.010581339759037559, -0.2835494587218364, 0.3673772871360301, -0.688676577959102, 0.6615733905604178, 0.7112394123670237, 0.7578655321523698, 2.232192488460578, 0.6568452309265278, -0.5130314576326296, -0.9621945712587175, -0.1751203255766293, 1.109820312806173, -0.5939359480306008, 0.7815798710286997, 1.3015216347682126, 0.021971946077997132, 0.5566186105659796, -0.9058871429323025, 0.2172676232579174, -0.31160808232209425, -0.43293000732148285, -1.6664488769066432, -0.7083094703709347, 0.25886530705074384, 0.9825158504085078, -2.3129730672377944, 0.3370171891828605, 0.0735075199038801, -0.8893503533219447, 0.7074456787840745, 0.5331849309949185, 2.208536638133351, 0.19720244365435124, 0.5656547103500031, -0.49895495060282014, 0.6484880588775702, 0.05572697144361539, 1.9527117120772666, 0.2840907595840693, 0.7267828783286895, 0.6780467673087109, -1.7600837068464965, -0.0640856291409788, 0.22417812361671716, 0.6886367399929244, 0.21934331018069872, 1.6109821438402145, 1.39117286075928, -0.4326752975153845, -2.048584899444764, 2.0390033576199826, -0.3781274699886848, 0.2262016760719427, 1.3175913142482214, -0.06242438545456769, 0.8964514594264535, 0.9442217287429167, -0.6196504744639301, 0.4553665712342824, 0.593042873063522, -0.29026873815890347, -0.7821291035337791, -0.43022872442870264, 0.4022360899957722, -1.017023800232869, 0.5268937630139051, 1.7951044014576885, 0.4208645846217104, -2.030797249297169, -0.6478431660655064, -0.18530381583638378, -0.3967862598703207, -0.15327783264384673, -0.8790877350934503, 1.8363943757337824, 0.7041124201886328, 0.708957186421024, 2.353560906272168, 0.20623207676205507, 0.9665745631776398, -0.4902341459288297, 0.18150045894764405, -0.6736311697669304, 1.0708022833635022, 0.1982762294609684, -0.48413967832632954, -0.969371731174866, 1.7147149132919992, -0.8636085668650382, 0.5619882382113923, -1.812399022053081, -0.21889295672524162, 1.4027122012130755, -0.32976934257792206, 0.923237829220157, 0.4861791830301767, -0.06970888492649735, 0.9323774789519517, 0.7876248065365681, 0.07718606792625073, 0.20367830459298963, 0.21951659868248907, -0.515139679656397, -1.1544024632140828, -0.14052969809773333, -0.11625752322831577, 0.5026662553693941, -2.1112803810698915, -1.6891537299010628, 1.468092768858609, 1.6637063535789811, -0.2908443721069404, 1.5329441449795476, 0.16330747452720623, -0.4694532121605474, -1.5998430113777282, 0.3671974377216255, -0.3961555709171237, 0.8885732938608604, -0.9939783165179292, 0.17356036948021997, -0.015155278261282575, 0.867263815041769, -0.501486761968074, 1.585397892622977, -1.8637252878258872, 1.0262278785830592, -0.3864367717572713, 0.7305785422019492, 0.11379625676658314, -1.3738912858994443, 0.6545599926000667, 1.302868023299304, -1.2612698128783721, 1.488473784712123, 0.13625702827334818, 0.34282999035623435, -0.8891358287694343, -0.8544136797470221, 0.9684919944102528, 0.9000987652554959, 0.45965316372140386, -4.137870880859122, -1.8202939765267434, -0.16421798414024125, -0.4407873319788722, -1.0805214551193318, -1.2163033468065634, 1.5488329778321885, 0.3769808082762805, 0.7536928467200902, 0.34485344481677627, 0.05787940343247928, -0.3599062943344753, 2.3778916462, 1.978884865520185, 0.7274709477290852, 1.2026676626163775, -0.658869806681169, 0.6119336485228891, -0.8407059444846124, -2.5441595084139554, -0.09527828564714609, 0.4276304668596015, 0.46251352599637574, -0.1284669858707346, 1.0383664661093865, 0.4761303575039128, -0.47842773080708434, 0.7562385241206988, 0.41238760588104595, 1.0029720177128414, 0.19883551961380594, -0.9841301689685483, -0.7187467968608126, 0.5233149783764636, 0.4281494974649827, -0.5631768237933585, -0.6375883336059411, 0.6471983543840316, 1.350357063713942, -0.25053897850553253, -0.5409450615218445, -1.58762026381239, 0.9969519667742869, -0.363688289637154, -0.0881210610059887, 0.3683391282044973, 1.9181660533172582, 0.6218979079104406, 0.7364881279427636, 1.4470784487820647, 0.29982125937464366, 0.3595397409779244, -2.095187733490855, 0.7925040198340796, 0.3747771808493902, 0.3687309108570814, 0.4639932926829153, -0.5249825023940858, 0.17912147914441837, -1.468894395668941, -0.20336119594684193, -0.28041442154665186, 0.13317697583245736, -0.23122835938862213, -1.2352761474885294, -1.3097180956875203, -0.3916593695867858, -1.7477870436602878, 0.9773035018227965, 1.5438604964079639, 0.004254593886300562, -0.7030689803918199, -0.609700882966067, -0.021355956494075245, -0.5661865830520197, 1.2573102382007313, 0.22580753151438993, 0.5463810982321711, -0.7166359900977928, -0.06279937752628127, 0.47751966986747607, 0.7589635651172233, 0.049351126098073114, 1.025560464854507, 0.7642250702544939, -0.373631550127663, -1.2798718574196195, -0.4134619271725016, -0.7894039626331298, -1.7116775898674563, 0.8259880502367242, -0.32932154279432413, 1.6305103826730107, -0.4842399775722658, 0.2666176043026602, -0.2632118297930938, 1.8094364762981359, -0.8593310649894473, -1.1893251619743461, 0.6751621987576081, 0.325455705276383, 1.3772856283873294, 0.6253148673137652, 3.5290933676982714, -0.28331998964885724, -2.029028485953036, 0.10604435580452187, 1.1129796244021664, -0.7532346068380914, 0.31557600890365245, 0.8654422053983386, 0.4789146574375933, -1.3831365086418215, -0.5094843469489668, -0.9464312857075629, -1.2041006541223878, -0.5929934847201727, 1.9102207615016948, -0.5296484472809848, -0.5253439638640839, 0.23388414173696664, -0.4775508894673016, 2.1372558215595374, 0.34291954322596413, 0.2962934964751496, -0.7155018942242698, 0.7128207085008058, 0.6529515709341328, -0.8585392960263328, 0.6768302738405743, 1.700058873923086, -2.2082358266710416, -1.616031073455226, -1.630158242552944, -1.7196619291460302, -0.23800529911418386, 0.5119313853209648, 0.5840621090971858, 0.46198556687347103, -0.5981419256123233, 0.48653150651102867, 0.2524762954958828, 0.07676469855743404, 0.27262140422661735, -0.9362266421326084, 1.482649750359038, -1.3997705337960449, 1.5691320715188766, 1.513467608926213, -0.2908040111761853, 0.8442497722051118, -0.20953417790671072, -0.27784117987420875, -1.7866589795683534, -1.0796822194953486, 1.3068040293358414, 1.035242594603472, 0.1966816685726236, 0.3847665380350872, 0.7072024163236563, -0.26593833949805196, 1.4747590959870494, -1.751995119196877, 0.17988026543070157, -1.3379915979797299, 0.631918795501498, -0.9234956447821842, -1.4681823464468258, 0.5680591706120531, 0.2879733798744301, -0.9354857968050859, -0.3606194964723603, 0.9754539862559809, 1.5918261827893228, -0.7444480085110019, -0.8035718480865381, -0.08987312125810594, 1.4569989294007042, 2.146830606662301, -1.1688703526550321, -1.1875710644023856, -2.343793298852141, 0.08320485358210858, 0.4116106803967142, -0.5764358883199278, 0.19407353449708933, 0.8118940166658237, -0.16968896744213538, 0.9158868346018655, 0.1476255875052149, -1.860550228344826, 0.2353133725134601, 0.01584747842216081, 0.6382242817595014, -1.3246364388361829, -1.2105838510279585, -0.3061774590028071, 1.0469119372189235, -0.1322398559203635, -0.39644764252826814, 0.9137115089222017, 0.7778627840262837, -0.9494821686265483, 1.5657025263677555, 1.0862348903299368, -0.6405299328431497, 0.02016885671117149, 2.4333135324981203, 0.520678818178165, -0.09491821489798327, -0.6507083672082993, -0.23545899788902097, -1.44884886121048, 1.1566316170739306, 0.2525920250836712, -0.8295369176499225, -0.6549406012465872, 1.1260325085384388, -0.6399788849454516, -0.08550891930021527, 1.0296953013670935, -0.6673261368958462, -0.8559470409069816, -1.5038277510063995, -0.6110466103365475, -0.25651276725452565, 0.16607860327669433, -0.060149729456325574, -1.3424266779894087, 0.017661488635338007, -0.18637131397021514, -0.26059362774914796, 0.015100019893254466, 1.0526582714838733, -0.5246470699919091, -1.0069516368379567, 0.8916247304434833, 1.1041423378692674, 0.5508569670564926, -1.907506242403317, 1.4659104165469776, -0.19200032198109335, -0.25285557038288786, -1.3350795105639888, -0.267645001505278, -0.38640999284493566, 0.5327712189819139, 0.3167451032262826, -0.40607984509101375, 0.7899459882684103, -1.1313169280882909, -1.4864860244673912, 0.7291656325989165, -1.0934910656342327, 0.24850516768290024, -0.8840444513185701, 0.38468709491132047, -0.27017739213025793, 1.1813897009500223, 0.4888234186911122, 0.7388054959646896, -0.34444027096765945, 0.12647276482130318, -0.6268401039857417, 1.170963607629918, -0.25001311088268424, -0.5281138645699097, 0.2785699506913256, -0.23382631781420737, 0.5682643014765775, 1.9478694886180932, -0.3051600033002107, -0.2787037593846739, -0.8105483068829449, 0.49932624856016616, 1.8022511921329665, 0.09849179396939119, -1.2075622142588414, -0.42647441207889647, -0.4541711597605433, -0.743316321975878, -0.39123521448530924, -1.4032916489980078, -0.16035885759593685, 0.8926607423103371, -0.570132886256331, -1.0515555087428077, 0.820452267394931, -1.2887631833975792, 0.4360932468251382, 0.23916417629238124, -0.6742419178008491, -1.0967478632549037, 0.5165998725139549, -0.17319152579184702, 0.5716110842700569, -0.3954520708393579, -1.1090816544412871, 0.8982929754848165, 0.9772726905469585, -0.6711689193063879, -0.37909306517130287, -0.18823717351636982, -0.23613399729658535, 0.7785792851124942, -0.4299701287839652]}, {\"marker\": {\"color\": \"white\", \"opacity\": 0.3, \"size\": 3}, \"mode\": \"markers\", \"type\": \"scatter\", \"x\": [1.42431316800419, 0.2922182565191422, -0.6100348274522979, -0.07094880089610478, -1.0875521314683105, -0.943294804765724, 0.2520054105212392, 0.49434146967079606, 0.27232192962409524, 0.3805893349470849, -0.829839488136048, 1.1697509751803346, 1.8390531772692917, -0.5066186871716518, -0.3315153312342153, -0.4182508051176748, 0.9841225543292499, 0.7501863892782219, -0.26667512800741633, 1.2714680023306784, 1.016925328759142, -0.38622389933248064, -0.3824023500492277, -1.2416301941043006, -0.6681726901403843, 0.5239956103800222, 1.8308848349313378, 0.08527061714781269, 1.6633794820526668, 1.012114503200857, -1.3726186585600308, -0.021856983995307087, -0.08890616835059166, -0.7976239554288559, 0.64835854573148, -0.3375678877392042, -1.8454847620931605, -0.0317189398152935, 1.6173374315860554, 1.4713424681077192, -0.2710526580788573, 0.4439024257122562, -0.16228844660477257, -0.3774021696053779, 0.7041043323187216, 0.23733136321374362, -0.2200184574505608, -1.0557179063205977, 0.4947981329456479, 1.1958589583923676, 1.264636524173858, -0.9282928646731828, -1.3818432459876142, 0.4558820593391029, -0.9231284576626322, 0.7652090725797314, 0.7778605134780658, 0.24149443294305098, -0.13567880474989547, 0.29488657303203236, 1.5410343269902875, -0.5307465515858928, 0.27709016032722183, -0.7570909317552551, -0.47208065018911505, -0.9927233953437579, -2.1664833360551317, 1.7075616613545936, -2.3241489463880294, 0.8135190486843292, -1.1270257667858674, 0.2719933293113927, -0.7542318016955715, 1.2752352542422607, -0.6281802962396802, 0.011880483543172362, 1.180391699105607, -1.0710457239042814, 0.879111466560403, -0.3302691455803222, -0.29060172356100766, -0.8518040216014625, -0.21392981816319484, 2.073945483896399, 0.566436870947907, -0.08698850424588954, -0.032809670781324345, -0.6580956792833053, 0.4706258410282746, 0.49821970035212515, 0.18335629439364987, 0.8829290487420969, 1.2876303015877442, -1.4819878050829292, -0.2098851366298537, -0.692085763689496, -1.833165193880717, -0.6953048337883776, -0.22701207029774512, 0.05266312215905663, 2.3925956574254736, 0.7807067146985381, -0.7986361331354414, 1.0951299174183322, -0.18574111960745057, -0.20208786266858939, 0.35084518554897876, 0.22098617560583972, 0.054456653900521, 0.13185924713870692, -0.429028807509428, 0.07835673377525475, -0.1758778251643518, -2.122317218371569, -1.3332252370675297, 0.44778474575463945, 1.2324619512369792, -0.6040291649221279, 0.722281529549575, -0.1889471624772625, -0.4728980180704642, 0.17910793955374613, 1.4841565163738217, -0.3778990900067518, -1.29327902833167, -1.669594532030794, 1.1085110204450876, -1.5399617585852898, 0.6026228641201324, -0.5455816744409049, -0.6393777988262168, -0.8020341277254754, -0.612205855701985, -3.3679290920196245, 0.4480960246728102, 0.3824212983790248, 0.7734798051907767, 0.6800454755655541, -0.6522057728784115, -0.31907966334175125, -1.2625578941133822, -0.6148158614573113, 2.557152480858925, 0.6968272216835458, -1.7740508777909794, -0.12767167401023582, 0.40977927567901407, -1.5112180292339517, 0.6360540058577676, -2.3243670662709164, 1.849106831954565, -0.3672753924644618, -1.391503510824001, -2.296410321251444, 0.6943813609259122, -0.9316724532457522, 1.1622037431083687, 1.3018501575981154, -0.5804727658660168, 0.720857317560387, 0.147443570792732, -1.2392580303072103, 0.10385165267494606, -0.8422269324817243, -0.5602020776345811, 1.543026695456277, -0.17099932309855542, 0.07021046401131507, 0.6030198470183825, -1.6580640605236594, 0.2055678136162885, -0.5862010272391797, -0.9333351386020883, -0.18346371715188617, 1.1488665091862875, 1.4775075777566804, -1.93005881203239, 0.5519510572006564, 0.6283272351634334, 0.853836459110897, 0.8027376920221463, 0.5785281137131709, -0.48558497796632605, -0.7059471224393973, 0.593582324141747, -0.5056247150204577, -0.0073346395092963755, -0.2638004661441709, -2.5040729888961195, -0.02936367750398442, -0.5326571359677067, -0.9296124086761933, 0.099458970696871, 0.14045752582164187, 0.5157605090674557, -1.3157399815667685, -1.4221844830876664, 0.00953499121309903, 1.9986783072076637, -0.4123648113721794, 0.5175171765699984, -0.09303868989447976, 0.11520014248469966, -0.9401699587097442, 0.6977574340238137, -1.350217807758408, 0.7701998010403553, 2.681438321435926, 0.6510777893252306, 0.2919268608821053, 0.5863047966729625, -0.0004482997268756463, 0.690563301893188, 2.6723364591090903, 0.18786747455797168, 1.0081696917367626, 0.6577389595547982, -2.2206367587664166, 0.4922093916580662, 0.10519710433365373, 1.9301540092366605, -0.018613901486843894, 1.3821277840286197, 0.9913476896126822, 1.6942301144931444, -0.3348084146045354, 0.6349248444478021, -0.803006475326154, 1.304666016304632, 1.158502803754109, 0.9858840497827099, 0.5947356382769492, -0.7166595652153666, -0.9006602157590798, -0.7185655473761847, 0.11453131052680629, 0.36381025224451685, 0.4075490190884983, -1.9057616853818053, 0.24924838815529338, -0.9738930290483766, -0.6170958221227054, -0.08143300855218993, 0.6051278609148876, -0.8976687359893912, 1.5223865085714343, 0.49738802436180174, -2.293869980286339, -1.3587279342438305, -1.0282884541834396, -0.2448153297781602, -1.7150202008844448, 0.11248474929268219, 1.385379985041507, 1.2614433224907722, 0.38833078354605993, -0.22101289372698232, -0.34539263869327047, -0.13627594375118182, 2.2030760235268185, 1.0673533803998385, 0.019826757623031887, 0.5522698216087577, -0.34132384745746663, 1.7616108230529417, -0.47191206018986653, 0.20732374982961713, 0.2840673862041888, 0.19366338258853852, 0.004770814683956002, -1.0196824588907065, -0.014576726304784949, 0.665363592490015, 0.651365921112465, 0.6501374632097269, 0.36597011674087837, 0.3956194755458353, 0.2843118812778929, 0.31278324016235104, -2.3268621067904536, 0.10158828059075493, 0.2734402601084191, 0.2558302004135467, 1.4429951191092663, 2.306701703126453, 1.441065114229481, -0.2850027830754901, 2.0131766642385185, 0.1446456059737324, -0.9159403004569516, -0.7511045455402257, 0.433914808370751, 1.8393407986688877, 0.16912220489116095, 1.1477755800456784, -0.5514150910992907, -1.315904600334546, 0.554478005621485, -0.433081490356974, 0.5211859790722011, -1.7659240327682175, -0.8617889593652067, 0.6165330808266558, 0.8881028977120725, -0.34707770225107637, -0.5390233304850125, -0.1489775422040875, -0.9236450613465444, -2.2159795293704447, -0.12566819099222865, -2.014128212563826, 2.258707028246153, 0.4982110566918419, 0.04366252643234646, 0.12063656344877619, -0.309781137919035, -2.0836547632801263, -0.25525327281211563, 0.6471472748150896, -0.7634986059601422, -0.1866537876800116, 0.5203672059840174, -0.11588737048969999, -1.1843728407511558, 0.31421341099064215, 0.53114354220503, -0.37115897927246033, -0.36241278041620734, -0.9907606355217957, 0.487576132807079, -1.3993161530834999, -1.4217240070940156, -1.4991366964830422, -1.5240618605087706, -1.6600834530135795, -2.555241006571509, -0.32739480280457534, -1.1041703137030219, 1.0988321806444104, 0.9202845022719446, -0.2197900388047018, -0.802410537949384, -0.15191973610507511, 0.7623713206352597, 0.2456469545185604, 1.1458405979731265, 1.7593608650952852, 0.8719811661656549, -0.9236492158365638, 0.40117542831199354, 0.5867969235232058, 0.3016901070886428, -2.270549330210612, 1.1705532972053392, 0.028369897054964465, 0.23023781369497553, -1.3326155681400897, 1.2370688802533931, 0.13539202259112432, 0.2994833130830155, 0.008751484697794564, 1.6554005822746027, -1.8659984422773375, 0.0181484806422532, 0.7350494954633617, -0.4994011973139804, -0.92384257721806, -0.9643003262045167, 1.306070960938494, -1.2475188432827788, -0.013528202082897053, -0.9044450974684392, -0.5318751126931559, 0.34879397833292697, 1.3896175806420406, 2.6927733204536497, 0.7219576893029197, 0.4445705421823254, -0.5046497909090298, 0.31734864317781947, 2.779698635126964, 0.23289572613083934, 0.7227255701163249, -1.0359277177552668, 0.38812249211393807, 0.6823357445974703, 1.7827072688353474, -0.5431216037232883, -0.3648059174057627, -0.18689793391824394, -0.9473521104661919, 0.9540465367069195, 0.5071211821380345, -0.9843483014808568, -0.3354887026533869, -0.14145029661626266, 1.4988761512106503, 0.39041862683195944, 0.23159913123660533, 0.22571010227602828, 0.15691508652385622, -1.0585836230471208, -0.9101234059611, 0.08872370821907964, 0.7028332043692737, -1.832257892853753, -0.5465827659579346, -2.973530240760106, 0.09475793958396683, -2.015098342346237, -3.2690845863562106, -0.5581825951681181, 1.0047381875406205, 0.8327364411288314, -0.2302624765205976, -0.6503535494306288, -0.38505907578719434, 0.2688716851162071, -0.7187025840704298, -1.8736867460197126, -0.9575947095187924, 1.8618489695388807, 1.237782386681308, 1.041727489974807, 0.17771776190478106, 0.7780349846757905, 1.7376030297888576, -0.41195711427508175, 0.8848438314978796, 1.8423120855714417, -0.9158076111181817, 1.2252761363744744, 0.26524814359731297, -1.8399135033136476, 0.5927423904188619, 1.4492451688451917, 0.44687442389991566, 0.7303073271509212, 0.8452337895957455, 2.248393177976788, 0.08549396013504645, -0.3379757651112369, -0.6266102889412306, -0.21146958836981017, 1.1058674308471625, 0.884464099976861, -1.3325303060422033, -0.22371317746947042, 0.23163391870889125, -0.626178671813615, -0.1585426776674212, 0.15522880587497878, 0.8796633042903437, 0.5700812546058468, -2.1970922309213616, 2.1328152677185264, 1.1952495160458725, -0.8374996967882561, 0.6334056766295442, -0.1218123224526366, 0.9057383203828356, 0.26073009082687937, -0.42062589652468835, 0.9201925129543025, 0.46962821229589746, -0.919689356657335, -0.27327965734059695, 0.5293620364057817, 0.007885480717027814, -0.042045165427549214, -0.10754847932919345, 1.5252862825678883, 1.4738826235396454, 0.5867612696574667, -0.6530273768291855, -0.036138978740661694, 0.5343019568789099, 1.6878058297444287, -0.9255764664597894, 0.08512775986802042, -0.4447425856347833, 0.9300514670687474, 1.9349579642898864, 0.5593079372847342, 0.8771223264665506, 0.055559496831610114, 2.2902537746973035, -0.45070318620309685, -0.9692582923292177, -1.8304629610350938, -0.22127105411459871, 0.658434660709964, -0.5071016934517294, -0.8888459823813869, 0.7499894058942689, -0.21211438033858906, -1.3695053742099539, 0.9362185613813431, 0.3334028450467918, -0.75014173772424, 0.47614330953087086, -2.4702028386371255, -1.5316794346199272, 0.31185816406648, -2.292707807702765, -0.5524877172307006, -1.560695426626466, 1.9778088024376135, -0.7502719663126268, 1.1539571384619982, -0.290200454148808, 0.3486844395056871, -2.665740083752868, -0.1080208515169499, 1.1825586562987112, -1.120096072215206, 0.377220938664019, -0.25705584557222627, -0.4208574923991147, 1.0902639191881822, 0.37678608581145107, 1.167321082770238, 2.619377399699231, 0.1115751799607544, -0.3266446297631061, 2.1111302517360975, -0.8207609963923261, -0.03379122558639761, 1.2099461157436504, -1.091078031791219, 1.603664583044717, 0.94190456770701, 1.5111557546322334, -0.6541431656119688, -0.677146247582849, 1.2757257873651453, 0.4819635588705428, -0.7119632387042715, -0.925460321580159, 1.4405934494600412, -0.38852551894383597, 0.36200621625861273, 0.45278461125582714, -0.5740570731740824, 0.717347540381428, -0.3154025647212963, -0.04832259045177461, -2.3915945326368435, 0.8439174318135625, 1.3821931065638955, 1.3040788961475553, -2.0703497552813377, 0.41701715333326317, -0.9595654171472069, -0.22221162977013242, 1.198565484330506, -0.18275548497838479, 0.4601005026616005, -0.1819147690495628, 0.01383042564498667, 0.35473747613359446, 0.9247142154206737, -0.6366211963530851, -0.8849639153748252, -0.8578707607930075, 0.8481780233052824, -0.4919204682126709, -1.0917876821949457, -0.8665364080492121, -0.829885458074469, 0.6102548267665248, 0.9507587635453227, -0.32830679184780187, -0.5796568976050226, 0.025751196860926313, 0.36075067717382664, -0.6939108004523488, 2.380883240055016, -1.375740292649016, 0.7602913298794663, -0.4335800843882645, 0.041639484932096425, -0.9695370057963736, -1.6960709625418187, 0.23412275926331097, -0.5359984691763159, 1.2366515384654564, -0.72359549248529, -1.37962826430378, -0.07129982435032135, 0.3594098807968462, -0.6968446085671282, 0.2954334977777223, 0.9349833263642747, 0.998152018192043, -2.078575040156901, -1.9777909756987744, -0.17447001864782954, 0.5956869250740121, -1.9826835685689137, -0.24234827327600006, 1.8004923086532598, -0.5247618216873561, -0.4991620849064127, -0.17787905347971544, 0.21360481671970388, -0.23965029290791104, 1.2187583519480532, 0.41729431791314586, 1.7327503789467082, 0.39860924560803657, 0.4064487738599096, -1.1811199354265551, 1.196567344411335, 1.5993962538732849, -0.17291451957965928, 1.182266546258266, 0.903369550005529, 0.6642606258487229, -0.7663566295771078, 0.528930584857256, 0.5912460967124876, 1.816344027615981, -0.48428291506927457, 0.13132205514607997, -0.03973057191265489, -1.5635812513109428, 0.9773672589052207, 0.8840211783248372, 0.05707140464302286, 1.0973692539448312, 0.5964296657973418, -0.4940077388908989, -0.4478469761050677, -0.5740081636944374, -0.5844078359145185, -0.7803984833749347, -0.46636137524668553, 0.007984370399890533, 1.173505368552129, 1.003325852745704, -0.23841217675514834, 0.9044245438098814, 0.09052778078414726, -1.1768339249690691, 0.4176639013203792, 1.8822722392917357, 1.2284470911549197, 1.2906583781322687, 1.021062763790283, -1.2186186471314515, 1.1926496207603237, -0.227188125604269, -0.18047403082491276, 0.41521064543681385, -0.00198006995436695, 1.0880623318974323, -0.11937895363624919, 0.5879461443563174, 1.9734529515439134, 0.8031484958026784, -0.33601698039282374, 0.5719157293511389, -0.5349729430814832, -0.8635711137448775, 0.28085309406284686, 1.1248285169948784, -0.5520908871013958, 0.7871270109251995, -0.27001871280239104, -2.0555160567515083, -0.4549963141528204, 1.193480737164374, 0.6647273837997433, -1.7216351252485416, 0.025674767150815143, -1.3531400651437349, -1.0813459654017723, -1.5105568292480331, 0.23282320707828869, 0.7439843550048392, 0.2625179533271903, -0.3258667365509017, 0.17698637158316488, 0.6194989424498346, 0.9741280714501276, -0.6804889612225948, 1.1381287142592642, -0.8525148497003802, 1.0808185630962632, -0.15875589638796117, -0.2701724237521375, -0.7182595831421843, -0.19864033477089602, 1.0454099097386758, -0.3304411958169905, 0.5183253516071563, -0.43466354846695204, -0.553661896499448, 1.2289186808579886, -0.42410450859244725, -0.007417776446561193, -1.3650982112973626, 0.7527451583873153, -1.9448544412291133, 0.111942818337635, 0.7794975937243019, -0.2058274936531856, -0.2665898528535607, 0.45048605833906413, 0.9440283835253238, -0.1756262211623761, 1.1085141343487732, 0.10532819059422893, 0.6001475838881162, 0.18947324356601505, -0.797202449034645, 1.8057358768665326, -0.7725655824813297, -0.9604472489616326, 1.0210619609383913, -0.09398746784068297, 1.4037008755151943, -1.9916081824219098, -0.3041161942918445, 0.6449344903928707, -1.4377436975054458, -2.854898348020883, 0.9554211431733414, -1.3157034210933272, 1.131296794213891, -0.9725777345381691, -0.3167953455138293, -0.8341898362128753, -1.5597202737547613, 2.225002287239809, 0.6162772516655851, 0.5607813762055376, 0.042555258190819456, 0.6836405923400644, 0.8195332859159062, 0.8857559596835567, 1.0789437383379745, -0.4570539053216243, -1.6759282960490502, -1.395663061153307, -1.9317790043899616, -0.6606438726456487, 0.6644336425523241, 0.33466214214751255, 0.38281296181305163, 1.7788289617180402, 0.8344110122985331, -0.5888374262902626, 0.3725430484202877, -0.4505970336840346, -0.5245431584662529, 1.509512590190122, -0.5332781211262724, 0.08822661942776529, -0.7788110967756611, -0.3124420610528633, -0.4930128954703697, -0.22356543013453775, -0.8493982842085416, 0.38683052735003814, 0.6005944292659534, 2.4691453030822745, -0.004782381111788935, -0.4304510287929226, -1.8759353739564881, 1.210914412238469, 2.019289884362341, 0.3616728752657935, 1.4461129763991964, 0.5499308009780699, 1.3073914458527116, 0.17012032212733422, 0.07256062998596242, -0.12807756186709823, 0.6069887641815936, -0.6804733959869141, -0.5753827099743982, -1.731563967855412, -1.629803790432608, -0.1532358930787495, 0.09818929507358884, -0.7482575412944625, 0.7016581017916643, -1.239764479327604, -0.7935945023499867, -0.40732569122008594, 0.6320905666061836, -1.041717239350029, 0.8344871160415444, 0.5038571465961764, 0.700698617212064, 0.012397245472072181, 1.0469890603850647, -2.4179942142151782, -0.10719817341250955, 1.3073422268298223, -0.394078866984992, 1.662986019689017, 0.41713731379340246, -0.22867396248908434, -1.9822904996146002, 0.23586911743157676, -0.03906682569860976, -0.625691800579214, 0.11248656678768552, -0.5060079709370368, -0.155886680988086, 2.2349497014100437, -0.8519471208529564, -0.2307362627661558, -1.9548631526986575, 0.7722854777044162, -1.1397112485822398, 0.1598798139537397, 0.5611070798263372, -1.6975292189817996, -1.1700972337103286, -0.016805870590801113, 0.08154871098857838, 0.9955843491117767, 1.272178611155095, 0.229951127124336, 0.502501767540986, 2.116296080669068, 0.4997700232259598, -1.2583372189392528, -0.15934613092248787, 0.13613028010034361, -0.9170312379979081, -0.984423810021442, -0.6967002882955794, 1.048522545940373, -0.5205374459479339, -0.44567091728787744, -0.38282663033413644, 0.048228927447765295, 0.208561710726164, 0.48982259710610615, -0.38894043288145724, -0.41691919217030027, 1.7329252064497014, -0.3214494002387769, -1.921189450893121, -0.34773622719809066, 1.2663738506790658, -0.6544968037745399, -0.5538432997624618, 0.3207289130313743, -2.332742961761917, 1.0966138928222187, 2.283350947566283, 0.280532348149601, -2.4231576456698325, 1.1534929362569148, -1.0935898202896537, 1.4095562575500074, -1.3100235837556298, 0.32935920323484197, -0.14281293165270498, 0.6325812546731922, -1.5039330298007338, -0.3279222852679739, -2.70333575173905, 0.21433392306819074, 0.19030115715961826, 0.5429125790684687, 0.8001033885573443, 1.1483964073061608, -0.054580443061213194, -1.224229448494428, -0.8587309773369877, 0.8823083634758195, -0.03626384857610675, 0.6047297442589703, -1.0235891018167338, -0.052547193575969015, -0.45722383896020113, -0.773145651478684, -0.04269542451366998, -0.46958610775267573, 0.5770990997272948, -0.9641420181581055, 0.08195141855047339, -1.9456365627432668, -0.5672493776971841, -0.22478485695629097, 0.21473700201788326, -0.7820384473594786, -0.2974559497522951, 1.2856666860876964, -1.8390077366766915, -1.3019654983143636, 0.15949174120485712, 0.92537623171937, 1.4295360056930584, -1.0101627010563343, 0.6118698005092154, 0.27758824378759406, 1.7296497862711473, 1.0804942351897404, -0.3929579901737725, 0.8009149305879922, 0.02612213770491798, -0.27158874426081736, -1.056194008032588, 0.8225715057821306, -0.6524590577324584, -0.14867268798105945, 0.25926080124202777, 0.46853101897444577, -1.80975152014962, -0.5481010768773106, 0.20527654876191048, 0.16719329552326265, 1.4840170240573851, 1.3356030533022767, -0.3677255497182877, -0.3459273160720455, -0.007386049652660808, -0.16382443862925714, 0.8636110468401933, 0.338893592168206, -1.225451530460807, 0.32903955593971274, 1.71606138384416, 0.8716477122475468, -1.4103736801207523, -0.09802375832259765, 0.7862829463358476, 2.457613981208097, -2.5788086435311093, 0.8862815039309643, 0.08676964544209716, -0.4892131042985004, 0.8867271717670737, -0.974877069909773, 0.8813857611124691, -1.862757272242469, 1.008753785764516, 0.5475556178927662, 2.080514802654304, 1.6330030486107332, 1.265874071225509, 0.18491665585531425, 1.3405569987445634, 0.7463567575769356, -2.3415281287314986, 0.4687291004018643, -0.4995663377546732, -0.5492906088089761, -0.625397722170518, 1.800774130977427, -0.9991470735024377, -0.1770915886301593, -0.9959174356282895, -1.064473740090723, -1.6717506523087344, -0.026245623756728162, 0.4822484635005369, -0.4985148168132472, -1.4813433315754956, -0.5517703401555623, -0.24747299338510267, -1.0654845241969642, -0.9949604042551639, -0.7960096496599853, 1.3209678531740867, 1.2239806288226907, 0.9440665286768432, 1.1828098215934209, -1.510375395656219, 0.7782164022851481, 1.2448485697269918, -0.4933794581439353, 0.4474401526854192, -0.9418260993637668, -0.8149779933972389, -1.8110900615633911, 0.6331518718835187, 0.9645918181555554, -0.061210944634818305, -1.103426783975047, -0.1359774246944414, 0.38507484979264384, -0.6391193089103937, -1.3316142411450778, -0.15974631768096403, 1.0456853393278043, -1.2662179592509604, 1.6313344908764065, 0.33310134947253817, 0.451174404372594, 0.7258793848141074, 0.9781592702237368, 0.029224435361392073, -1.1201417857545672, -1.48999157078779, -1.52206248738977, -1.5866643833987208, 0.45943275809354034, -0.4445198207764939, -0.7156106569095722, 0.550297132931224, 0.9965800388479044, -1.0671042357419884, 1.703814634656487, 0.12862446775908787, -0.72042900975028, 1.733026516075144, -1.266896682839602, -1.6467930701794833, -1.0132782924117696, 0.36994461995517103, -0.44871327275606576, 0.9935496135032181, -0.7057598026739381, -1.2701199462275787, 0.9343909562521142, 0.7530839984565115, -0.8385385539877381, -0.07755402638625473, -1.4903425756804842, -0.055050811411817877, 1.3911454780175474, 0.11227014342176724, 1.2056600717319568, 1.2254028293439003, -0.13184031758377754, -0.06282947391869086, -0.059253482351952075, -1.2300622240701595, -0.6529314623700169, 0.40983283918353874, 0.6202185555173818, 1.6048686526297908, 0.5986999982330765, 2.7693837672259294, 0.18126062982330043, 0.08130198195713638, 0.06391028584836511, -0.04350385071537177, 1.025351672536392, -0.29801496895086116, -2.405220751713765, 0.4804021350328186, -1.0264061556595514, 0.1077630926812578, 0.026877885882814454, -0.7097749753749347, 0.05079102358619811, 1.1583825826528837, -0.03684774174941383, 0.24866888134332418, -1.11301073290521, -0.3827611464147158, 0.1557914742774703, -1.3631954167217273, -0.14083490655390005, -0.21923423098244166, 0.7694303623928017, 0.06878597652962369, -0.661749226741707, 2.3235037973200487, 0.862949053177203, -1.2827301296993807, -0.8309977602085322, -0.5851593030765243, -0.02864795626610706, -0.07729167885932721, 0.408236211957614, -0.37844953519493846, -0.009551243285603592, -0.3587633353916176, 0.14545586289492332, -0.3881290042006176, 1.0356877857820195, 1.7058671664311056, 1.622325545201905, 0.165532694132968, 1.0657434218901747, 0.06764257397618414, -0.8832535888108798, 0.9008688965630756, 0.8601926880847597, 0.19692879597700355, -1.5043690466600277, -0.3646488684346444, 0.005040275394178747, -0.8501316444900234, -0.47491448391126617, -0.5150557722897267, -1.6041455095832753, -0.927523129996315, -0.44572655343373085, 0.40357958161623503, 1.2242767659127434, -0.6486619518940894, -0.14386136327000898, -0.2796686870540148, 0.7141084437814894, 0.383877531573112, -0.5471644994553316, 0.06306447294773632, -0.7239630350068966, 0.22336948645197602, 0.543478673335813, 0.6759047424909189, -0.10353672721053608, -1.0069323461533388, 0.4780765430642611, 0.5360192163747783, -0.07585942906914486, 0.2720677765873192, 1.5887095081737324, 0.8846579518025123, -0.894867759373168, 0.4046948814401597, -0.25217105199609224, -0.8877835046217515, 0.5588544564987117, -0.20614759001785174, 0.26101539592846434, -1.6210661060137979, 0.021366902709676113, 1.1111018550057161, 0.19422995560594825, -1.5152763873493058, -1.5763064069985364, -0.5468579604741626, 0.047216736241846156, -1.0943817492828607, 1.6338121690832184, -0.7611620130254235, -0.00608609892767533, 0.25856801127707124, 2.522690496956681, -0.7908819897454381, 0.4543728288400314, 0.18258186245204241, -1.0414986635631864, -0.4362333350820449, 0.18483179937933755, 0.16215939424950335, 0.25914918422983807, -1.293139474697232, 0.17805789921871312, 0.599427549883223, 2.2526419818200907, -1.5409261035020307, 0.5827941669163375, 0.11156309151906363, -1.4903336263498181, 0.43302425627460617, 1.8673541096803798, 0.6211041200808303, -1.0444323828425106, -0.1514692873506602, 2.5116890412484056, 1.3777436301638721, 0.36474414995545923, -0.1584903394058671, 0.591459186748123, -0.026600307012573748, -0.7103107069192749, 0.9778125322284893, -0.45385505816307553, 1.5294075121702146, 1.607411085575797, 0.9646791851758485, -1.3983780450449215, -0.4409811061664525, 0.47771665825460624, 0.8660536506357042, 0.22129587362222367, -0.005534710756927321, 0.5456735612049392, -0.11636812089275275, 0.4705185292840031, -0.907854984226408, -0.2523897762459156, 0.9698463642024757, -1.2652819444058725, 0.20403137138316135, 0.7040942667786253, 0.5140177328339119, -1.7281502644692333, -0.2610396130734365, -0.43718153289750084, 0.13240976315304995, -1.760360639084398, 0.22218218887777658, 0.27344818886638655, 0.9296827788140792, 0.3481809446730489, 0.022489791785071798, -0.34362285495753825, 0.429031973735929, -1.6418320631050993, 1.0513603279633557, -1.1863113461126724, 0.5214816767616526, -0.914737958755058, -0.291663675332157, -0.43017733630263433, -0.4485626798058901, -0.5238408353092249, 0.17232008078836306, 0.4903097487494351, 0.6790669449498081, 1.109667870658943, 0.5342839976993767, -0.32284462369182265, 0.6320296889362721, 0.4518213576286462, -0.4406389526548206, -0.5619622363277085, -0.1976034038700527, 0.10056880952387508, 1.2494403667258889, 0.36252609402311414, -0.7328607789612843, -1.1413479669289133, 0.6387029211570731, -0.002267159003717601, -0.42759659774144043, 1.1221784302164464, -0.17225294421667545, 0.06803722977773154, -2.1693544510960083, 0.3751721637515596, -0.02396195676467065, 0.16056481832871047, -0.12760468700519131, 0.4964251156986192, -1.969601713795734, 0.022332201668904518, -0.21682422247896818, -1.1208549329897073, 0.9383325757725238, 2.186461679726421, 1.036950789784145, 0.9069136885729824, -0.9655381224807246, 1.8313664243636512, 0.41526189191433105, -1.0425042682654733, -0.5075980553747083, -0.6453494301312555, -1.1521058368497736, 0.19048710986331002, 0.8213569651630045, -0.6343582644168075, -2.1548144145349393, -0.6539582437720404, -1.1346305445952591, 0.5309530816987225, -0.39978273864069475, -1.0905390091698537, 0.293165862981311, 1.835961784104462, 0.23257691142002024, 0.5818901511928595, 0.18082578607924893, -0.18024173343473335, -0.5376094880442237, -0.7333915946028763, -0.6604276089004403, -0.8372016455825968, -0.7528543342111759, -0.3504814144613986, 1.1976162315484153, 0.6276312299057252, 0.494947045690501, 0.5590280827536644, 0.5441665847662951, -0.1925854052702525, 0.3565161361146732, -0.7118912269143787, -0.23467144021251807, 0.9663683286833397, 1.2492234440210854, -0.16860781129577257, -1.66863771426942, -1.3929371811408604, 0.26843161203715193, -2.015503453469099, 0.39124513244946235, 0.3384081338384948, -0.6274843532094307, -0.625123902142225, -1.1706368311951723, -0.37314135460885706, 1.2824835972890296, 0.9292810749417227, -0.6257242793250164, 0.5053625277163821, 1.966386397280329, -0.4200267167947735, -1.0631578679475182, -0.5175451998802876, 0.5165104564052995, -0.17369563062023385, 0.31005475882537387, -0.48287678636339504, -2.1114194902051113, -0.5075712546007143, -2.034026207590505, 1.2330738413127464, -1.3881274604725238, 0.7666245430476967, 0.009577337513967565, 0.7481578860270904, 0.3835272648988568, -0.4231483989999734, 1.2302326831292025, -2.1839337765770757, 0.3713770015434259, 2.3484158905197354, 1.6407595965932191, -1.5663065601927162, 0.9726631197364838, -0.49588217049248645, 0.2816613809951768, 0.40222768957972865, -0.09432253713957048, 0.05561634894760411, 0.6775342532710379, 0.5799483915260176, -0.08895687107176492, 0.02236901296468301, 0.647552853240096, -0.5322986939573993, -0.5171863144507147, 0.8763412315693788, -0.7112345982758966, -0.3343391991399207, -0.1497122156489644, 0.37784558987547623, 0.4180415178361407, -2.2094181977322838, -0.2360959222616777, -0.4619325506329993, 1.5500419865275181, 0.6903026267999859, 0.03148753190956024, 2.457398131673368, 0.528903885097127, 0.5519003350167755, -0.38213517777201056, -0.7494355879241911, 0.0056821875266434676, -0.4480057290374031, -1.463436980479821, -0.35404885756702736, 0.06410310034281838, 0.4603358871312974, -0.14483178515631429, -0.4870464098176705, 0.3778839779311189, -0.3668253290074634, -0.21870595884361377, 0.9243491534207594, 2.365146756844672, 1.4059064983094216, 1.1297543021404683, -0.43722138715027553, 0.14946760761673908, 0.5998179485889967, 1.135348625254622, -0.9646575352499164, -0.5542263237847309, -1.377401097400837, 1.2136108610944683, 1.2724713449899514, 0.22315688781858423, 0.5506237769739095, 0.3917597696668971, -1.8002225796038347, -0.9270755020494954, 0.09145258121993786, -0.8273530978717949, 0.492249589045519, -0.4854932305438884, 1.5007040172398527, 1.4265623407272405, 0.7978282919004166, -0.37678378178733457, 1.2804440434623743, 1.1822921403944264, -1.9357547241195552, -0.4314635164792258, 0.9397311347634366, 0.8095974700999526, 1.327888327503908, -1.529172215556727, -0.32134718656089845, -0.09980929174274816, -1.2270234483398226, 0.7088868022651933, 0.400253343889457, 2.0562831244503292, -0.7484924472463697, 0.2788651562212278, 0.9249927701746845, -0.26777064908775655, 0.6974779389455912, 0.876264558621664, 1.524653249543993, -1.307625366188865, -0.7175552397329447, 0.1535246679951575, -0.3756768821153787, -1.2304467709712719, -1.690385473201944, 0.7274068489499333, 1.4166691274044827, -0.2126863539859458, 0.5061786755643788, 0.030091178404249887, -0.22933786125972974, 1.6092549885338325, 0.8601075616368927, 0.3611846650973671, 0.7814287322141663, 0.4009915138492829, -0.418991539813529, -0.3559379433686419, 1.527588781676457, 1.1747456523976956, -0.04442448759733625, 0.5793385411758214, -0.1214376605292966, 0.8297680090250974, -0.6379401326490698, -0.10007684022325712, -0.36134037265564106, 0.3528590502989586, 0.8131358025858786, 0.4926600678640731, -2.047064377642871, 0.6423878858738427, 0.15610470979528368, -0.07301736702062885, 0.8556920643961767, -0.5319371490794739, 0.29061569478494453, -1.2572590210577712, -1.266708278511166, -0.5541380658059444, 0.14375393265535646, 0.6129324372343624, -0.603138000591343, 1.902718294852255, -1.6911412885425248, -0.29609997672253385, 3.018005611829195, -0.9793675370394771, -1.5325915022274657, 0.5095105149884779, 2.1852473509716157, 1.0510917828347606, -0.507202741504318, -0.8433531470674025, 0.7907908421795302, 1.6954085605178575, -0.9774345414234236, -0.7028193657482505, -0.33058978679870854, -0.3171052273588424, -1.0874217320706607, -0.8264491997046168, 0.2413523177941144, -0.6442215677104178, -0.3535709007967119, 0.05371363109921803, -0.789228708082772, -1.7501038425934599, 1.9431173550502345, -0.10925926626508813, -1.2175716507806689, -0.7234948431835974, 0.2892435895396273, 0.13717062818734593, -0.13654414245367494, 0.22608887638919736, 1.090322201180073, 0.9124584948865578, 0.2609156454239467, -0.15210091440131523, 1.7194167582792892, 0.8047485334853163, 0.664530085635342, 0.6803644615584991, -0.7716776846888278, -0.1012272709148546, 0.21665930313328502, 1.2492502643550107, 1.6089889668463326, -0.9264791981114625, -0.2571167823618376, -1.4167740378451363, 0.2434282031086699, -0.5017963016455053, 0.5027919479281612, -0.053411577654852715, 0.20025989293991614, 0.35302402624476154, -0.055767082255005436, 0.6363287498722139, -0.39642599201553225, -1.4981300770064003, 0.6186173063579935, -0.7482660343896812, -1.0085868534390954, -0.16758334104998013, 0.11116713186336204, -0.46255778085534244, -2.872062311352259, -0.0997158679678458, 0.02834922048975062, -0.7164833278340755, 1.1545959170539917, 0.6390747733066049, -0.8010052447161023, -0.5895838587621062, -0.8624590048097815, 0.4239157266599108, 1.4347367442520298, 0.07553514047005304, 0.2037979819611345, -0.40800945093146296, -1.0011339342059309, -3.0167273135303105, 0.3559309757673186, -0.47486078655068886, 0.6533221817063009, 0.09420773524058369, -1.478758712367734, 1.645134311659078, 0.4284400303799789, -0.13505511028856387, -0.6186446101228326, -1.6694232323732496, -0.030194159108290243, 0.5737385112083608, 0.6533564810192417, 1.7744442858786709, -0.15433687710831936, 0.2192609083718096, 0.4691364795946648, -0.22226709482777846, -0.8829514418299087, 0.31283635786238045, 1.2385695398423682, 0.9941149718551857, 1.395251693870332, -0.35080960269771666, -0.03680139881152776, -1.767784172373028, -0.47784153070795377, 1.918566833405833, -0.14077392436166836, -0.7863747159939448, -0.7400791362780665, 0.6155049583034351, 0.20122927772550933, -0.283454151621881, 0.3361876371017398, -0.5803178644288538, -0.44787036935155417, -0.38647056272099484, 0.4846157933614814, 1.686916541740438, 0.46137685333351025, -0.4725472552934201, -0.1490798127640228, 0.35197922105218815, 0.9793044219404252, 1.0774095879528054, 0.22849097985423733, 1.455961518012795, 0.11016140734307946, 2.38815675891359, 0.9220010839972901, -1.265653980834226, 0.4282199153699222, -0.0305435193279655, -0.8891617390353279, 0.27445307240705163, 1.8286730514260443, -1.700701589787458, 0.4037930391275171, -0.5250255951397129, 0.7335865070320869, -0.7528827196144879, 2.3770965453099846, -1.0698065261493959, -1.7581471897558925, 0.638373923405954, -0.17375686748615543, -0.9286042570447102, -0.07789141638827635, -1.2113704568741173, 0.758769732947938, -1.3334390554651994, 1.404915628324743, 0.04680414740407083, 1.4877175001402, 0.7479512058179825, 0.01432806397625352, 0.0002724740818849277, 0.3785440571622839, -1.0167862688478408, -1.5322168207628342, -0.8381871972100947, -0.06212835084395802, -0.2780711731843563, 0.3213955621178995, -0.6593798584366685, -0.21582881998539144, 0.9986580961265968, 0.1480968833860352, 0.3306078557497522, 1.6287729568071425, 0.4806792485049543, 0.28671784293529606, 0.0031555215559778437, -1.4815150046489562, -0.33039025341706635, 1.0721947583480615, -0.940700727264688, 1.6748568410155507, -0.4454839322170559, 0.30994304269379724, -0.9178001546974895, 0.040463062395790866, 0.7634360044964033, -0.37404159377693014, 0.8050566499736129, -0.5245213804151263, 1.4881864717102278, 1.5500918189727761, -0.5990058133649694, 0.2600751259863158, 0.3588106151596639, -0.44855816011954835, 0.024937204749376014, -0.08453973484133226, 0.10870326576659244, -0.19891546149632056, 1.0177127341070462, 0.4199623717797037, 0.49965861414273416, 0.015630085842991845, 0.18542892242945355, -0.04596739340512173, -0.9724767793320453, -0.16912869779389972, -0.8551582851956693, -0.94280093590087, -1.6441371179418727, -0.600529124904285, 0.8835523626476334, 0.6644174688927904, 0.15093371311854167, 0.7078965676373468, 0.45916636392478116, 1.089060433268145, -0.046476286532185634, 0.6457603830998805, 1.6342295057526024, -1.388750898801361, 1.1666368950337245, 1.2578296506124378, -0.5904418960137253, -0.8024489299731429, -0.25960406447922346, 1.1185146074662096, -1.031548007004498, -1.526972644865215, -0.4366819151697646, -0.12182789161073085, 0.12255828381837251, -0.3357009784265644, -0.2631644558084074, 0.25396066673688045, -0.8292743120533715, -2.387159232688254, -0.8724570815852608, -1.6299037977490443, -1.8131449814171898, -0.055128311403043875, 1.1631495467581408, -0.7039674401640057, -0.2914044020620111, 2.04262960455742, -0.16991422121894653, 1.5339738210490987, -0.6522055190046842, 0.6169412078534106, -0.5220957025208859, -0.5715204401297947, 0.8690909252734067, -0.5953251522920422, -1.3538527836818055, -0.49981221523655744, -0.024500966116347958, 0.1941775250210006, -0.7119922342572237, 1.9463151539771237, 0.6447842299120935, 2.046955644197755, -0.36174731180484915, -0.8058287066758919, -0.028449756753229975, -0.9231543371991023, -0.09004388185942411, 0.9310965118301692, -0.5822693131431017, 0.2966562448970346, -2.324651722869181, 1.1539803345688229, -1.530284065474774, -0.28215158930425394, 1.4989507939897204, -0.8713068293157031, 0.510488236004713, -0.11533358358373828, -0.9729697545315752, 1.1023015362307835, 0.43031201036813493, 2.504008208564737, 0.8985970260456908, 0.6706351202716309, 0.38590114836150113, 0.3225456639759201, 0.3199017374583242, -0.12693468474467492, -0.9219512770223398, -0.8683785963606323, 0.4638979454318223, -2.169881291805544, -0.51204070615905, 1.2429492376483864, -1.2558411620262597, -0.26988257345905237, 1.0982366868098086, 1.266696491394974, 0.5473132728415422, -0.5350221725260264, -1.6633499873257542, -0.2564367619889959, 0.5985433153110883, 1.366564840162461, -1.5603561762613483, -2.174102180660319, 0.5046267772957111, 0.47423622181076064, 1.3329773044180138, -2.209046479514027, -0.5283075022061492, 1.3847932342141713, 0.666692478571652, 1.297263071786261, 0.41765227415507916, 0.40372563616750484, 0.4672442560414072, 0.8216561239171151, 0.46856892664152316, 0.7815994336987873, -0.9585393698094093, 1.3141434931078497, -1.5699802622060652, -1.7036356801966255, 0.21119416713201328, 0.3329823897273496, 0.7460468760006953, 0.45039911302259844, -0.7568708730707275, 1.4122323960774763, -1.2748472059763951, -0.2914687798231036, 0.006786826495596727, -0.06613224759420055, -0.5912933020882143, 0.34856127917482477, 0.4685203085335662, -1.4304387511588055, -0.11693834860389271, 0.4394911152113722, 0.4455799171378429, -0.4715864136494112, -0.08805584304443101, 0.6882641335815096, -0.7131822611125288, -0.7232891291116882, -1.7843914947365618, 2.003491497956912, -0.2024985891582746, -0.9813001459929857, -0.66632182405821, -0.8575557743017063, -0.4063804168876254, 0.058659299269602866, 0.9642905874988146, -0.9419379663218886, 1.2378903032273416, 0.2785665111361565, -0.1994813105592756, 1.171171574539812, 0.3735961201387051, 0.24507569914483693, -0.056676084980390895, 0.3309274782578583, -0.2558727016724651, 0.9036729984044044, 0.48691261706803435, -1.101489999214051, 0.5959100439849722, -0.562898670871941, -0.3772803211893602, 1.0436456674257257, -0.2309125182961911, -1.3373082418982118, -1.3598049517677142, 1.1092095596439082, -0.23671843337702328, 0.6567056048249639, 0.21208353391770743, 0.279160352520092, 1.3068838295661473, -0.6583704330997523, 1.4251436493594531, 1.3697771874384037, -0.33252164481699764, 0.2822250252997974, -0.9492175912990827, 0.2768260591634213, 0.9526559663101517, -0.5667297041246168, 0.6446720959369044, -0.2785273372385245, 0.42526163089398406, 1.5980206428164312, 0.4407813810436922, 0.04179958266424797, -0.07439080188552032, 0.4769751257934565, 1.0271628037181009, -1.242978420481658, 0.8507244857505283, -1.237903789066412, 0.4826461738249845, 0.0005311384899747869, -1.2826469544293106, 0.3526866894095912, -0.3083781260998107, -0.10324073874905272, -0.1990194182104939, 0.9533693026626093, 0.08873549418684364, -1.9382264325456167, 0.545989502416378, 0.07761028241699831, 1.448644952613549, -0.2724928619474482, 0.32171400692735663, 0.017727620519469037, -2.4455692137190908, 0.9980120818591407, 0.22007352865301805, -0.7600273862584903, 0.32489182565162184, 0.27462522584071786, -1.077017261957567, 0.5334181480544739, -0.1350697383916091, 0.4771404498885898, -1.6401715071306222, -0.008648408139781264, -0.5693131419311913, -0.13590770204066724, 1.0077156584867655, 0.13772951941369022, -0.369330967253572, -0.33646251602343863, -1.419880752997862, 0.3625944119502541, 0.5831279485872933, 0.7240433887420193, 1.3916108016833935, 1.2744360873268128, -0.6574966499658337, 0.7572500496864655, -0.06776238258890167, 0.5095005892279202, 0.3482933040980382, -0.527821360194781, -0.21033397262736372, -0.2186915034995092, 1.6659020167194545, -1.5327352057979249, 0.26733308743607465, -0.9946351801598098, 0.8483626131852274, -1.4414570638668411, 1.112322854082514, -1.737315315881271, 0.6157817528789562, -1.5500067784189837, 1.5717260789562195, 0.8039600822134514, -1.4180994144366585, -1.8522196491819054, -0.8228345998847685, -0.24875770091201913, -0.046767120207886585, 0.3739681874437178, -1.5538679629665955, 0.8437043317628746, -0.23497056177030762, -1.3171829434634743, 1.1275182326625255, -1.2538269665497952, -0.9598640830034673, 0.08709151015401231, -0.46556522441051207, 0.471900329732507, -0.9972113231657076, -0.1859401466162655, 0.2933115071983343, -0.29609076470223933, -2.137205160371453, -0.16290298719550464, 0.1175431388390694, 0.38131143002079787, -1.2160931992093031, -1.5763783346904607, -0.3018296049319007, -0.351820019775747, -0.440908919152182, 0.1108084945907711, -0.3742266357705766, 0.3193925113689511, -1.2524140082106248, 0.6648321106971932, -2.630901329761073, -1.5486281141488598, -0.017278880465426385, -0.7474679747620167, 1.017557409873844, -0.9654790081912125, -0.05990198323964379, 0.02307446530817293, -0.21867304912736307, -2.6419112776071243, -0.7629540630680254, 0.22868371489690642, -1.0096955539505044, -1.0213554839205399, -0.32202022725414303, 0.26848199346065527, -1.0154979620379245, -0.5842804843879867, 0.05811683097557324, -0.08638875647792382, 0.663025693942044, 2.2434524586800393, -0.2424765985124236, -1.0494952720606276, -1.212528498075953, -0.700459815311009, -1.342086569860673, 0.8446902832120969, 0.8282384723771903, 0.20962006878491135, -0.31534448850276614, 0.807559163722302, 0.6972548808392887, 1.110718178652621, 0.27796318249363755, -2.1399079767732654, -0.2867305401767441, -1.315703580748265, -1.2053200335060874, 0.40771507033916377, -0.1428537030685021, 0.5460308745600074, 1.3699561145961219, -0.17910430480231992, 0.4598082596462465, 0.1209347757883767, -0.9558714502425146, -0.28752927276316326], \"y\": [0.8391261345401889, 0.28386848875477466, 2.016274641792089, 0.6329033070008699, 0.2994067926588254, 2.038884510517576, 0.10217687708875828, 1.2795369095628284, -1.263420725144901, 1.1567092650527744, 0.9446177964550488, -0.07313818237446053, 0.785652111410313, 1.2495346551276552, 0.6779532764998258, 0.4672893506982631, -0.6020488893289507, -0.6211788534063699, 2.0113014508905835, -0.6638545736696756, 0.5193287705538967, 0.6874847744437994, -0.06792051391228554, 1.0603328157921568, -0.7564674642770308, -0.39044917544139723, -0.698958396800229, -0.2313262338631616, 0.41375708472174966, 1.842994851087152, 0.8590083530308661, -0.33647012004697774, -1.8320084216347445, 1.1183392593441344, 0.6465748688292724, -1.8365609172899162, -0.4265123107902057, 0.1317747272086197, 1.549085431849005, 0.3649127429505807, -0.2151145916810905, 0.2567487747471214, -0.37386064184621953, -1.7373820263818773, 0.09516045632655842, -1.3384535433146192, -0.20824100310666238, -1.5548389555690876, -2.3015081853214983, 0.08909735896215142, 1.0769306283827518, -0.36751435178512337, 1.1399434430229676, 1.2283293054814208, 0.2765566277049431, 2.948246620247744, 0.6404172443413432, -1.8024277338738743, 0.33602978510926285, -0.37679894539288505, -0.8854380355867004, 0.7193389124858192, -0.9057268464449241, 0.9917085710694514, -0.22453039645644812, 2.2732015616150902, -0.14907077900051954, 1.397402519459202, 0.8456094430132947, 0.4981166052257917, -0.3754780815221316, 1.5819938325489007, 1.2593123255169003, -1.2899582432215686, 0.5388753664013333, -1.2235495374647962, -0.4775663410896127, 0.8707387533665236, 0.9577383397076498, -1.6882731239834634, -1.5326542809059789, 0.3439688877793179, 1.7569028158898345, 1.0262478033491287, 1.4608742134160735, 0.4623153123139565, 0.03342790407460743, -0.450411936680648, 0.022818410427684063, 0.708926336822918, 1.3984789778878317, -0.2724859320335554, 0.24411963369571227, -2.0973268817905586, 0.15411243422226034, 0.16573750305956908, -0.6270101970898243, -1.7641592803617037, 1.695771384737224, -0.13063449059828225, 1.058825360635597, -0.7579734678867206, 0.9853465077032203, 1.0846062658611948, 1.2197804040209919, 2.016450417112615, -1.020557773619034, -1.7782626926653664, -1.3760502903402643, -0.41523628607354485, -0.12630989112910151, 0.6195341019263951, 1.8279296644720837, 0.8231645536539886, 0.3888521486516396, -1.4037653620071167, -0.9543229875649976, 0.5648575176930285, -1.2716272678442744, 1.0192846964609066, -1.0253802617941268, -0.0032827074037399873, 0.25696743952511125, -1.9902916620225044, 1.2261769227222086, -0.6536341730834891, -1.3803387011805897, 1.3263012487387733, 0.8217055118132908, 0.7091369637471249, 0.07011030449406282, -0.5449589880657915, 0.9575270042645831, 0.8788539967069585, -1.0371412073541242, -0.6372444047883075, 0.6713041297361666, -1.2134330142732703, 0.8337972493986002, 0.19037856117453658, -0.7588928306390259, 1.272647892359368, 1.293076798943689, 1.6525730975274786, 1.991783717347733, 1.5727395749728554, 0.33038163644762286, -0.6665228317819333, 0.9111976808150142, -1.099570079130264, 0.821252096827566, -0.31217058608448467, 1.5159785030566992, 0.09944090594864777, -1.4053729029291144, -0.9442026019869, -0.9648327959252336, -0.5476508756584589, -0.21280215805260763, -0.4951520947797504, 0.27779596548617447, -0.020370763837972452, -0.11444314016733523, 0.13806033903586845, 0.05114940973796903, 0.38448407419926595, -2.2467473827748745, 1.2437342968260603, -0.14288947935350416, 0.49669736671284137, -0.7697688451360237, 0.49482863028732854, -0.22294463552164376, -0.41014089351631927, 1.108130763835465, -0.3709195223623139, -0.6142474447742107, 0.18701524371953931, 0.48349357874988086, -0.5950786582597096, -0.5203323058148036, 2.0659301362804854, -1.1940741901944258, 1.1648439469065244, -0.39547693232579134, -0.9592454738144799, -1.3372053400393256, -0.7067037826923788, 0.042080573277755454, -1.0376918154850816, 0.43510219211457035, 0.3830838326930086, 0.12138360795566165, 0.9291855232225285, -0.4454753023934772, 1.0351766746824849, 0.5159157853897727, 2.341278201543335, 1.7302060000107324, 1.213785192896522, 0.7780404542621103, 0.5782393721783569, 1.2888630806502828, -0.05880341167714823, 0.8882491745959737, 0.2319699229605731, 0.2281830074092922, -1.605036663772805, 0.2279442614144744, 1.0599415620454422, -0.021874984058960194, 0.5251883661873437, -0.3977127269649456, -1.3836618584834521, 1.225333504745777, 0.34521586486137085, 0.12665218001254874, -0.7027207405275926, -0.931011863244919, 0.9791441403804254, -0.5697088576446216, 1.6599577926704117, -0.6887181466093029, 1.4421460055628477, -0.8714476244494685, 0.33055975880914945, 1.8189792595269363, 0.008519268406207333, 1.5385144903842414, -1.0144316532870443, 0.9913927056198769, 0.13824663934728165, 0.7162029975297886, 0.34092561201779875, -0.18525983376338478, -0.6370164749608969, 0.16266342230582692, 1.2873850238568527, 0.3720595422246801, -1.8465961574685377, -1.1890344525231178, -0.41360760218474363, -1.0506745710124363, -0.21692865660550056, 1.256261278001642, -0.2896138806026792, 0.9138230757185278, 0.4480801441660594, -0.5821564524139179, 0.9508824557891683, -0.2549193124016306, 2.023980645532588, 1.6035293213898387, -0.38926548662695987, 2.610591009755922, 1.3693955944567249, -0.12250428573225206, 1.7234631280641821, 0.3315760462548208, -0.5237527879382741, -1.4240576541428034, -0.9176902959866783, 0.5783447214436792, 0.003674224167046315, 1.4698031377859193, -1.2475323752840972, -1.5858659074635357, 0.7003123249961039, -1.3606849898146036, 2.0126151664744083, 0.37398229985602766, -0.6496068447300115, 0.40582755326379194, -1.875968946723702, 0.1362041507852538, 0.8656357225080886, -0.8394812266760585, 0.5795559290722678, -0.3210016477417173, -1.285701537029125, 0.08271290430452939, 1.2123053460968178, -0.47336204189583764, -1.3909872284640266, 0.9509734201725544, 0.18103889249136332, -0.5312475991458597, 0.12387461118356691, -0.5469956532904069, 0.9969504044650455, -2.3417029531442823, -0.49502745501650075, -0.5225585590476627, -0.9126017441910166, 0.8630370684720011, 0.5579904036843967, 0.4180198522987327, -0.1239030145646489, -0.3337926634959194, 0.011763580850128531, -0.3064219429336357, 1.5165796339361979, 0.9391478379987567, 0.5388298863097934, -0.1161704428052993, 2.3543744349822795, -1.2010086535811144, 0.8890001730953045, -0.5128661919399626, -0.8747965652685088, 1.8677659861701805, 1.972010658803613, 0.09731075075112348, 1.6184962216341903, -0.08823483831750571, 1.584851338752319, 0.957244446136167, 0.573271030535849, 1.5875774130154265, -0.1972509200581147, -0.09415220872805352, -0.041180425110173155, -1.728449774134646, -0.7005522913650895, 0.7652752266814332, -0.6359014613842736, -0.49086042796128165, 0.4238546555599622, -0.12773168110675004, -0.551862652676545, -0.7344533904918792, -0.08689422890586722, 0.3322024961167019, -1.517949092716181, -0.31454466982677903, -0.38129843226763105, -0.0826704972563702, 0.7677024128678573, 0.6609410976249592, -2.033643757532241, -0.6698819625916426, -1.622165133958965, 0.3212771539328629, 0.24994286301771468, 0.3146069338663855, 0.04042342619888214, -0.31587669436812926, 0.42678017752060493, 0.8487503372080752, 0.047170127881882545, -1.2634368206794815, 0.8841484058038654, 0.5928034547656149, -1.0382253315224619, -0.5679310281540983, 0.8585052386460346, 1.3603282752220094, 1.5404029878044714, 1.3039318490411551, -0.8084668860591143, 0.19659329058578542, 1.81163639438583, -0.09113294833090055, -0.8352144503222352, -1.2039039111711007, -0.3689806106377694, 1.3633579286454636, 0.8019704447456597, 0.8646000334983794, -0.9407640254583325, 0.6416194262025879, 1.244169407152958, -0.06188896551656238, 1.1757655429044778, 1.3764715255464406, -1.8453561005055088, 0.3105399217118754, -0.9483504635665987, 0.3020817907636593, 0.262378278685134, 0.23879116318528115, -0.39701897167571387, 0.541020366627947, 0.7347718213603975, 1.0367238163101924, 1.4438710034587696, 0.11376984252093977, 0.12807805107078424, -0.21075466818033137, 0.8384244538640089, 0.3874426668883955, 1.1557077125166557, -1.3439996102876546, 0.6442202961141213, -0.007758975415054941, -0.05777319098878841, -1.0378466358408238, -0.4726885557508673, -0.24256349205818103, 0.48988307292454814, -0.8973274274001941, -0.11224611000783749, -0.6409393474718212, 0.6425550537640149, 0.6302969465715286, -0.16192795726730455, 0.5096294701028861, -0.5666429792685316, -0.5794722453397887, -0.23916225352823656, 2.27524934698934, 1.1559945711020025, 1.049097013463956, -0.3770453157046677, -0.34987866242086946, 1.2999520672931797, -1.707920553410853, -1.4898296647763096, 1.4008169101000243, -1.6767266172723114, 0.02003161251484598, -1.4057987635703135, -0.41667890265141533, -0.3054588480583088, 0.03725781360594718, 1.3933597613669602, 0.9689947595441138, -0.4931661559107211, -1.8353148204984162, -0.7093383845149065, -2.041534842534261, 1.07640078225529, 0.5283408534509652, 1.14145280377094, -1.3920092656277205, -0.40792231591497274, -1.466208962776611, -1.0500942479811268, -0.6485938384822527, -0.8326595299000463, 0.45420760711953523, -2.2559728153351424, 0.8261830287819754, -2.1420294797538264, 0.8768254273592918, 0.31045477440718, 0.18727146866466896, 1.0415935582654114, -0.15524825463843245, 0.5169272461440185, -0.6510766741391223, 0.061589417065506954, 1.2329397140042047, -1.1583697700308941, -1.3046008110259995, 0.2929145323317887, 1.2412341884368177, 1.5498342664717433, 0.04301947871201157, -0.531721277798868, -0.08465584008669833, 0.18581283106626484, 0.5286965749303276, 0.016220857797125694, 0.8841577507090206, -0.8728355996491264, 0.07409361229642827, -2.326280346171767, 1.4684748759427617, -1.0833476966711333, 0.6914622949526907, -0.2996516918207216, 0.8586214656503455, 1.3734946954016316, 1.3742605015525027, 0.4566430210627943, 1.3133556133750055, -0.9516930287345148, 0.6545467593499175, -0.3972297103314232, -0.00019599098834697232, 0.1510329623078161, -2.0930251557939146, -0.762626455618953, -0.06409896118911455, 0.433899206874039, 0.5281886298751841, 1.031791707513399, 0.0956728684527019, 0.7342397112543608, 1.5842547278801273, 0.058552670341060556, -0.2113242401156665, -1.0681605393790365, 0.5751955245111667, -0.9135064623302881, 0.35913609865244217, -0.08541600001225777, -0.5408786641851356, 0.8991425350069188, -0.9205855656421391, 1.9452743964710228, 0.25449867381335334, 1.1184136235094773, 2.019678343585983, 2.1740695341490186, 1.01983703899977, -1.2434658823586595, 1.5210492249911705, -0.8260270877798799, -1.2412567136404067, -0.8144317662119059, 0.5915645818711124, -0.42456677985660607, -1.1637184424101246, -0.4023073398829429, 0.6755366314858589, 0.14067398054062077, 0.8679498364221168, 0.4454107912834788, -0.48146342379941404, 0.7829372187740373, -2.149404151681587, 0.39316780766203885, -0.13517671067910778, -2.2634630691209434, 0.6820486770208363, -0.9925289891598952, 1.0747862904212875, 1.2197866325997915, -1.5246768532837807, 0.36167040649517407, -0.9239553734820364, 0.610744013480612, 0.6823862054834499, -1.3683488337995506, 1.557842138030344, -2.0515057520873783, -0.1720239442098131, 0.0726175228772738, -1.0545624481540883, -0.6795006055726083, -0.902824002266989, 1.1487632374365022, 0.3232069659892298, 0.5493476140437676, -0.4032806845648574, 0.4298113984368886, -0.09647902718196946, 2.1961540858129465, -0.10425035348038185, -0.3229862356486651, -0.951469042566693, 2.2949458238672698, 0.34898936054803636, -0.186995535537027, -0.21635478557580137, -1.0954234252430743, -0.25555401941336586, -0.4372545223690812, -0.23682769069400264, 1.355029732877171, -1.163168569879062, -0.5068984880903794, -0.7089915010033433, 1.525555606865416, -0.9414075102570932, 1.486570173484128, 1.0175309996943511, -0.519179861268555, 1.5711160966160296, 0.34307049223199015, -1.1934170666719133, -0.06563191330369042, -1.2269480097149108, 0.1181721260638196, -0.055079573261634686, -0.7509270955162919, -0.9731006463983942, 0.5284715704546257, -0.6608504481470252, -1.1487415154668679, 0.2617202978963955, 1.9488958743680609, -1.0538714757035794, 0.6245546767010479, -0.7132317399079446, 0.5824237255788314, -0.15146349876486206, 0.023192662520607504, 2.736572686541171, 0.1806807500856917, -0.8756976786183656, 0.2919105689934084, 1.4222798406689787, -0.9256940539239764, -0.2273605471765485, 1.190559006189721, 1.0321412918617445, 1.8019377518216175, -0.6567603116070905, 0.7117195109992215, -0.41036676635243363, -0.30992859733727063, -0.6881121802648582, -0.3925617057612027, 0.5321625584002059, 0.47505679327351913, -0.2685123089589128, -0.8715738537434936, -0.853196072206545, -0.9748320851354588, 0.086642671258248, -0.11075434837932094, -0.7632693866511572, 0.5538928724125444, 0.27807914096016967, 1.4408993823366922, 0.2254192145703617, 0.6182219325278253, -0.5919381775995415, 0.4273994550783832, -0.5161238146977699, 0.9221341075192118, 2.2805868532805906, -0.01395098903856555, 0.2650219126101763, 1.0972283442355948, -0.09568976215577958, -0.015033357922503642, 0.04699431031541112, -1.2420166003384474, 0.0025267573351013136, 0.5933588978684262, -0.24990873204222205, -2.61313937757665, -1.3333033860180101, 0.0890370808102466, 0.42701833627082564, 0.0328181237490783, -0.1774122567600791, -0.4445932268083272, 1.9662222928307205, -1.1698782885131354, -1.3432945285583238, 1.248584145712808, -0.384960252255826, 1.5000556306391124, 1.2143381423164101, 1.2196771864076572, 0.4136941573087016, 1.0776576163928604, -1.1907564262745027, 0.45261847444144154, -0.37441308558822123, -0.7389439400558857, 1.212951065360106, -0.2828882310461377, 0.10523956705339221, 1.282414975116601, 0.32290922727251103, 1.1509913722278229, 0.550040273462375, 0.6772570359285149, 1.2835545856706676, 0.7487361424781303, -0.8475523835389998, 0.8550330987782089, 0.7961197285282425, -2.341125775599947, -2.7839045356013514, -0.7184327213255288, 0.3330809296399013, -0.4473330751838776, -0.27567061003398524, 0.3073522972035995, 0.7809951587985824, -0.5735760081859104, 0.0016899594560200518, -1.1429909790279296, -0.5568805475190692, 1.0837985035480784, 0.9730661367193078, -0.04021729831831811, -1.457155643274416, 1.468367532019994, 0.39834737310337726, 0.13752700647679322, 2.3295509280912294, -0.2342157812656217, -0.12538323753601294, 1.5353287516063214, -0.6669527537967878, -0.38533097442929615, -1.361197682291488, 0.6776771059103173, -1.8789039033078374, 0.4521584534159455, 1.9013271884796856, -0.578448683186672, 1.0616230663834907, -0.2635876237110925, 0.7858819707307901, -0.23261216564292278, -0.6136680420980327, -0.09876082269579724, -0.5200833164332388, 1.403281809705337, -1.244670624151118, 0.49598034513409706, 0.22514581338931247, 1.1533977955731414, 1.9409985473433133, 0.5433976592226974, 0.39387308165457663, -1.3743313666508505, -0.2868302456083878, 0.1177246235491258, -0.9134803692048155, 1.4025866134953588, 0.6435316777295363, -0.3070190159308981, -0.22802395747314969, 1.7050145674382184, -0.9583922407260906, -0.45789314708156936, -0.6251059237159848, -2.0251849862729085, -2.1018604861983703, 0.02943895903908612, -1.0938979750784583, 0.6759774079863178, 0.8353800592992379, -0.9915491926297553, 1.4732275747765307, -1.7951265249222386, 1.6484020900107677, -0.725070417650416, -0.4871808061852264, 1.2307520925290798, 0.7835416731937547, -2.0784585719548767, 0.3480301012663768, -0.501698539905603, -1.3070659241845586, 0.1619658709760878, -0.4527517373680517, -0.591278238501105, -2.0517829839421964, 0.4240750367816664, 1.0479688616023002, -0.5425406928355233, 2.05111068737536, 1.0445723000668705, 0.39211439874703397, 0.22270113741650233, 1.3273979766228419, 0.4583318802956599, -1.1293319737894403, -0.6773543393585401, 0.6217131041996705, 1.150733240030782, 1.0113571850926197, -0.2278962293074667, -0.6384148104942887, 0.7178941595363922, 0.6209833932374824, -0.5223661886070292, 0.5227064668817553, 1.4365609064288096, 1.9373362131788987, -0.3433288483737732, 0.2583043337867544, 0.12981016823161418, 0.6109324868953688, 0.07862559013698223, 0.8895156289410913, -2.853349825000314, 1.327356145409479, -1.1677472883492395, 0.3132332355738, 0.5021817806408888, -0.22740310064287617, 0.016223403387245885, 0.4140123110950936, -0.5713399474783588, 0.9838740876392901, -0.2772897656855513, -2.778322123262975, -1.1324411067348386, 1.1784997396004002, 1.0263152392328478, -0.14747926972884007, 1.4676818761177954, -1.055340128655884, 1.597363281931686, -0.7760797626298943, 0.8692025434127685, -1.3061690861163147, -0.6407091204702533, -1.7779862287660777, 0.46019693919428656, 0.8880198996767806, -0.059332354710574416, 0.42460742671667134, -0.9476985319996184, 0.4842974750086635, 0.7171654355034494, -0.7722153299545054, 1.277782960560207, 1.7752014812695254, 0.11828100044163212, 0.9233844964329834, 0.5467089406834706, -1.2200781014040296, -0.2659275681513742, 0.14841105303972144, -0.5632039948083266, -0.4625652486101436, -0.6645177283037467, -1.3500104903212418, -0.8789949632609148, -0.30008940904776227, -0.14380905966706803, -0.6307149647532635, -1.642084755170695, 0.18381744334299832, 1.2456651260558813, -0.13793330155569855, -0.8908100743792187, -1.1770220353170748, -0.3508925363835257, -0.13034085301772244, -1.0076637164436215, 0.5158474468523466, 1.6259927813431279, 0.11364256316930395, 2.4033680923511733, 1.4286730206237233, -0.5493416808429185, 0.4169494116654762, -0.5204382503061474, 0.18152717699556178, 0.6914290631818335, -0.3885412959605804, -0.7177278817264402, -0.5675754810104804, 0.07003371912218731, -1.8187416024296756, 0.46622584484624763, 0.23791804077402404, 0.015448424735380705, -0.9134125495360307, -0.2420076893930394, 0.38523371686879015, -1.278313138731, -0.1734595580752947, 1.3527322741784806, 0.4271640219337862, 1.2297785453140357, 1.1537375687531901, -0.3644597353804959, -0.17565955193130828, -2.7456774269159645, 0.44453684779194186, -2.5258917929788343, 0.29312508156569955, -0.0651388906322927, 0.5218718898746151, 0.5155966868991394, -0.829048145595193, 0.45820203192810904, 0.18220624063472982, 0.3660113326357553, 3.0884859713022066, -1.6647525042590994, 0.10876902065697061, -0.6712336945408235, -1.2598238269680833, -1.682249270597863, 0.044180416554764845, -0.4708477044896546, 0.7053550214187324, 0.402759031865348, 2.9862521626229284, 0.09955312801590502, 0.6885433019811256, -0.49521360094754263, 0.3748816352792042, 0.7043441928886977, 0.9001055999499799, -0.08140947214249662, 1.899821616203418, 1.0162298776363146, 0.08698390640303152, -0.13414892430868977, -0.47334459094381554, 0.702623612615944, -0.8630454234662799, 1.2443061038642396, 0.7618244264264705, -1.2645350226782763, 1.2505670947020886, 0.038725046225487524, -0.01999161154898616, 0.16702249774820804, 1.7159184745021352, 0.6293729636120272, 0.6381875183800971, -0.7078414578473112, 1.8810877178204721, -1.640046855040914, -1.2978194042596138, 0.800077033710028, -1.814277297686931, -1.2081761553849535, 1.2306870194339739, 0.29357500828210503, 1.0161076528183897, -0.6641018202508712, -0.6956882759347987, -1.4079585387599174, -1.1508926312187613, 1.2218233813364492, 0.5978564198187647, -2.018245852302206, -0.1938560417465344, -0.48574125457888834, 1.1480373952763738, -0.6913829890032958, -0.7650217242659185, -1.413830868821647, -0.2163794150469528, 2.1920327045871306, 0.5218313231308049, -0.3385593288654337, -0.11917353347252987, 0.09133107960910208, 1.602272792725541, -0.9414056568364297, 0.14064419436694456, 2.421861661691445, 1.2135591213291, 1.352758599824585, -0.9803449824146835, -0.5850356159588536, 0.43843732846513783, -0.47937993919924066, -0.4726331408821043, -1.29113544227499, 0.7579418394676666, -0.5219747806611482, 0.7220312900549026, 0.6453760011125695, 1.261675078401091, -0.5918479302561268, 1.1272541651261192, -0.25852521435081727, -0.033504516280778406, 0.7628413425415295, 0.46710045047572557, 0.5096255205304592, 1.1640768921447169, -0.18983026790409394, -0.11641460709149005, 0.19439161540061992, 0.06048652749454396, -0.08936481049726396, -1.4375276871715006, -0.45381904641724713, 0.7282525915805632, -1.6286722634909496, -0.670313715414207, -1.183515640909304, -0.2521011059248498, -0.5129715430593037, -0.8525377913166732, -0.8017056590468953, 0.7250364647208468, 2.0087450251787127, -0.08746319424418043, -0.26571214273228416, 0.2165252016833674, 1.0614797909581322, -0.15662249815072793, 0.9688306491127818, 0.9877456617281785, -1.2757407026197634, -0.009698978172649583, 1.8170706872042262, -0.6371340382824999, -0.5771488254067735, 1.3427795942681502, 1.0952377651850014, -0.126887768372445, 0.6874189344454507, -0.3073099466918459, -1.3399561254244852, -1.502131907460098, 0.3142339641250571, -1.7880976558145176, -2.091275482547028, 0.5200583893335241, -0.8299932226645433, 1.182766722188016, 1.232471700217514, -0.07018015588801275, -1.456676591633421, -0.0653510713281657, -0.8263477531944091, 1.1322056013438013, -0.31968336893118127, 0.5977672920373485, -1.45866982396817, 0.39203974277107617, -0.10291294999749365, -0.08769560062313624, 1.1186969472783317, -0.33385461011668666, -0.5416201435457372, 1.8266811919541002, 0.859913577735768, 0.9614297765644859, -1.6517107723999769, -0.11842249128860087, -1.5387261543721433, -0.7465349615898195, -0.3854044451262137, 0.8159489213503572, -0.24711485772352532, -0.1225548342047559, 0.3806225750429698, -0.5441665606940845, 0.6075397384847673, -0.13029011576622684, -1.1002779792451998, 0.5719686747601501, 1.1175380554186813, 0.0023873906668344367, 0.8042086092023528, -0.2474926697699782, 2.530083794309545, -1.446153140389961, 1.0185658186871003, -0.22737029230040146, -0.39194828914679586, 2.113600370096822, 0.23732787302017427, -1.5926384060349674, -0.6511929068619257, 0.2939240096618239, 2.0823637451138612, 1.0209045874881018, -0.2439481571310911, -0.02137462373758622, 2.13310566729887, -0.5285323827442021, -1.1724829014990013, -0.5699579779235676, -1.6604070700874294, -0.031124252157865177, -1.1042291241398765, 0.5701464854283773, 0.7466898730262449, 0.70009213773575, 1.4325668096200233, -1.4612524230981556, -0.4961643490492252, -0.9730786725749484, -0.8635768105086029, 0.6057252975981192, -0.11052509181866746, 0.4910970785954204, -0.45472854496189896, -0.03779101815319954, 1.277399458786906, -0.15814352431839995, -1.7785991056729977, -1.0920094468111041, -0.05999444879240138, 1.1613707133296707, -2.125793214184674, 2.0284775566034723, 0.18478128877470273, 0.3287285594562788, 0.9172925642775043, -0.7851275202989927, 0.5746515221647657, -0.05512857809898107, 1.428946433909097, -0.693905600026667, 0.9295812095704357, 0.6220051517974726, 0.111278474612989, 1.0111547838371884, -1.2081752680735454, -1.0352430928655645, -0.5344952876471963, -0.4927786246721438, 1.6494739751374137, -0.9554841404170589, 0.3921497200236924, -0.7069726351877522, -1.5380937720484495, -1.3463930955672956, -0.5886629583687853, -0.714979188676848, -0.3235128147664441, -0.48249003008778113, 0.9077882797207731, -0.34420707654074667, 0.43355591960182277, 1.366522285577002, -0.7979526303965189, 1.115300287534996, 2.2413728579531997, 0.2404533623201046, 0.5003902946799409, 0.01630167469187045, -1.1552729780499402, -2.7311850278043557, 0.4643227068125753, 0.17590112806883895, 0.4867069242599474, -0.6110157807392254, -0.6826575601480585, 0.6432718464819308, -0.16779896766540464, -1.190555162199728, -1.445996794930249, -0.22328389866885215, 1.5993652806098315, -0.7234141130992819, -0.20928556847333912, 0.7479406482108832, -0.04240997178407199, -0.3199456441422896, 0.8127409021873848, 1.354810348183055, 1.599833935759907, -1.232503866827463, -0.17134748341578235, 0.5674880146914221, -0.6880704326126676, -0.6458567048705577, -1.2580730068796404, -1.0452596564749228, -2.121819503360573, -1.6544501613385696, 0.35146967401900486, -1.0469831950728403, 0.8680810864418825, -0.6145634225827965, -1.3087924791691576, 1.033227859384173, 0.14156315825965768, -1.7081325845090927, 0.6506174574061648, -1.8309673744282942, 0.11291850932119366, 0.5246465190582144, 0.6424403198392828, -0.7590705899755249, -0.2914730086196698, -1.486502333398265, 1.7448137383722258, -1.294598336819833, 0.12592008380379552, 1.210310477156403, -0.07539219214384467, -0.602204565288468, 0.37353477061054147, 0.041687504636355295, -0.06322477222819253, 1.1270436524306406, -0.7646254104422153, 2.516760370024612, 0.6134163318993584, -0.5435960217897234, 1.4039106383760835, 0.4679194380586635, 0.7626935393902253, 0.9222139280651404, 0.2902746284807376, 0.9630259876116145, 0.08560685772795541, -0.5973812896361872, -1.7759690591610842, 0.9193260099436895, 0.29217849454190803, 0.19333194374873897, 0.3371593387727763, 0.18642602359332813, -1.0461024711264015, -2.6055455981757767, -0.6705390466795083, -0.18516332003022265, 0.36607125979009103, -0.9021584535042059, -0.5045473220938426, 0.4378440588640768, -0.6361412333057838, -0.18495727715366592, 0.19589987190985456, -0.8797977164364912, 0.4075467042386751, 0.5945726968588642, 1.5858887352318902, -0.5603000072270221, -0.6464965399707588, -0.6459789333261629, 1.4245367799172437, -1.1053059671837964, 0.4768796647253893, -2.759296100017243, 1.3318964822336399, -0.7470706745553927, 0.03954639826533427, -2.139909592278193, 2.4824993490986667, 1.0191494017921325, -0.7803417528525115, 1.5598010230742578, -0.9673542266891064, -1.523304822568468, -0.03663108434131067, 0.6993704540544675, -0.23615282785325864, 0.5652196637312411, -2.458348830586361, 1.5754336677084335, -0.8838252689710021, -0.5825974520239399, -0.14103692225176068, -0.5225414817855241, 0.7611316314156183, -0.14404827924590594, 0.6427340418484532, 1.0182495793812938, 0.7225603282219405, 0.4657702084863889, 0.9174271530122069, 0.2584489866627009, 0.9598618951936871, 0.4180312347344348, 1.422012440295054, 0.5236891678112741, 1.8427096376429686, 0.3744945784241766, 0.6257960163605957, -0.11225195243591381, -0.1506379906237645, 1.3964434960164591, -1.6083786031993328, 1.6532636785080168, -3.276009873675027, -1.3957853355777128, -0.23017773922161322, 1.5149156886593134, 0.6471218122323227, 0.5450515458482991, 0.12929167276507644, 0.6658818430931276, -0.6945415572036977, 0.43754037833463005, -2.07674590824104, 1.0934818484865805, -0.8912697682535958, -1.0922622391397812, -1.7152782628004737, 0.13804327679554795, -0.5519097390199397, -0.026000209508456613, 1.6497172304655678, 1.1984139003582834, -0.19289268898535836, -1.2625991099492928, -0.9326292451753802, -0.4721453888778891, -0.02569749228324857, 0.5053116128043342, 0.07094362631994411, 0.9340691583078777, -1.3754197071074852, 0.3600881573501637, -2.837121380640491, 0.10316532584195748, -0.24677241277158132, -0.5404281163230821, 1.079917269751631, 1.8477526209745012, 1.0777746392961032, 0.22569920326936846, -0.19524112146971748, -0.2498874344260323, -0.49666006434326776, 0.9912233481278959, 0.2019163493235992, -1.769212288546339, 0.8790168171412922, 0.1823590113636763, 0.6139992939480816, 0.2236870086578605, -1.5729685829315236, -0.004169059398725459, 0.1622326929479732, -1.443406997347962, -1.4495893431291507, 1.648318995247324, 0.6530802818339695, 0.33669155833967307, -0.9029099410048044, 3.0394161607876296, -0.7282712229237128, 1.4193400237921354, -1.7124770803527432, 0.18579313988198584, 2.1151076845263796, -0.4357789448031473, 0.6568815043626367, -0.4389208881662997, -0.5208364745967965, 0.6230337324992561, -0.504572101919151, 0.9803452203326114, 0.7173253897715595, -0.21993590618553693, -0.649484587946384, -0.8728896843246078, 1.5048898418328487, -0.36074070754337806, -1.111732289491813, -0.4896704669676094, -0.8049368805905032, 0.04918766081393421, -0.2972610735609732, 1.6907980767007358, 1.0034165300536202, 1.007060946205526, 0.6413335701847344, -0.3783899576818259, -0.6106252646615896, -0.2710520107697257, 0.24651492413384687, 0.5224674548602958, -1.1174501055003854, -0.773258604145245, 0.46969252699359537, -0.34072607247012704, 0.6838718829603196, -0.2207616100059891, 0.04326317597546344, -0.014975275738342435, -0.10716813736689318, 0.2862527003030245, 0.2820114355012525, 0.9447411207268629, 1.4539112046937792, 0.2683498308643596, 0.9504138952546181, -0.19417888269121292, 0.15015101998477576, 0.03823677131915272, -0.8416360024184462, 1.3163100738549833, 0.11688856815876304, -0.19714616384106978, 0.7451807372536758, 0.5189272217632332, -0.1829460600667737, 0.44726785969478994, -0.18208946909218382, 0.27557346783832476, 0.5155025956812992, -0.42069051612447056, -0.9116598379556272, -0.5084050881041144, 0.31302500153085033, 0.6628125786991295, -0.8815459118582607, -0.31530414801039625, 0.7336624986267993, -0.00017110565096282047, -0.8960920744285173, -0.27961488449043165, -1.6494494053662065, -1.651045539415365, 1.828350413426046, 0.7396543045850046, -2.0414768524456717, -1.4205112425831186, 0.3678233623658915, -1.4949166577367792, 0.8500185099410515, -0.5105578735856559, 0.24740037553295602, 0.5589264494766718, 1.1554111040001536, -0.18388240456049995, 0.5309298216693371, -0.41029108125558206, -1.833527467576786, 1.1600751805003002, 0.8023090091371688, -1.8409724728793426, -0.5167491134971842, 0.8707940051778549, -0.22672864115236477, 1.2344899128708262, -1.1795765934430429, 0.11692720081130906, -0.5323124005128717, -0.6959254175720756, 0.3811357664100225, 1.3568531173480773, 0.3653783255936193, -0.6325834778799851, 0.30773549463537514, 0.7209571777431776, 0.5201003599707638, -0.5994541143423754, 0.732613835020825, 0.87986292839102, 0.7664340337524619, 1.9056225732596388, 0.9637557619031749, 1.17376913199718, -1.1728366704930953, -0.2820526716065664, -2.062853427688618, 0.8152337496533864, -0.040168910656861824, -0.060678347662774045, -0.15655951817743083, 2.3721931895533572, -0.8617371814625235, 0.22247325540273039, 0.23439146501688585, -1.4147929299905369, -0.20003594531987065, 0.3737010595775489, -1.8054787760820399, 0.017456077599383144, 0.9464120665410137, -0.14872299993435126, 1.7033468525520583, 1.6139286423018806, 0.17086713708563966, -0.7508538535594338, -1.3121202976260748, 0.2993040057424335, -0.9576116278436901, 0.12646134800210493, 0.5093125509453762, 1.3145883627017128, 0.8557521462513151, 0.22193048121272405, -0.09678036648769567, -2.364933411703812, 1.5396886279060227, 0.4736465660496047, 0.6683861463372268, 1.6652489579316019, -0.8816142157614333, -0.20366623909457368, -1.7595942466211185, 1.67946159625096, 1.0561555279030637, 1.3944276658574162, -1.9824776412043357, -0.002102438104674696, 1.1285957580113235, 0.8075564955174737, -0.14694278650571604, -1.6681574147812612, 1.0286743320892016, 0.2908654973655612, 0.16722803745616768, 1.2629601190406168, 0.7757509108002203, 0.6323001407359683, -0.05983305684514982, 0.5380571085204305, -2.0004037756538486, -0.2046165674827066, -0.059112614837286984, -1.2608508731890524, 0.0016736524430442387, 0.9950177071637083, -0.7785239823014685, 0.26447145667850513, -2.1521766950396466, 1.064478839187021, -1.3964003691232583, 0.766138840876144, -0.2862602968172208, 0.799449817660228, 0.20969777309727106, -0.48505614598374464, 0.41146995961525357, 1.2394055132589177, -0.3055544275666693, 0.30317367522465627, -0.9833876494130394, -1.0199042066107418, 1.6269836046433859, -0.3368918872953403, 0.2294415041565205, 0.3050392273074991, 0.8328411119054742, 1.4204250883493033, -2.2807283861571275, 0.08049289909823483, -0.9256771633637062, 1.1127367806556965, -1.575392424962297, -0.4356502094313256, -0.8864835215329551, 0.3169602539892895, -0.023097616221841265, 0.36755660586204497, 1.4378527690492906, -0.09465938893832292, -0.5619846700602096, 2.4280822989741115, 1.3756406092522209, 1.1440457185242268, -0.09731441162011585, -0.9420868918879501, -0.2544233649226425, 1.2302439966951166, -1.606309822854003, 0.19274692406113464, 0.3197113899940565, -0.3298372758771968, 1.4139220914466624, -0.05149371616090543, 0.46497170926382175, 1.2174369925675534, -0.24537191518253623, 2.169304521772335, -0.9077156337523462, -1.75807330312089, -0.08349197988484522, 0.47105821949529114, 1.112914710350003, 0.36465220795694914, 1.0355615787009127, 0.23590823600647934, 0.7917464978426256, -0.9916352385908359, -0.010581339759037559, -0.2835494587218364, 0.3673772871360301, -0.688676577959102, 0.6615733905604178, 0.7112394123670237, 0.7578655321523698, 2.232192488460578, 0.6568452309265278, -0.5130314576326296, -0.9621945712587175, -0.1751203255766293, 1.109820312806173, -0.5939359480306008, 0.7815798710286997, 1.3015216347682126, 0.021971946077997132, 0.5566186105659796, -0.9058871429323025, 0.2172676232579174, -0.31160808232209425, -0.43293000732148285, -1.6664488769066432, -0.7083094703709347, 0.25886530705074384, 0.9825158504085078, -2.3129730672377944, 0.3370171891828605, 0.0735075199038801, -0.8893503533219447, 0.7074456787840745, 0.5331849309949185, 2.208536638133351, 0.19720244365435124, 0.5656547103500031, -0.49895495060282014, 0.6484880588775702, 0.05572697144361539, 1.9527117120772666, 0.2840907595840693, 0.7267828783286895, 0.6780467673087109, -1.7600837068464965, -0.0640856291409788, 0.22417812361671716, 0.6886367399929244, 0.21934331018069872, 1.6109821438402145, 1.39117286075928, -0.4326752975153845, -2.048584899444764, 2.0390033576199826, -0.3781274699886848, 0.2262016760719427, 1.3175913142482214, -0.06242438545456769, 0.8964514594264535, 0.9442217287429167, -0.6196504744639301, 0.4553665712342824, 0.593042873063522, -0.29026873815890347, -0.7821291035337791, -0.43022872442870264, 0.4022360899957722, -1.017023800232869, 0.5268937630139051, 1.7951044014576885, 0.4208645846217104, -2.030797249297169, -0.6478431660655064, -0.18530381583638378, -0.3967862598703207, -0.15327783264384673, -0.8790877350934503, 1.8363943757337824, 0.7041124201886328, 0.708957186421024, 2.353560906272168, 0.20623207676205507, 0.9665745631776398, -0.4902341459288297, 0.18150045894764405, -0.6736311697669304, 1.0708022833635022, 0.1982762294609684, -0.48413967832632954, -0.969371731174866, 1.7147149132919992, -0.8636085668650382, 0.5619882382113923, -1.812399022053081, -0.21889295672524162, 1.4027122012130755, -0.32976934257792206, 0.923237829220157, 0.4861791830301767, -0.06970888492649735, 0.9323774789519517, 0.7876248065365681, 0.07718606792625073, 0.20367830459298963, 0.21951659868248907, -0.515139679656397, -1.1544024632140828, -0.14052969809773333, -0.11625752322831577, 0.5026662553693941, -2.1112803810698915, -1.6891537299010628, 1.468092768858609, 1.6637063535789811, -0.2908443721069404, 1.5329441449795476, 0.16330747452720623, -0.4694532121605474, -1.5998430113777282, 0.3671974377216255, -0.3961555709171237, 0.8885732938608604, -0.9939783165179292, 0.17356036948021997, -0.015155278261282575, 0.867263815041769, -0.501486761968074, 1.585397892622977, -1.8637252878258872, 1.0262278785830592, -0.3864367717572713, 0.7305785422019492, 0.11379625676658314, -1.3738912858994443, 0.6545599926000667, 1.302868023299304, -1.2612698128783721, 1.488473784712123, 0.13625702827334818, 0.34282999035623435, -0.8891358287694343, -0.8544136797470221, 0.9684919944102528, 0.9000987652554959, 0.45965316372140386, -4.137870880859122, -1.8202939765267434, -0.16421798414024125, -0.4407873319788722, -1.0805214551193318, -1.2163033468065634, 1.5488329778321885, 0.3769808082762805, 0.7536928467200902, 0.34485344481677627, 0.05787940343247928, -0.3599062943344753, 2.3778916462, 1.978884865520185, 0.7274709477290852, 1.2026676626163775, -0.658869806681169, 0.6119336485228891, -0.8407059444846124, -2.5441595084139554, -0.09527828564714609, 0.4276304668596015, 0.46251352599637574, -0.1284669858707346, 1.0383664661093865, 0.4761303575039128, -0.47842773080708434, 0.7562385241206988, 0.41238760588104595, 1.0029720177128414, 0.19883551961380594, -0.9841301689685483, -0.7187467968608126, 0.5233149783764636, 0.4281494974649827, -0.5631768237933585, -0.6375883336059411, 0.6471983543840316, 1.350357063713942, -0.25053897850553253, -0.5409450615218445, -1.58762026381239, 0.9969519667742869, -0.363688289637154, -0.0881210610059887, 0.3683391282044973, 1.9181660533172582, 0.6218979079104406, 0.7364881279427636, 1.4470784487820647, 0.29982125937464366, 0.3595397409779244, -2.095187733490855, 0.7925040198340796, 0.3747771808493902, 0.3687309108570814, 0.4639932926829153, -0.5249825023940858, 0.17912147914441837, -1.468894395668941, -0.20336119594684193, -0.28041442154665186, 0.13317697583245736, -0.23122835938862213, -1.2352761474885294, -1.3097180956875203, -0.3916593695867858, -1.7477870436602878, 0.9773035018227965, 1.5438604964079639, 0.004254593886300562, -0.7030689803918199, -0.609700882966067, -0.021355956494075245, -0.5661865830520197, 1.2573102382007313, 0.22580753151438993, 0.5463810982321711, -0.7166359900977928, -0.06279937752628127, 0.47751966986747607, 0.7589635651172233, 0.049351126098073114, 1.025560464854507, 0.7642250702544939, -0.373631550127663, -1.2798718574196195, -0.4134619271725016, -0.7894039626331298, -1.7116775898674563, 0.8259880502367242, -0.32932154279432413, 1.6305103826730107, -0.4842399775722658, 0.2666176043026602, -0.2632118297930938, 1.8094364762981359, -0.8593310649894473, -1.1893251619743461, 0.6751621987576081, 0.325455705276383, 1.3772856283873294, 0.6253148673137652, 3.5290933676982714, -0.28331998964885724, -2.029028485953036, 0.10604435580452187, 1.1129796244021664, -0.7532346068380914, 0.31557600890365245, 0.8654422053983386, 0.4789146574375933, -1.3831365086418215, -0.5094843469489668, -0.9464312857075629, -1.2041006541223878, -0.5929934847201727, 1.9102207615016948, -0.5296484472809848, -0.5253439638640839, 0.23388414173696664, -0.4775508894673016, 2.1372558215595374, 0.34291954322596413, 0.2962934964751496, -0.7155018942242698, 0.7128207085008058, 0.6529515709341328, -0.8585392960263328, 0.6768302738405743, 1.700058873923086, -2.2082358266710416, -1.616031073455226, -1.630158242552944, -1.7196619291460302, -0.23800529911418386, 0.5119313853209648, 0.5840621090971858, 0.46198556687347103, -0.5981419256123233, 0.48653150651102867, 0.2524762954958828, 0.07676469855743404, 0.27262140422661735, -0.9362266421326084, 1.482649750359038, -1.3997705337960449, 1.5691320715188766, 1.513467608926213, -0.2908040111761853, 0.8442497722051118, -0.20953417790671072, -0.27784117987420875, -1.7866589795683534, -1.0796822194953486, 1.3068040293358414, 1.035242594603472, 0.1966816685726236, 0.3847665380350872, 0.7072024163236563, -0.26593833949805196, 1.4747590959870494, -1.751995119196877, 0.17988026543070157, -1.3379915979797299, 0.631918795501498, -0.9234956447821842, -1.4681823464468258, 0.5680591706120531, 0.2879733798744301, -0.9354857968050859, -0.3606194964723603, 0.9754539862559809, 1.5918261827893228, -0.7444480085110019, -0.8035718480865381, -0.08987312125810594, 1.4569989294007042, 2.146830606662301, -1.1688703526550321, -1.1875710644023856, -2.343793298852141, 0.08320485358210858, 0.4116106803967142, -0.5764358883199278, 0.19407353449708933, 0.8118940166658237, -0.16968896744213538, 0.9158868346018655, 0.1476255875052149, -1.860550228344826, 0.2353133725134601, 0.01584747842216081, 0.6382242817595014, -1.3246364388361829, -1.2105838510279585, -0.3061774590028071, 1.0469119372189235, -0.1322398559203635, -0.39644764252826814, 0.9137115089222017, 0.7778627840262837, -0.9494821686265483, 1.5657025263677555, 1.0862348903299368, -0.6405299328431497, 0.02016885671117149, 2.4333135324981203, 0.520678818178165, -0.09491821489798327, -0.6507083672082993, -0.23545899788902097, -1.44884886121048, 1.1566316170739306, 0.2525920250836712, -0.8295369176499225, -0.6549406012465872, 1.1260325085384388, -0.6399788849454516, -0.08550891930021527, 1.0296953013670935, -0.6673261368958462, -0.8559470409069816, -1.5038277510063995, -0.6110466103365475, -0.25651276725452565, 0.16607860327669433, -0.060149729456325574, -1.3424266779894087, 0.017661488635338007, -0.18637131397021514, -0.26059362774914796, 0.015100019893254466, 1.0526582714838733, -0.5246470699919091, -1.0069516368379567, 0.8916247304434833, 1.1041423378692674, 0.5508569670564926, -1.907506242403317, 1.4659104165469776, -0.19200032198109335, -0.25285557038288786, -1.3350795105639888, -0.267645001505278, -0.38640999284493566, 0.5327712189819139, 0.3167451032262826, -0.40607984509101375, 0.7899459882684103, -1.1313169280882909, -1.4864860244673912, 0.7291656325989165, -1.0934910656342327, 0.24850516768290024, -0.8840444513185701, 0.38468709491132047, -0.27017739213025793, 1.1813897009500223, 0.4888234186911122, 0.7388054959646896, -0.34444027096765945, 0.12647276482130318, -0.6268401039857417, 1.170963607629918, -0.25001311088268424, -0.5281138645699097, 0.2785699506913256, -0.23382631781420737, 0.5682643014765775, 1.9478694886180932, -0.3051600033002107, -0.2787037593846739, -0.8105483068829449, 0.49932624856016616, 1.8022511921329665, 0.09849179396939119, -1.2075622142588414, -0.42647441207889647, -0.4541711597605433, -0.743316321975878, -0.39123521448530924, -1.4032916489980078, -0.16035885759593685, 0.8926607423103371, -0.570132886256331, -1.0515555087428077, 0.820452267394931, -1.2887631833975792, 0.4360932468251382, 0.23916417629238124, -0.6742419178008491, -1.0967478632549037, 0.5165998725139549, -0.17319152579184702, 0.5716110842700569, -0.3954520708393579, -1.1090816544412871, 0.8982929754848165, 0.9772726905469585, -0.6711689193063879, -0.37909306517130287, -0.18823717351636982, -0.23613399729658535, 0.7785792851124942, -0.4299701287839652]}],                        {\"template\": {\"data\": {\"bar\": [{\"error_x\": {\"color\": \"#2a3f5f\"}, \"error_y\": {\"color\": \"#2a3f5f\"}, \"marker\": {\"line\": {\"color\": \"#E5ECF6\", \"width\": 0.5}}, \"type\": \"bar\"}], \"barpolar\": [{\"marker\": {\"line\": {\"color\": \"#E5ECF6\", \"width\": 0.5}}, \"type\": \"barpolar\"}], \"carpet\": [{\"aaxis\": {\"endlinecolor\": \"#2a3f5f\", \"gridcolor\": \"white\", \"linecolor\": \"white\", \"minorgridcolor\": \"white\", \"startlinecolor\": \"#2a3f5f\"}, \"baxis\": {\"endlinecolor\": \"#2a3f5f\", \"gridcolor\": \"white\", \"linecolor\": \"white\", \"minorgridcolor\": \"white\", \"startlinecolor\": \"#2a3f5f\"}, \"type\": \"carpet\"}], \"choropleth\": [{\"colorbar\": {\"outlinewidth\": 0, \"ticks\": \"\"}, \"type\": \"choropleth\"}], \"contour\": [{\"colorbar\": {\"outlinewidth\": 0, \"ticks\": \"\"}, \"colorscale\": [[0.0, \"#0d0887\"], [0.1111111111111111, \"#46039f\"], [0.2222222222222222, \"#7201a8\"], [0.3333333333333333, \"#9c179e\"], [0.4444444444444444, \"#bd3786\"], [0.5555555555555556, \"#d8576b\"], [0.6666666666666666, \"#ed7953\"], [0.7777777777777778, \"#fb9f3a\"], [0.8888888888888888, \"#fdca26\"], [1.0, \"#f0f921\"]], \"type\": \"contour\"}], \"contourcarpet\": [{\"colorbar\": {\"outlinewidth\": 0, \"ticks\": \"\"}, \"type\": \"contourcarpet\"}], \"heatmap\": [{\"colorbar\": {\"outlinewidth\": 0, \"ticks\": \"\"}, \"colorscale\": [[0.0, \"#0d0887\"], [0.1111111111111111, \"#46039f\"], [0.2222222222222222, \"#7201a8\"], [0.3333333333333333, \"#9c179e\"], [0.4444444444444444, \"#bd3786\"], [0.5555555555555556, \"#d8576b\"], [0.6666666666666666, \"#ed7953\"], [0.7777777777777778, \"#fb9f3a\"], [0.8888888888888888, \"#fdca26\"], [1.0, \"#f0f921\"]], \"type\": \"heatmap\"}], \"heatmapgl\": [{\"colorbar\": {\"outlinewidth\": 0, \"ticks\": \"\"}, \"colorscale\": [[0.0, \"#0d0887\"], [0.1111111111111111, \"#46039f\"], [0.2222222222222222, \"#7201a8\"], [0.3333333333333333, \"#9c179e\"], [0.4444444444444444, \"#bd3786\"], [0.5555555555555556, \"#d8576b\"], [0.6666666666666666, \"#ed7953\"], [0.7777777777777778, \"#fb9f3a\"], [0.8888888888888888, \"#fdca26\"], [1.0, \"#f0f921\"]], \"type\": \"heatmapgl\"}], \"histogram\": [{\"marker\": {\"colorbar\": {\"outlinewidth\": 0, \"ticks\": \"\"}}, \"type\": \"histogram\"}], \"histogram2d\": [{\"colorbar\": {\"outlinewidth\": 0, \"ticks\": \"\"}, \"colorscale\": [[0.0, \"#0d0887\"], [0.1111111111111111, \"#46039f\"], [0.2222222222222222, \"#7201a8\"], [0.3333333333333333, \"#9c179e\"], [0.4444444444444444, \"#bd3786\"], [0.5555555555555556, \"#d8576b\"], [0.6666666666666666, \"#ed7953\"], [0.7777777777777778, \"#fb9f3a\"], [0.8888888888888888, \"#fdca26\"], [1.0, \"#f0f921\"]], \"type\": \"histogram2d\"}], \"histogram2dcontour\": [{\"colorbar\": {\"outlinewidth\": 0, \"ticks\": \"\"}, \"colorscale\": [[0.0, \"#0d0887\"], [0.1111111111111111, \"#46039f\"], [0.2222222222222222, \"#7201a8\"], [0.3333333333333333, \"#9c179e\"], [0.4444444444444444, \"#bd3786\"], [0.5555555555555556, \"#d8576b\"], [0.6666666666666666, \"#ed7953\"], [0.7777777777777778, \"#fb9f3a\"], [0.8888888888888888, \"#fdca26\"], [1.0, \"#f0f921\"]], \"type\": \"histogram2dcontour\"}], \"mesh3d\": [{\"colorbar\": {\"outlinewidth\": 0, \"ticks\": \"\"}, \"type\": \"mesh3d\"}], \"parcoords\": [{\"line\": {\"colorbar\": {\"outlinewidth\": 0, \"ticks\": \"\"}}, \"type\": \"parcoords\"}], \"pie\": [{\"automargin\": true, \"type\": \"pie\"}], \"scatter\": [{\"marker\": {\"colorbar\": {\"outlinewidth\": 0, \"ticks\": \"\"}}, \"type\": \"scatter\"}], \"scatter3d\": [{\"line\": {\"colorbar\": {\"outlinewidth\": 0, \"ticks\": \"\"}}, \"marker\": {\"colorbar\": {\"outlinewidth\": 0, \"ticks\": \"\"}}, \"type\": \"scatter3d\"}], \"scattercarpet\": [{\"marker\": {\"colorbar\": {\"outlinewidth\": 0, \"ticks\": \"\"}}, \"type\": \"scattercarpet\"}], \"scattergeo\": [{\"marker\": {\"colorbar\": {\"outlinewidth\": 0, \"ticks\": \"\"}}, \"type\": \"scattergeo\"}], \"scattergl\": [{\"marker\": {\"colorbar\": {\"outlinewidth\": 0, \"ticks\": \"\"}}, \"type\": \"scattergl\"}], \"scattermapbox\": [{\"marker\": {\"colorbar\": {\"outlinewidth\": 0, \"ticks\": \"\"}}, \"type\": \"scattermapbox\"}], \"scatterpolar\": [{\"marker\": {\"colorbar\": {\"outlinewidth\": 0, \"ticks\": \"\"}}, \"type\": \"scatterpolar\"}], \"scatterpolargl\": [{\"marker\": {\"colorbar\": {\"outlinewidth\": 0, \"ticks\": \"\"}}, \"type\": \"scatterpolargl\"}], \"scatterternary\": [{\"marker\": {\"colorbar\": {\"outlinewidth\": 0, \"ticks\": \"\"}}, \"type\": \"scatterternary\"}], \"surface\": [{\"colorbar\": {\"outlinewidth\": 0, \"ticks\": \"\"}, \"colorscale\": [[0.0, \"#0d0887\"], [0.1111111111111111, \"#46039f\"], [0.2222222222222222, \"#7201a8\"], [0.3333333333333333, \"#9c179e\"], [0.4444444444444444, \"#bd3786\"], [0.5555555555555556, \"#d8576b\"], [0.6666666666666666, \"#ed7953\"], [0.7777777777777778, \"#fb9f3a\"], [0.8888888888888888, \"#fdca26\"], [1.0, \"#f0f921\"]], \"type\": \"surface\"}], \"table\": [{\"cells\": {\"fill\": {\"color\": \"#EBF0F8\"}, \"line\": {\"color\": \"white\"}}, \"header\": {\"fill\": {\"color\": \"#C8D4E3\"}, \"line\": {\"color\": \"white\"}}, \"type\": \"table\"}]}, \"layout\": {\"annotationdefaults\": {\"arrowcolor\": \"#2a3f5f\", \"arrowhead\": 0, \"arrowwidth\": 1}, \"autotypenumbers\": \"strict\", \"coloraxis\": {\"colorbar\": {\"outlinewidth\": 0, \"ticks\": \"\"}}, \"colorscale\": {\"diverging\": [[0, \"#8e0152\"], [0.1, \"#c51b7d\"], [0.2, \"#de77ae\"], [0.3, \"#f1b6da\"], [0.4, \"#fde0ef\"], [0.5, \"#f7f7f7\"], [0.6, \"#e6f5d0\"], [0.7, \"#b8e186\"], [0.8, \"#7fbc41\"], [0.9, \"#4d9221\"], [1, \"#276419\"]], \"sequential\": [[0.0, \"#0d0887\"], [0.1111111111111111, \"#46039f\"], [0.2222222222222222, \"#7201a8\"], [0.3333333333333333, \"#9c179e\"], [0.4444444444444444, \"#bd3786\"], [0.5555555555555556, \"#d8576b\"], [0.6666666666666666, \"#ed7953\"], [0.7777777777777778, \"#fb9f3a\"], [0.8888888888888888, \"#fdca26\"], [1.0, \"#f0f921\"]], \"sequentialminus\": [[0.0, \"#0d0887\"], [0.1111111111111111, \"#46039f\"], [0.2222222222222222, \"#7201a8\"], [0.3333333333333333, \"#9c179e\"], [0.4444444444444444, \"#bd3786\"], [0.5555555555555556, \"#d8576b\"], [0.6666666666666666, \"#ed7953\"], [0.7777777777777778, \"#fb9f3a\"], [0.8888888888888888, \"#fdca26\"], [1.0, \"#f0f921\"]]}, \"colorway\": [\"#636efa\", \"#EF553B\", \"#00cc96\", \"#ab63fa\", \"#FFA15A\", \"#19d3f3\", \"#FF6692\", \"#B6E880\", \"#FF97FF\", \"#FECB52\"], \"font\": {\"color\": \"#2a3f5f\"}, \"geo\": {\"bgcolor\": \"white\", \"lakecolor\": \"white\", \"landcolor\": \"#E5ECF6\", \"showlakes\": true, \"showland\": true, \"subunitcolor\": \"white\"}, \"hoverlabel\": {\"align\": \"left\"}, \"hovermode\": \"closest\", \"mapbox\": {\"style\": \"light\"}, \"paper_bgcolor\": \"white\", \"plot_bgcolor\": \"#E5ECF6\", \"polar\": {\"angularaxis\": {\"gridcolor\": \"white\", \"linecolor\": \"white\", \"ticks\": \"\"}, \"bgcolor\": \"#E5ECF6\", \"radialaxis\": {\"gridcolor\": \"white\", \"linecolor\": \"white\", \"ticks\": \"\"}}, \"scene\": {\"xaxis\": {\"backgroundcolor\": \"#E5ECF6\", \"gridcolor\": \"white\", \"gridwidth\": 2, \"linecolor\": \"white\", \"showbackground\": true, \"ticks\": \"\", \"zerolinecolor\": \"white\"}, \"yaxis\": {\"backgroundcolor\": \"#E5ECF6\", \"gridcolor\": \"white\", \"gridwidth\": 2, \"linecolor\": \"white\", \"showbackground\": true, \"ticks\": \"\", \"zerolinecolor\": \"white\"}, \"zaxis\": {\"backgroundcolor\": \"#E5ECF6\", \"gridcolor\": \"white\", \"gridwidth\": 2, \"linecolor\": \"white\", \"showbackground\": true, \"ticks\": \"\", \"zerolinecolor\": \"white\"}}, \"shapedefaults\": {\"line\": {\"color\": \"#2a3f5f\"}}, \"ternary\": {\"aaxis\": {\"gridcolor\": \"white\", \"linecolor\": \"white\", \"ticks\": \"\"}, \"baxis\": {\"gridcolor\": \"white\", \"linecolor\": \"white\", \"ticks\": \"\"}, \"bgcolor\": \"#E5ECF6\", \"caxis\": {\"gridcolor\": \"white\", \"linecolor\": \"white\", \"ticks\": \"\"}}, \"title\": {\"x\": 0.05}, \"xaxis\": {\"automargin\": true, \"gridcolor\": \"white\", \"linecolor\": \"white\", \"ticks\": \"\", \"title\": {\"standoff\": 15}, \"zerolinecolor\": \"white\", \"zerolinewidth\": 2}, \"yaxis\": {\"automargin\": true, \"gridcolor\": \"white\", \"linecolor\": \"white\", \"ticks\": \"\", \"title\": {\"standoff\": 15}, \"zerolinecolor\": \"white\", \"zerolinewidth\": 2}}}},                        {\"responsive\": true}                    ).then(function(){\n",
       "                            \n",
       "var gd = document.getElementById('0fdbd0d7-87a0-48d4-be90-4869983330f4');\n",
       "var x = new MutationObserver(function (mutations, observer) {{\n",
       "        var display = window.getComputedStyle(gd).display;\n",
       "        if (!display || display === 'none') {{\n",
       "            console.log([gd, 'removed!']);\n",
       "            Plotly.purge(gd);\n",
       "            observer.disconnect();\n",
       "        }}\n",
       "}});\n",
       "\n",
       "// Listen for the removal of the full notebook cells\n",
       "var notebookContainer = gd.closest('#notebook-container');\n",
       "if (notebookContainer) {{\n",
       "    x.observe(notebookContainer, {childList: true});\n",
       "}}\n",
       "\n",
       "// Listen for the clearing of the current output cell\n",
       "var outputEl = gd.closest('.output');\n",
       "if (outputEl) {{\n",
       "    x.observe(outputEl, {childList: true});\n",
       "}}\n",
       "\n",
       "                        })                };                });            </script>        </div>"
      ]
     },
     "metadata": {},
     "output_type": "display_data"
    }
   ],
   "source": [
    "import plotly.graph_objs as go\n",
    "import numpy as np\n",
    "\n",
    "x = np.random.randn(2000)\n",
    "y = np.random.randn(2000)\n",
    "iplot([go.Histogram2dContour(x=x, y=y, contours=dict(coloring='heatmap')),\n",
    "       go.Scatter(x=x, y=y, mode='markers', marker=dict(color='white', size=3, opacity=0.3))], show_link=False)"
   ]
  },
  {
   "cell_type": "markdown",
   "metadata": {},
   "source": [
    "# <center>Episode 2</center>"
   ]
  },
  {
   "cell_type": "code",
   "execution_count": 5,
   "metadata": {},
   "outputs": [],
   "source": [
    "import chart_studio.plotly as py\n",
    "import plotly.graph_objs as go\n",
    "import numpy as np"
   ]
  },
  {
   "cell_type": "code",
   "execution_count": 6,
   "metadata": {},
   "outputs": [],
   "source": [
    "N = 100\n",
    "example_x = np.random.rand(N)\n",
    "example_y = np.random.rand(N)\n",
    "\n",
    "\n"
   ]
  },
  {
   "cell_type": "code",
   "execution_count": 7,
   "metadata": {},
   "outputs": [],
   "source": [
    "trace = go.Scatter(\n",
    "    x = example_x,\n",
    "    y = example_y,\n",
    "    mode = 'markers')"
   ]
  },
  {
   "cell_type": "code",
   "execution_count": 8,
   "metadata": {},
   "outputs": [
    {
     "data": {
      "application/vnd.plotly.v1+json": {
       "config": {
        "linkText": "Export to plot.ly",
        "plotlyServerURL": "https://plot.ly",
        "showLink": false
       },
       "data": [
        {
         "mode": "markers",
         "type": "scatter",
         "x": [
          0.6591328940904607,
          0.33441655099146717,
          0.20734689949660567,
          0.3129745411156074,
          0.9809364139644504,
          0.7821054093289095,
          0.8518356104398249,
          0.9247787518991204,
          0.4910033064350857,
          0.6280317642478073,
          0.5354716759061308,
          0.18893820152247986,
          0.9779332912284643,
          0.7761137905559611,
          0.5134725010888473,
          0.060896103752855035,
          0.16990210047328802,
          0.617280706971267,
          0.208905356464137,
          0.8328308384826693,
          0.351659937474433,
          0.40625238911047545,
          0.27953080393537544,
          0.29790558208617857,
          0.7273753632293609,
          0.5403179031632648,
          0.6391914215277313,
          0.16442181764922992,
          0.542902711545042,
          0.4661993843777591,
          0.8492837802095453,
          0.048498289405214945,
          0.5050092068529687,
          0.6363578829923444,
          0.0731274424547439,
          0.971261094745081,
          0.868654840160165,
          0.7249548855169694,
          0.2737701229705167,
          0.9096998676244811,
          0.6467013859871967,
          0.5554529324247823,
          0.0567978427587148,
          0.21742426313433427,
          0.6110119205682725,
          0.48878643287043144,
          0.03877195056403171,
          0.5878861338240807,
          0.7805442894642479,
          0.7602758034274067,
          0.22958310784361113,
          0.3995338992149623,
          0.873736384046588,
          0.4180998667439543,
          0.4419094989871065,
          0.34452476478174276,
          0.1682532312169256,
          0.11888212942191356,
          0.7392684826042457,
          0.4024714192027238,
          0.8785123846526356,
          0.9426393504336255,
          0.09829795715137335,
          0.6152902219321074,
          0.018288974979773998,
          0.09284579792929526,
          0.5689118265435035,
          0.7763760701470241,
          0.833115109940913,
          0.3270481266152029,
          0.30261369341389743,
          0.8165521238489754,
          0.12891773032629383,
          0.6021600308924622,
          0.0011301354361373805,
          0.4984473325475066,
          0.9617571822529245,
          0.07097736109029118,
          0.17485743308069168,
          0.054791028657245056,
          0.7691788539977287,
          0.5738906661073478,
          0.5813875433622998,
          0.5682398897201405,
          0.3287296703228748,
          0.1305532627831154,
          0.7452006493279072,
          0.8433837034668014,
          0.45192259849293226,
          0.7765003476046838,
          0.8625845078148872,
          0.720480449019939,
          0.03856183618050302,
          0.02553359994195914,
          0.9375471876200937,
          0.7246090798950218,
          0.5108665005784864,
          0.8159672574760017,
          0.22843671487485573,
          0.5905646219914006
         ],
         "y": [
          0.22038483945715215,
          0.6428429368542267,
          0.17212346106217447,
          0.2727731900869872,
          0.4789334328583571,
          0.07130356539526561,
          0.15261538689096565,
          0.38182421269638267,
          0.7045731953410682,
          0.606805121147668,
          0.31491784153231306,
          0.17826932848992905,
          0.06960069094819488,
          0.8412500644670552,
          0.08115712042114698,
          0.051191920692502446,
          0.6657412872467094,
          0.6954709747978542,
          0.2892812451296013,
          0.5251770297965493,
          0.41046578166813874,
          0.366017245519511,
          0.8378232254714143,
          0.3527550624612966,
          0.07780426047603584,
          0.9341211350617022,
          0.7508214922748087,
          0.8797101503098951,
          0.8934592995409745,
          0.37952488818129115,
          0.8045206191253803,
          0.8739088545944043,
          0.3580935771434608,
          0.3895088060541567,
          0.41001747168997027,
          0.005354187985164738,
          0.5242095798553921,
          0.7203848467939261,
          0.22676764144563744,
          0.8017801490479853,
          0.5640415397759988,
          0.06972777155230625,
          0.8926778793843534,
          0.9528660493882822,
          0.2900433838218204,
          0.9743864769661261,
          0.6122358311783578,
          0.3015082765444246,
          0.022636955351067023,
          0.04780877766492442,
          0.01717507703171728,
          0.5792002311552152,
          0.9467391901682114,
          0.7328522643824485,
          0.3845568412190419,
          0.8019286872330494,
          0.6007963451130602,
          0.6215301488230887,
          0.5272231221444984,
          0.03832259920600789,
          0.31078738405936956,
          0.2941081682174671,
          0.4742033449259557,
          0.9320061385137076,
          0.262331535223128,
          0.45145264560228304,
          0.22142280157935856,
          0.43203332127556104,
          0.7408656718829522,
          0.9560339138396504,
          0.9500416349554995,
          0.10849754773017461,
          0.17137370899449322,
          0.5387988983571939,
          0.41321267496373015,
          0.015039580722882473,
          0.46296650709366416,
          0.37465050264799693,
          0.843101925642872,
          0.8958750193419533,
          0.8472964635057642,
          0.5384538606856644,
          0.43303971223229776,
          0.7068328406859867,
          0.4090338583874348,
          0.9671097924056729,
          0.8875608277303032,
          0.033686823649634046,
          0.9520546371804403,
          0.631880136133867,
          0.8189014637048389,
          0.7157778916726607,
          0.04681049135314219,
          0.22683556162137375,
          0.6681453884826861,
          0.5199877363389972,
          0.23042111956478017,
          0.14377587915511392,
          0.5264522429638823,
          0.2583132675058407
         ]
        }
       ],
       "layout": {
        "template": {
         "data": {
          "bar": [
           {
            "error_x": {
             "color": "#2a3f5f"
            },
            "error_y": {
             "color": "#2a3f5f"
            },
            "marker": {
             "line": {
              "color": "#E5ECF6",
              "width": 0.5
             }
            },
            "type": "bar"
           }
          ],
          "barpolar": [
           {
            "marker": {
             "line": {
              "color": "#E5ECF6",
              "width": 0.5
             }
            },
            "type": "barpolar"
           }
          ],
          "carpet": [
           {
            "aaxis": {
             "endlinecolor": "#2a3f5f",
             "gridcolor": "white",
             "linecolor": "white",
             "minorgridcolor": "white",
             "startlinecolor": "#2a3f5f"
            },
            "baxis": {
             "endlinecolor": "#2a3f5f",
             "gridcolor": "white",
             "linecolor": "white",
             "minorgridcolor": "white",
             "startlinecolor": "#2a3f5f"
            },
            "type": "carpet"
           }
          ],
          "choropleth": [
           {
            "colorbar": {
             "outlinewidth": 0,
             "ticks": ""
            },
            "type": "choropleth"
           }
          ],
          "contour": [
           {
            "colorbar": {
             "outlinewidth": 0,
             "ticks": ""
            },
            "colorscale": [
             [
              0,
              "#0d0887"
             ],
             [
              0.1111111111111111,
              "#46039f"
             ],
             [
              0.2222222222222222,
              "#7201a8"
             ],
             [
              0.3333333333333333,
              "#9c179e"
             ],
             [
              0.4444444444444444,
              "#bd3786"
             ],
             [
              0.5555555555555556,
              "#d8576b"
             ],
             [
              0.6666666666666666,
              "#ed7953"
             ],
             [
              0.7777777777777778,
              "#fb9f3a"
             ],
             [
              0.8888888888888888,
              "#fdca26"
             ],
             [
              1,
              "#f0f921"
             ]
            ],
            "type": "contour"
           }
          ],
          "contourcarpet": [
           {
            "colorbar": {
             "outlinewidth": 0,
             "ticks": ""
            },
            "type": "contourcarpet"
           }
          ],
          "heatmap": [
           {
            "colorbar": {
             "outlinewidth": 0,
             "ticks": ""
            },
            "colorscale": [
             [
              0,
              "#0d0887"
             ],
             [
              0.1111111111111111,
              "#46039f"
             ],
             [
              0.2222222222222222,
              "#7201a8"
             ],
             [
              0.3333333333333333,
              "#9c179e"
             ],
             [
              0.4444444444444444,
              "#bd3786"
             ],
             [
              0.5555555555555556,
              "#d8576b"
             ],
             [
              0.6666666666666666,
              "#ed7953"
             ],
             [
              0.7777777777777778,
              "#fb9f3a"
             ],
             [
              0.8888888888888888,
              "#fdca26"
             ],
             [
              1,
              "#f0f921"
             ]
            ],
            "type": "heatmap"
           }
          ],
          "heatmapgl": [
           {
            "colorbar": {
             "outlinewidth": 0,
             "ticks": ""
            },
            "colorscale": [
             [
              0,
              "#0d0887"
             ],
             [
              0.1111111111111111,
              "#46039f"
             ],
             [
              0.2222222222222222,
              "#7201a8"
             ],
             [
              0.3333333333333333,
              "#9c179e"
             ],
             [
              0.4444444444444444,
              "#bd3786"
             ],
             [
              0.5555555555555556,
              "#d8576b"
             ],
             [
              0.6666666666666666,
              "#ed7953"
             ],
             [
              0.7777777777777778,
              "#fb9f3a"
             ],
             [
              0.8888888888888888,
              "#fdca26"
             ],
             [
              1,
              "#f0f921"
             ]
            ],
            "type": "heatmapgl"
           }
          ],
          "histogram": [
           {
            "marker": {
             "colorbar": {
              "outlinewidth": 0,
              "ticks": ""
             }
            },
            "type": "histogram"
           }
          ],
          "histogram2d": [
           {
            "colorbar": {
             "outlinewidth": 0,
             "ticks": ""
            },
            "colorscale": [
             [
              0,
              "#0d0887"
             ],
             [
              0.1111111111111111,
              "#46039f"
             ],
             [
              0.2222222222222222,
              "#7201a8"
             ],
             [
              0.3333333333333333,
              "#9c179e"
             ],
             [
              0.4444444444444444,
              "#bd3786"
             ],
             [
              0.5555555555555556,
              "#d8576b"
             ],
             [
              0.6666666666666666,
              "#ed7953"
             ],
             [
              0.7777777777777778,
              "#fb9f3a"
             ],
             [
              0.8888888888888888,
              "#fdca26"
             ],
             [
              1,
              "#f0f921"
             ]
            ],
            "type": "histogram2d"
           }
          ],
          "histogram2dcontour": [
           {
            "colorbar": {
             "outlinewidth": 0,
             "ticks": ""
            },
            "colorscale": [
             [
              0,
              "#0d0887"
             ],
             [
              0.1111111111111111,
              "#46039f"
             ],
             [
              0.2222222222222222,
              "#7201a8"
             ],
             [
              0.3333333333333333,
              "#9c179e"
             ],
             [
              0.4444444444444444,
              "#bd3786"
             ],
             [
              0.5555555555555556,
              "#d8576b"
             ],
             [
              0.6666666666666666,
              "#ed7953"
             ],
             [
              0.7777777777777778,
              "#fb9f3a"
             ],
             [
              0.8888888888888888,
              "#fdca26"
             ],
             [
              1,
              "#f0f921"
             ]
            ],
            "type": "histogram2dcontour"
           }
          ],
          "mesh3d": [
           {
            "colorbar": {
             "outlinewidth": 0,
             "ticks": ""
            },
            "type": "mesh3d"
           }
          ],
          "parcoords": [
           {
            "line": {
             "colorbar": {
              "outlinewidth": 0,
              "ticks": ""
             }
            },
            "type": "parcoords"
           }
          ],
          "pie": [
           {
            "automargin": true,
            "type": "pie"
           }
          ],
          "scatter": [
           {
            "marker": {
             "colorbar": {
              "outlinewidth": 0,
              "ticks": ""
             }
            },
            "type": "scatter"
           }
          ],
          "scatter3d": [
           {
            "line": {
             "colorbar": {
              "outlinewidth": 0,
              "ticks": ""
             }
            },
            "marker": {
             "colorbar": {
              "outlinewidth": 0,
              "ticks": ""
             }
            },
            "type": "scatter3d"
           }
          ],
          "scattercarpet": [
           {
            "marker": {
             "colorbar": {
              "outlinewidth": 0,
              "ticks": ""
             }
            },
            "type": "scattercarpet"
           }
          ],
          "scattergeo": [
           {
            "marker": {
             "colorbar": {
              "outlinewidth": 0,
              "ticks": ""
             }
            },
            "type": "scattergeo"
           }
          ],
          "scattergl": [
           {
            "marker": {
             "colorbar": {
              "outlinewidth": 0,
              "ticks": ""
             }
            },
            "type": "scattergl"
           }
          ],
          "scattermapbox": [
           {
            "marker": {
             "colorbar": {
              "outlinewidth": 0,
              "ticks": ""
             }
            },
            "type": "scattermapbox"
           }
          ],
          "scatterpolar": [
           {
            "marker": {
             "colorbar": {
              "outlinewidth": 0,
              "ticks": ""
             }
            },
            "type": "scatterpolar"
           }
          ],
          "scatterpolargl": [
           {
            "marker": {
             "colorbar": {
              "outlinewidth": 0,
              "ticks": ""
             }
            },
            "type": "scatterpolargl"
           }
          ],
          "scatterternary": [
           {
            "marker": {
             "colorbar": {
              "outlinewidth": 0,
              "ticks": ""
             }
            },
            "type": "scatterternary"
           }
          ],
          "surface": [
           {
            "colorbar": {
             "outlinewidth": 0,
             "ticks": ""
            },
            "colorscale": [
             [
              0,
              "#0d0887"
             ],
             [
              0.1111111111111111,
              "#46039f"
             ],
             [
              0.2222222222222222,
              "#7201a8"
             ],
             [
              0.3333333333333333,
              "#9c179e"
             ],
             [
              0.4444444444444444,
              "#bd3786"
             ],
             [
              0.5555555555555556,
              "#d8576b"
             ],
             [
              0.6666666666666666,
              "#ed7953"
             ],
             [
              0.7777777777777778,
              "#fb9f3a"
             ],
             [
              0.8888888888888888,
              "#fdca26"
             ],
             [
              1,
              "#f0f921"
             ]
            ],
            "type": "surface"
           }
          ],
          "table": [
           {
            "cells": {
             "fill": {
              "color": "#EBF0F8"
             },
             "line": {
              "color": "white"
             }
            },
            "header": {
             "fill": {
              "color": "#C8D4E3"
             },
             "line": {
              "color": "white"
             }
            },
            "type": "table"
           }
          ]
         },
         "layout": {
          "annotationdefaults": {
           "arrowcolor": "#2a3f5f",
           "arrowhead": 0,
           "arrowwidth": 1
          },
          "autotypenumbers": "strict",
          "coloraxis": {
           "colorbar": {
            "outlinewidth": 0,
            "ticks": ""
           }
          },
          "colorscale": {
           "diverging": [
            [
             0,
             "#8e0152"
            ],
            [
             0.1,
             "#c51b7d"
            ],
            [
             0.2,
             "#de77ae"
            ],
            [
             0.3,
             "#f1b6da"
            ],
            [
             0.4,
             "#fde0ef"
            ],
            [
             0.5,
             "#f7f7f7"
            ],
            [
             0.6,
             "#e6f5d0"
            ],
            [
             0.7,
             "#b8e186"
            ],
            [
             0.8,
             "#7fbc41"
            ],
            [
             0.9,
             "#4d9221"
            ],
            [
             1,
             "#276419"
            ]
           ],
           "sequential": [
            [
             0,
             "#0d0887"
            ],
            [
             0.1111111111111111,
             "#46039f"
            ],
            [
             0.2222222222222222,
             "#7201a8"
            ],
            [
             0.3333333333333333,
             "#9c179e"
            ],
            [
             0.4444444444444444,
             "#bd3786"
            ],
            [
             0.5555555555555556,
             "#d8576b"
            ],
            [
             0.6666666666666666,
             "#ed7953"
            ],
            [
             0.7777777777777778,
             "#fb9f3a"
            ],
            [
             0.8888888888888888,
             "#fdca26"
            ],
            [
             1,
             "#f0f921"
            ]
           ],
           "sequentialminus": [
            [
             0,
             "#0d0887"
            ],
            [
             0.1111111111111111,
             "#46039f"
            ],
            [
             0.2222222222222222,
             "#7201a8"
            ],
            [
             0.3333333333333333,
             "#9c179e"
            ],
            [
             0.4444444444444444,
             "#bd3786"
            ],
            [
             0.5555555555555556,
             "#d8576b"
            ],
            [
             0.6666666666666666,
             "#ed7953"
            ],
            [
             0.7777777777777778,
             "#fb9f3a"
            ],
            [
             0.8888888888888888,
             "#fdca26"
            ],
            [
             1,
             "#f0f921"
            ]
           ]
          },
          "colorway": [
           "#636efa",
           "#EF553B",
           "#00cc96",
           "#ab63fa",
           "#FFA15A",
           "#19d3f3",
           "#FF6692",
           "#B6E880",
           "#FF97FF",
           "#FECB52"
          ],
          "font": {
           "color": "#2a3f5f"
          },
          "geo": {
           "bgcolor": "white",
           "lakecolor": "white",
           "landcolor": "#E5ECF6",
           "showlakes": true,
           "showland": true,
           "subunitcolor": "white"
          },
          "hoverlabel": {
           "align": "left"
          },
          "hovermode": "closest",
          "mapbox": {
           "style": "light"
          },
          "paper_bgcolor": "white",
          "plot_bgcolor": "#E5ECF6",
          "polar": {
           "angularaxis": {
            "gridcolor": "white",
            "linecolor": "white",
            "ticks": ""
           },
           "bgcolor": "#E5ECF6",
           "radialaxis": {
            "gridcolor": "white",
            "linecolor": "white",
            "ticks": ""
           }
          },
          "scene": {
           "xaxis": {
            "backgroundcolor": "#E5ECF6",
            "gridcolor": "white",
            "gridwidth": 2,
            "linecolor": "white",
            "showbackground": true,
            "ticks": "",
            "zerolinecolor": "white"
           },
           "yaxis": {
            "backgroundcolor": "#E5ECF6",
            "gridcolor": "white",
            "gridwidth": 2,
            "linecolor": "white",
            "showbackground": true,
            "ticks": "",
            "zerolinecolor": "white"
           },
           "zaxis": {
            "backgroundcolor": "#E5ECF6",
            "gridcolor": "white",
            "gridwidth": 2,
            "linecolor": "white",
            "showbackground": true,
            "ticks": "",
            "zerolinecolor": "white"
           }
          },
          "shapedefaults": {
           "line": {
            "color": "#2a3f5f"
           }
          },
          "ternary": {
           "aaxis": {
            "gridcolor": "white",
            "linecolor": "white",
            "ticks": ""
           },
           "baxis": {
            "gridcolor": "white",
            "linecolor": "white",
            "ticks": ""
           },
           "bgcolor": "#E5ECF6",
           "caxis": {
            "gridcolor": "white",
            "linecolor": "white",
            "ticks": ""
           }
          },
          "title": {
           "x": 0.05
          },
          "xaxis": {
           "automargin": true,
           "gridcolor": "white",
           "linecolor": "white",
           "ticks": "",
           "title": {
            "standoff": 15
           },
           "zerolinecolor": "white",
           "zerolinewidth": 2
          },
          "yaxis": {
           "automargin": true,
           "gridcolor": "white",
           "linecolor": "white",
           "ticks": "",
           "title": {
            "standoff": 15
           },
           "zerolinecolor": "white",
           "zerolinewidth": 2
          }
         }
        }
       }
      },
      "text/html": [
       "<div>                            <div id=\"3d389bf6-bfe0-43be-b618-38c8658dcd1e\" class=\"plotly-graph-div\" style=\"height:525px; width:100%;\"></div>            <script type=\"text/javascript\">                require([\"plotly\"], function(Plotly) {                    window.PLOTLYENV=window.PLOTLYENV || {};                                    if (document.getElementById(\"3d389bf6-bfe0-43be-b618-38c8658dcd1e\")) {                    Plotly.newPlot(                        \"3d389bf6-bfe0-43be-b618-38c8658dcd1e\",                        [{\"mode\": \"markers\", \"type\": \"scatter\", \"x\": [0.6591328940904607, 0.33441655099146717, 0.20734689949660567, 0.3129745411156074, 0.9809364139644504, 0.7821054093289095, 0.8518356104398249, 0.9247787518991204, 0.4910033064350857, 0.6280317642478073, 0.5354716759061308, 0.18893820152247986, 0.9779332912284643, 0.7761137905559611, 0.5134725010888473, 0.060896103752855035, 0.16990210047328802, 0.617280706971267, 0.208905356464137, 0.8328308384826693, 0.351659937474433, 0.40625238911047545, 0.27953080393537544, 0.29790558208617857, 0.7273753632293609, 0.5403179031632648, 0.6391914215277313, 0.16442181764922992, 0.542902711545042, 0.4661993843777591, 0.8492837802095453, 0.048498289405214945, 0.5050092068529687, 0.6363578829923444, 0.0731274424547439, 0.971261094745081, 0.868654840160165, 0.7249548855169694, 0.2737701229705167, 0.9096998676244811, 0.6467013859871967, 0.5554529324247823, 0.0567978427587148, 0.21742426313433427, 0.6110119205682725, 0.48878643287043144, 0.03877195056403171, 0.5878861338240807, 0.7805442894642479, 0.7602758034274067, 0.22958310784361113, 0.3995338992149623, 0.873736384046588, 0.4180998667439543, 0.4419094989871065, 0.34452476478174276, 0.1682532312169256, 0.11888212942191356, 0.7392684826042457, 0.4024714192027238, 0.8785123846526356, 0.9426393504336255, 0.09829795715137335, 0.6152902219321074, 0.018288974979773998, 0.09284579792929526, 0.5689118265435035, 0.7763760701470241, 0.833115109940913, 0.3270481266152029, 0.30261369341389743, 0.8165521238489754, 0.12891773032629383, 0.6021600308924622, 0.0011301354361373805, 0.4984473325475066, 0.9617571822529245, 0.07097736109029118, 0.17485743308069168, 0.054791028657245056, 0.7691788539977287, 0.5738906661073478, 0.5813875433622998, 0.5682398897201405, 0.3287296703228748, 0.1305532627831154, 0.7452006493279072, 0.8433837034668014, 0.45192259849293226, 0.7765003476046838, 0.8625845078148872, 0.720480449019939, 0.03856183618050302, 0.02553359994195914, 0.9375471876200937, 0.7246090798950218, 0.5108665005784864, 0.8159672574760017, 0.22843671487485573, 0.5905646219914006], \"y\": [0.22038483945715215, 0.6428429368542267, 0.17212346106217447, 0.2727731900869872, 0.4789334328583571, 0.07130356539526561, 0.15261538689096565, 0.38182421269638267, 0.7045731953410682, 0.606805121147668, 0.31491784153231306, 0.17826932848992905, 0.06960069094819488, 0.8412500644670552, 0.08115712042114698, 0.051191920692502446, 0.6657412872467094, 0.6954709747978542, 0.2892812451296013, 0.5251770297965493, 0.41046578166813874, 0.366017245519511, 0.8378232254714143, 0.3527550624612966, 0.07780426047603584, 0.9341211350617022, 0.7508214922748087, 0.8797101503098951, 0.8934592995409745, 0.37952488818129115, 0.8045206191253803, 0.8739088545944043, 0.3580935771434608, 0.3895088060541567, 0.41001747168997027, 0.005354187985164738, 0.5242095798553921, 0.7203848467939261, 0.22676764144563744, 0.8017801490479853, 0.5640415397759988, 0.06972777155230625, 0.8926778793843534, 0.9528660493882822, 0.2900433838218204, 0.9743864769661261, 0.6122358311783578, 0.3015082765444246, 0.022636955351067023, 0.04780877766492442, 0.01717507703171728, 0.5792002311552152, 0.9467391901682114, 0.7328522643824485, 0.3845568412190419, 0.8019286872330494, 0.6007963451130602, 0.6215301488230887, 0.5272231221444984, 0.03832259920600789, 0.31078738405936956, 0.2941081682174671, 0.4742033449259557, 0.9320061385137076, 0.262331535223128, 0.45145264560228304, 0.22142280157935856, 0.43203332127556104, 0.7408656718829522, 0.9560339138396504, 0.9500416349554995, 0.10849754773017461, 0.17137370899449322, 0.5387988983571939, 0.41321267496373015, 0.015039580722882473, 0.46296650709366416, 0.37465050264799693, 0.843101925642872, 0.8958750193419533, 0.8472964635057642, 0.5384538606856644, 0.43303971223229776, 0.7068328406859867, 0.4090338583874348, 0.9671097924056729, 0.8875608277303032, 0.033686823649634046, 0.9520546371804403, 0.631880136133867, 0.8189014637048389, 0.7157778916726607, 0.04681049135314219, 0.22683556162137375, 0.6681453884826861, 0.5199877363389972, 0.23042111956478017, 0.14377587915511392, 0.5264522429638823, 0.2583132675058407]}],                        {\"template\": {\"data\": {\"bar\": [{\"error_x\": {\"color\": \"#2a3f5f\"}, \"error_y\": {\"color\": \"#2a3f5f\"}, \"marker\": {\"line\": {\"color\": \"#E5ECF6\", \"width\": 0.5}}, \"type\": \"bar\"}], \"barpolar\": [{\"marker\": {\"line\": {\"color\": \"#E5ECF6\", \"width\": 0.5}}, \"type\": \"barpolar\"}], \"carpet\": [{\"aaxis\": {\"endlinecolor\": \"#2a3f5f\", \"gridcolor\": \"white\", \"linecolor\": \"white\", \"minorgridcolor\": \"white\", \"startlinecolor\": \"#2a3f5f\"}, \"baxis\": {\"endlinecolor\": \"#2a3f5f\", \"gridcolor\": \"white\", \"linecolor\": \"white\", \"minorgridcolor\": \"white\", \"startlinecolor\": \"#2a3f5f\"}, \"type\": \"carpet\"}], \"choropleth\": [{\"colorbar\": {\"outlinewidth\": 0, \"ticks\": \"\"}, \"type\": \"choropleth\"}], \"contour\": [{\"colorbar\": {\"outlinewidth\": 0, \"ticks\": \"\"}, \"colorscale\": [[0.0, \"#0d0887\"], [0.1111111111111111, \"#46039f\"], [0.2222222222222222, \"#7201a8\"], [0.3333333333333333, \"#9c179e\"], [0.4444444444444444, \"#bd3786\"], [0.5555555555555556, \"#d8576b\"], [0.6666666666666666, \"#ed7953\"], [0.7777777777777778, \"#fb9f3a\"], [0.8888888888888888, \"#fdca26\"], [1.0, \"#f0f921\"]], \"type\": \"contour\"}], \"contourcarpet\": [{\"colorbar\": {\"outlinewidth\": 0, \"ticks\": \"\"}, \"type\": \"contourcarpet\"}], \"heatmap\": [{\"colorbar\": {\"outlinewidth\": 0, \"ticks\": \"\"}, \"colorscale\": [[0.0, \"#0d0887\"], [0.1111111111111111, \"#46039f\"], [0.2222222222222222, \"#7201a8\"], [0.3333333333333333, \"#9c179e\"], [0.4444444444444444, \"#bd3786\"], [0.5555555555555556, \"#d8576b\"], [0.6666666666666666, \"#ed7953\"], [0.7777777777777778, \"#fb9f3a\"], [0.8888888888888888, \"#fdca26\"], [1.0, \"#f0f921\"]], \"type\": \"heatmap\"}], \"heatmapgl\": [{\"colorbar\": {\"outlinewidth\": 0, \"ticks\": \"\"}, \"colorscale\": [[0.0, \"#0d0887\"], [0.1111111111111111, \"#46039f\"], [0.2222222222222222, \"#7201a8\"], [0.3333333333333333, \"#9c179e\"], [0.4444444444444444, \"#bd3786\"], [0.5555555555555556, \"#d8576b\"], [0.6666666666666666, \"#ed7953\"], [0.7777777777777778, \"#fb9f3a\"], [0.8888888888888888, \"#fdca26\"], [1.0, \"#f0f921\"]], \"type\": \"heatmapgl\"}], \"histogram\": [{\"marker\": {\"colorbar\": {\"outlinewidth\": 0, \"ticks\": \"\"}}, \"type\": \"histogram\"}], \"histogram2d\": [{\"colorbar\": {\"outlinewidth\": 0, \"ticks\": \"\"}, \"colorscale\": [[0.0, \"#0d0887\"], [0.1111111111111111, \"#46039f\"], [0.2222222222222222, \"#7201a8\"], [0.3333333333333333, \"#9c179e\"], [0.4444444444444444, \"#bd3786\"], [0.5555555555555556, \"#d8576b\"], [0.6666666666666666, \"#ed7953\"], [0.7777777777777778, \"#fb9f3a\"], [0.8888888888888888, \"#fdca26\"], [1.0, \"#f0f921\"]], \"type\": \"histogram2d\"}], \"histogram2dcontour\": [{\"colorbar\": {\"outlinewidth\": 0, \"ticks\": \"\"}, \"colorscale\": [[0.0, \"#0d0887\"], [0.1111111111111111, \"#46039f\"], [0.2222222222222222, \"#7201a8\"], [0.3333333333333333, \"#9c179e\"], [0.4444444444444444, \"#bd3786\"], [0.5555555555555556, \"#d8576b\"], [0.6666666666666666, \"#ed7953\"], [0.7777777777777778, \"#fb9f3a\"], [0.8888888888888888, \"#fdca26\"], [1.0, \"#f0f921\"]], \"type\": \"histogram2dcontour\"}], \"mesh3d\": [{\"colorbar\": {\"outlinewidth\": 0, \"ticks\": \"\"}, \"type\": \"mesh3d\"}], \"parcoords\": [{\"line\": {\"colorbar\": {\"outlinewidth\": 0, \"ticks\": \"\"}}, \"type\": \"parcoords\"}], \"pie\": [{\"automargin\": true, \"type\": \"pie\"}], \"scatter\": [{\"marker\": {\"colorbar\": {\"outlinewidth\": 0, \"ticks\": \"\"}}, \"type\": \"scatter\"}], \"scatter3d\": [{\"line\": {\"colorbar\": {\"outlinewidth\": 0, \"ticks\": \"\"}}, \"marker\": {\"colorbar\": {\"outlinewidth\": 0, \"ticks\": \"\"}}, \"type\": \"scatter3d\"}], \"scattercarpet\": [{\"marker\": {\"colorbar\": {\"outlinewidth\": 0, \"ticks\": \"\"}}, \"type\": \"scattercarpet\"}], \"scattergeo\": [{\"marker\": {\"colorbar\": {\"outlinewidth\": 0, \"ticks\": \"\"}}, \"type\": \"scattergeo\"}], \"scattergl\": [{\"marker\": {\"colorbar\": {\"outlinewidth\": 0, \"ticks\": \"\"}}, \"type\": \"scattergl\"}], \"scattermapbox\": [{\"marker\": {\"colorbar\": {\"outlinewidth\": 0, \"ticks\": \"\"}}, \"type\": \"scattermapbox\"}], \"scatterpolar\": [{\"marker\": {\"colorbar\": {\"outlinewidth\": 0, \"ticks\": \"\"}}, \"type\": \"scatterpolar\"}], \"scatterpolargl\": [{\"marker\": {\"colorbar\": {\"outlinewidth\": 0, \"ticks\": \"\"}}, \"type\": \"scatterpolargl\"}], \"scatterternary\": [{\"marker\": {\"colorbar\": {\"outlinewidth\": 0, \"ticks\": \"\"}}, \"type\": \"scatterternary\"}], \"surface\": [{\"colorbar\": {\"outlinewidth\": 0, \"ticks\": \"\"}, \"colorscale\": [[0.0, \"#0d0887\"], [0.1111111111111111, \"#46039f\"], [0.2222222222222222, \"#7201a8\"], [0.3333333333333333, \"#9c179e\"], [0.4444444444444444, \"#bd3786\"], [0.5555555555555556, \"#d8576b\"], [0.6666666666666666, \"#ed7953\"], [0.7777777777777778, \"#fb9f3a\"], [0.8888888888888888, \"#fdca26\"], [1.0, \"#f0f921\"]], \"type\": \"surface\"}], \"table\": [{\"cells\": {\"fill\": {\"color\": \"#EBF0F8\"}, \"line\": {\"color\": \"white\"}}, \"header\": {\"fill\": {\"color\": \"#C8D4E3\"}, \"line\": {\"color\": \"white\"}}, \"type\": \"table\"}]}, \"layout\": {\"annotationdefaults\": {\"arrowcolor\": \"#2a3f5f\", \"arrowhead\": 0, \"arrowwidth\": 1}, \"autotypenumbers\": \"strict\", \"coloraxis\": {\"colorbar\": {\"outlinewidth\": 0, \"ticks\": \"\"}}, \"colorscale\": {\"diverging\": [[0, \"#8e0152\"], [0.1, \"#c51b7d\"], [0.2, \"#de77ae\"], [0.3, \"#f1b6da\"], [0.4, \"#fde0ef\"], [0.5, \"#f7f7f7\"], [0.6, \"#e6f5d0\"], [0.7, \"#b8e186\"], [0.8, \"#7fbc41\"], [0.9, \"#4d9221\"], [1, \"#276419\"]], \"sequential\": [[0.0, \"#0d0887\"], [0.1111111111111111, \"#46039f\"], [0.2222222222222222, \"#7201a8\"], [0.3333333333333333, \"#9c179e\"], [0.4444444444444444, \"#bd3786\"], [0.5555555555555556, \"#d8576b\"], [0.6666666666666666, \"#ed7953\"], [0.7777777777777778, \"#fb9f3a\"], [0.8888888888888888, \"#fdca26\"], [1.0, \"#f0f921\"]], \"sequentialminus\": [[0.0, \"#0d0887\"], [0.1111111111111111, \"#46039f\"], [0.2222222222222222, \"#7201a8\"], [0.3333333333333333, \"#9c179e\"], [0.4444444444444444, \"#bd3786\"], [0.5555555555555556, \"#d8576b\"], [0.6666666666666666, \"#ed7953\"], [0.7777777777777778, \"#fb9f3a\"], [0.8888888888888888, \"#fdca26\"], [1.0, \"#f0f921\"]]}, \"colorway\": [\"#636efa\", \"#EF553B\", \"#00cc96\", \"#ab63fa\", \"#FFA15A\", \"#19d3f3\", \"#FF6692\", \"#B6E880\", \"#FF97FF\", \"#FECB52\"], \"font\": {\"color\": \"#2a3f5f\"}, \"geo\": {\"bgcolor\": \"white\", \"lakecolor\": \"white\", \"landcolor\": \"#E5ECF6\", \"showlakes\": true, \"showland\": true, \"subunitcolor\": \"white\"}, \"hoverlabel\": {\"align\": \"left\"}, \"hovermode\": \"closest\", \"mapbox\": {\"style\": \"light\"}, \"paper_bgcolor\": \"white\", \"plot_bgcolor\": \"#E5ECF6\", \"polar\": {\"angularaxis\": {\"gridcolor\": \"white\", \"linecolor\": \"white\", \"ticks\": \"\"}, \"bgcolor\": \"#E5ECF6\", \"radialaxis\": {\"gridcolor\": \"white\", \"linecolor\": \"white\", \"ticks\": \"\"}}, \"scene\": {\"xaxis\": {\"backgroundcolor\": \"#E5ECF6\", \"gridcolor\": \"white\", \"gridwidth\": 2, \"linecolor\": \"white\", \"showbackground\": true, \"ticks\": \"\", \"zerolinecolor\": \"white\"}, \"yaxis\": {\"backgroundcolor\": \"#E5ECF6\", \"gridcolor\": \"white\", \"gridwidth\": 2, \"linecolor\": \"white\", \"showbackground\": true, \"ticks\": \"\", \"zerolinecolor\": \"white\"}, \"zaxis\": {\"backgroundcolor\": \"#E5ECF6\", \"gridcolor\": \"white\", \"gridwidth\": 2, \"linecolor\": \"white\", \"showbackground\": true, \"ticks\": \"\", \"zerolinecolor\": \"white\"}}, \"shapedefaults\": {\"line\": {\"color\": \"#2a3f5f\"}}, \"ternary\": {\"aaxis\": {\"gridcolor\": \"white\", \"linecolor\": \"white\", \"ticks\": \"\"}, \"baxis\": {\"gridcolor\": \"white\", \"linecolor\": \"white\", \"ticks\": \"\"}, \"bgcolor\": \"#E5ECF6\", \"caxis\": {\"gridcolor\": \"white\", \"linecolor\": \"white\", \"ticks\": \"\"}}, \"title\": {\"x\": 0.05}, \"xaxis\": {\"automargin\": true, \"gridcolor\": \"white\", \"linecolor\": \"white\", \"ticks\": \"\", \"title\": {\"standoff\": 15}, \"zerolinecolor\": \"white\", \"zerolinewidth\": 2}, \"yaxis\": {\"automargin\": true, \"gridcolor\": \"white\", \"linecolor\": \"white\", \"ticks\": \"\", \"title\": {\"standoff\": 15}, \"zerolinecolor\": \"white\", \"zerolinewidth\": 2}}}},                        {\"responsive\": true}                    ).then(function(){\n",
       "                            \n",
       "var gd = document.getElementById('3d389bf6-bfe0-43be-b618-38c8658dcd1e');\n",
       "var x = new MutationObserver(function (mutations, observer) {{\n",
       "        var display = window.getComputedStyle(gd).display;\n",
       "        if (!display || display === 'none') {{\n",
       "            console.log([gd, 'removed!']);\n",
       "            Plotly.purge(gd);\n",
       "            observer.disconnect();\n",
       "        }}\n",
       "}});\n",
       "\n",
       "// Listen for the removal of the full notebook cells\n",
       "var notebookContainer = gd.closest('#notebook-container');\n",
       "if (notebookContainer) {{\n",
       "    x.observe(notebookContainer, {childList: true});\n",
       "}}\n",
       "\n",
       "// Listen for the clearing of the current output cell\n",
       "var outputEl = gd.closest('.output');\n",
       "if (outputEl) {{\n",
       "    x.observe(outputEl, {childList: true});\n",
       "}}\n",
       "\n",
       "                        })                };                });            </script>        </div>"
      ]
     },
     "metadata": {},
     "output_type": "display_data"
    }
   ],
   "source": [
    "data = [trace]\n",
    "iplot(data)"
   ]
  },
  {
   "cell_type": "code",
   "execution_count": 9,
   "metadata": {},
   "outputs": [
    {
     "data": {
      "application/vnd.plotly.v1+json": {
       "config": {
        "linkText": "Export to plot.ly",
        "plotlyServerURL": "https://plot.ly",
        "showLink": false
       },
       "data": [
        {
         "hoverinfo": "label+percent",
         "labels": [
          "Rent",
          "Food",
          "Bills",
          "Miscellaneous"
         ],
         "marker": {
          "colors": [
           "#d32c58",
           "#f9b1ee",
           "#b7f9b1",
           "#b1f5f9"
          ],
          "line": {
           "color": "#000000",
           "width": 3
          }
         },
         "textfont": {
          "size": 25
         },
         "textinfo": "value",
         "type": "pie",
         "values": [
          1000,
          518,
          331,
          277
         ]
        }
       ],
       "layout": {
        "template": {
         "data": {
          "bar": [
           {
            "error_x": {
             "color": "#2a3f5f"
            },
            "error_y": {
             "color": "#2a3f5f"
            },
            "marker": {
             "line": {
              "color": "#E5ECF6",
              "width": 0.5
             }
            },
            "type": "bar"
           }
          ],
          "barpolar": [
           {
            "marker": {
             "line": {
              "color": "#E5ECF6",
              "width": 0.5
             }
            },
            "type": "barpolar"
           }
          ],
          "carpet": [
           {
            "aaxis": {
             "endlinecolor": "#2a3f5f",
             "gridcolor": "white",
             "linecolor": "white",
             "minorgridcolor": "white",
             "startlinecolor": "#2a3f5f"
            },
            "baxis": {
             "endlinecolor": "#2a3f5f",
             "gridcolor": "white",
             "linecolor": "white",
             "minorgridcolor": "white",
             "startlinecolor": "#2a3f5f"
            },
            "type": "carpet"
           }
          ],
          "choropleth": [
           {
            "colorbar": {
             "outlinewidth": 0,
             "ticks": ""
            },
            "type": "choropleth"
           }
          ],
          "contour": [
           {
            "colorbar": {
             "outlinewidth": 0,
             "ticks": ""
            },
            "colorscale": [
             [
              0,
              "#0d0887"
             ],
             [
              0.1111111111111111,
              "#46039f"
             ],
             [
              0.2222222222222222,
              "#7201a8"
             ],
             [
              0.3333333333333333,
              "#9c179e"
             ],
             [
              0.4444444444444444,
              "#bd3786"
             ],
             [
              0.5555555555555556,
              "#d8576b"
             ],
             [
              0.6666666666666666,
              "#ed7953"
             ],
             [
              0.7777777777777778,
              "#fb9f3a"
             ],
             [
              0.8888888888888888,
              "#fdca26"
             ],
             [
              1,
              "#f0f921"
             ]
            ],
            "type": "contour"
           }
          ],
          "contourcarpet": [
           {
            "colorbar": {
             "outlinewidth": 0,
             "ticks": ""
            },
            "type": "contourcarpet"
           }
          ],
          "heatmap": [
           {
            "colorbar": {
             "outlinewidth": 0,
             "ticks": ""
            },
            "colorscale": [
             [
              0,
              "#0d0887"
             ],
             [
              0.1111111111111111,
              "#46039f"
             ],
             [
              0.2222222222222222,
              "#7201a8"
             ],
             [
              0.3333333333333333,
              "#9c179e"
             ],
             [
              0.4444444444444444,
              "#bd3786"
             ],
             [
              0.5555555555555556,
              "#d8576b"
             ],
             [
              0.6666666666666666,
              "#ed7953"
             ],
             [
              0.7777777777777778,
              "#fb9f3a"
             ],
             [
              0.8888888888888888,
              "#fdca26"
             ],
             [
              1,
              "#f0f921"
             ]
            ],
            "type": "heatmap"
           }
          ],
          "heatmapgl": [
           {
            "colorbar": {
             "outlinewidth": 0,
             "ticks": ""
            },
            "colorscale": [
             [
              0,
              "#0d0887"
             ],
             [
              0.1111111111111111,
              "#46039f"
             ],
             [
              0.2222222222222222,
              "#7201a8"
             ],
             [
              0.3333333333333333,
              "#9c179e"
             ],
             [
              0.4444444444444444,
              "#bd3786"
             ],
             [
              0.5555555555555556,
              "#d8576b"
             ],
             [
              0.6666666666666666,
              "#ed7953"
             ],
             [
              0.7777777777777778,
              "#fb9f3a"
             ],
             [
              0.8888888888888888,
              "#fdca26"
             ],
             [
              1,
              "#f0f921"
             ]
            ],
            "type": "heatmapgl"
           }
          ],
          "histogram": [
           {
            "marker": {
             "colorbar": {
              "outlinewidth": 0,
              "ticks": ""
             }
            },
            "type": "histogram"
           }
          ],
          "histogram2d": [
           {
            "colorbar": {
             "outlinewidth": 0,
             "ticks": ""
            },
            "colorscale": [
             [
              0,
              "#0d0887"
             ],
             [
              0.1111111111111111,
              "#46039f"
             ],
             [
              0.2222222222222222,
              "#7201a8"
             ],
             [
              0.3333333333333333,
              "#9c179e"
             ],
             [
              0.4444444444444444,
              "#bd3786"
             ],
             [
              0.5555555555555556,
              "#d8576b"
             ],
             [
              0.6666666666666666,
              "#ed7953"
             ],
             [
              0.7777777777777778,
              "#fb9f3a"
             ],
             [
              0.8888888888888888,
              "#fdca26"
             ],
             [
              1,
              "#f0f921"
             ]
            ],
            "type": "histogram2d"
           }
          ],
          "histogram2dcontour": [
           {
            "colorbar": {
             "outlinewidth": 0,
             "ticks": ""
            },
            "colorscale": [
             [
              0,
              "#0d0887"
             ],
             [
              0.1111111111111111,
              "#46039f"
             ],
             [
              0.2222222222222222,
              "#7201a8"
             ],
             [
              0.3333333333333333,
              "#9c179e"
             ],
             [
              0.4444444444444444,
              "#bd3786"
             ],
             [
              0.5555555555555556,
              "#d8576b"
             ],
             [
              0.6666666666666666,
              "#ed7953"
             ],
             [
              0.7777777777777778,
              "#fb9f3a"
             ],
             [
              0.8888888888888888,
              "#fdca26"
             ],
             [
              1,
              "#f0f921"
             ]
            ],
            "type": "histogram2dcontour"
           }
          ],
          "mesh3d": [
           {
            "colorbar": {
             "outlinewidth": 0,
             "ticks": ""
            },
            "type": "mesh3d"
           }
          ],
          "parcoords": [
           {
            "line": {
             "colorbar": {
              "outlinewidth": 0,
              "ticks": ""
             }
            },
            "type": "parcoords"
           }
          ],
          "pie": [
           {
            "automargin": true,
            "type": "pie"
           }
          ],
          "scatter": [
           {
            "marker": {
             "colorbar": {
              "outlinewidth": 0,
              "ticks": ""
             }
            },
            "type": "scatter"
           }
          ],
          "scatter3d": [
           {
            "line": {
             "colorbar": {
              "outlinewidth": 0,
              "ticks": ""
             }
            },
            "marker": {
             "colorbar": {
              "outlinewidth": 0,
              "ticks": ""
             }
            },
            "type": "scatter3d"
           }
          ],
          "scattercarpet": [
           {
            "marker": {
             "colorbar": {
              "outlinewidth": 0,
              "ticks": ""
             }
            },
            "type": "scattercarpet"
           }
          ],
          "scattergeo": [
           {
            "marker": {
             "colorbar": {
              "outlinewidth": 0,
              "ticks": ""
             }
            },
            "type": "scattergeo"
           }
          ],
          "scattergl": [
           {
            "marker": {
             "colorbar": {
              "outlinewidth": 0,
              "ticks": ""
             }
            },
            "type": "scattergl"
           }
          ],
          "scattermapbox": [
           {
            "marker": {
             "colorbar": {
              "outlinewidth": 0,
              "ticks": ""
             }
            },
            "type": "scattermapbox"
           }
          ],
          "scatterpolar": [
           {
            "marker": {
             "colorbar": {
              "outlinewidth": 0,
              "ticks": ""
             }
            },
            "type": "scatterpolar"
           }
          ],
          "scatterpolargl": [
           {
            "marker": {
             "colorbar": {
              "outlinewidth": 0,
              "ticks": ""
             }
            },
            "type": "scatterpolargl"
           }
          ],
          "scatterternary": [
           {
            "marker": {
             "colorbar": {
              "outlinewidth": 0,
              "ticks": ""
             }
            },
            "type": "scatterternary"
           }
          ],
          "surface": [
           {
            "colorbar": {
             "outlinewidth": 0,
             "ticks": ""
            },
            "colorscale": [
             [
              0,
              "#0d0887"
             ],
             [
              0.1111111111111111,
              "#46039f"
             ],
             [
              0.2222222222222222,
              "#7201a8"
             ],
             [
              0.3333333333333333,
              "#9c179e"
             ],
             [
              0.4444444444444444,
              "#bd3786"
             ],
             [
              0.5555555555555556,
              "#d8576b"
             ],
             [
              0.6666666666666666,
              "#ed7953"
             ],
             [
              0.7777777777777778,
              "#fb9f3a"
             ],
             [
              0.8888888888888888,
              "#fdca26"
             ],
             [
              1,
              "#f0f921"
             ]
            ],
            "type": "surface"
           }
          ],
          "table": [
           {
            "cells": {
             "fill": {
              "color": "#EBF0F8"
             },
             "line": {
              "color": "white"
             }
            },
            "header": {
             "fill": {
              "color": "#C8D4E3"
             },
             "line": {
              "color": "white"
             }
            },
            "type": "table"
           }
          ]
         },
         "layout": {
          "annotationdefaults": {
           "arrowcolor": "#2a3f5f",
           "arrowhead": 0,
           "arrowwidth": 1
          },
          "autotypenumbers": "strict",
          "coloraxis": {
           "colorbar": {
            "outlinewidth": 0,
            "ticks": ""
           }
          },
          "colorscale": {
           "diverging": [
            [
             0,
             "#8e0152"
            ],
            [
             0.1,
             "#c51b7d"
            ],
            [
             0.2,
             "#de77ae"
            ],
            [
             0.3,
             "#f1b6da"
            ],
            [
             0.4,
             "#fde0ef"
            ],
            [
             0.5,
             "#f7f7f7"
            ],
            [
             0.6,
             "#e6f5d0"
            ],
            [
             0.7,
             "#b8e186"
            ],
            [
             0.8,
             "#7fbc41"
            ],
            [
             0.9,
             "#4d9221"
            ],
            [
             1,
             "#276419"
            ]
           ],
           "sequential": [
            [
             0,
             "#0d0887"
            ],
            [
             0.1111111111111111,
             "#46039f"
            ],
            [
             0.2222222222222222,
             "#7201a8"
            ],
            [
             0.3333333333333333,
             "#9c179e"
            ],
            [
             0.4444444444444444,
             "#bd3786"
            ],
            [
             0.5555555555555556,
             "#d8576b"
            ],
            [
             0.6666666666666666,
             "#ed7953"
            ],
            [
             0.7777777777777778,
             "#fb9f3a"
            ],
            [
             0.8888888888888888,
             "#fdca26"
            ],
            [
             1,
             "#f0f921"
            ]
           ],
           "sequentialminus": [
            [
             0,
             "#0d0887"
            ],
            [
             0.1111111111111111,
             "#46039f"
            ],
            [
             0.2222222222222222,
             "#7201a8"
            ],
            [
             0.3333333333333333,
             "#9c179e"
            ],
            [
             0.4444444444444444,
             "#bd3786"
            ],
            [
             0.5555555555555556,
             "#d8576b"
            ],
            [
             0.6666666666666666,
             "#ed7953"
            ],
            [
             0.7777777777777778,
             "#fb9f3a"
            ],
            [
             0.8888888888888888,
             "#fdca26"
            ],
            [
             1,
             "#f0f921"
            ]
           ]
          },
          "colorway": [
           "#636efa",
           "#EF553B",
           "#00cc96",
           "#ab63fa",
           "#FFA15A",
           "#19d3f3",
           "#FF6692",
           "#B6E880",
           "#FF97FF",
           "#FECB52"
          ],
          "font": {
           "color": "#2a3f5f"
          },
          "geo": {
           "bgcolor": "white",
           "lakecolor": "white",
           "landcolor": "#E5ECF6",
           "showlakes": true,
           "showland": true,
           "subunitcolor": "white"
          },
          "hoverlabel": {
           "align": "left"
          },
          "hovermode": "closest",
          "mapbox": {
           "style": "light"
          },
          "paper_bgcolor": "white",
          "plot_bgcolor": "#E5ECF6",
          "polar": {
           "angularaxis": {
            "gridcolor": "white",
            "linecolor": "white",
            "ticks": ""
           },
           "bgcolor": "#E5ECF6",
           "radialaxis": {
            "gridcolor": "white",
            "linecolor": "white",
            "ticks": ""
           }
          },
          "scene": {
           "xaxis": {
            "backgroundcolor": "#E5ECF6",
            "gridcolor": "white",
            "gridwidth": 2,
            "linecolor": "white",
            "showbackground": true,
            "ticks": "",
            "zerolinecolor": "white"
           },
           "yaxis": {
            "backgroundcolor": "#E5ECF6",
            "gridcolor": "white",
            "gridwidth": 2,
            "linecolor": "white",
            "showbackground": true,
            "ticks": "",
            "zerolinecolor": "white"
           },
           "zaxis": {
            "backgroundcolor": "#E5ECF6",
            "gridcolor": "white",
            "gridwidth": 2,
            "linecolor": "white",
            "showbackground": true,
            "ticks": "",
            "zerolinecolor": "white"
           }
          },
          "shapedefaults": {
           "line": {
            "color": "#2a3f5f"
           }
          },
          "ternary": {
           "aaxis": {
            "gridcolor": "white",
            "linecolor": "white",
            "ticks": ""
           },
           "baxis": {
            "gridcolor": "white",
            "linecolor": "white",
            "ticks": ""
           },
           "bgcolor": "#E5ECF6",
           "caxis": {
            "gridcolor": "white",
            "linecolor": "white",
            "ticks": ""
           }
          },
          "title": {
           "x": 0.05
          },
          "xaxis": {
           "automargin": true,
           "gridcolor": "white",
           "linecolor": "white",
           "ticks": "",
           "title": {
            "standoff": 15
           },
           "zerolinecolor": "white",
           "zerolinewidth": 2
          },
          "yaxis": {
           "automargin": true,
           "gridcolor": "white",
           "linecolor": "white",
           "ticks": "",
           "title": {
            "standoff": 15
           },
           "zerolinecolor": "white",
           "zerolinewidth": 2
          }
         }
        }
       }
      },
      "text/html": [
       "<div>                            <div id=\"c6829a3f-9ade-4261-8c3d-8be4c45f040f\" class=\"plotly-graph-div\" style=\"height:525px; width:100%;\"></div>            <script type=\"text/javascript\">                require([\"plotly\"], function(Plotly) {                    window.PLOTLYENV=window.PLOTLYENV || {};                                    if (document.getElementById(\"c6829a3f-9ade-4261-8c3d-8be4c45f040f\")) {                    Plotly.newPlot(                        \"c6829a3f-9ade-4261-8c3d-8be4c45f040f\",                        [{\"hoverinfo\": \"label+percent\", \"labels\": [\"Rent\", \"Food\", \"Bills\", \"Miscellaneous\"], \"marker\": {\"colors\": [\"#d32c58\", \"#f9b1ee\", \"#b7f9b1\", \"#b1f5f9\"], \"line\": {\"color\": \"#000000\", \"width\": 3}}, \"textfont\": {\"size\": 25}, \"textinfo\": \"value\", \"type\": \"pie\", \"values\": [1000, 518, 331, 277]}],                        {\"template\": {\"data\": {\"bar\": [{\"error_x\": {\"color\": \"#2a3f5f\"}, \"error_y\": {\"color\": \"#2a3f5f\"}, \"marker\": {\"line\": {\"color\": \"#E5ECF6\", \"width\": 0.5}}, \"type\": \"bar\"}], \"barpolar\": [{\"marker\": {\"line\": {\"color\": \"#E5ECF6\", \"width\": 0.5}}, \"type\": \"barpolar\"}], \"carpet\": [{\"aaxis\": {\"endlinecolor\": \"#2a3f5f\", \"gridcolor\": \"white\", \"linecolor\": \"white\", \"minorgridcolor\": \"white\", \"startlinecolor\": \"#2a3f5f\"}, \"baxis\": {\"endlinecolor\": \"#2a3f5f\", \"gridcolor\": \"white\", \"linecolor\": \"white\", \"minorgridcolor\": \"white\", \"startlinecolor\": \"#2a3f5f\"}, \"type\": \"carpet\"}], \"choropleth\": [{\"colorbar\": {\"outlinewidth\": 0, \"ticks\": \"\"}, \"type\": \"choropleth\"}], \"contour\": [{\"colorbar\": {\"outlinewidth\": 0, \"ticks\": \"\"}, \"colorscale\": [[0.0, \"#0d0887\"], [0.1111111111111111, \"#46039f\"], [0.2222222222222222, \"#7201a8\"], [0.3333333333333333, \"#9c179e\"], [0.4444444444444444, \"#bd3786\"], [0.5555555555555556, \"#d8576b\"], [0.6666666666666666, \"#ed7953\"], [0.7777777777777778, \"#fb9f3a\"], [0.8888888888888888, \"#fdca26\"], [1.0, \"#f0f921\"]], \"type\": \"contour\"}], \"contourcarpet\": [{\"colorbar\": {\"outlinewidth\": 0, \"ticks\": \"\"}, \"type\": \"contourcarpet\"}], \"heatmap\": [{\"colorbar\": {\"outlinewidth\": 0, \"ticks\": \"\"}, \"colorscale\": [[0.0, \"#0d0887\"], [0.1111111111111111, \"#46039f\"], [0.2222222222222222, \"#7201a8\"], [0.3333333333333333, \"#9c179e\"], [0.4444444444444444, \"#bd3786\"], [0.5555555555555556, \"#d8576b\"], [0.6666666666666666, \"#ed7953\"], [0.7777777777777778, \"#fb9f3a\"], [0.8888888888888888, \"#fdca26\"], [1.0, \"#f0f921\"]], \"type\": \"heatmap\"}], \"heatmapgl\": [{\"colorbar\": {\"outlinewidth\": 0, \"ticks\": \"\"}, \"colorscale\": [[0.0, \"#0d0887\"], [0.1111111111111111, \"#46039f\"], [0.2222222222222222, \"#7201a8\"], [0.3333333333333333, \"#9c179e\"], [0.4444444444444444, \"#bd3786\"], [0.5555555555555556, \"#d8576b\"], [0.6666666666666666, \"#ed7953\"], [0.7777777777777778, \"#fb9f3a\"], [0.8888888888888888, \"#fdca26\"], [1.0, \"#f0f921\"]], \"type\": \"heatmapgl\"}], \"histogram\": [{\"marker\": {\"colorbar\": {\"outlinewidth\": 0, \"ticks\": \"\"}}, \"type\": \"histogram\"}], \"histogram2d\": [{\"colorbar\": {\"outlinewidth\": 0, \"ticks\": \"\"}, \"colorscale\": [[0.0, \"#0d0887\"], [0.1111111111111111, \"#46039f\"], [0.2222222222222222, \"#7201a8\"], [0.3333333333333333, \"#9c179e\"], [0.4444444444444444, \"#bd3786\"], [0.5555555555555556, \"#d8576b\"], [0.6666666666666666, \"#ed7953\"], [0.7777777777777778, \"#fb9f3a\"], [0.8888888888888888, \"#fdca26\"], [1.0, \"#f0f921\"]], \"type\": \"histogram2d\"}], \"histogram2dcontour\": [{\"colorbar\": {\"outlinewidth\": 0, \"ticks\": \"\"}, \"colorscale\": [[0.0, \"#0d0887\"], [0.1111111111111111, \"#46039f\"], [0.2222222222222222, \"#7201a8\"], [0.3333333333333333, \"#9c179e\"], [0.4444444444444444, \"#bd3786\"], [0.5555555555555556, \"#d8576b\"], [0.6666666666666666, \"#ed7953\"], [0.7777777777777778, \"#fb9f3a\"], [0.8888888888888888, \"#fdca26\"], [1.0, \"#f0f921\"]], \"type\": \"histogram2dcontour\"}], \"mesh3d\": [{\"colorbar\": {\"outlinewidth\": 0, \"ticks\": \"\"}, \"type\": \"mesh3d\"}], \"parcoords\": [{\"line\": {\"colorbar\": {\"outlinewidth\": 0, \"ticks\": \"\"}}, \"type\": \"parcoords\"}], \"pie\": [{\"automargin\": true, \"type\": \"pie\"}], \"scatter\": [{\"marker\": {\"colorbar\": {\"outlinewidth\": 0, \"ticks\": \"\"}}, \"type\": \"scatter\"}], \"scatter3d\": [{\"line\": {\"colorbar\": {\"outlinewidth\": 0, \"ticks\": \"\"}}, \"marker\": {\"colorbar\": {\"outlinewidth\": 0, \"ticks\": \"\"}}, \"type\": \"scatter3d\"}], \"scattercarpet\": [{\"marker\": {\"colorbar\": {\"outlinewidth\": 0, \"ticks\": \"\"}}, \"type\": \"scattercarpet\"}], \"scattergeo\": [{\"marker\": {\"colorbar\": {\"outlinewidth\": 0, \"ticks\": \"\"}}, \"type\": \"scattergeo\"}], \"scattergl\": [{\"marker\": {\"colorbar\": {\"outlinewidth\": 0, \"ticks\": \"\"}}, \"type\": \"scattergl\"}], \"scattermapbox\": [{\"marker\": {\"colorbar\": {\"outlinewidth\": 0, \"ticks\": \"\"}}, \"type\": \"scattermapbox\"}], \"scatterpolar\": [{\"marker\": {\"colorbar\": {\"outlinewidth\": 0, \"ticks\": \"\"}}, \"type\": \"scatterpolar\"}], \"scatterpolargl\": [{\"marker\": {\"colorbar\": {\"outlinewidth\": 0, \"ticks\": \"\"}}, \"type\": \"scatterpolargl\"}], \"scatterternary\": [{\"marker\": {\"colorbar\": {\"outlinewidth\": 0, \"ticks\": \"\"}}, \"type\": \"scatterternary\"}], \"surface\": [{\"colorbar\": {\"outlinewidth\": 0, \"ticks\": \"\"}, \"colorscale\": [[0.0, \"#0d0887\"], [0.1111111111111111, \"#46039f\"], [0.2222222222222222, \"#7201a8\"], [0.3333333333333333, \"#9c179e\"], [0.4444444444444444, \"#bd3786\"], [0.5555555555555556, \"#d8576b\"], [0.6666666666666666, \"#ed7953\"], [0.7777777777777778, \"#fb9f3a\"], [0.8888888888888888, \"#fdca26\"], [1.0, \"#f0f921\"]], \"type\": \"surface\"}], \"table\": [{\"cells\": {\"fill\": {\"color\": \"#EBF0F8\"}, \"line\": {\"color\": \"white\"}}, \"header\": {\"fill\": {\"color\": \"#C8D4E3\"}, \"line\": {\"color\": \"white\"}}, \"type\": \"table\"}]}, \"layout\": {\"annotationdefaults\": {\"arrowcolor\": \"#2a3f5f\", \"arrowhead\": 0, \"arrowwidth\": 1}, \"autotypenumbers\": \"strict\", \"coloraxis\": {\"colorbar\": {\"outlinewidth\": 0, \"ticks\": \"\"}}, \"colorscale\": {\"diverging\": [[0, \"#8e0152\"], [0.1, \"#c51b7d\"], [0.2, \"#de77ae\"], [0.3, \"#f1b6da\"], [0.4, \"#fde0ef\"], [0.5, \"#f7f7f7\"], [0.6, \"#e6f5d0\"], [0.7, \"#b8e186\"], [0.8, \"#7fbc41\"], [0.9, \"#4d9221\"], [1, \"#276419\"]], \"sequential\": [[0.0, \"#0d0887\"], [0.1111111111111111, \"#46039f\"], [0.2222222222222222, \"#7201a8\"], [0.3333333333333333, \"#9c179e\"], [0.4444444444444444, \"#bd3786\"], [0.5555555555555556, \"#d8576b\"], [0.6666666666666666, \"#ed7953\"], [0.7777777777777778, \"#fb9f3a\"], [0.8888888888888888, \"#fdca26\"], [1.0, \"#f0f921\"]], \"sequentialminus\": [[0.0, \"#0d0887\"], [0.1111111111111111, \"#46039f\"], [0.2222222222222222, \"#7201a8\"], [0.3333333333333333, \"#9c179e\"], [0.4444444444444444, \"#bd3786\"], [0.5555555555555556, \"#d8576b\"], [0.6666666666666666, \"#ed7953\"], [0.7777777777777778, \"#fb9f3a\"], [0.8888888888888888, \"#fdca26\"], [1.0, \"#f0f921\"]]}, \"colorway\": [\"#636efa\", \"#EF553B\", \"#00cc96\", \"#ab63fa\", \"#FFA15A\", \"#19d3f3\", \"#FF6692\", \"#B6E880\", \"#FF97FF\", \"#FECB52\"], \"font\": {\"color\": \"#2a3f5f\"}, \"geo\": {\"bgcolor\": \"white\", \"lakecolor\": \"white\", \"landcolor\": \"#E5ECF6\", \"showlakes\": true, \"showland\": true, \"subunitcolor\": \"white\"}, \"hoverlabel\": {\"align\": \"left\"}, \"hovermode\": \"closest\", \"mapbox\": {\"style\": \"light\"}, \"paper_bgcolor\": \"white\", \"plot_bgcolor\": \"#E5ECF6\", \"polar\": {\"angularaxis\": {\"gridcolor\": \"white\", \"linecolor\": \"white\", \"ticks\": \"\"}, \"bgcolor\": \"#E5ECF6\", \"radialaxis\": {\"gridcolor\": \"white\", \"linecolor\": \"white\", \"ticks\": \"\"}}, \"scene\": {\"xaxis\": {\"backgroundcolor\": \"#E5ECF6\", \"gridcolor\": \"white\", \"gridwidth\": 2, \"linecolor\": \"white\", \"showbackground\": true, \"ticks\": \"\", \"zerolinecolor\": \"white\"}, \"yaxis\": {\"backgroundcolor\": \"#E5ECF6\", \"gridcolor\": \"white\", \"gridwidth\": 2, \"linecolor\": \"white\", \"showbackground\": true, \"ticks\": \"\", \"zerolinecolor\": \"white\"}, \"zaxis\": {\"backgroundcolor\": \"#E5ECF6\", \"gridcolor\": \"white\", \"gridwidth\": 2, \"linecolor\": \"white\", \"showbackground\": true, \"ticks\": \"\", \"zerolinecolor\": \"white\"}}, \"shapedefaults\": {\"line\": {\"color\": \"#2a3f5f\"}}, \"ternary\": {\"aaxis\": {\"gridcolor\": \"white\", \"linecolor\": \"white\", \"ticks\": \"\"}, \"baxis\": {\"gridcolor\": \"white\", \"linecolor\": \"white\", \"ticks\": \"\"}, \"bgcolor\": \"#E5ECF6\", \"caxis\": {\"gridcolor\": \"white\", \"linecolor\": \"white\", \"ticks\": \"\"}}, \"title\": {\"x\": 0.05}, \"xaxis\": {\"automargin\": true, \"gridcolor\": \"white\", \"linecolor\": \"white\", \"ticks\": \"\", \"title\": {\"standoff\": 15}, \"zerolinecolor\": \"white\", \"zerolinewidth\": 2}, \"yaxis\": {\"automargin\": true, \"gridcolor\": \"white\", \"linecolor\": \"white\", \"ticks\": \"\", \"title\": {\"standoff\": 15}, \"zerolinecolor\": \"white\", \"zerolinewidth\": 2}}}},                        {\"responsive\": true}                    ).then(function(){\n",
       "                            \n",
       "var gd = document.getElementById('c6829a3f-9ade-4261-8c3d-8be4c45f040f');\n",
       "var x = new MutationObserver(function (mutations, observer) {{\n",
       "        var display = window.getComputedStyle(gd).display;\n",
       "        if (!display || display === 'none') {{\n",
       "            console.log([gd, 'removed!']);\n",
       "            Plotly.purge(gd);\n",
       "            observer.disconnect();\n",
       "        }}\n",
       "}});\n",
       "\n",
       "// Listen for the removal of the full notebook cells\n",
       "var notebookContainer = gd.closest('#notebook-container');\n",
       "if (notebookContainer) {{\n",
       "    x.observe(notebookContainer, {childList: true});\n",
       "}}\n",
       "\n",
       "// Listen for the clearing of the current output cell\n",
       "var outputEl = gd.closest('.output');\n",
       "if (outputEl) {{\n",
       "    x.observe(outputEl, {childList: true});\n",
       "}}\n",
       "\n",
       "                        })                };                });            </script>        </div>"
      ]
     },
     "metadata": {},
     "output_type": "display_data"
    }
   ],
   "source": [
    "#Expenses\n",
    "\n",
    "#breakdown each category \n",
    "groups = ['Rent','Food','Bills','Miscellaneous']\n",
    "#create amount\n",
    "amount = [1000,518,331,277]\n",
    "#style\n",
    "colors = ['#d32c58', '#f9b1ee', '#b7f9b1', '#b1f5f9']\n",
    "\n",
    "trace = go.Pie(labels=groups, values=amount,\n",
    "               hoverinfo='label+percent', textinfo='value', \n",
    "               textfont=dict(size=25),\n",
    "               marker=dict(colors=colors, \n",
    "                           line=dict(color='#000000', width=3)))\n",
    "\n",
    "#plot - \n",
    "iplot([trace])"
   ]
  },
  {
   "cell_type": "markdown",
   "metadata": {},
   "source": [
    "## <center> Episode 3 </center>"
   ]
  },
  {
   "cell_type": "code",
   "execution_count": 10,
   "metadata": {},
   "outputs": [],
   "source": [
    "import pandas as pd"
   ]
  },
  {
   "cell_type": "code",
   "execution_count": 11,
   "metadata": {},
   "outputs": [],
   "source": [
    "pubg = pd.read_csv('P48-Custom-Data-PUBG.csv')\n",
    "#pubg.head(10)\n",
    "df_pubg = pubg.apply(pd.to_numeric, errors='ignore')\n",
    "df_new_pubg = df_pubg.head(10)"
   ]
  },
  {
   "cell_type": "code",
   "execution_count": 12,
   "metadata": {},
   "outputs": [
    {
     "data": {
      "text/html": [
       "<div>\n",
       "<style scoped>\n",
       "    .dataframe tbody tr th:only-of-type {\n",
       "        vertical-align: middle;\n",
       "    }\n",
       "\n",
       "    .dataframe tbody tr th {\n",
       "        vertical-align: top;\n",
       "    }\n",
       "\n",
       "    .dataframe thead th {\n",
       "        text-align: right;\n",
       "    }\n",
       "</style>\n",
       "<table border=\"1\" class=\"dataframe\">\n",
       "  <thead>\n",
       "    <tr style=\"text-align: right;\">\n",
       "      <th></th>\n",
       "      <th>player_name</th>\n",
       "      <th>tracker_id</th>\n",
       "      <th>solo_KillDeathRatio</th>\n",
       "      <th>solo_WinRatio</th>\n",
       "      <th>solo_TimeSurvived</th>\n",
       "      <th>solo_RoundsPlayed</th>\n",
       "      <th>solo_Wins</th>\n",
       "      <th>solo_WinTop10Ratio</th>\n",
       "      <th>solo_Top10s</th>\n",
       "      <th>solo_Top10Ratio</th>\n",
       "      <th>...</th>\n",
       "      <th>squad_RideDistance</th>\n",
       "      <th>squad_MoveDistance</th>\n",
       "      <th>squad_AvgWalkDistance</th>\n",
       "      <th>squad_AvgRideDistance</th>\n",
       "      <th>squad_LongestKill</th>\n",
       "      <th>squad_Heals</th>\n",
       "      <th>squad_Revives</th>\n",
       "      <th>squad_Boosts</th>\n",
       "      <th>squad_DamageDealt</th>\n",
       "      <th>squad_DBNOs</th>\n",
       "    </tr>\n",
       "  </thead>\n",
       "  <tbody>\n",
       "    <tr>\n",
       "      <th>0</th>\n",
       "      <td>BreakNeck</td>\n",
       "      <td>4405</td>\n",
       "      <td>3.14</td>\n",
       "      <td>17.65</td>\n",
       "      <td>18469.14</td>\n",
       "      <td>17</td>\n",
       "      <td>3</td>\n",
       "      <td>0.83</td>\n",
       "      <td>4</td>\n",
       "      <td>23.5</td>\n",
       "      <td>...</td>\n",
       "      <td>3751590.99</td>\n",
       "      <td>5194786.58</td>\n",
       "      <td>2626.97</td>\n",
       "      <td>4372.64</td>\n",
       "      <td>536.98</td>\n",
       "      <td>2186</td>\n",
       "      <td>234</td>\n",
       "      <td>1884</td>\n",
       "      <td>242132.73</td>\n",
       "      <td>1448</td>\n",
       "    </tr>\n",
       "    <tr>\n",
       "      <th>1</th>\n",
       "      <td>Blackwalk</td>\n",
       "      <td>8199</td>\n",
       "      <td>4.41</td>\n",
       "      <td>18.18</td>\n",
       "      <td>33014.86</td>\n",
       "      <td>33</td>\n",
       "      <td>6</td>\n",
       "      <td>0.36</td>\n",
       "      <td>11</td>\n",
       "      <td>33.3</td>\n",
       "      <td>...</td>\n",
       "      <td>4295917.30</td>\n",
       "      <td>6051783.67</td>\n",
       "      <td>2422.48</td>\n",
       "      <td>6009.73</td>\n",
       "      <td>734.85</td>\n",
       "      <td>2041</td>\n",
       "      <td>276</td>\n",
       "      <td>2340</td>\n",
       "      <td>269795.75</td>\n",
       "      <td>1724</td>\n",
       "    </tr>\n",
       "    <tr>\n",
       "      <th>2</th>\n",
       "      <td>mercedes_benz</td>\n",
       "      <td>4454</td>\n",
       "      <td>3.60</td>\n",
       "      <td>0.00</td>\n",
       "      <td>4330.44</td>\n",
       "      <td>5</td>\n",
       "      <td>0</td>\n",
       "      <td>0.00</td>\n",
       "      <td>1</td>\n",
       "      <td>20.0</td>\n",
       "      <td>...</td>\n",
       "      <td>3935265.63</td>\n",
       "      <td>5589608.74</td>\n",
       "      <td>1871.89</td>\n",
       "      <td>3011.87</td>\n",
       "      <td>725.44</td>\n",
       "      <td>1766</td>\n",
       "      <td>210</td>\n",
       "      <td>2193</td>\n",
       "      <td>292977.07</td>\n",
       "      <td>1897</td>\n",
       "    </tr>\n",
       "    <tr>\n",
       "      <th>3</th>\n",
       "      <td>DORA</td>\n",
       "      <td>7729</td>\n",
       "      <td>14.00</td>\n",
       "      <td>50.00</td>\n",
       "      <td>13421.82</td>\n",
       "      <td>8</td>\n",
       "      <td>4</td>\n",
       "      <td>0.67</td>\n",
       "      <td>6</td>\n",
       "      <td>75.0</td>\n",
       "      <td>...</td>\n",
       "      <td>2738998.00</td>\n",
       "      <td>3796916.00</td>\n",
       "      <td>2154.62</td>\n",
       "      <td>5578.41</td>\n",
       "      <td>587.28</td>\n",
       "      <td>1214</td>\n",
       "      <td>142</td>\n",
       "      <td>1252</td>\n",
       "      <td>181106.90</td>\n",
       "      <td>1057</td>\n",
       "    </tr>\n",
       "    <tr>\n",
       "      <th>4</th>\n",
       "      <td>n2tstar</td>\n",
       "      <td>0</td>\n",
       "      <td>10.50</td>\n",
       "      <td>33.33</td>\n",
       "      <td>9841.04</td>\n",
       "      <td>6</td>\n",
       "      <td>2</td>\n",
       "      <td>0.40</td>\n",
       "      <td>5</td>\n",
       "      <td>83.3</td>\n",
       "      <td>...</td>\n",
       "      <td>2347295.00</td>\n",
       "      <td>3220260.00</td>\n",
       "      <td>2098.47</td>\n",
       "      <td>5642.54</td>\n",
       "      <td>546.10</td>\n",
       "      <td>1245</td>\n",
       "      <td>120</td>\n",
       "      <td>923</td>\n",
       "      <td>160029.80</td>\n",
       "      <td>1077</td>\n",
       "    </tr>\n",
       "    <tr>\n",
       "      <th>5</th>\n",
       "      <td>coldoxygen</td>\n",
       "      <td>33313</td>\n",
       "      <td>5.73</td>\n",
       "      <td>31.25</td>\n",
       "      <td>22003.22</td>\n",
       "      <td>16</td>\n",
       "      <td>5</td>\n",
       "      <td>0.50</td>\n",
       "      <td>10</td>\n",
       "      <td>62.5</td>\n",
       "      <td>...</td>\n",
       "      <td>3218436.00</td>\n",
       "      <td>4733977.00</td>\n",
       "      <td>2078.93</td>\n",
       "      <td>4414.86</td>\n",
       "      <td>1212.76</td>\n",
       "      <td>2023</td>\n",
       "      <td>195</td>\n",
       "      <td>2307</td>\n",
       "      <td>238640.00</td>\n",
       "      <td>1450</td>\n",
       "    </tr>\n",
       "    <tr>\n",
       "      <th>6</th>\n",
       "      <td>Giken</td>\n",
       "      <td>15585</td>\n",
       "      <td>2.45</td>\n",
       "      <td>8.45</td>\n",
       "      <td>148051.25</td>\n",
       "      <td>142</td>\n",
       "      <td>12</td>\n",
       "      <td>0.18</td>\n",
       "      <td>34</td>\n",
       "      <td>23.9</td>\n",
       "      <td>...</td>\n",
       "      <td>2057423.12</td>\n",
       "      <td>2883099.31</td>\n",
       "      <td>1664.77</td>\n",
       "      <td>3022.51</td>\n",
       "      <td>564.20</td>\n",
       "      <td>1274</td>\n",
       "      <td>133</td>\n",
       "      <td>1320</td>\n",
       "      <td>132008.88</td>\n",
       "      <td>775</td>\n",
       "    </tr>\n",
       "    <tr>\n",
       "      <th>7</th>\n",
       "      <td>KoreaNo1</td>\n",
       "      <td>9454</td>\n",
       "      <td>2.71</td>\n",
       "      <td>26.32</td>\n",
       "      <td>26091.14</td>\n",
       "      <td>19</td>\n",
       "      <td>5</td>\n",
       "      <td>0.50</td>\n",
       "      <td>10</td>\n",
       "      <td>52.6</td>\n",
       "      <td>...</td>\n",
       "      <td>3586593.00</td>\n",
       "      <td>4854387.00</td>\n",
       "      <td>1635.86</td>\n",
       "      <td>4627.86</td>\n",
       "      <td>806.24</td>\n",
       "      <td>2199</td>\n",
       "      <td>163</td>\n",
       "      <td>1864</td>\n",
       "      <td>201659.00</td>\n",
       "      <td>1287</td>\n",
       "    </tr>\n",
       "    <tr>\n",
       "      <th>8</th>\n",
       "      <td>undor</td>\n",
       "      <td>24029</td>\n",
       "      <td>3.68</td>\n",
       "      <td>13.64</td>\n",
       "      <td>49282.41</td>\n",
       "      <td>44</td>\n",
       "      <td>6</td>\n",
       "      <td>0.23</td>\n",
       "      <td>13</td>\n",
       "      <td>29.5</td>\n",
       "      <td>...</td>\n",
       "      <td>1054263.00</td>\n",
       "      <td>1550975.00</td>\n",
       "      <td>2207.61</td>\n",
       "      <td>4685.61</td>\n",
       "      <td>455.67</td>\n",
       "      <td>617</td>\n",
       "      <td>61</td>\n",
       "      <td>585</td>\n",
       "      <td>80498.73</td>\n",
       "      <td>513</td>\n",
       "    </tr>\n",
       "    <tr>\n",
       "      <th>9</th>\n",
       "      <td>Fordune</td>\n",
       "      <td>11289</td>\n",
       "      <td>4.17</td>\n",
       "      <td>25.00</td>\n",
       "      <td>10280.77</td>\n",
       "      <td>8</td>\n",
       "      <td>2</td>\n",
       "      <td>0.25</td>\n",
       "      <td>4</td>\n",
       "      <td>50.0</td>\n",
       "      <td>...</td>\n",
       "      <td>2793909.91</td>\n",
       "      <td>4071039.87</td>\n",
       "      <td>1981.29</td>\n",
       "      <td>3635.28</td>\n",
       "      <td>546.95</td>\n",
       "      <td>1320</td>\n",
       "      <td>220</td>\n",
       "      <td>1338</td>\n",
       "      <td>123573.74</td>\n",
       "      <td>675</td>\n",
       "    </tr>\n",
       "  </tbody>\n",
       "</table>\n",
       "<p>10 rows × 152 columns</p>\n",
       "</div>"
      ],
      "text/plain": [
       "     player_name  tracker_id  solo_KillDeathRatio  solo_WinRatio  \\\n",
       "0      BreakNeck        4405                 3.14          17.65   \n",
       "1      Blackwalk        8199                 4.41          18.18   \n",
       "2  mercedes_benz        4454                 3.60           0.00   \n",
       "3           DORA        7729                14.00          50.00   \n",
       "4        n2tstar           0                10.50          33.33   \n",
       "5     coldoxygen       33313                 5.73          31.25   \n",
       "6          Giken       15585                 2.45           8.45   \n",
       "7       KoreaNo1        9454                 2.71          26.32   \n",
       "8          undor       24029                 3.68          13.64   \n",
       "9        Fordune       11289                 4.17          25.00   \n",
       "\n",
       "   solo_TimeSurvived  solo_RoundsPlayed  solo_Wins  solo_WinTop10Ratio  \\\n",
       "0           18469.14                 17          3                0.83   \n",
       "1           33014.86                 33          6                0.36   \n",
       "2            4330.44                  5          0                0.00   \n",
       "3           13421.82                  8          4                0.67   \n",
       "4            9841.04                  6          2                0.40   \n",
       "5           22003.22                 16          5                0.50   \n",
       "6          148051.25                142         12                0.18   \n",
       "7           26091.14                 19          5                0.50   \n",
       "8           49282.41                 44          6                0.23   \n",
       "9           10280.77                  8          2                0.25   \n",
       "\n",
       "   solo_Top10s  solo_Top10Ratio  ...  squad_RideDistance  squad_MoveDistance  \\\n",
       "0            4             23.5  ...          3751590.99          5194786.58   \n",
       "1           11             33.3  ...          4295917.30          6051783.67   \n",
       "2            1             20.0  ...          3935265.63          5589608.74   \n",
       "3            6             75.0  ...          2738998.00          3796916.00   \n",
       "4            5             83.3  ...          2347295.00          3220260.00   \n",
       "5           10             62.5  ...          3218436.00          4733977.00   \n",
       "6           34             23.9  ...          2057423.12          2883099.31   \n",
       "7           10             52.6  ...          3586593.00          4854387.00   \n",
       "8           13             29.5  ...          1054263.00          1550975.00   \n",
       "9            4             50.0  ...          2793909.91          4071039.87   \n",
       "\n",
       "   squad_AvgWalkDistance  squad_AvgRideDistance  squad_LongestKill  \\\n",
       "0                2626.97                4372.64             536.98   \n",
       "1                2422.48                6009.73             734.85   \n",
       "2                1871.89                3011.87             725.44   \n",
       "3                2154.62                5578.41             587.28   \n",
       "4                2098.47                5642.54             546.10   \n",
       "5                2078.93                4414.86            1212.76   \n",
       "6                1664.77                3022.51             564.20   \n",
       "7                1635.86                4627.86             806.24   \n",
       "8                2207.61                4685.61             455.67   \n",
       "9                1981.29                3635.28             546.95   \n",
       "\n",
       "   squad_Heals  squad_Revives  squad_Boosts  squad_DamageDealt  squad_DBNOs  \n",
       "0         2186            234          1884          242132.73         1448  \n",
       "1         2041            276          2340          269795.75         1724  \n",
       "2         1766            210          2193          292977.07         1897  \n",
       "3         1214            142          1252          181106.90         1057  \n",
       "4         1245            120           923          160029.80         1077  \n",
       "5         2023            195          2307          238640.00         1450  \n",
       "6         1274            133          1320          132008.88          775  \n",
       "7         2199            163          1864          201659.00         1287  \n",
       "8          617             61           585           80498.73          513  \n",
       "9         1320            220          1338          123573.74          675  \n",
       "\n",
       "[10 rows x 152 columns]"
      ]
     },
     "execution_count": 12,
     "metadata": {},
     "output_type": "execute_result"
    }
   ],
   "source": [
    "df_new_pubg.head(10)"
   ]
  },
  {
   "cell_type": "code",
   "execution_count": 13,
   "metadata": {},
   "outputs": [
    {
     "data": {
      "application/vnd.plotly.v1+json": {
       "config": {
        "linkText": "Export to plot.ly",
        "plotlyServerURL": "https://plot.ly",
        "showLink": false
       },
       "data": [
        {
         "name": "Rounds Won",
         "type": "scatter",
         "x": [
          17,
          33,
          5,
          8,
          6,
          16,
          142,
          19,
          44,
          8
         ],
         "y": [
          3,
          6,
          0,
          4,
          2,
          5,
          12,
          5,
          6,
          2
         ]
        }
       ],
       "layout": {
        "plot_bgcolor": "rgb(230, 230,230)",
        "showlegend": true,
        "template": {
         "data": {
          "bar": [
           {
            "error_x": {
             "color": "#2a3f5f"
            },
            "error_y": {
             "color": "#2a3f5f"
            },
            "marker": {
             "line": {
              "color": "#E5ECF6",
              "width": 0.5
             }
            },
            "type": "bar"
           }
          ],
          "barpolar": [
           {
            "marker": {
             "line": {
              "color": "#E5ECF6",
              "width": 0.5
             }
            },
            "type": "barpolar"
           }
          ],
          "carpet": [
           {
            "aaxis": {
             "endlinecolor": "#2a3f5f",
             "gridcolor": "white",
             "linecolor": "white",
             "minorgridcolor": "white",
             "startlinecolor": "#2a3f5f"
            },
            "baxis": {
             "endlinecolor": "#2a3f5f",
             "gridcolor": "white",
             "linecolor": "white",
             "minorgridcolor": "white",
             "startlinecolor": "#2a3f5f"
            },
            "type": "carpet"
           }
          ],
          "choropleth": [
           {
            "colorbar": {
             "outlinewidth": 0,
             "ticks": ""
            },
            "type": "choropleth"
           }
          ],
          "contour": [
           {
            "colorbar": {
             "outlinewidth": 0,
             "ticks": ""
            },
            "colorscale": [
             [
              0,
              "#0d0887"
             ],
             [
              0.1111111111111111,
              "#46039f"
             ],
             [
              0.2222222222222222,
              "#7201a8"
             ],
             [
              0.3333333333333333,
              "#9c179e"
             ],
             [
              0.4444444444444444,
              "#bd3786"
             ],
             [
              0.5555555555555556,
              "#d8576b"
             ],
             [
              0.6666666666666666,
              "#ed7953"
             ],
             [
              0.7777777777777778,
              "#fb9f3a"
             ],
             [
              0.8888888888888888,
              "#fdca26"
             ],
             [
              1,
              "#f0f921"
             ]
            ],
            "type": "contour"
           }
          ],
          "contourcarpet": [
           {
            "colorbar": {
             "outlinewidth": 0,
             "ticks": ""
            },
            "type": "contourcarpet"
           }
          ],
          "heatmap": [
           {
            "colorbar": {
             "outlinewidth": 0,
             "ticks": ""
            },
            "colorscale": [
             [
              0,
              "#0d0887"
             ],
             [
              0.1111111111111111,
              "#46039f"
             ],
             [
              0.2222222222222222,
              "#7201a8"
             ],
             [
              0.3333333333333333,
              "#9c179e"
             ],
             [
              0.4444444444444444,
              "#bd3786"
             ],
             [
              0.5555555555555556,
              "#d8576b"
             ],
             [
              0.6666666666666666,
              "#ed7953"
             ],
             [
              0.7777777777777778,
              "#fb9f3a"
             ],
             [
              0.8888888888888888,
              "#fdca26"
             ],
             [
              1,
              "#f0f921"
             ]
            ],
            "type": "heatmap"
           }
          ],
          "heatmapgl": [
           {
            "colorbar": {
             "outlinewidth": 0,
             "ticks": ""
            },
            "colorscale": [
             [
              0,
              "#0d0887"
             ],
             [
              0.1111111111111111,
              "#46039f"
             ],
             [
              0.2222222222222222,
              "#7201a8"
             ],
             [
              0.3333333333333333,
              "#9c179e"
             ],
             [
              0.4444444444444444,
              "#bd3786"
             ],
             [
              0.5555555555555556,
              "#d8576b"
             ],
             [
              0.6666666666666666,
              "#ed7953"
             ],
             [
              0.7777777777777778,
              "#fb9f3a"
             ],
             [
              0.8888888888888888,
              "#fdca26"
             ],
             [
              1,
              "#f0f921"
             ]
            ],
            "type": "heatmapgl"
           }
          ],
          "histogram": [
           {
            "marker": {
             "colorbar": {
              "outlinewidth": 0,
              "ticks": ""
             }
            },
            "type": "histogram"
           }
          ],
          "histogram2d": [
           {
            "colorbar": {
             "outlinewidth": 0,
             "ticks": ""
            },
            "colorscale": [
             [
              0,
              "#0d0887"
             ],
             [
              0.1111111111111111,
              "#46039f"
             ],
             [
              0.2222222222222222,
              "#7201a8"
             ],
             [
              0.3333333333333333,
              "#9c179e"
             ],
             [
              0.4444444444444444,
              "#bd3786"
             ],
             [
              0.5555555555555556,
              "#d8576b"
             ],
             [
              0.6666666666666666,
              "#ed7953"
             ],
             [
              0.7777777777777778,
              "#fb9f3a"
             ],
             [
              0.8888888888888888,
              "#fdca26"
             ],
             [
              1,
              "#f0f921"
             ]
            ],
            "type": "histogram2d"
           }
          ],
          "histogram2dcontour": [
           {
            "colorbar": {
             "outlinewidth": 0,
             "ticks": ""
            },
            "colorscale": [
             [
              0,
              "#0d0887"
             ],
             [
              0.1111111111111111,
              "#46039f"
             ],
             [
              0.2222222222222222,
              "#7201a8"
             ],
             [
              0.3333333333333333,
              "#9c179e"
             ],
             [
              0.4444444444444444,
              "#bd3786"
             ],
             [
              0.5555555555555556,
              "#d8576b"
             ],
             [
              0.6666666666666666,
              "#ed7953"
             ],
             [
              0.7777777777777778,
              "#fb9f3a"
             ],
             [
              0.8888888888888888,
              "#fdca26"
             ],
             [
              1,
              "#f0f921"
             ]
            ],
            "type": "histogram2dcontour"
           }
          ],
          "mesh3d": [
           {
            "colorbar": {
             "outlinewidth": 0,
             "ticks": ""
            },
            "type": "mesh3d"
           }
          ],
          "parcoords": [
           {
            "line": {
             "colorbar": {
              "outlinewidth": 0,
              "ticks": ""
             }
            },
            "type": "parcoords"
           }
          ],
          "pie": [
           {
            "automargin": true,
            "type": "pie"
           }
          ],
          "scatter": [
           {
            "marker": {
             "colorbar": {
              "outlinewidth": 0,
              "ticks": ""
             }
            },
            "type": "scatter"
           }
          ],
          "scatter3d": [
           {
            "line": {
             "colorbar": {
              "outlinewidth": 0,
              "ticks": ""
             }
            },
            "marker": {
             "colorbar": {
              "outlinewidth": 0,
              "ticks": ""
             }
            },
            "type": "scatter3d"
           }
          ],
          "scattercarpet": [
           {
            "marker": {
             "colorbar": {
              "outlinewidth": 0,
              "ticks": ""
             }
            },
            "type": "scattercarpet"
           }
          ],
          "scattergeo": [
           {
            "marker": {
             "colorbar": {
              "outlinewidth": 0,
              "ticks": ""
             }
            },
            "type": "scattergeo"
           }
          ],
          "scattergl": [
           {
            "marker": {
             "colorbar": {
              "outlinewidth": 0,
              "ticks": ""
             }
            },
            "type": "scattergl"
           }
          ],
          "scattermapbox": [
           {
            "marker": {
             "colorbar": {
              "outlinewidth": 0,
              "ticks": ""
             }
            },
            "type": "scattermapbox"
           }
          ],
          "scatterpolar": [
           {
            "marker": {
             "colorbar": {
              "outlinewidth": 0,
              "ticks": ""
             }
            },
            "type": "scatterpolar"
           }
          ],
          "scatterpolargl": [
           {
            "marker": {
             "colorbar": {
              "outlinewidth": 0,
              "ticks": ""
             }
            },
            "type": "scatterpolargl"
           }
          ],
          "scatterternary": [
           {
            "marker": {
             "colorbar": {
              "outlinewidth": 0,
              "ticks": ""
             }
            },
            "type": "scatterternary"
           }
          ],
          "surface": [
           {
            "colorbar": {
             "outlinewidth": 0,
             "ticks": ""
            },
            "colorscale": [
             [
              0,
              "#0d0887"
             ],
             [
              0.1111111111111111,
              "#46039f"
             ],
             [
              0.2222222222222222,
              "#7201a8"
             ],
             [
              0.3333333333333333,
              "#9c179e"
             ],
             [
              0.4444444444444444,
              "#bd3786"
             ],
             [
              0.5555555555555556,
              "#d8576b"
             ],
             [
              0.6666666666666666,
              "#ed7953"
             ],
             [
              0.7777777777777778,
              "#fb9f3a"
             ],
             [
              0.8888888888888888,
              "#fdca26"
             ],
             [
              1,
              "#f0f921"
             ]
            ],
            "type": "surface"
           }
          ],
          "table": [
           {
            "cells": {
             "fill": {
              "color": "#EBF0F8"
             },
             "line": {
              "color": "white"
             }
            },
            "header": {
             "fill": {
              "color": "#C8D4E3"
             },
             "line": {
              "color": "white"
             }
            },
            "type": "table"
           }
          ]
         },
         "layout": {
          "annotationdefaults": {
           "arrowcolor": "#2a3f5f",
           "arrowhead": 0,
           "arrowwidth": 1
          },
          "autotypenumbers": "strict",
          "coloraxis": {
           "colorbar": {
            "outlinewidth": 0,
            "ticks": ""
           }
          },
          "colorscale": {
           "diverging": [
            [
             0,
             "#8e0152"
            ],
            [
             0.1,
             "#c51b7d"
            ],
            [
             0.2,
             "#de77ae"
            ],
            [
             0.3,
             "#f1b6da"
            ],
            [
             0.4,
             "#fde0ef"
            ],
            [
             0.5,
             "#f7f7f7"
            ],
            [
             0.6,
             "#e6f5d0"
            ],
            [
             0.7,
             "#b8e186"
            ],
            [
             0.8,
             "#7fbc41"
            ],
            [
             0.9,
             "#4d9221"
            ],
            [
             1,
             "#276419"
            ]
           ],
           "sequential": [
            [
             0,
             "#0d0887"
            ],
            [
             0.1111111111111111,
             "#46039f"
            ],
            [
             0.2222222222222222,
             "#7201a8"
            ],
            [
             0.3333333333333333,
             "#9c179e"
            ],
            [
             0.4444444444444444,
             "#bd3786"
            ],
            [
             0.5555555555555556,
             "#d8576b"
            ],
            [
             0.6666666666666666,
             "#ed7953"
            ],
            [
             0.7777777777777778,
             "#fb9f3a"
            ],
            [
             0.8888888888888888,
             "#fdca26"
            ],
            [
             1,
             "#f0f921"
            ]
           ],
           "sequentialminus": [
            [
             0,
             "#0d0887"
            ],
            [
             0.1111111111111111,
             "#46039f"
            ],
            [
             0.2222222222222222,
             "#7201a8"
            ],
            [
             0.3333333333333333,
             "#9c179e"
            ],
            [
             0.4444444444444444,
             "#bd3786"
            ],
            [
             0.5555555555555556,
             "#d8576b"
            ],
            [
             0.6666666666666666,
             "#ed7953"
            ],
            [
             0.7777777777777778,
             "#fb9f3a"
            ],
            [
             0.8888888888888888,
             "#fdca26"
            ],
            [
             1,
             "#f0f921"
            ]
           ]
          },
          "colorway": [
           "#636efa",
           "#EF553B",
           "#00cc96",
           "#ab63fa",
           "#FFA15A",
           "#19d3f3",
           "#FF6692",
           "#B6E880",
           "#FF97FF",
           "#FECB52"
          ],
          "font": {
           "color": "#2a3f5f"
          },
          "geo": {
           "bgcolor": "white",
           "lakecolor": "white",
           "landcolor": "#E5ECF6",
           "showlakes": true,
           "showland": true,
           "subunitcolor": "white"
          },
          "hoverlabel": {
           "align": "left"
          },
          "hovermode": "closest",
          "mapbox": {
           "style": "light"
          },
          "paper_bgcolor": "white",
          "plot_bgcolor": "#E5ECF6",
          "polar": {
           "angularaxis": {
            "gridcolor": "white",
            "linecolor": "white",
            "ticks": ""
           },
           "bgcolor": "#E5ECF6",
           "radialaxis": {
            "gridcolor": "white",
            "linecolor": "white",
            "ticks": ""
           }
          },
          "scene": {
           "xaxis": {
            "backgroundcolor": "#E5ECF6",
            "gridcolor": "white",
            "gridwidth": 2,
            "linecolor": "white",
            "showbackground": true,
            "ticks": "",
            "zerolinecolor": "white"
           },
           "yaxis": {
            "backgroundcolor": "#E5ECF6",
            "gridcolor": "white",
            "gridwidth": 2,
            "linecolor": "white",
            "showbackground": true,
            "ticks": "",
            "zerolinecolor": "white"
           },
           "zaxis": {
            "backgroundcolor": "#E5ECF6",
            "gridcolor": "white",
            "gridwidth": 2,
            "linecolor": "white",
            "showbackground": true,
            "ticks": "",
            "zerolinecolor": "white"
           }
          },
          "shapedefaults": {
           "line": {
            "color": "#2a3f5f"
           }
          },
          "ternary": {
           "aaxis": {
            "gridcolor": "white",
            "linecolor": "white",
            "ticks": ""
           },
           "baxis": {
            "gridcolor": "white",
            "linecolor": "white",
            "ticks": ""
           },
           "bgcolor": "#E5ECF6",
           "caxis": {
            "gridcolor": "white",
            "linecolor": "white",
            "ticks": ""
           }
          },
          "title": {
           "x": 0.05
          },
          "xaxis": {
           "automargin": true,
           "gridcolor": "white",
           "linecolor": "white",
           "ticks": "",
           "title": {
            "standoff": 15
           },
           "zerolinecolor": "white",
           "zerolinewidth": 2
          },
          "yaxis": {
           "automargin": true,
           "gridcolor": "white",
           "linecolor": "white",
           "ticks": "",
           "title": {
            "standoff": 15
           },
           "zerolinecolor": "white",
           "zerolinewidth": 2
          }
         }
        },
        "title": {
         "text": "PUBG Wins vs Rounds Played"
        }
       }
      },
      "text/html": [
       "<div>                            <div id=\"73ad1679-50aa-4c6b-817b-44977a30c53c\" class=\"plotly-graph-div\" style=\"height:525px; width:100%;\"></div>            <script type=\"text/javascript\">                require([\"plotly\"], function(Plotly) {                    window.PLOTLYENV=window.PLOTLYENV || {};                                    if (document.getElementById(\"73ad1679-50aa-4c6b-817b-44977a30c53c\")) {                    Plotly.newPlot(                        \"73ad1679-50aa-4c6b-817b-44977a30c53c\",                        [{\"name\": \"Rounds Won\", \"type\": \"scatter\", \"x\": [17, 33, 5, 8, 6, 16, 142, 19, 44, 8], \"y\": [3, 6, 0, 4, 2, 5, 12, 5, 6, 2]}],                        {\"plot_bgcolor\": \"rgb(230, 230,230)\", \"showlegend\": true, \"template\": {\"data\": {\"bar\": [{\"error_x\": {\"color\": \"#2a3f5f\"}, \"error_y\": {\"color\": \"#2a3f5f\"}, \"marker\": {\"line\": {\"color\": \"#E5ECF6\", \"width\": 0.5}}, \"type\": \"bar\"}], \"barpolar\": [{\"marker\": {\"line\": {\"color\": \"#E5ECF6\", \"width\": 0.5}}, \"type\": \"barpolar\"}], \"carpet\": [{\"aaxis\": {\"endlinecolor\": \"#2a3f5f\", \"gridcolor\": \"white\", \"linecolor\": \"white\", \"minorgridcolor\": \"white\", \"startlinecolor\": \"#2a3f5f\"}, \"baxis\": {\"endlinecolor\": \"#2a3f5f\", \"gridcolor\": \"white\", \"linecolor\": \"white\", \"minorgridcolor\": \"white\", \"startlinecolor\": \"#2a3f5f\"}, \"type\": \"carpet\"}], \"choropleth\": [{\"colorbar\": {\"outlinewidth\": 0, \"ticks\": \"\"}, \"type\": \"choropleth\"}], \"contour\": [{\"colorbar\": {\"outlinewidth\": 0, \"ticks\": \"\"}, \"colorscale\": [[0.0, \"#0d0887\"], [0.1111111111111111, \"#46039f\"], [0.2222222222222222, \"#7201a8\"], [0.3333333333333333, \"#9c179e\"], [0.4444444444444444, \"#bd3786\"], [0.5555555555555556, \"#d8576b\"], [0.6666666666666666, \"#ed7953\"], [0.7777777777777778, \"#fb9f3a\"], [0.8888888888888888, \"#fdca26\"], [1.0, \"#f0f921\"]], \"type\": \"contour\"}], \"contourcarpet\": [{\"colorbar\": {\"outlinewidth\": 0, \"ticks\": \"\"}, \"type\": \"contourcarpet\"}], \"heatmap\": [{\"colorbar\": {\"outlinewidth\": 0, \"ticks\": \"\"}, \"colorscale\": [[0.0, \"#0d0887\"], [0.1111111111111111, \"#46039f\"], [0.2222222222222222, \"#7201a8\"], [0.3333333333333333, \"#9c179e\"], [0.4444444444444444, \"#bd3786\"], [0.5555555555555556, \"#d8576b\"], [0.6666666666666666, \"#ed7953\"], [0.7777777777777778, \"#fb9f3a\"], [0.8888888888888888, \"#fdca26\"], [1.0, \"#f0f921\"]], \"type\": \"heatmap\"}], \"heatmapgl\": [{\"colorbar\": {\"outlinewidth\": 0, \"ticks\": \"\"}, \"colorscale\": [[0.0, \"#0d0887\"], [0.1111111111111111, \"#46039f\"], [0.2222222222222222, \"#7201a8\"], [0.3333333333333333, \"#9c179e\"], [0.4444444444444444, \"#bd3786\"], [0.5555555555555556, \"#d8576b\"], [0.6666666666666666, \"#ed7953\"], [0.7777777777777778, \"#fb9f3a\"], [0.8888888888888888, \"#fdca26\"], [1.0, \"#f0f921\"]], \"type\": \"heatmapgl\"}], \"histogram\": [{\"marker\": {\"colorbar\": {\"outlinewidth\": 0, \"ticks\": \"\"}}, \"type\": \"histogram\"}], \"histogram2d\": [{\"colorbar\": {\"outlinewidth\": 0, \"ticks\": \"\"}, \"colorscale\": [[0.0, \"#0d0887\"], [0.1111111111111111, \"#46039f\"], [0.2222222222222222, \"#7201a8\"], [0.3333333333333333, \"#9c179e\"], [0.4444444444444444, \"#bd3786\"], [0.5555555555555556, \"#d8576b\"], [0.6666666666666666, \"#ed7953\"], [0.7777777777777778, \"#fb9f3a\"], [0.8888888888888888, \"#fdca26\"], [1.0, \"#f0f921\"]], \"type\": \"histogram2d\"}], \"histogram2dcontour\": [{\"colorbar\": {\"outlinewidth\": 0, \"ticks\": \"\"}, \"colorscale\": [[0.0, \"#0d0887\"], [0.1111111111111111, \"#46039f\"], [0.2222222222222222, \"#7201a8\"], [0.3333333333333333, \"#9c179e\"], [0.4444444444444444, \"#bd3786\"], [0.5555555555555556, \"#d8576b\"], [0.6666666666666666, \"#ed7953\"], [0.7777777777777778, \"#fb9f3a\"], [0.8888888888888888, \"#fdca26\"], [1.0, \"#f0f921\"]], \"type\": \"histogram2dcontour\"}], \"mesh3d\": [{\"colorbar\": {\"outlinewidth\": 0, \"ticks\": \"\"}, \"type\": \"mesh3d\"}], \"parcoords\": [{\"line\": {\"colorbar\": {\"outlinewidth\": 0, \"ticks\": \"\"}}, \"type\": \"parcoords\"}], \"pie\": [{\"automargin\": true, \"type\": \"pie\"}], \"scatter\": [{\"marker\": {\"colorbar\": {\"outlinewidth\": 0, \"ticks\": \"\"}}, \"type\": \"scatter\"}], \"scatter3d\": [{\"line\": {\"colorbar\": {\"outlinewidth\": 0, \"ticks\": \"\"}}, \"marker\": {\"colorbar\": {\"outlinewidth\": 0, \"ticks\": \"\"}}, \"type\": \"scatter3d\"}], \"scattercarpet\": [{\"marker\": {\"colorbar\": {\"outlinewidth\": 0, \"ticks\": \"\"}}, \"type\": \"scattercarpet\"}], \"scattergeo\": [{\"marker\": {\"colorbar\": {\"outlinewidth\": 0, \"ticks\": \"\"}}, \"type\": \"scattergeo\"}], \"scattergl\": [{\"marker\": {\"colorbar\": {\"outlinewidth\": 0, \"ticks\": \"\"}}, \"type\": \"scattergl\"}], \"scattermapbox\": [{\"marker\": {\"colorbar\": {\"outlinewidth\": 0, \"ticks\": \"\"}}, \"type\": \"scattermapbox\"}], \"scatterpolar\": [{\"marker\": {\"colorbar\": {\"outlinewidth\": 0, \"ticks\": \"\"}}, \"type\": \"scatterpolar\"}], \"scatterpolargl\": [{\"marker\": {\"colorbar\": {\"outlinewidth\": 0, \"ticks\": \"\"}}, \"type\": \"scatterpolargl\"}], \"scatterternary\": [{\"marker\": {\"colorbar\": {\"outlinewidth\": 0, \"ticks\": \"\"}}, \"type\": \"scatterternary\"}], \"surface\": [{\"colorbar\": {\"outlinewidth\": 0, \"ticks\": \"\"}, \"colorscale\": [[0.0, \"#0d0887\"], [0.1111111111111111, \"#46039f\"], [0.2222222222222222, \"#7201a8\"], [0.3333333333333333, \"#9c179e\"], [0.4444444444444444, \"#bd3786\"], [0.5555555555555556, \"#d8576b\"], [0.6666666666666666, \"#ed7953\"], [0.7777777777777778, \"#fb9f3a\"], [0.8888888888888888, \"#fdca26\"], [1.0, \"#f0f921\"]], \"type\": \"surface\"}], \"table\": [{\"cells\": {\"fill\": {\"color\": \"#EBF0F8\"}, \"line\": {\"color\": \"white\"}}, \"header\": {\"fill\": {\"color\": \"#C8D4E3\"}, \"line\": {\"color\": \"white\"}}, \"type\": \"table\"}]}, \"layout\": {\"annotationdefaults\": {\"arrowcolor\": \"#2a3f5f\", \"arrowhead\": 0, \"arrowwidth\": 1}, \"autotypenumbers\": \"strict\", \"coloraxis\": {\"colorbar\": {\"outlinewidth\": 0, \"ticks\": \"\"}}, \"colorscale\": {\"diverging\": [[0, \"#8e0152\"], [0.1, \"#c51b7d\"], [0.2, \"#de77ae\"], [0.3, \"#f1b6da\"], [0.4, \"#fde0ef\"], [0.5, \"#f7f7f7\"], [0.6, \"#e6f5d0\"], [0.7, \"#b8e186\"], [0.8, \"#7fbc41\"], [0.9, \"#4d9221\"], [1, \"#276419\"]], \"sequential\": [[0.0, \"#0d0887\"], [0.1111111111111111, \"#46039f\"], [0.2222222222222222, \"#7201a8\"], [0.3333333333333333, \"#9c179e\"], [0.4444444444444444, \"#bd3786\"], [0.5555555555555556, \"#d8576b\"], [0.6666666666666666, \"#ed7953\"], [0.7777777777777778, \"#fb9f3a\"], [0.8888888888888888, \"#fdca26\"], [1.0, \"#f0f921\"]], \"sequentialminus\": [[0.0, \"#0d0887\"], [0.1111111111111111, \"#46039f\"], [0.2222222222222222, \"#7201a8\"], [0.3333333333333333, \"#9c179e\"], [0.4444444444444444, \"#bd3786\"], [0.5555555555555556, \"#d8576b\"], [0.6666666666666666, \"#ed7953\"], [0.7777777777777778, \"#fb9f3a\"], [0.8888888888888888, \"#fdca26\"], [1.0, \"#f0f921\"]]}, \"colorway\": [\"#636efa\", \"#EF553B\", \"#00cc96\", \"#ab63fa\", \"#FFA15A\", \"#19d3f3\", \"#FF6692\", \"#B6E880\", \"#FF97FF\", \"#FECB52\"], \"font\": {\"color\": \"#2a3f5f\"}, \"geo\": {\"bgcolor\": \"white\", \"lakecolor\": \"white\", \"landcolor\": \"#E5ECF6\", \"showlakes\": true, \"showland\": true, \"subunitcolor\": \"white\"}, \"hoverlabel\": {\"align\": \"left\"}, \"hovermode\": \"closest\", \"mapbox\": {\"style\": \"light\"}, \"paper_bgcolor\": \"white\", \"plot_bgcolor\": \"#E5ECF6\", \"polar\": {\"angularaxis\": {\"gridcolor\": \"white\", \"linecolor\": \"white\", \"ticks\": \"\"}, \"bgcolor\": \"#E5ECF6\", \"radialaxis\": {\"gridcolor\": \"white\", \"linecolor\": \"white\", \"ticks\": \"\"}}, \"scene\": {\"xaxis\": {\"backgroundcolor\": \"#E5ECF6\", \"gridcolor\": \"white\", \"gridwidth\": 2, \"linecolor\": \"white\", \"showbackground\": true, \"ticks\": \"\", \"zerolinecolor\": \"white\"}, \"yaxis\": {\"backgroundcolor\": \"#E5ECF6\", \"gridcolor\": \"white\", \"gridwidth\": 2, \"linecolor\": \"white\", \"showbackground\": true, \"ticks\": \"\", \"zerolinecolor\": \"white\"}, \"zaxis\": {\"backgroundcolor\": \"#E5ECF6\", \"gridcolor\": \"white\", \"gridwidth\": 2, \"linecolor\": \"white\", \"showbackground\": true, \"ticks\": \"\", \"zerolinecolor\": \"white\"}}, \"shapedefaults\": {\"line\": {\"color\": \"#2a3f5f\"}}, \"ternary\": {\"aaxis\": {\"gridcolor\": \"white\", \"linecolor\": \"white\", \"ticks\": \"\"}, \"baxis\": {\"gridcolor\": \"white\", \"linecolor\": \"white\", \"ticks\": \"\"}, \"bgcolor\": \"#E5ECF6\", \"caxis\": {\"gridcolor\": \"white\", \"linecolor\": \"white\", \"ticks\": \"\"}}, \"title\": {\"x\": 0.05}, \"xaxis\": {\"automargin\": true, \"gridcolor\": \"white\", \"linecolor\": \"white\", \"ticks\": \"\", \"title\": {\"standoff\": 15}, \"zerolinecolor\": \"white\", \"zerolinewidth\": 2}, \"yaxis\": {\"automargin\": true, \"gridcolor\": \"white\", \"linecolor\": \"white\", \"ticks\": \"\", \"title\": {\"standoff\": 15}, \"zerolinecolor\": \"white\", \"zerolinewidth\": 2}}}, \"title\": {\"text\": \"PUBG Wins vs Rounds Played\"}},                        {\"responsive\": true}                    ).then(function(){\n",
       "                            \n",
       "var gd = document.getElementById('73ad1679-50aa-4c6b-817b-44977a30c53c');\n",
       "var x = new MutationObserver(function (mutations, observer) {{\n",
       "        var display = window.getComputedStyle(gd).display;\n",
       "        if (!display || display === 'none') {{\n",
       "            console.log([gd, 'removed!']);\n",
       "            Plotly.purge(gd);\n",
       "            observer.disconnect();\n",
       "        }}\n",
       "}});\n",
       "\n",
       "// Listen for the removal of the full notebook cells\n",
       "var notebookContainer = gd.closest('#notebook-container');\n",
       "if (notebookContainer) {{\n",
       "    x.observe(notebookContainer, {childList: true});\n",
       "}}\n",
       "\n",
       "// Listen for the clearing of the current output cell\n",
       "var outputEl = gd.closest('.output');\n",
       "if (outputEl) {{\n",
       "    x.observe(outputEl, {childList: true});\n",
       "}}\n",
       "\n",
       "                        })                };                });            </script>        </div>"
      ]
     },
     "metadata": {},
     "output_type": "display_data"
    }
   ],
   "source": [
    "\n",
    "trace = go.Scatter(x = df_new_pubg['solo_RoundsPlayed'], y= df_new_pubg['solo_Wins'],\n",
    "                  name ='Rounds Won')\n",
    "layout = go.Layout(title='PUBG Wins vs Rounds Played',\n",
    "                   plot_bgcolor='rgb(230, 230,230)', \n",
    "                   showlegend=True)\n",
    "fig = go.Figure(data=[trace], layout=layout)\n",
    "\n",
    "iplot(fig, filename='test')"
   ]
  },
  {
   "cell_type": "code",
   "execution_count": 14,
   "metadata": {},
   "outputs": [],
   "source": [
    "df_bar_pubg = df_pubg.head(30)"
   ]
  },
  {
   "cell_type": "code",
   "execution_count": 15,
   "metadata": {},
   "outputs": [],
   "source": [
    "trace1 = go.Bar( \n",
    "        x = df_bar_pubg['player_name'],\n",
    "        y = df_bar_pubg['solo_RoundsPlayed'],\n",
    "        name= 'Rounds Played')\n",
    "\n",
    "trace2 = go.Bar( \n",
    "        x = df_bar_pubg['player_name'],\n",
    "        y = df_bar_pubg['solo_Wins'],\n",
    "        name= 'Wins')\n",
    "\n"
   ]
  },
  {
   "cell_type": "code",
   "execution_count": 16,
   "metadata": {},
   "outputs": [
    {
     "data": {
      "application/vnd.plotly.v1+json": {
       "config": {
        "linkText": "Export to plot.ly",
        "plotlyServerURL": "https://plot.ly",
        "showLink": false
       },
       "data": [
        {
         "name": "Rounds Played",
         "type": "bar",
         "x": [
          "BreakNeck",
          "Blackwalk",
          "mercedes_benz",
          "DORA",
          "n2tstar",
          "coldoxygen",
          "Giken",
          "KoreaNo1",
          "undor",
          "Fordune",
          "PandaTV-Tongk",
          "Benny-_-",
          "PanDaTV_Karl",
          "homeboye",
          "YUPPIEE",
          "Doomhammer",
          "DinghisKhan",
          "YoonRoot",
          "3N1GmA",
          "synthtail",
          "SevenWolf",
          "FZTEAMLDS",
          "1125",
          "BombBurst",
          "SILPHTV",
          "SexyPIG",
          "TOP_94",
          "zeggi",
          "baoli6666666",
          "Toadoo1"
         ],
         "y": [
          17,
          33,
          5,
          8,
          6,
          16,
          142,
          19,
          44,
          8,
          116,
          335,
          87,
          72,
          23,
          3,
          165,
          65,
          16,
          45,
          55,
          45,
          9,
          14,
          277,
          265,
          77,
          52,
          56,
          22
         ]
        },
        {
         "name": "Wins",
         "type": "bar",
         "x": [
          "BreakNeck",
          "Blackwalk",
          "mercedes_benz",
          "DORA",
          "n2tstar",
          "coldoxygen",
          "Giken",
          "KoreaNo1",
          "undor",
          "Fordune",
          "PandaTV-Tongk",
          "Benny-_-",
          "PanDaTV_Karl",
          "homeboye",
          "YUPPIEE",
          "Doomhammer",
          "DinghisKhan",
          "YoonRoot",
          "3N1GmA",
          "synthtail",
          "SevenWolf",
          "FZTEAMLDS",
          "1125",
          "BombBurst",
          "SILPHTV",
          "SexyPIG",
          "TOP_94",
          "zeggi",
          "baoli6666666",
          "Toadoo1"
         ],
         "y": [
          3,
          6,
          0,
          4,
          2,
          5,
          12,
          5,
          6,
          2,
          7,
          4,
          9,
          4,
          3,
          1,
          38,
          12,
          6,
          2,
          7,
          4,
          3,
          2,
          48,
          63,
          4,
          3,
          3,
          2
         ]
        }
       ],
       "layout": {
        "barmode": "group",
        "template": {
         "data": {
          "bar": [
           {
            "error_x": {
             "color": "#2a3f5f"
            },
            "error_y": {
             "color": "#2a3f5f"
            },
            "marker": {
             "line": {
              "color": "#E5ECF6",
              "width": 0.5
             }
            },
            "type": "bar"
           }
          ],
          "barpolar": [
           {
            "marker": {
             "line": {
              "color": "#E5ECF6",
              "width": 0.5
             }
            },
            "type": "barpolar"
           }
          ],
          "carpet": [
           {
            "aaxis": {
             "endlinecolor": "#2a3f5f",
             "gridcolor": "white",
             "linecolor": "white",
             "minorgridcolor": "white",
             "startlinecolor": "#2a3f5f"
            },
            "baxis": {
             "endlinecolor": "#2a3f5f",
             "gridcolor": "white",
             "linecolor": "white",
             "minorgridcolor": "white",
             "startlinecolor": "#2a3f5f"
            },
            "type": "carpet"
           }
          ],
          "choropleth": [
           {
            "colorbar": {
             "outlinewidth": 0,
             "ticks": ""
            },
            "type": "choropleth"
           }
          ],
          "contour": [
           {
            "colorbar": {
             "outlinewidth": 0,
             "ticks": ""
            },
            "colorscale": [
             [
              0,
              "#0d0887"
             ],
             [
              0.1111111111111111,
              "#46039f"
             ],
             [
              0.2222222222222222,
              "#7201a8"
             ],
             [
              0.3333333333333333,
              "#9c179e"
             ],
             [
              0.4444444444444444,
              "#bd3786"
             ],
             [
              0.5555555555555556,
              "#d8576b"
             ],
             [
              0.6666666666666666,
              "#ed7953"
             ],
             [
              0.7777777777777778,
              "#fb9f3a"
             ],
             [
              0.8888888888888888,
              "#fdca26"
             ],
             [
              1,
              "#f0f921"
             ]
            ],
            "type": "contour"
           }
          ],
          "contourcarpet": [
           {
            "colorbar": {
             "outlinewidth": 0,
             "ticks": ""
            },
            "type": "contourcarpet"
           }
          ],
          "heatmap": [
           {
            "colorbar": {
             "outlinewidth": 0,
             "ticks": ""
            },
            "colorscale": [
             [
              0,
              "#0d0887"
             ],
             [
              0.1111111111111111,
              "#46039f"
             ],
             [
              0.2222222222222222,
              "#7201a8"
             ],
             [
              0.3333333333333333,
              "#9c179e"
             ],
             [
              0.4444444444444444,
              "#bd3786"
             ],
             [
              0.5555555555555556,
              "#d8576b"
             ],
             [
              0.6666666666666666,
              "#ed7953"
             ],
             [
              0.7777777777777778,
              "#fb9f3a"
             ],
             [
              0.8888888888888888,
              "#fdca26"
             ],
             [
              1,
              "#f0f921"
             ]
            ],
            "type": "heatmap"
           }
          ],
          "heatmapgl": [
           {
            "colorbar": {
             "outlinewidth": 0,
             "ticks": ""
            },
            "colorscale": [
             [
              0,
              "#0d0887"
             ],
             [
              0.1111111111111111,
              "#46039f"
             ],
             [
              0.2222222222222222,
              "#7201a8"
             ],
             [
              0.3333333333333333,
              "#9c179e"
             ],
             [
              0.4444444444444444,
              "#bd3786"
             ],
             [
              0.5555555555555556,
              "#d8576b"
             ],
             [
              0.6666666666666666,
              "#ed7953"
             ],
             [
              0.7777777777777778,
              "#fb9f3a"
             ],
             [
              0.8888888888888888,
              "#fdca26"
             ],
             [
              1,
              "#f0f921"
             ]
            ],
            "type": "heatmapgl"
           }
          ],
          "histogram": [
           {
            "marker": {
             "colorbar": {
              "outlinewidth": 0,
              "ticks": ""
             }
            },
            "type": "histogram"
           }
          ],
          "histogram2d": [
           {
            "colorbar": {
             "outlinewidth": 0,
             "ticks": ""
            },
            "colorscale": [
             [
              0,
              "#0d0887"
             ],
             [
              0.1111111111111111,
              "#46039f"
             ],
             [
              0.2222222222222222,
              "#7201a8"
             ],
             [
              0.3333333333333333,
              "#9c179e"
             ],
             [
              0.4444444444444444,
              "#bd3786"
             ],
             [
              0.5555555555555556,
              "#d8576b"
             ],
             [
              0.6666666666666666,
              "#ed7953"
             ],
             [
              0.7777777777777778,
              "#fb9f3a"
             ],
             [
              0.8888888888888888,
              "#fdca26"
             ],
             [
              1,
              "#f0f921"
             ]
            ],
            "type": "histogram2d"
           }
          ],
          "histogram2dcontour": [
           {
            "colorbar": {
             "outlinewidth": 0,
             "ticks": ""
            },
            "colorscale": [
             [
              0,
              "#0d0887"
             ],
             [
              0.1111111111111111,
              "#46039f"
             ],
             [
              0.2222222222222222,
              "#7201a8"
             ],
             [
              0.3333333333333333,
              "#9c179e"
             ],
             [
              0.4444444444444444,
              "#bd3786"
             ],
             [
              0.5555555555555556,
              "#d8576b"
             ],
             [
              0.6666666666666666,
              "#ed7953"
             ],
             [
              0.7777777777777778,
              "#fb9f3a"
             ],
             [
              0.8888888888888888,
              "#fdca26"
             ],
             [
              1,
              "#f0f921"
             ]
            ],
            "type": "histogram2dcontour"
           }
          ],
          "mesh3d": [
           {
            "colorbar": {
             "outlinewidth": 0,
             "ticks": ""
            },
            "type": "mesh3d"
           }
          ],
          "parcoords": [
           {
            "line": {
             "colorbar": {
              "outlinewidth": 0,
              "ticks": ""
             }
            },
            "type": "parcoords"
           }
          ],
          "pie": [
           {
            "automargin": true,
            "type": "pie"
           }
          ],
          "scatter": [
           {
            "marker": {
             "colorbar": {
              "outlinewidth": 0,
              "ticks": ""
             }
            },
            "type": "scatter"
           }
          ],
          "scatter3d": [
           {
            "line": {
             "colorbar": {
              "outlinewidth": 0,
              "ticks": ""
             }
            },
            "marker": {
             "colorbar": {
              "outlinewidth": 0,
              "ticks": ""
             }
            },
            "type": "scatter3d"
           }
          ],
          "scattercarpet": [
           {
            "marker": {
             "colorbar": {
              "outlinewidth": 0,
              "ticks": ""
             }
            },
            "type": "scattercarpet"
           }
          ],
          "scattergeo": [
           {
            "marker": {
             "colorbar": {
              "outlinewidth": 0,
              "ticks": ""
             }
            },
            "type": "scattergeo"
           }
          ],
          "scattergl": [
           {
            "marker": {
             "colorbar": {
              "outlinewidth": 0,
              "ticks": ""
             }
            },
            "type": "scattergl"
           }
          ],
          "scattermapbox": [
           {
            "marker": {
             "colorbar": {
              "outlinewidth": 0,
              "ticks": ""
             }
            },
            "type": "scattermapbox"
           }
          ],
          "scatterpolar": [
           {
            "marker": {
             "colorbar": {
              "outlinewidth": 0,
              "ticks": ""
             }
            },
            "type": "scatterpolar"
           }
          ],
          "scatterpolargl": [
           {
            "marker": {
             "colorbar": {
              "outlinewidth": 0,
              "ticks": ""
             }
            },
            "type": "scatterpolargl"
           }
          ],
          "scatterternary": [
           {
            "marker": {
             "colorbar": {
              "outlinewidth": 0,
              "ticks": ""
             }
            },
            "type": "scatterternary"
           }
          ],
          "surface": [
           {
            "colorbar": {
             "outlinewidth": 0,
             "ticks": ""
            },
            "colorscale": [
             [
              0,
              "#0d0887"
             ],
             [
              0.1111111111111111,
              "#46039f"
             ],
             [
              0.2222222222222222,
              "#7201a8"
             ],
             [
              0.3333333333333333,
              "#9c179e"
             ],
             [
              0.4444444444444444,
              "#bd3786"
             ],
             [
              0.5555555555555556,
              "#d8576b"
             ],
             [
              0.6666666666666666,
              "#ed7953"
             ],
             [
              0.7777777777777778,
              "#fb9f3a"
             ],
             [
              0.8888888888888888,
              "#fdca26"
             ],
             [
              1,
              "#f0f921"
             ]
            ],
            "type": "surface"
           }
          ],
          "table": [
           {
            "cells": {
             "fill": {
              "color": "#EBF0F8"
             },
             "line": {
              "color": "white"
             }
            },
            "header": {
             "fill": {
              "color": "#C8D4E3"
             },
             "line": {
              "color": "white"
             }
            },
            "type": "table"
           }
          ]
         },
         "layout": {
          "annotationdefaults": {
           "arrowcolor": "#2a3f5f",
           "arrowhead": 0,
           "arrowwidth": 1
          },
          "autotypenumbers": "strict",
          "coloraxis": {
           "colorbar": {
            "outlinewidth": 0,
            "ticks": ""
           }
          },
          "colorscale": {
           "diverging": [
            [
             0,
             "#8e0152"
            ],
            [
             0.1,
             "#c51b7d"
            ],
            [
             0.2,
             "#de77ae"
            ],
            [
             0.3,
             "#f1b6da"
            ],
            [
             0.4,
             "#fde0ef"
            ],
            [
             0.5,
             "#f7f7f7"
            ],
            [
             0.6,
             "#e6f5d0"
            ],
            [
             0.7,
             "#b8e186"
            ],
            [
             0.8,
             "#7fbc41"
            ],
            [
             0.9,
             "#4d9221"
            ],
            [
             1,
             "#276419"
            ]
           ],
           "sequential": [
            [
             0,
             "#0d0887"
            ],
            [
             0.1111111111111111,
             "#46039f"
            ],
            [
             0.2222222222222222,
             "#7201a8"
            ],
            [
             0.3333333333333333,
             "#9c179e"
            ],
            [
             0.4444444444444444,
             "#bd3786"
            ],
            [
             0.5555555555555556,
             "#d8576b"
            ],
            [
             0.6666666666666666,
             "#ed7953"
            ],
            [
             0.7777777777777778,
             "#fb9f3a"
            ],
            [
             0.8888888888888888,
             "#fdca26"
            ],
            [
             1,
             "#f0f921"
            ]
           ],
           "sequentialminus": [
            [
             0,
             "#0d0887"
            ],
            [
             0.1111111111111111,
             "#46039f"
            ],
            [
             0.2222222222222222,
             "#7201a8"
            ],
            [
             0.3333333333333333,
             "#9c179e"
            ],
            [
             0.4444444444444444,
             "#bd3786"
            ],
            [
             0.5555555555555556,
             "#d8576b"
            ],
            [
             0.6666666666666666,
             "#ed7953"
            ],
            [
             0.7777777777777778,
             "#fb9f3a"
            ],
            [
             0.8888888888888888,
             "#fdca26"
            ],
            [
             1,
             "#f0f921"
            ]
           ]
          },
          "colorway": [
           "#636efa",
           "#EF553B",
           "#00cc96",
           "#ab63fa",
           "#FFA15A",
           "#19d3f3",
           "#FF6692",
           "#B6E880",
           "#FF97FF",
           "#FECB52"
          ],
          "font": {
           "color": "#2a3f5f"
          },
          "geo": {
           "bgcolor": "white",
           "lakecolor": "white",
           "landcolor": "#E5ECF6",
           "showlakes": true,
           "showland": true,
           "subunitcolor": "white"
          },
          "hoverlabel": {
           "align": "left"
          },
          "hovermode": "closest",
          "mapbox": {
           "style": "light"
          },
          "paper_bgcolor": "white",
          "plot_bgcolor": "#E5ECF6",
          "polar": {
           "angularaxis": {
            "gridcolor": "white",
            "linecolor": "white",
            "ticks": ""
           },
           "bgcolor": "#E5ECF6",
           "radialaxis": {
            "gridcolor": "white",
            "linecolor": "white",
            "ticks": ""
           }
          },
          "scene": {
           "xaxis": {
            "backgroundcolor": "#E5ECF6",
            "gridcolor": "white",
            "gridwidth": 2,
            "linecolor": "white",
            "showbackground": true,
            "ticks": "",
            "zerolinecolor": "white"
           },
           "yaxis": {
            "backgroundcolor": "#E5ECF6",
            "gridcolor": "white",
            "gridwidth": 2,
            "linecolor": "white",
            "showbackground": true,
            "ticks": "",
            "zerolinecolor": "white"
           },
           "zaxis": {
            "backgroundcolor": "#E5ECF6",
            "gridcolor": "white",
            "gridwidth": 2,
            "linecolor": "white",
            "showbackground": true,
            "ticks": "",
            "zerolinecolor": "white"
           }
          },
          "shapedefaults": {
           "line": {
            "color": "#2a3f5f"
           }
          },
          "ternary": {
           "aaxis": {
            "gridcolor": "white",
            "linecolor": "white",
            "ticks": ""
           },
           "baxis": {
            "gridcolor": "white",
            "linecolor": "white",
            "ticks": ""
           },
           "bgcolor": "#E5ECF6",
           "caxis": {
            "gridcolor": "white",
            "linecolor": "white",
            "ticks": ""
           }
          },
          "title": {
           "x": 0.05
          },
          "xaxis": {
           "automargin": true,
           "gridcolor": "white",
           "linecolor": "white",
           "ticks": "",
           "title": {
            "standoff": 15
           },
           "zerolinecolor": "white",
           "zerolinewidth": 2
          },
          "yaxis": {
           "automargin": true,
           "gridcolor": "white",
           "linecolor": "white",
           "ticks": "",
           "title": {
            "standoff": 15
           },
           "zerolinecolor": "white",
           "zerolinewidth": 2
          }
         }
        }
       }
      },
      "text/html": [
       "<div>                            <div id=\"41cf32ec-858a-4a7a-b959-d4c25b036a7f\" class=\"plotly-graph-div\" style=\"height:525px; width:100%;\"></div>            <script type=\"text/javascript\">                require([\"plotly\"], function(Plotly) {                    window.PLOTLYENV=window.PLOTLYENV || {};                                    if (document.getElementById(\"41cf32ec-858a-4a7a-b959-d4c25b036a7f\")) {                    Plotly.newPlot(                        \"41cf32ec-858a-4a7a-b959-d4c25b036a7f\",                        [{\"name\": \"Rounds Played\", \"type\": \"bar\", \"x\": [\"BreakNeck\", \"Blackwalk\", \"mercedes_benz\", \"DORA\", \"n2tstar\", \"coldoxygen\", \"Giken\", \"KoreaNo1\", \"undor\", \"Fordune\", \"PandaTV-Tongk\", \"Benny-_-\", \"PanDaTV_Karl\", \"homeboye\", \"YUPPIEE\", \"Doomhammer\", \"DinghisKhan\", \"YoonRoot\", \"3N1GmA\", \"synthtail\", \"SevenWolf\", \"FZTEAMLDS\", \"1125\", \"BombBurst\", \"SILPHTV\", \"SexyPIG\", \"TOP_94\", \"zeggi\", \"baoli6666666\", \"Toadoo1\"], \"y\": [17, 33, 5, 8, 6, 16, 142, 19, 44, 8, 116, 335, 87, 72, 23, 3, 165, 65, 16, 45, 55, 45, 9, 14, 277, 265, 77, 52, 56, 22]}, {\"name\": \"Wins\", \"type\": \"bar\", \"x\": [\"BreakNeck\", \"Blackwalk\", \"mercedes_benz\", \"DORA\", \"n2tstar\", \"coldoxygen\", \"Giken\", \"KoreaNo1\", \"undor\", \"Fordune\", \"PandaTV-Tongk\", \"Benny-_-\", \"PanDaTV_Karl\", \"homeboye\", \"YUPPIEE\", \"Doomhammer\", \"DinghisKhan\", \"YoonRoot\", \"3N1GmA\", \"synthtail\", \"SevenWolf\", \"FZTEAMLDS\", \"1125\", \"BombBurst\", \"SILPHTV\", \"SexyPIG\", \"TOP_94\", \"zeggi\", \"baoli6666666\", \"Toadoo1\"], \"y\": [3, 6, 0, 4, 2, 5, 12, 5, 6, 2, 7, 4, 9, 4, 3, 1, 38, 12, 6, 2, 7, 4, 3, 2, 48, 63, 4, 3, 3, 2]}],                        {\"barmode\": \"group\", \"template\": {\"data\": {\"bar\": [{\"error_x\": {\"color\": \"#2a3f5f\"}, \"error_y\": {\"color\": \"#2a3f5f\"}, \"marker\": {\"line\": {\"color\": \"#E5ECF6\", \"width\": 0.5}}, \"type\": \"bar\"}], \"barpolar\": [{\"marker\": {\"line\": {\"color\": \"#E5ECF6\", \"width\": 0.5}}, \"type\": \"barpolar\"}], \"carpet\": [{\"aaxis\": {\"endlinecolor\": \"#2a3f5f\", \"gridcolor\": \"white\", \"linecolor\": \"white\", \"minorgridcolor\": \"white\", \"startlinecolor\": \"#2a3f5f\"}, \"baxis\": {\"endlinecolor\": \"#2a3f5f\", \"gridcolor\": \"white\", \"linecolor\": \"white\", \"minorgridcolor\": \"white\", \"startlinecolor\": \"#2a3f5f\"}, \"type\": \"carpet\"}], \"choropleth\": [{\"colorbar\": {\"outlinewidth\": 0, \"ticks\": \"\"}, \"type\": \"choropleth\"}], \"contour\": [{\"colorbar\": {\"outlinewidth\": 0, \"ticks\": \"\"}, \"colorscale\": [[0.0, \"#0d0887\"], [0.1111111111111111, \"#46039f\"], [0.2222222222222222, \"#7201a8\"], [0.3333333333333333, \"#9c179e\"], [0.4444444444444444, \"#bd3786\"], [0.5555555555555556, \"#d8576b\"], [0.6666666666666666, \"#ed7953\"], [0.7777777777777778, \"#fb9f3a\"], [0.8888888888888888, \"#fdca26\"], [1.0, \"#f0f921\"]], \"type\": \"contour\"}], \"contourcarpet\": [{\"colorbar\": {\"outlinewidth\": 0, \"ticks\": \"\"}, \"type\": \"contourcarpet\"}], \"heatmap\": [{\"colorbar\": {\"outlinewidth\": 0, \"ticks\": \"\"}, \"colorscale\": [[0.0, \"#0d0887\"], [0.1111111111111111, \"#46039f\"], [0.2222222222222222, \"#7201a8\"], [0.3333333333333333, \"#9c179e\"], [0.4444444444444444, \"#bd3786\"], [0.5555555555555556, \"#d8576b\"], [0.6666666666666666, \"#ed7953\"], [0.7777777777777778, \"#fb9f3a\"], [0.8888888888888888, \"#fdca26\"], [1.0, \"#f0f921\"]], \"type\": \"heatmap\"}], \"heatmapgl\": [{\"colorbar\": {\"outlinewidth\": 0, \"ticks\": \"\"}, \"colorscale\": [[0.0, \"#0d0887\"], [0.1111111111111111, \"#46039f\"], [0.2222222222222222, \"#7201a8\"], [0.3333333333333333, \"#9c179e\"], [0.4444444444444444, \"#bd3786\"], [0.5555555555555556, \"#d8576b\"], [0.6666666666666666, \"#ed7953\"], [0.7777777777777778, \"#fb9f3a\"], [0.8888888888888888, \"#fdca26\"], [1.0, \"#f0f921\"]], \"type\": \"heatmapgl\"}], \"histogram\": [{\"marker\": {\"colorbar\": {\"outlinewidth\": 0, \"ticks\": \"\"}}, \"type\": \"histogram\"}], \"histogram2d\": [{\"colorbar\": {\"outlinewidth\": 0, \"ticks\": \"\"}, \"colorscale\": [[0.0, \"#0d0887\"], [0.1111111111111111, \"#46039f\"], [0.2222222222222222, \"#7201a8\"], [0.3333333333333333, \"#9c179e\"], [0.4444444444444444, \"#bd3786\"], [0.5555555555555556, \"#d8576b\"], [0.6666666666666666, \"#ed7953\"], [0.7777777777777778, \"#fb9f3a\"], [0.8888888888888888, \"#fdca26\"], [1.0, \"#f0f921\"]], \"type\": \"histogram2d\"}], \"histogram2dcontour\": [{\"colorbar\": {\"outlinewidth\": 0, \"ticks\": \"\"}, \"colorscale\": [[0.0, \"#0d0887\"], [0.1111111111111111, \"#46039f\"], [0.2222222222222222, \"#7201a8\"], [0.3333333333333333, \"#9c179e\"], [0.4444444444444444, \"#bd3786\"], [0.5555555555555556, \"#d8576b\"], [0.6666666666666666, \"#ed7953\"], [0.7777777777777778, \"#fb9f3a\"], [0.8888888888888888, \"#fdca26\"], [1.0, \"#f0f921\"]], \"type\": \"histogram2dcontour\"}], \"mesh3d\": [{\"colorbar\": {\"outlinewidth\": 0, \"ticks\": \"\"}, \"type\": \"mesh3d\"}], \"parcoords\": [{\"line\": {\"colorbar\": {\"outlinewidth\": 0, \"ticks\": \"\"}}, \"type\": \"parcoords\"}], \"pie\": [{\"automargin\": true, \"type\": \"pie\"}], \"scatter\": [{\"marker\": {\"colorbar\": {\"outlinewidth\": 0, \"ticks\": \"\"}}, \"type\": \"scatter\"}], \"scatter3d\": [{\"line\": {\"colorbar\": {\"outlinewidth\": 0, \"ticks\": \"\"}}, \"marker\": {\"colorbar\": {\"outlinewidth\": 0, \"ticks\": \"\"}}, \"type\": \"scatter3d\"}], \"scattercarpet\": [{\"marker\": {\"colorbar\": {\"outlinewidth\": 0, \"ticks\": \"\"}}, \"type\": \"scattercarpet\"}], \"scattergeo\": [{\"marker\": {\"colorbar\": {\"outlinewidth\": 0, \"ticks\": \"\"}}, \"type\": \"scattergeo\"}], \"scattergl\": [{\"marker\": {\"colorbar\": {\"outlinewidth\": 0, \"ticks\": \"\"}}, \"type\": \"scattergl\"}], \"scattermapbox\": [{\"marker\": {\"colorbar\": {\"outlinewidth\": 0, \"ticks\": \"\"}}, \"type\": \"scattermapbox\"}], \"scatterpolar\": [{\"marker\": {\"colorbar\": {\"outlinewidth\": 0, \"ticks\": \"\"}}, \"type\": \"scatterpolar\"}], \"scatterpolargl\": [{\"marker\": {\"colorbar\": {\"outlinewidth\": 0, \"ticks\": \"\"}}, \"type\": \"scatterpolargl\"}], \"scatterternary\": [{\"marker\": {\"colorbar\": {\"outlinewidth\": 0, \"ticks\": \"\"}}, \"type\": \"scatterternary\"}], \"surface\": [{\"colorbar\": {\"outlinewidth\": 0, \"ticks\": \"\"}, \"colorscale\": [[0.0, \"#0d0887\"], [0.1111111111111111, \"#46039f\"], [0.2222222222222222, \"#7201a8\"], [0.3333333333333333, \"#9c179e\"], [0.4444444444444444, \"#bd3786\"], [0.5555555555555556, \"#d8576b\"], [0.6666666666666666, \"#ed7953\"], [0.7777777777777778, \"#fb9f3a\"], [0.8888888888888888, \"#fdca26\"], [1.0, \"#f0f921\"]], \"type\": \"surface\"}], \"table\": [{\"cells\": {\"fill\": {\"color\": \"#EBF0F8\"}, \"line\": {\"color\": \"white\"}}, \"header\": {\"fill\": {\"color\": \"#C8D4E3\"}, \"line\": {\"color\": \"white\"}}, \"type\": \"table\"}]}, \"layout\": {\"annotationdefaults\": {\"arrowcolor\": \"#2a3f5f\", \"arrowhead\": 0, \"arrowwidth\": 1}, \"autotypenumbers\": \"strict\", \"coloraxis\": {\"colorbar\": {\"outlinewidth\": 0, \"ticks\": \"\"}}, \"colorscale\": {\"diverging\": [[0, \"#8e0152\"], [0.1, \"#c51b7d\"], [0.2, \"#de77ae\"], [0.3, \"#f1b6da\"], [0.4, \"#fde0ef\"], [0.5, \"#f7f7f7\"], [0.6, \"#e6f5d0\"], [0.7, \"#b8e186\"], [0.8, \"#7fbc41\"], [0.9, \"#4d9221\"], [1, \"#276419\"]], \"sequential\": [[0.0, \"#0d0887\"], [0.1111111111111111, \"#46039f\"], [0.2222222222222222, \"#7201a8\"], [0.3333333333333333, \"#9c179e\"], [0.4444444444444444, \"#bd3786\"], [0.5555555555555556, \"#d8576b\"], [0.6666666666666666, \"#ed7953\"], [0.7777777777777778, \"#fb9f3a\"], [0.8888888888888888, \"#fdca26\"], [1.0, \"#f0f921\"]], \"sequentialminus\": [[0.0, \"#0d0887\"], [0.1111111111111111, \"#46039f\"], [0.2222222222222222, \"#7201a8\"], [0.3333333333333333, \"#9c179e\"], [0.4444444444444444, \"#bd3786\"], [0.5555555555555556, \"#d8576b\"], [0.6666666666666666, \"#ed7953\"], [0.7777777777777778, \"#fb9f3a\"], [0.8888888888888888, \"#fdca26\"], [1.0, \"#f0f921\"]]}, \"colorway\": [\"#636efa\", \"#EF553B\", \"#00cc96\", \"#ab63fa\", \"#FFA15A\", \"#19d3f3\", \"#FF6692\", \"#B6E880\", \"#FF97FF\", \"#FECB52\"], \"font\": {\"color\": \"#2a3f5f\"}, \"geo\": {\"bgcolor\": \"white\", \"lakecolor\": \"white\", \"landcolor\": \"#E5ECF6\", \"showlakes\": true, \"showland\": true, \"subunitcolor\": \"white\"}, \"hoverlabel\": {\"align\": \"left\"}, \"hovermode\": \"closest\", \"mapbox\": {\"style\": \"light\"}, \"paper_bgcolor\": \"white\", \"plot_bgcolor\": \"#E5ECF6\", \"polar\": {\"angularaxis\": {\"gridcolor\": \"white\", \"linecolor\": \"white\", \"ticks\": \"\"}, \"bgcolor\": \"#E5ECF6\", \"radialaxis\": {\"gridcolor\": \"white\", \"linecolor\": \"white\", \"ticks\": \"\"}}, \"scene\": {\"xaxis\": {\"backgroundcolor\": \"#E5ECF6\", \"gridcolor\": \"white\", \"gridwidth\": 2, \"linecolor\": \"white\", \"showbackground\": true, \"ticks\": \"\", \"zerolinecolor\": \"white\"}, \"yaxis\": {\"backgroundcolor\": \"#E5ECF6\", \"gridcolor\": \"white\", \"gridwidth\": 2, \"linecolor\": \"white\", \"showbackground\": true, \"ticks\": \"\", \"zerolinecolor\": \"white\"}, \"zaxis\": {\"backgroundcolor\": \"#E5ECF6\", \"gridcolor\": \"white\", \"gridwidth\": 2, \"linecolor\": \"white\", \"showbackground\": true, \"ticks\": \"\", \"zerolinecolor\": \"white\"}}, \"shapedefaults\": {\"line\": {\"color\": \"#2a3f5f\"}}, \"ternary\": {\"aaxis\": {\"gridcolor\": \"white\", \"linecolor\": \"white\", \"ticks\": \"\"}, \"baxis\": {\"gridcolor\": \"white\", \"linecolor\": \"white\", \"ticks\": \"\"}, \"bgcolor\": \"#E5ECF6\", \"caxis\": {\"gridcolor\": \"white\", \"linecolor\": \"white\", \"ticks\": \"\"}}, \"title\": {\"x\": 0.05}, \"xaxis\": {\"automargin\": true, \"gridcolor\": \"white\", \"linecolor\": \"white\", \"ticks\": \"\", \"title\": {\"standoff\": 15}, \"zerolinecolor\": \"white\", \"zerolinewidth\": 2}, \"yaxis\": {\"automargin\": true, \"gridcolor\": \"white\", \"linecolor\": \"white\", \"ticks\": \"\", \"title\": {\"standoff\": 15}, \"zerolinecolor\": \"white\", \"zerolinewidth\": 2}}}},                        {\"responsive\": true}                    ).then(function(){\n",
       "                            \n",
       "var gd = document.getElementById('41cf32ec-858a-4a7a-b959-d4c25b036a7f');\n",
       "var x = new MutationObserver(function (mutations, observer) {{\n",
       "        var display = window.getComputedStyle(gd).display;\n",
       "        if (!display || display === 'none') {{\n",
       "            console.log([gd, 'removed!']);\n",
       "            Plotly.purge(gd);\n",
       "            observer.disconnect();\n",
       "        }}\n",
       "}});\n",
       "\n",
       "// Listen for the removal of the full notebook cells\n",
       "var notebookContainer = gd.closest('#notebook-container');\n",
       "if (notebookContainer) {{\n",
       "    x.observe(notebookContainer, {childList: true});\n",
       "}}\n",
       "\n",
       "// Listen for the clearing of the current output cell\n",
       "var outputEl = gd.closest('.output');\n",
       "if (outputEl) {{\n",
       "    x.observe(outputEl, {childList: true});\n",
       "}}\n",
       "\n",
       "                        })                };                });            </script>        </div>"
      ]
     },
     "metadata": {},
     "output_type": "display_data"
    }
   ],
   "source": [
    "data = [trace1, trace2]\n",
    "layout = go.Layout(barmode='group')\n",
    "\n",
    "fig = go.Figure(data=data, layout=layout)\n",
    "iplot(fig, filename='grouped-bar')"
   ]
  },
  {
   "cell_type": "markdown",
   "metadata": {},
   "source": [
    "## <center> Episode 4 </center>"
   ]
  },
  {
   "cell_type": "code",
   "execution_count": 17,
   "metadata": {
    "scrolled": true
   },
   "outputs": [
    {
     "data": {
      "text/html": [
       "<div>\n",
       "<style scoped>\n",
       "    .dataframe tbody tr th:only-of-type {\n",
       "        vertical-align: middle;\n",
       "    }\n",
       "\n",
       "    .dataframe tbody tr th {\n",
       "        vertical-align: top;\n",
       "    }\n",
       "\n",
       "    .dataframe thead th {\n",
       "        text-align: right;\n",
       "    }\n",
       "</style>\n",
       "<table border=\"1\" class=\"dataframe\">\n",
       "  <thead>\n",
       "    <tr style=\"text-align: right;\">\n",
       "      <th></th>\n",
       "      <th>player_name</th>\n",
       "      <th>tracker_id</th>\n",
       "      <th>solo_KillDeathRatio</th>\n",
       "      <th>solo_WinRatio</th>\n",
       "      <th>solo_TimeSurvived</th>\n",
       "      <th>solo_RoundsPlayed</th>\n",
       "      <th>solo_Wins</th>\n",
       "      <th>solo_WinTop10Ratio</th>\n",
       "      <th>solo_Top10s</th>\n",
       "      <th>solo_Top10Ratio</th>\n",
       "      <th>...</th>\n",
       "      <th>squad_RideDistance</th>\n",
       "      <th>squad_MoveDistance</th>\n",
       "      <th>squad_AvgWalkDistance</th>\n",
       "      <th>squad_AvgRideDistance</th>\n",
       "      <th>squad_LongestKill</th>\n",
       "      <th>squad_Heals</th>\n",
       "      <th>squad_Revives</th>\n",
       "      <th>squad_Boosts</th>\n",
       "      <th>squad_DamageDealt</th>\n",
       "      <th>squad_DBNOs</th>\n",
       "    </tr>\n",
       "  </thead>\n",
       "  <tbody>\n",
       "    <tr>\n",
       "      <th>0</th>\n",
       "      <td>BreakNeck</td>\n",
       "      <td>4405</td>\n",
       "      <td>3.14</td>\n",
       "      <td>17.65</td>\n",
       "      <td>18469.14</td>\n",
       "      <td>17</td>\n",
       "      <td>3</td>\n",
       "      <td>0.83</td>\n",
       "      <td>4</td>\n",
       "      <td>23.5</td>\n",
       "      <td>...</td>\n",
       "      <td>3751590.99</td>\n",
       "      <td>5194786.58</td>\n",
       "      <td>2626.97</td>\n",
       "      <td>4372.64</td>\n",
       "      <td>536.98</td>\n",
       "      <td>2186</td>\n",
       "      <td>234</td>\n",
       "      <td>1884</td>\n",
       "      <td>242132.73</td>\n",
       "      <td>1448</td>\n",
       "    </tr>\n",
       "    <tr>\n",
       "      <th>1</th>\n",
       "      <td>Blackwalk</td>\n",
       "      <td>8199</td>\n",
       "      <td>4.41</td>\n",
       "      <td>18.18</td>\n",
       "      <td>33014.86</td>\n",
       "      <td>33</td>\n",
       "      <td>6</td>\n",
       "      <td>0.36</td>\n",
       "      <td>11</td>\n",
       "      <td>33.3</td>\n",
       "      <td>...</td>\n",
       "      <td>4295917.30</td>\n",
       "      <td>6051783.67</td>\n",
       "      <td>2422.48</td>\n",
       "      <td>6009.73</td>\n",
       "      <td>734.85</td>\n",
       "      <td>2041</td>\n",
       "      <td>276</td>\n",
       "      <td>2340</td>\n",
       "      <td>269795.75</td>\n",
       "      <td>1724</td>\n",
       "    </tr>\n",
       "    <tr>\n",
       "      <th>2</th>\n",
       "      <td>mercedes_benz</td>\n",
       "      <td>4454</td>\n",
       "      <td>3.60</td>\n",
       "      <td>0.00</td>\n",
       "      <td>4330.44</td>\n",
       "      <td>5</td>\n",
       "      <td>0</td>\n",
       "      <td>0.00</td>\n",
       "      <td>1</td>\n",
       "      <td>20.0</td>\n",
       "      <td>...</td>\n",
       "      <td>3935265.63</td>\n",
       "      <td>5589608.74</td>\n",
       "      <td>1871.89</td>\n",
       "      <td>3011.87</td>\n",
       "      <td>725.44</td>\n",
       "      <td>1766</td>\n",
       "      <td>210</td>\n",
       "      <td>2193</td>\n",
       "      <td>292977.07</td>\n",
       "      <td>1897</td>\n",
       "    </tr>\n",
       "    <tr>\n",
       "      <th>3</th>\n",
       "      <td>DORA</td>\n",
       "      <td>7729</td>\n",
       "      <td>14.00</td>\n",
       "      <td>50.00</td>\n",
       "      <td>13421.82</td>\n",
       "      <td>8</td>\n",
       "      <td>4</td>\n",
       "      <td>0.67</td>\n",
       "      <td>6</td>\n",
       "      <td>75.0</td>\n",
       "      <td>...</td>\n",
       "      <td>2738998.00</td>\n",
       "      <td>3796916.00</td>\n",
       "      <td>2154.62</td>\n",
       "      <td>5578.41</td>\n",
       "      <td>587.28</td>\n",
       "      <td>1214</td>\n",
       "      <td>142</td>\n",
       "      <td>1252</td>\n",
       "      <td>181106.90</td>\n",
       "      <td>1057</td>\n",
       "    </tr>\n",
       "    <tr>\n",
       "      <th>4</th>\n",
       "      <td>n2tstar</td>\n",
       "      <td>0</td>\n",
       "      <td>10.50</td>\n",
       "      <td>33.33</td>\n",
       "      <td>9841.04</td>\n",
       "      <td>6</td>\n",
       "      <td>2</td>\n",
       "      <td>0.40</td>\n",
       "      <td>5</td>\n",
       "      <td>83.3</td>\n",
       "      <td>...</td>\n",
       "      <td>2347295.00</td>\n",
       "      <td>3220260.00</td>\n",
       "      <td>2098.47</td>\n",
       "      <td>5642.54</td>\n",
       "      <td>546.10</td>\n",
       "      <td>1245</td>\n",
       "      <td>120</td>\n",
       "      <td>923</td>\n",
       "      <td>160029.80</td>\n",
       "      <td>1077</td>\n",
       "    </tr>\n",
       "    <tr>\n",
       "      <th>5</th>\n",
       "      <td>coldoxygen</td>\n",
       "      <td>33313</td>\n",
       "      <td>5.73</td>\n",
       "      <td>31.25</td>\n",
       "      <td>22003.22</td>\n",
       "      <td>16</td>\n",
       "      <td>5</td>\n",
       "      <td>0.50</td>\n",
       "      <td>10</td>\n",
       "      <td>62.5</td>\n",
       "      <td>...</td>\n",
       "      <td>3218436.00</td>\n",
       "      <td>4733977.00</td>\n",
       "      <td>2078.93</td>\n",
       "      <td>4414.86</td>\n",
       "      <td>1212.76</td>\n",
       "      <td>2023</td>\n",
       "      <td>195</td>\n",
       "      <td>2307</td>\n",
       "      <td>238640.00</td>\n",
       "      <td>1450</td>\n",
       "    </tr>\n",
       "    <tr>\n",
       "      <th>6</th>\n",
       "      <td>Giken</td>\n",
       "      <td>15585</td>\n",
       "      <td>2.45</td>\n",
       "      <td>8.45</td>\n",
       "      <td>148051.25</td>\n",
       "      <td>142</td>\n",
       "      <td>12</td>\n",
       "      <td>0.18</td>\n",
       "      <td>34</td>\n",
       "      <td>23.9</td>\n",
       "      <td>...</td>\n",
       "      <td>2057423.12</td>\n",
       "      <td>2883099.31</td>\n",
       "      <td>1664.77</td>\n",
       "      <td>3022.51</td>\n",
       "      <td>564.20</td>\n",
       "      <td>1274</td>\n",
       "      <td>133</td>\n",
       "      <td>1320</td>\n",
       "      <td>132008.88</td>\n",
       "      <td>775</td>\n",
       "    </tr>\n",
       "    <tr>\n",
       "      <th>7</th>\n",
       "      <td>KoreaNo1</td>\n",
       "      <td>9454</td>\n",
       "      <td>2.71</td>\n",
       "      <td>26.32</td>\n",
       "      <td>26091.14</td>\n",
       "      <td>19</td>\n",
       "      <td>5</td>\n",
       "      <td>0.50</td>\n",
       "      <td>10</td>\n",
       "      <td>52.6</td>\n",
       "      <td>...</td>\n",
       "      <td>3586593.00</td>\n",
       "      <td>4854387.00</td>\n",
       "      <td>1635.86</td>\n",
       "      <td>4627.86</td>\n",
       "      <td>806.24</td>\n",
       "      <td>2199</td>\n",
       "      <td>163</td>\n",
       "      <td>1864</td>\n",
       "      <td>201659.00</td>\n",
       "      <td>1287</td>\n",
       "    </tr>\n",
       "    <tr>\n",
       "      <th>8</th>\n",
       "      <td>undor</td>\n",
       "      <td>24029</td>\n",
       "      <td>3.68</td>\n",
       "      <td>13.64</td>\n",
       "      <td>49282.41</td>\n",
       "      <td>44</td>\n",
       "      <td>6</td>\n",
       "      <td>0.23</td>\n",
       "      <td>13</td>\n",
       "      <td>29.5</td>\n",
       "      <td>...</td>\n",
       "      <td>1054263.00</td>\n",
       "      <td>1550975.00</td>\n",
       "      <td>2207.61</td>\n",
       "      <td>4685.61</td>\n",
       "      <td>455.67</td>\n",
       "      <td>617</td>\n",
       "      <td>61</td>\n",
       "      <td>585</td>\n",
       "      <td>80498.73</td>\n",
       "      <td>513</td>\n",
       "    </tr>\n",
       "    <tr>\n",
       "      <th>9</th>\n",
       "      <td>Fordune</td>\n",
       "      <td>11289</td>\n",
       "      <td>4.17</td>\n",
       "      <td>25.00</td>\n",
       "      <td>10280.77</td>\n",
       "      <td>8</td>\n",
       "      <td>2</td>\n",
       "      <td>0.25</td>\n",
       "      <td>4</td>\n",
       "      <td>50.0</td>\n",
       "      <td>...</td>\n",
       "      <td>2793909.91</td>\n",
       "      <td>4071039.87</td>\n",
       "      <td>1981.29</td>\n",
       "      <td>3635.28</td>\n",
       "      <td>546.95</td>\n",
       "      <td>1320</td>\n",
       "      <td>220</td>\n",
       "      <td>1338</td>\n",
       "      <td>123573.74</td>\n",
       "      <td>675</td>\n",
       "    </tr>\n",
       "  </tbody>\n",
       "</table>\n",
       "<p>10 rows × 152 columns</p>\n",
       "</div>"
      ],
      "text/plain": [
       "     player_name  tracker_id  solo_KillDeathRatio  solo_WinRatio  \\\n",
       "0      BreakNeck        4405                 3.14          17.65   \n",
       "1      Blackwalk        8199                 4.41          18.18   \n",
       "2  mercedes_benz        4454                 3.60           0.00   \n",
       "3           DORA        7729                14.00          50.00   \n",
       "4        n2tstar           0                10.50          33.33   \n",
       "5     coldoxygen       33313                 5.73          31.25   \n",
       "6          Giken       15585                 2.45           8.45   \n",
       "7       KoreaNo1        9454                 2.71          26.32   \n",
       "8          undor       24029                 3.68          13.64   \n",
       "9        Fordune       11289                 4.17          25.00   \n",
       "\n",
       "   solo_TimeSurvived  solo_RoundsPlayed  solo_Wins  solo_WinTop10Ratio  \\\n",
       "0           18469.14                 17          3                0.83   \n",
       "1           33014.86                 33          6                0.36   \n",
       "2            4330.44                  5          0                0.00   \n",
       "3           13421.82                  8          4                0.67   \n",
       "4            9841.04                  6          2                0.40   \n",
       "5           22003.22                 16          5                0.50   \n",
       "6          148051.25                142         12                0.18   \n",
       "7           26091.14                 19          5                0.50   \n",
       "8           49282.41                 44          6                0.23   \n",
       "9           10280.77                  8          2                0.25   \n",
       "\n",
       "   solo_Top10s  solo_Top10Ratio  ...  squad_RideDistance  squad_MoveDistance  \\\n",
       "0            4             23.5  ...          3751590.99          5194786.58   \n",
       "1           11             33.3  ...          4295917.30          6051783.67   \n",
       "2            1             20.0  ...          3935265.63          5589608.74   \n",
       "3            6             75.0  ...          2738998.00          3796916.00   \n",
       "4            5             83.3  ...          2347295.00          3220260.00   \n",
       "5           10             62.5  ...          3218436.00          4733977.00   \n",
       "6           34             23.9  ...          2057423.12          2883099.31   \n",
       "7           10             52.6  ...          3586593.00          4854387.00   \n",
       "8           13             29.5  ...          1054263.00          1550975.00   \n",
       "9            4             50.0  ...          2793909.91          4071039.87   \n",
       "\n",
       "   squad_AvgWalkDistance  squad_AvgRideDistance  squad_LongestKill  \\\n",
       "0                2626.97                4372.64             536.98   \n",
       "1                2422.48                6009.73             734.85   \n",
       "2                1871.89                3011.87             725.44   \n",
       "3                2154.62                5578.41             587.28   \n",
       "4                2098.47                5642.54             546.10   \n",
       "5                2078.93                4414.86            1212.76   \n",
       "6                1664.77                3022.51             564.20   \n",
       "7                1635.86                4627.86             806.24   \n",
       "8                2207.61                4685.61             455.67   \n",
       "9                1981.29                3635.28             546.95   \n",
       "\n",
       "   squad_Heals  squad_Revives  squad_Boosts  squad_DamageDealt  squad_DBNOs  \n",
       "0         2186            234          1884          242132.73         1448  \n",
       "1         2041            276          2340          269795.75         1724  \n",
       "2         1766            210          2193          292977.07         1897  \n",
       "3         1214            142          1252          181106.90         1057  \n",
       "4         1245            120           923          160029.80         1077  \n",
       "5         2023            195          2307          238640.00         1450  \n",
       "6         1274            133          1320          132008.88          775  \n",
       "7         2199            163          1864          201659.00         1287  \n",
       "8          617             61           585           80498.73          513  \n",
       "9         1320            220          1338          123573.74          675  \n",
       "\n",
       "[10 rows x 152 columns]"
      ]
     },
     "execution_count": 17,
     "metadata": {},
     "output_type": "execute_result"
    }
   ],
   "source": [
    "df_bar_pubg.head(10)"
   ]
  },
  {
   "cell_type": "code",
   "execution_count": 18,
   "metadata": {},
   "outputs": [
    {
     "data": {
      "application/vnd.plotly.v1+json": {
       "config": {
        "linkText": "Export to plot.ly",
        "plotlyServerURL": "https://plot.ly",
        "showLink": false
       },
       "data": [
        {
         "marker": {
          "color": "rgb(0, 0, 128)",
          "opacity": 0.4,
          "size": 3
         },
         "mode": "markers",
         "name": "points",
         "type": "scatter",
         "x": [
          3,
          6,
          0,
          4,
          2,
          5,
          12,
          5,
          6,
          2,
          7,
          4,
          9,
          4,
          3,
          1,
          38,
          12,
          6,
          2,
          7,
          4,
          3,
          2,
          48,
          63,
          4,
          3,
          3,
          2
         ],
         "y": [
          18469.14,
          33014.86,
          4330.44,
          13421.82,
          9841.04,
          22003.22,
          148051.25,
          26091.14,
          49282.41,
          10280.77,
          106330.23,
          232995.54,
          91380.4,
          71910.46,
          30996.86,
          3638.01,
          246771.12,
          87214.43,
          20927.23,
          45916.37,
          62763.42,
          43124.07,
          11733.19,
          18488.62,
          331173.26,
          397022.2,
          87514.41,
          53548.14,
          47966.09,
          25094.18
         ]
        },
        {
         "colorscale": [
          [
           0,
           "rgb(122, 69, 121)"
          ],
          [
           0.25,
           "rgb(213, 96, 115)"
          ],
          [
           0.5,
           "rgb(236, 158, 105)"
          ],
          [
           0.75,
           "rgb(255, 255, 51)"
          ],
          [
           1,
           "rgb(250, 250, 250)"
          ]
         ],
         "name": "density",
         "ncontours": 20,
         "reversescale": true,
         "showscale": false,
         "type": "histogram2dcontour",
         "x": [
          3,
          6,
          0,
          4,
          2,
          5,
          12,
          5,
          6,
          2,
          7,
          4,
          9,
          4,
          3,
          1,
          38,
          12,
          6,
          2,
          7,
          4,
          3,
          2,
          48,
          63,
          4,
          3,
          3,
          2
         ],
         "y": [
          18469.14,
          33014.86,
          4330.44,
          13421.82,
          9841.04,
          22003.22,
          148051.25,
          26091.14,
          49282.41,
          10280.77,
          106330.23,
          232995.54,
          91380.4,
          71910.46,
          30996.86,
          3638.01,
          246771.12,
          87214.43,
          20927.23,
          45916.37,
          62763.42,
          43124.07,
          11733.19,
          18488.62,
          331173.26,
          397022.2,
          87514.41,
          53548.14,
          47966.09,
          25094.18
         ]
        },
        {
         "marker": {
          "color": "rgb(255, 237, 222)"
         },
         "name": "x density",
         "type": "histogram",
         "x": [
          3,
          6,
          0,
          4,
          2,
          5,
          12,
          5,
          6,
          2,
          7,
          4,
          9,
          4,
          3,
          1,
          38,
          12,
          6,
          2,
          7,
          4,
          3,
          2,
          48,
          63,
          4,
          3,
          3,
          2
         ],
         "yaxis": "y2"
        },
        {
         "marker": {
          "color": "rgb(255, 237, 222)"
         },
         "name": "y density",
         "type": "histogram",
         "xaxis": "x2",
         "y": [
          18469.14,
          33014.86,
          4330.44,
          13421.82,
          9841.04,
          22003.22,
          148051.25,
          26091.14,
          49282.41,
          10280.77,
          106330.23,
          232995.54,
          91380.4,
          71910.46,
          30996.86,
          3638.01,
          246771.12,
          87214.43,
          20927.23,
          45916.37,
          62763.42,
          43124.07,
          11733.19,
          18488.62,
          331173.26,
          397022.2,
          87514.41,
          53548.14,
          47966.09,
          25094.18
         ]
        }
       ],
       "layout": {
        "autosize": false,
        "bargap": 0,
        "height": 600,
        "hovermode": "closest",
        "margin": {
         "t": 50
        },
        "showlegend": false,
        "template": {
         "data": {
          "bar": [
           {
            "error_x": {
             "color": "#2a3f5f"
            },
            "error_y": {
             "color": "#2a3f5f"
            },
            "marker": {
             "line": {
              "color": "#E5ECF6",
              "width": 0.5
             }
            },
            "type": "bar"
           }
          ],
          "barpolar": [
           {
            "marker": {
             "line": {
              "color": "#E5ECF6",
              "width": 0.5
             }
            },
            "type": "barpolar"
           }
          ],
          "carpet": [
           {
            "aaxis": {
             "endlinecolor": "#2a3f5f",
             "gridcolor": "white",
             "linecolor": "white",
             "minorgridcolor": "white",
             "startlinecolor": "#2a3f5f"
            },
            "baxis": {
             "endlinecolor": "#2a3f5f",
             "gridcolor": "white",
             "linecolor": "white",
             "minorgridcolor": "white",
             "startlinecolor": "#2a3f5f"
            },
            "type": "carpet"
           }
          ],
          "choropleth": [
           {
            "colorbar": {
             "outlinewidth": 0,
             "ticks": ""
            },
            "type": "choropleth"
           }
          ],
          "contour": [
           {
            "colorbar": {
             "outlinewidth": 0,
             "ticks": ""
            },
            "colorscale": [
             [
              0,
              "#0d0887"
             ],
             [
              0.1111111111111111,
              "#46039f"
             ],
             [
              0.2222222222222222,
              "#7201a8"
             ],
             [
              0.3333333333333333,
              "#9c179e"
             ],
             [
              0.4444444444444444,
              "#bd3786"
             ],
             [
              0.5555555555555556,
              "#d8576b"
             ],
             [
              0.6666666666666666,
              "#ed7953"
             ],
             [
              0.7777777777777778,
              "#fb9f3a"
             ],
             [
              0.8888888888888888,
              "#fdca26"
             ],
             [
              1,
              "#f0f921"
             ]
            ],
            "type": "contour"
           }
          ],
          "contourcarpet": [
           {
            "colorbar": {
             "outlinewidth": 0,
             "ticks": ""
            },
            "type": "contourcarpet"
           }
          ],
          "heatmap": [
           {
            "colorbar": {
             "outlinewidth": 0,
             "ticks": ""
            },
            "colorscale": [
             [
              0,
              "#0d0887"
             ],
             [
              0.1111111111111111,
              "#46039f"
             ],
             [
              0.2222222222222222,
              "#7201a8"
             ],
             [
              0.3333333333333333,
              "#9c179e"
             ],
             [
              0.4444444444444444,
              "#bd3786"
             ],
             [
              0.5555555555555556,
              "#d8576b"
             ],
             [
              0.6666666666666666,
              "#ed7953"
             ],
             [
              0.7777777777777778,
              "#fb9f3a"
             ],
             [
              0.8888888888888888,
              "#fdca26"
             ],
             [
              1,
              "#f0f921"
             ]
            ],
            "type": "heatmap"
           }
          ],
          "heatmapgl": [
           {
            "colorbar": {
             "outlinewidth": 0,
             "ticks": ""
            },
            "colorscale": [
             [
              0,
              "#0d0887"
             ],
             [
              0.1111111111111111,
              "#46039f"
             ],
             [
              0.2222222222222222,
              "#7201a8"
             ],
             [
              0.3333333333333333,
              "#9c179e"
             ],
             [
              0.4444444444444444,
              "#bd3786"
             ],
             [
              0.5555555555555556,
              "#d8576b"
             ],
             [
              0.6666666666666666,
              "#ed7953"
             ],
             [
              0.7777777777777778,
              "#fb9f3a"
             ],
             [
              0.8888888888888888,
              "#fdca26"
             ],
             [
              1,
              "#f0f921"
             ]
            ],
            "type": "heatmapgl"
           }
          ],
          "histogram": [
           {
            "marker": {
             "colorbar": {
              "outlinewidth": 0,
              "ticks": ""
             }
            },
            "type": "histogram"
           }
          ],
          "histogram2d": [
           {
            "colorbar": {
             "outlinewidth": 0,
             "ticks": ""
            },
            "colorscale": [
             [
              0,
              "#0d0887"
             ],
             [
              0.1111111111111111,
              "#46039f"
             ],
             [
              0.2222222222222222,
              "#7201a8"
             ],
             [
              0.3333333333333333,
              "#9c179e"
             ],
             [
              0.4444444444444444,
              "#bd3786"
             ],
             [
              0.5555555555555556,
              "#d8576b"
             ],
             [
              0.6666666666666666,
              "#ed7953"
             ],
             [
              0.7777777777777778,
              "#fb9f3a"
             ],
             [
              0.8888888888888888,
              "#fdca26"
             ],
             [
              1,
              "#f0f921"
             ]
            ],
            "type": "histogram2d"
           }
          ],
          "histogram2dcontour": [
           {
            "colorbar": {
             "outlinewidth": 0,
             "ticks": ""
            },
            "colorscale": [
             [
              0,
              "#0d0887"
             ],
             [
              0.1111111111111111,
              "#46039f"
             ],
             [
              0.2222222222222222,
              "#7201a8"
             ],
             [
              0.3333333333333333,
              "#9c179e"
             ],
             [
              0.4444444444444444,
              "#bd3786"
             ],
             [
              0.5555555555555556,
              "#d8576b"
             ],
             [
              0.6666666666666666,
              "#ed7953"
             ],
             [
              0.7777777777777778,
              "#fb9f3a"
             ],
             [
              0.8888888888888888,
              "#fdca26"
             ],
             [
              1,
              "#f0f921"
             ]
            ],
            "type": "histogram2dcontour"
           }
          ],
          "mesh3d": [
           {
            "colorbar": {
             "outlinewidth": 0,
             "ticks": ""
            },
            "type": "mesh3d"
           }
          ],
          "parcoords": [
           {
            "line": {
             "colorbar": {
              "outlinewidth": 0,
              "ticks": ""
             }
            },
            "type": "parcoords"
           }
          ],
          "pie": [
           {
            "automargin": true,
            "type": "pie"
           }
          ],
          "scatter": [
           {
            "marker": {
             "colorbar": {
              "outlinewidth": 0,
              "ticks": ""
             }
            },
            "type": "scatter"
           }
          ],
          "scatter3d": [
           {
            "line": {
             "colorbar": {
              "outlinewidth": 0,
              "ticks": ""
             }
            },
            "marker": {
             "colorbar": {
              "outlinewidth": 0,
              "ticks": ""
             }
            },
            "type": "scatter3d"
           }
          ],
          "scattercarpet": [
           {
            "marker": {
             "colorbar": {
              "outlinewidth": 0,
              "ticks": ""
             }
            },
            "type": "scattercarpet"
           }
          ],
          "scattergeo": [
           {
            "marker": {
             "colorbar": {
              "outlinewidth": 0,
              "ticks": ""
             }
            },
            "type": "scattergeo"
           }
          ],
          "scattergl": [
           {
            "marker": {
             "colorbar": {
              "outlinewidth": 0,
              "ticks": ""
             }
            },
            "type": "scattergl"
           }
          ],
          "scattermapbox": [
           {
            "marker": {
             "colorbar": {
              "outlinewidth": 0,
              "ticks": ""
             }
            },
            "type": "scattermapbox"
           }
          ],
          "scatterpolar": [
           {
            "marker": {
             "colorbar": {
              "outlinewidth": 0,
              "ticks": ""
             }
            },
            "type": "scatterpolar"
           }
          ],
          "scatterpolargl": [
           {
            "marker": {
             "colorbar": {
              "outlinewidth": 0,
              "ticks": ""
             }
            },
            "type": "scatterpolargl"
           }
          ],
          "scatterternary": [
           {
            "marker": {
             "colorbar": {
              "outlinewidth": 0,
              "ticks": ""
             }
            },
            "type": "scatterternary"
           }
          ],
          "surface": [
           {
            "colorbar": {
             "outlinewidth": 0,
             "ticks": ""
            },
            "colorscale": [
             [
              0,
              "#0d0887"
             ],
             [
              0.1111111111111111,
              "#46039f"
             ],
             [
              0.2222222222222222,
              "#7201a8"
             ],
             [
              0.3333333333333333,
              "#9c179e"
             ],
             [
              0.4444444444444444,
              "#bd3786"
             ],
             [
              0.5555555555555556,
              "#d8576b"
             ],
             [
              0.6666666666666666,
              "#ed7953"
             ],
             [
              0.7777777777777778,
              "#fb9f3a"
             ],
             [
              0.8888888888888888,
              "#fdca26"
             ],
             [
              1,
              "#f0f921"
             ]
            ],
            "type": "surface"
           }
          ],
          "table": [
           {
            "cells": {
             "fill": {
              "color": "#EBF0F8"
             },
             "line": {
              "color": "white"
             }
            },
            "header": {
             "fill": {
              "color": "#C8D4E3"
             },
             "line": {
              "color": "white"
             }
            },
            "type": "table"
           }
          ]
         },
         "layout": {
          "annotationdefaults": {
           "arrowcolor": "#2a3f5f",
           "arrowhead": 0,
           "arrowwidth": 1
          },
          "autotypenumbers": "strict",
          "coloraxis": {
           "colorbar": {
            "outlinewidth": 0,
            "ticks": ""
           }
          },
          "colorscale": {
           "diverging": [
            [
             0,
             "#8e0152"
            ],
            [
             0.1,
             "#c51b7d"
            ],
            [
             0.2,
             "#de77ae"
            ],
            [
             0.3,
             "#f1b6da"
            ],
            [
             0.4,
             "#fde0ef"
            ],
            [
             0.5,
             "#f7f7f7"
            ],
            [
             0.6,
             "#e6f5d0"
            ],
            [
             0.7,
             "#b8e186"
            ],
            [
             0.8,
             "#7fbc41"
            ],
            [
             0.9,
             "#4d9221"
            ],
            [
             1,
             "#276419"
            ]
           ],
           "sequential": [
            [
             0,
             "#0d0887"
            ],
            [
             0.1111111111111111,
             "#46039f"
            ],
            [
             0.2222222222222222,
             "#7201a8"
            ],
            [
             0.3333333333333333,
             "#9c179e"
            ],
            [
             0.4444444444444444,
             "#bd3786"
            ],
            [
             0.5555555555555556,
             "#d8576b"
            ],
            [
             0.6666666666666666,
             "#ed7953"
            ],
            [
             0.7777777777777778,
             "#fb9f3a"
            ],
            [
             0.8888888888888888,
             "#fdca26"
            ],
            [
             1,
             "#f0f921"
            ]
           ],
           "sequentialminus": [
            [
             0,
             "#0d0887"
            ],
            [
             0.1111111111111111,
             "#46039f"
            ],
            [
             0.2222222222222222,
             "#7201a8"
            ],
            [
             0.3333333333333333,
             "#9c179e"
            ],
            [
             0.4444444444444444,
             "#bd3786"
            ],
            [
             0.5555555555555556,
             "#d8576b"
            ],
            [
             0.6666666666666666,
             "#ed7953"
            ],
            [
             0.7777777777777778,
             "#fb9f3a"
            ],
            [
             0.8888888888888888,
             "#fdca26"
            ],
            [
             1,
             "#f0f921"
            ]
           ]
          },
          "colorway": [
           "#636efa",
           "#EF553B",
           "#00cc96",
           "#ab63fa",
           "#FFA15A",
           "#19d3f3",
           "#FF6692",
           "#B6E880",
           "#FF97FF",
           "#FECB52"
          ],
          "font": {
           "color": "#2a3f5f"
          },
          "geo": {
           "bgcolor": "white",
           "lakecolor": "white",
           "landcolor": "#E5ECF6",
           "showlakes": true,
           "showland": true,
           "subunitcolor": "white"
          },
          "hoverlabel": {
           "align": "left"
          },
          "hovermode": "closest",
          "mapbox": {
           "style": "light"
          },
          "paper_bgcolor": "white",
          "plot_bgcolor": "#E5ECF6",
          "polar": {
           "angularaxis": {
            "gridcolor": "white",
            "linecolor": "white",
            "ticks": ""
           },
           "bgcolor": "#E5ECF6",
           "radialaxis": {
            "gridcolor": "white",
            "linecolor": "white",
            "ticks": ""
           }
          },
          "scene": {
           "xaxis": {
            "backgroundcolor": "#E5ECF6",
            "gridcolor": "white",
            "gridwidth": 2,
            "linecolor": "white",
            "showbackground": true,
            "ticks": "",
            "zerolinecolor": "white"
           },
           "yaxis": {
            "backgroundcolor": "#E5ECF6",
            "gridcolor": "white",
            "gridwidth": 2,
            "linecolor": "white",
            "showbackground": true,
            "ticks": "",
            "zerolinecolor": "white"
           },
           "zaxis": {
            "backgroundcolor": "#E5ECF6",
            "gridcolor": "white",
            "gridwidth": 2,
            "linecolor": "white",
            "showbackground": true,
            "ticks": "",
            "zerolinecolor": "white"
           }
          },
          "shapedefaults": {
           "line": {
            "color": "#2a3f5f"
           }
          },
          "ternary": {
           "aaxis": {
            "gridcolor": "white",
            "linecolor": "white",
            "ticks": ""
           },
           "baxis": {
            "gridcolor": "white",
            "linecolor": "white",
            "ticks": ""
           },
           "bgcolor": "#E5ECF6",
           "caxis": {
            "gridcolor": "white",
            "linecolor": "white",
            "ticks": ""
           }
          },
          "title": {
           "x": 0.05
          },
          "xaxis": {
           "automargin": true,
           "gridcolor": "white",
           "linecolor": "white",
           "ticks": "",
           "title": {
            "standoff": 15
           },
           "zerolinecolor": "white",
           "zerolinewidth": 2
          },
          "yaxis": {
           "automargin": true,
           "gridcolor": "white",
           "linecolor": "white",
           "ticks": "",
           "title": {
            "standoff": 15
           },
           "zerolinecolor": "white",
           "zerolinewidth": 2
          }
         }
        },
        "title": {
         "text": "2D Density Plot"
        },
        "width": 600,
        "xaxis": {
         "domain": [
          0,
          0.85
         ],
         "showgrid": false,
         "zeroline": false
        },
        "xaxis2": {
         "domain": [
          0.85,
          1
         ],
         "showgrid": false,
         "zeroline": false
        },
        "yaxis": {
         "domain": [
          0,
          0.85
         ],
         "showgrid": false,
         "zeroline": false
        },
        "yaxis2": {
         "domain": [
          0.85,
          1
         ],
         "showgrid": false,
         "zeroline": false
        }
       }
      },
      "text/html": [
       "<div>                            <div id=\"da1adbf4-86cd-4597-be08-1445369e5521\" class=\"plotly-graph-div\" style=\"height:600px; width:600px;\"></div>            <script type=\"text/javascript\">                require([\"plotly\"], function(Plotly) {                    window.PLOTLYENV=window.PLOTLYENV || {};                                    if (document.getElementById(\"da1adbf4-86cd-4597-be08-1445369e5521\")) {                    Plotly.newPlot(                        \"da1adbf4-86cd-4597-be08-1445369e5521\",                        [{\"marker\": {\"color\": \"rgb(0, 0, 128)\", \"opacity\": 0.4, \"size\": 3}, \"mode\": \"markers\", \"name\": \"points\", \"type\": \"scatter\", \"x\": [3, 6, 0, 4, 2, 5, 12, 5, 6, 2, 7, 4, 9, 4, 3, 1, 38, 12, 6, 2, 7, 4, 3, 2, 48, 63, 4, 3, 3, 2], \"y\": [18469.14, 33014.86, 4330.44, 13421.82, 9841.04, 22003.22, 148051.25, 26091.14, 49282.41, 10280.77, 106330.23, 232995.54, 91380.4, 71910.46, 30996.86, 3638.01, 246771.12, 87214.43, 20927.23, 45916.37, 62763.42, 43124.07, 11733.19, 18488.62, 331173.26, 397022.2, 87514.41, 53548.14, 47966.09, 25094.18]}, {\"colorscale\": [[0.0, \"rgb(122, 69, 121)\"], [0.25, \"rgb(213, 96, 115)\"], [0.5, \"rgb(236, 158, 105)\"], [0.75, \"rgb(255, 255, 51)\"], [1.0, \"rgb(250, 250, 250)\"]], \"name\": \"density\", \"ncontours\": 20, \"reversescale\": true, \"showscale\": false, \"type\": \"histogram2dcontour\", \"x\": [3, 6, 0, 4, 2, 5, 12, 5, 6, 2, 7, 4, 9, 4, 3, 1, 38, 12, 6, 2, 7, 4, 3, 2, 48, 63, 4, 3, 3, 2], \"y\": [18469.14, 33014.86, 4330.44, 13421.82, 9841.04, 22003.22, 148051.25, 26091.14, 49282.41, 10280.77, 106330.23, 232995.54, 91380.4, 71910.46, 30996.86, 3638.01, 246771.12, 87214.43, 20927.23, 45916.37, 62763.42, 43124.07, 11733.19, 18488.62, 331173.26, 397022.2, 87514.41, 53548.14, 47966.09, 25094.18]}, {\"marker\": {\"color\": \"rgb(255, 237, 222)\"}, \"name\": \"x density\", \"type\": \"histogram\", \"x\": [3, 6, 0, 4, 2, 5, 12, 5, 6, 2, 7, 4, 9, 4, 3, 1, 38, 12, 6, 2, 7, 4, 3, 2, 48, 63, 4, 3, 3, 2], \"yaxis\": \"y2\"}, {\"marker\": {\"color\": \"rgb(255, 237, 222)\"}, \"name\": \"y density\", \"type\": \"histogram\", \"xaxis\": \"x2\", \"y\": [18469.14, 33014.86, 4330.44, 13421.82, 9841.04, 22003.22, 148051.25, 26091.14, 49282.41, 10280.77, 106330.23, 232995.54, 91380.4, 71910.46, 30996.86, 3638.01, 246771.12, 87214.43, 20927.23, 45916.37, 62763.42, 43124.07, 11733.19, 18488.62, 331173.26, 397022.2, 87514.41, 53548.14, 47966.09, 25094.18]}],                        {\"autosize\": false, \"bargap\": 0, \"height\": 600, \"hovermode\": \"closest\", \"margin\": {\"t\": 50}, \"showlegend\": false, \"template\": {\"data\": {\"bar\": [{\"error_x\": {\"color\": \"#2a3f5f\"}, \"error_y\": {\"color\": \"#2a3f5f\"}, \"marker\": {\"line\": {\"color\": \"#E5ECF6\", \"width\": 0.5}}, \"type\": \"bar\"}], \"barpolar\": [{\"marker\": {\"line\": {\"color\": \"#E5ECF6\", \"width\": 0.5}}, \"type\": \"barpolar\"}], \"carpet\": [{\"aaxis\": {\"endlinecolor\": \"#2a3f5f\", \"gridcolor\": \"white\", \"linecolor\": \"white\", \"minorgridcolor\": \"white\", \"startlinecolor\": \"#2a3f5f\"}, \"baxis\": {\"endlinecolor\": \"#2a3f5f\", \"gridcolor\": \"white\", \"linecolor\": \"white\", \"minorgridcolor\": \"white\", \"startlinecolor\": \"#2a3f5f\"}, \"type\": \"carpet\"}], \"choropleth\": [{\"colorbar\": {\"outlinewidth\": 0, \"ticks\": \"\"}, \"type\": \"choropleth\"}], \"contour\": [{\"colorbar\": {\"outlinewidth\": 0, \"ticks\": \"\"}, \"colorscale\": [[0.0, \"#0d0887\"], [0.1111111111111111, \"#46039f\"], [0.2222222222222222, \"#7201a8\"], [0.3333333333333333, \"#9c179e\"], [0.4444444444444444, \"#bd3786\"], [0.5555555555555556, \"#d8576b\"], [0.6666666666666666, \"#ed7953\"], [0.7777777777777778, \"#fb9f3a\"], [0.8888888888888888, \"#fdca26\"], [1.0, \"#f0f921\"]], \"type\": \"contour\"}], \"contourcarpet\": [{\"colorbar\": {\"outlinewidth\": 0, \"ticks\": \"\"}, \"type\": \"contourcarpet\"}], \"heatmap\": [{\"colorbar\": {\"outlinewidth\": 0, \"ticks\": \"\"}, \"colorscale\": [[0.0, \"#0d0887\"], [0.1111111111111111, \"#46039f\"], [0.2222222222222222, \"#7201a8\"], [0.3333333333333333, \"#9c179e\"], [0.4444444444444444, \"#bd3786\"], [0.5555555555555556, \"#d8576b\"], [0.6666666666666666, \"#ed7953\"], [0.7777777777777778, \"#fb9f3a\"], [0.8888888888888888, \"#fdca26\"], [1.0, \"#f0f921\"]], \"type\": \"heatmap\"}], \"heatmapgl\": [{\"colorbar\": {\"outlinewidth\": 0, \"ticks\": \"\"}, \"colorscale\": [[0.0, \"#0d0887\"], [0.1111111111111111, \"#46039f\"], [0.2222222222222222, \"#7201a8\"], [0.3333333333333333, \"#9c179e\"], [0.4444444444444444, \"#bd3786\"], [0.5555555555555556, \"#d8576b\"], [0.6666666666666666, \"#ed7953\"], [0.7777777777777778, \"#fb9f3a\"], [0.8888888888888888, \"#fdca26\"], [1.0, \"#f0f921\"]], \"type\": \"heatmapgl\"}], \"histogram\": [{\"marker\": {\"colorbar\": {\"outlinewidth\": 0, \"ticks\": \"\"}}, \"type\": \"histogram\"}], \"histogram2d\": [{\"colorbar\": {\"outlinewidth\": 0, \"ticks\": \"\"}, \"colorscale\": [[0.0, \"#0d0887\"], [0.1111111111111111, \"#46039f\"], [0.2222222222222222, \"#7201a8\"], [0.3333333333333333, \"#9c179e\"], [0.4444444444444444, \"#bd3786\"], [0.5555555555555556, \"#d8576b\"], [0.6666666666666666, \"#ed7953\"], [0.7777777777777778, \"#fb9f3a\"], [0.8888888888888888, \"#fdca26\"], [1.0, \"#f0f921\"]], \"type\": \"histogram2d\"}], \"histogram2dcontour\": [{\"colorbar\": {\"outlinewidth\": 0, \"ticks\": \"\"}, \"colorscale\": [[0.0, \"#0d0887\"], [0.1111111111111111, \"#46039f\"], [0.2222222222222222, \"#7201a8\"], [0.3333333333333333, \"#9c179e\"], [0.4444444444444444, \"#bd3786\"], [0.5555555555555556, \"#d8576b\"], [0.6666666666666666, \"#ed7953\"], [0.7777777777777778, \"#fb9f3a\"], [0.8888888888888888, \"#fdca26\"], [1.0, \"#f0f921\"]], \"type\": \"histogram2dcontour\"}], \"mesh3d\": [{\"colorbar\": {\"outlinewidth\": 0, \"ticks\": \"\"}, \"type\": \"mesh3d\"}], \"parcoords\": [{\"line\": {\"colorbar\": {\"outlinewidth\": 0, \"ticks\": \"\"}}, \"type\": \"parcoords\"}], \"pie\": [{\"automargin\": true, \"type\": \"pie\"}], \"scatter\": [{\"marker\": {\"colorbar\": {\"outlinewidth\": 0, \"ticks\": \"\"}}, \"type\": \"scatter\"}], \"scatter3d\": [{\"line\": {\"colorbar\": {\"outlinewidth\": 0, \"ticks\": \"\"}}, \"marker\": {\"colorbar\": {\"outlinewidth\": 0, \"ticks\": \"\"}}, \"type\": \"scatter3d\"}], \"scattercarpet\": [{\"marker\": {\"colorbar\": {\"outlinewidth\": 0, \"ticks\": \"\"}}, \"type\": \"scattercarpet\"}], \"scattergeo\": [{\"marker\": {\"colorbar\": {\"outlinewidth\": 0, \"ticks\": \"\"}}, \"type\": \"scattergeo\"}], \"scattergl\": [{\"marker\": {\"colorbar\": {\"outlinewidth\": 0, \"ticks\": \"\"}}, \"type\": \"scattergl\"}], \"scattermapbox\": [{\"marker\": {\"colorbar\": {\"outlinewidth\": 0, \"ticks\": \"\"}}, \"type\": \"scattermapbox\"}], \"scatterpolar\": [{\"marker\": {\"colorbar\": {\"outlinewidth\": 0, \"ticks\": \"\"}}, \"type\": \"scatterpolar\"}], \"scatterpolargl\": [{\"marker\": {\"colorbar\": {\"outlinewidth\": 0, \"ticks\": \"\"}}, \"type\": \"scatterpolargl\"}], \"scatterternary\": [{\"marker\": {\"colorbar\": {\"outlinewidth\": 0, \"ticks\": \"\"}}, \"type\": \"scatterternary\"}], \"surface\": [{\"colorbar\": {\"outlinewidth\": 0, \"ticks\": \"\"}, \"colorscale\": [[0.0, \"#0d0887\"], [0.1111111111111111, \"#46039f\"], [0.2222222222222222, \"#7201a8\"], [0.3333333333333333, \"#9c179e\"], [0.4444444444444444, \"#bd3786\"], [0.5555555555555556, \"#d8576b\"], [0.6666666666666666, \"#ed7953\"], [0.7777777777777778, \"#fb9f3a\"], [0.8888888888888888, \"#fdca26\"], [1.0, \"#f0f921\"]], \"type\": \"surface\"}], \"table\": [{\"cells\": {\"fill\": {\"color\": \"#EBF0F8\"}, \"line\": {\"color\": \"white\"}}, \"header\": {\"fill\": {\"color\": \"#C8D4E3\"}, \"line\": {\"color\": \"white\"}}, \"type\": \"table\"}]}, \"layout\": {\"annotationdefaults\": {\"arrowcolor\": \"#2a3f5f\", \"arrowhead\": 0, \"arrowwidth\": 1}, \"autotypenumbers\": \"strict\", \"coloraxis\": {\"colorbar\": {\"outlinewidth\": 0, \"ticks\": \"\"}}, \"colorscale\": {\"diverging\": [[0, \"#8e0152\"], [0.1, \"#c51b7d\"], [0.2, \"#de77ae\"], [0.3, \"#f1b6da\"], [0.4, \"#fde0ef\"], [0.5, \"#f7f7f7\"], [0.6, \"#e6f5d0\"], [0.7, \"#b8e186\"], [0.8, \"#7fbc41\"], [0.9, \"#4d9221\"], [1, \"#276419\"]], \"sequential\": [[0.0, \"#0d0887\"], [0.1111111111111111, \"#46039f\"], [0.2222222222222222, \"#7201a8\"], [0.3333333333333333, \"#9c179e\"], [0.4444444444444444, \"#bd3786\"], [0.5555555555555556, \"#d8576b\"], [0.6666666666666666, \"#ed7953\"], [0.7777777777777778, \"#fb9f3a\"], [0.8888888888888888, \"#fdca26\"], [1.0, \"#f0f921\"]], \"sequentialminus\": [[0.0, \"#0d0887\"], [0.1111111111111111, \"#46039f\"], [0.2222222222222222, \"#7201a8\"], [0.3333333333333333, \"#9c179e\"], [0.4444444444444444, \"#bd3786\"], [0.5555555555555556, \"#d8576b\"], [0.6666666666666666, \"#ed7953\"], [0.7777777777777778, \"#fb9f3a\"], [0.8888888888888888, \"#fdca26\"], [1.0, \"#f0f921\"]]}, \"colorway\": [\"#636efa\", \"#EF553B\", \"#00cc96\", \"#ab63fa\", \"#FFA15A\", \"#19d3f3\", \"#FF6692\", \"#B6E880\", \"#FF97FF\", \"#FECB52\"], \"font\": {\"color\": \"#2a3f5f\"}, \"geo\": {\"bgcolor\": \"white\", \"lakecolor\": \"white\", \"landcolor\": \"#E5ECF6\", \"showlakes\": true, \"showland\": true, \"subunitcolor\": \"white\"}, \"hoverlabel\": {\"align\": \"left\"}, \"hovermode\": \"closest\", \"mapbox\": {\"style\": \"light\"}, \"paper_bgcolor\": \"white\", \"plot_bgcolor\": \"#E5ECF6\", \"polar\": {\"angularaxis\": {\"gridcolor\": \"white\", \"linecolor\": \"white\", \"ticks\": \"\"}, \"bgcolor\": \"#E5ECF6\", \"radialaxis\": {\"gridcolor\": \"white\", \"linecolor\": \"white\", \"ticks\": \"\"}}, \"scene\": {\"xaxis\": {\"backgroundcolor\": \"#E5ECF6\", \"gridcolor\": \"white\", \"gridwidth\": 2, \"linecolor\": \"white\", \"showbackground\": true, \"ticks\": \"\", \"zerolinecolor\": \"white\"}, \"yaxis\": {\"backgroundcolor\": \"#E5ECF6\", \"gridcolor\": \"white\", \"gridwidth\": 2, \"linecolor\": \"white\", \"showbackground\": true, \"ticks\": \"\", \"zerolinecolor\": \"white\"}, \"zaxis\": {\"backgroundcolor\": \"#E5ECF6\", \"gridcolor\": \"white\", \"gridwidth\": 2, \"linecolor\": \"white\", \"showbackground\": true, \"ticks\": \"\", \"zerolinecolor\": \"white\"}}, \"shapedefaults\": {\"line\": {\"color\": \"#2a3f5f\"}}, \"ternary\": {\"aaxis\": {\"gridcolor\": \"white\", \"linecolor\": \"white\", \"ticks\": \"\"}, \"baxis\": {\"gridcolor\": \"white\", \"linecolor\": \"white\", \"ticks\": \"\"}, \"bgcolor\": \"#E5ECF6\", \"caxis\": {\"gridcolor\": \"white\", \"linecolor\": \"white\", \"ticks\": \"\"}}, \"title\": {\"x\": 0.05}, \"xaxis\": {\"automargin\": true, \"gridcolor\": \"white\", \"linecolor\": \"white\", \"ticks\": \"\", \"title\": {\"standoff\": 15}, \"zerolinecolor\": \"white\", \"zerolinewidth\": 2}, \"yaxis\": {\"automargin\": true, \"gridcolor\": \"white\", \"linecolor\": \"white\", \"ticks\": \"\", \"title\": {\"standoff\": 15}, \"zerolinecolor\": \"white\", \"zerolinewidth\": 2}}}, \"title\": {\"text\": \"2D Density Plot\"}, \"width\": 600, \"xaxis\": {\"domain\": [0, 0.85], \"showgrid\": false, \"zeroline\": false}, \"xaxis2\": {\"domain\": [0.85, 1], \"showgrid\": false, \"zeroline\": false}, \"yaxis\": {\"domain\": [0, 0.85], \"showgrid\": false, \"zeroline\": false}, \"yaxis2\": {\"domain\": [0.85, 1], \"showgrid\": false, \"zeroline\": false}},                        {\"responsive\": true}                    ).then(function(){\n",
       "                            \n",
       "var gd = document.getElementById('da1adbf4-86cd-4597-be08-1445369e5521');\n",
       "var x = new MutationObserver(function (mutations, observer) {{\n",
       "        var display = window.getComputedStyle(gd).display;\n",
       "        if (!display || display === 'none') {{\n",
       "            console.log([gd, 'removed!']);\n",
       "            Plotly.purge(gd);\n",
       "            observer.disconnect();\n",
       "        }}\n",
       "}});\n",
       "\n",
       "// Listen for the removal of the full notebook cells\n",
       "var notebookContainer = gd.closest('#notebook-container');\n",
       "if (notebookContainer) {{\n",
       "    x.observe(notebookContainer, {childList: true});\n",
       "}}\n",
       "\n",
       "// Listen for the clearing of the current output cell\n",
       "var outputEl = gd.closest('.output');\n",
       "if (outputEl) {{\n",
       "    x.observe(outputEl, {childList: true});\n",
       "}}\n",
       "\n",
       "                        })                };                });            </script>        </div>"
      ]
     },
     "metadata": {},
     "output_type": "display_data"
    }
   ],
   "source": [
    "import plotly.figure_factory as ff\n",
    "\n",
    "x = df_bar_pubg['solo_Wins']\n",
    "y = df_bar_pubg['solo_TimeSurvived']\n",
    "#z = df_bar_pubg['squad_Heals']\n",
    "\n",
    "colorscale = ['#7A4579', '#D56073', 'rgb(236,158,105)', (1, 1, 0.2), (0.98,0.98,0.98)]\n",
    "\n",
    "fig = ff.create_2d_density(\n",
    "    x, y, colorscale=colorscale,\n",
    "    hist_color='rgb(255, 237, 222)', point_size=3\n",
    ")\n",
    "\n",
    "\n",
    "iplot(fig, filename='histogram_subplots')"
   ]
  },
  {
   "cell_type": "code",
   "execution_count": 19,
   "metadata": {},
   "outputs": [
    {
     "data": {
      "text/html": [
       "<div>\n",
       "<style scoped>\n",
       "    .dataframe tbody tr th:only-of-type {\n",
       "        vertical-align: middle;\n",
       "    }\n",
       "\n",
       "    .dataframe tbody tr th {\n",
       "        vertical-align: top;\n",
       "    }\n",
       "\n",
       "    .dataframe thead th {\n",
       "        text-align: right;\n",
       "    }\n",
       "</style>\n",
       "<table border=\"1\" class=\"dataframe\">\n",
       "  <thead>\n",
       "    <tr style=\"text-align: right;\">\n",
       "      <th></th>\n",
       "      <th>player_name</th>\n",
       "      <th>tracker_id</th>\n",
       "      <th>solo_KillDeathRatio</th>\n",
       "      <th>solo_WinRatio</th>\n",
       "      <th>solo_TimeSurvived</th>\n",
       "      <th>solo_RoundsPlayed</th>\n",
       "      <th>solo_Wins</th>\n",
       "      <th>solo_WinTop10Ratio</th>\n",
       "      <th>solo_Top10s</th>\n",
       "      <th>solo_Top10Ratio</th>\n",
       "      <th>...</th>\n",
       "      <th>squad_RideDistance</th>\n",
       "      <th>squad_MoveDistance</th>\n",
       "      <th>squad_AvgWalkDistance</th>\n",
       "      <th>squad_AvgRideDistance</th>\n",
       "      <th>squad_LongestKill</th>\n",
       "      <th>squad_Heals</th>\n",
       "      <th>squad_Revives</th>\n",
       "      <th>squad_Boosts</th>\n",
       "      <th>squad_DamageDealt</th>\n",
       "      <th>squad_DBNOs</th>\n",
       "    </tr>\n",
       "  </thead>\n",
       "  <tbody>\n",
       "    <tr>\n",
       "      <th>0</th>\n",
       "      <td>BreakNeck</td>\n",
       "      <td>4405</td>\n",
       "      <td>3.14</td>\n",
       "      <td>17.65</td>\n",
       "      <td>18469.14</td>\n",
       "      <td>17</td>\n",
       "      <td>3</td>\n",
       "      <td>0.83</td>\n",
       "      <td>4</td>\n",
       "      <td>23.5</td>\n",
       "      <td>...</td>\n",
       "      <td>3751590.99</td>\n",
       "      <td>5194786.58</td>\n",
       "      <td>2626.97</td>\n",
       "      <td>4372.64</td>\n",
       "      <td>536.98</td>\n",
       "      <td>2186</td>\n",
       "      <td>234</td>\n",
       "      <td>1884</td>\n",
       "      <td>242132.73</td>\n",
       "      <td>1448</td>\n",
       "    </tr>\n",
       "  </tbody>\n",
       "</table>\n",
       "<p>1 rows × 152 columns</p>\n",
       "</div>"
      ],
      "text/plain": [
       "  player_name  tracker_id  solo_KillDeathRatio  solo_WinRatio  \\\n",
       "0   BreakNeck        4405                 3.14          17.65   \n",
       "\n",
       "   solo_TimeSurvived  solo_RoundsPlayed  solo_Wins  solo_WinTop10Ratio  \\\n",
       "0           18469.14                 17          3                0.83   \n",
       "\n",
       "   solo_Top10s  solo_Top10Ratio  ...  squad_RideDistance  squad_MoveDistance  \\\n",
       "0            4             23.5  ...          3751590.99          5194786.58   \n",
       "\n",
       "   squad_AvgWalkDistance  squad_AvgRideDistance  squad_LongestKill  \\\n",
       "0                2626.97                4372.64             536.98   \n",
       "\n",
       "   squad_Heals  squad_Revives  squad_Boosts  squad_DamageDealt  squad_DBNOs  \n",
       "0         2186            234          1884          242132.73         1448  \n",
       "\n",
       "[1 rows x 152 columns]"
      ]
     },
     "execution_count": 19,
     "metadata": {},
     "output_type": "execute_result"
    }
   ],
   "source": [
    "df_bar_pubg.head(1)"
   ]
  },
  {
   "cell_type": "code",
   "execution_count": 20,
   "metadata": {},
   "outputs": [
    {
     "data": {
      "application/vnd.plotly.v1+json": {
       "config": {
        "linkText": "Export to plotly.com",
        "plotlyServerURL": "https://plotly.com",
        "showLink": false
       },
       "data": [
        {
         "marker": {
          "color": [
           17,
           33,
           5,
           8,
           6,
           16,
           142,
           19,
           44,
           8,
           116,
           335,
           87,
           72,
           23,
           3,
           165,
           65,
           16,
           45,
           55,
           45,
           9,
           14,
           277,
           265,
           77,
           52,
           56,
           22
          ],
          "colorscale": [
           [
            0,
            "#440154"
           ],
           [
            0.1111111111111111,
            "#482878"
           ],
           [
            0.2222222222222222,
            "#3e4989"
           ],
           [
            0.3333333333333333,
            "#31688e"
           ],
           [
            0.4444444444444444,
            "#26828e"
           ],
           [
            0.5555555555555556,
            "#1f9e89"
           ],
           [
            0.6666666666666666,
            "#35b779"
           ],
           [
            0.7777777777777778,
            "#6ece58"
           ],
           [
            0.8888888888888888,
            "#b5de2b"
           ],
           [
            1,
            "#fde725"
           ]
          ],
          "opacity": 0.8,
          "size": 12
         },
         "mode": "markers",
         "type": "scatter3d",
         "x": [
          3,
          6,
          0,
          4,
          2,
          5,
          12,
          5,
          6,
          2,
          7,
          4,
          9,
          4,
          3,
          1,
          38,
          12,
          6,
          2,
          7,
          4,
          3,
          2,
          48,
          63,
          4,
          3,
          3,
          2
         ],
         "y": [
          18469.14,
          33014.86,
          4330.44,
          13421.82,
          9841.04,
          22003.22,
          148051.25,
          26091.14,
          49282.41,
          10280.77,
          106330.23,
          232995.54,
          91380.4,
          71910.46,
          30996.86,
          3638.01,
          246771.12,
          87214.43,
          20927.23,
          45916.37,
          62763.42,
          43124.07,
          11733.19,
          18488.62,
          331173.26,
          397022.2,
          87514.41,
          53548.14,
          47966.09,
          25094.18
         ],
         "z": [
          17,
          33,
          5,
          8,
          6,
          16,
          142,
          19,
          44,
          8,
          116,
          335,
          87,
          72,
          23,
          3,
          165,
          65,
          16,
          45,
          55,
          45,
          9,
          14,
          277,
          265,
          77,
          52,
          56,
          22
         ]
        }
       ],
       "layout": {
        "margin": {
         "b": 0,
         "l": 0,
         "r": 0,
         "t": 0
        },
        "template": {
         "data": {
          "bar": [
           {
            "error_x": {
             "color": "#2a3f5f"
            },
            "error_y": {
             "color": "#2a3f5f"
            },
            "marker": {
             "line": {
              "color": "#E5ECF6",
              "width": 0.5
             }
            },
            "type": "bar"
           }
          ],
          "barpolar": [
           {
            "marker": {
             "line": {
              "color": "#E5ECF6",
              "width": 0.5
             }
            },
            "type": "barpolar"
           }
          ],
          "carpet": [
           {
            "aaxis": {
             "endlinecolor": "#2a3f5f",
             "gridcolor": "white",
             "linecolor": "white",
             "minorgridcolor": "white",
             "startlinecolor": "#2a3f5f"
            },
            "baxis": {
             "endlinecolor": "#2a3f5f",
             "gridcolor": "white",
             "linecolor": "white",
             "minorgridcolor": "white",
             "startlinecolor": "#2a3f5f"
            },
            "type": "carpet"
           }
          ],
          "choropleth": [
           {
            "colorbar": {
             "outlinewidth": 0,
             "ticks": ""
            },
            "type": "choropleth"
           }
          ],
          "contour": [
           {
            "colorbar": {
             "outlinewidth": 0,
             "ticks": ""
            },
            "colorscale": [
             [
              0,
              "#0d0887"
             ],
             [
              0.1111111111111111,
              "#46039f"
             ],
             [
              0.2222222222222222,
              "#7201a8"
             ],
             [
              0.3333333333333333,
              "#9c179e"
             ],
             [
              0.4444444444444444,
              "#bd3786"
             ],
             [
              0.5555555555555556,
              "#d8576b"
             ],
             [
              0.6666666666666666,
              "#ed7953"
             ],
             [
              0.7777777777777778,
              "#fb9f3a"
             ],
             [
              0.8888888888888888,
              "#fdca26"
             ],
             [
              1,
              "#f0f921"
             ]
            ],
            "type": "contour"
           }
          ],
          "contourcarpet": [
           {
            "colorbar": {
             "outlinewidth": 0,
             "ticks": ""
            },
            "type": "contourcarpet"
           }
          ],
          "heatmap": [
           {
            "colorbar": {
             "outlinewidth": 0,
             "ticks": ""
            },
            "colorscale": [
             [
              0,
              "#0d0887"
             ],
             [
              0.1111111111111111,
              "#46039f"
             ],
             [
              0.2222222222222222,
              "#7201a8"
             ],
             [
              0.3333333333333333,
              "#9c179e"
             ],
             [
              0.4444444444444444,
              "#bd3786"
             ],
             [
              0.5555555555555556,
              "#d8576b"
             ],
             [
              0.6666666666666666,
              "#ed7953"
             ],
             [
              0.7777777777777778,
              "#fb9f3a"
             ],
             [
              0.8888888888888888,
              "#fdca26"
             ],
             [
              1,
              "#f0f921"
             ]
            ],
            "type": "heatmap"
           }
          ],
          "heatmapgl": [
           {
            "colorbar": {
             "outlinewidth": 0,
             "ticks": ""
            },
            "colorscale": [
             [
              0,
              "#0d0887"
             ],
             [
              0.1111111111111111,
              "#46039f"
             ],
             [
              0.2222222222222222,
              "#7201a8"
             ],
             [
              0.3333333333333333,
              "#9c179e"
             ],
             [
              0.4444444444444444,
              "#bd3786"
             ],
             [
              0.5555555555555556,
              "#d8576b"
             ],
             [
              0.6666666666666666,
              "#ed7953"
             ],
             [
              0.7777777777777778,
              "#fb9f3a"
             ],
             [
              0.8888888888888888,
              "#fdca26"
             ],
             [
              1,
              "#f0f921"
             ]
            ],
            "type": "heatmapgl"
           }
          ],
          "histogram": [
           {
            "marker": {
             "colorbar": {
              "outlinewidth": 0,
              "ticks": ""
             }
            },
            "type": "histogram"
           }
          ],
          "histogram2d": [
           {
            "colorbar": {
             "outlinewidth": 0,
             "ticks": ""
            },
            "colorscale": [
             [
              0,
              "#0d0887"
             ],
             [
              0.1111111111111111,
              "#46039f"
             ],
             [
              0.2222222222222222,
              "#7201a8"
             ],
             [
              0.3333333333333333,
              "#9c179e"
             ],
             [
              0.4444444444444444,
              "#bd3786"
             ],
             [
              0.5555555555555556,
              "#d8576b"
             ],
             [
              0.6666666666666666,
              "#ed7953"
             ],
             [
              0.7777777777777778,
              "#fb9f3a"
             ],
             [
              0.8888888888888888,
              "#fdca26"
             ],
             [
              1,
              "#f0f921"
             ]
            ],
            "type": "histogram2d"
           }
          ],
          "histogram2dcontour": [
           {
            "colorbar": {
             "outlinewidth": 0,
             "ticks": ""
            },
            "colorscale": [
             [
              0,
              "#0d0887"
             ],
             [
              0.1111111111111111,
              "#46039f"
             ],
             [
              0.2222222222222222,
              "#7201a8"
             ],
             [
              0.3333333333333333,
              "#9c179e"
             ],
             [
              0.4444444444444444,
              "#bd3786"
             ],
             [
              0.5555555555555556,
              "#d8576b"
             ],
             [
              0.6666666666666666,
              "#ed7953"
             ],
             [
              0.7777777777777778,
              "#fb9f3a"
             ],
             [
              0.8888888888888888,
              "#fdca26"
             ],
             [
              1,
              "#f0f921"
             ]
            ],
            "type": "histogram2dcontour"
           }
          ],
          "mesh3d": [
           {
            "colorbar": {
             "outlinewidth": 0,
             "ticks": ""
            },
            "type": "mesh3d"
           }
          ],
          "parcoords": [
           {
            "line": {
             "colorbar": {
              "outlinewidth": 0,
              "ticks": ""
             }
            },
            "type": "parcoords"
           }
          ],
          "pie": [
           {
            "automargin": true,
            "type": "pie"
           }
          ],
          "scatter": [
           {
            "marker": {
             "colorbar": {
              "outlinewidth": 0,
              "ticks": ""
             }
            },
            "type": "scatter"
           }
          ],
          "scatter3d": [
           {
            "line": {
             "colorbar": {
              "outlinewidth": 0,
              "ticks": ""
             }
            },
            "marker": {
             "colorbar": {
              "outlinewidth": 0,
              "ticks": ""
             }
            },
            "type": "scatter3d"
           }
          ],
          "scattercarpet": [
           {
            "marker": {
             "colorbar": {
              "outlinewidth": 0,
              "ticks": ""
             }
            },
            "type": "scattercarpet"
           }
          ],
          "scattergeo": [
           {
            "marker": {
             "colorbar": {
              "outlinewidth": 0,
              "ticks": ""
             }
            },
            "type": "scattergeo"
           }
          ],
          "scattergl": [
           {
            "marker": {
             "colorbar": {
              "outlinewidth": 0,
              "ticks": ""
             }
            },
            "type": "scattergl"
           }
          ],
          "scattermapbox": [
           {
            "marker": {
             "colorbar": {
              "outlinewidth": 0,
              "ticks": ""
             }
            },
            "type": "scattermapbox"
           }
          ],
          "scatterpolar": [
           {
            "marker": {
             "colorbar": {
              "outlinewidth": 0,
              "ticks": ""
             }
            },
            "type": "scatterpolar"
           }
          ],
          "scatterpolargl": [
           {
            "marker": {
             "colorbar": {
              "outlinewidth": 0,
              "ticks": ""
             }
            },
            "type": "scatterpolargl"
           }
          ],
          "scatterternary": [
           {
            "marker": {
             "colorbar": {
              "outlinewidth": 0,
              "ticks": ""
             }
            },
            "type": "scatterternary"
           }
          ],
          "surface": [
           {
            "colorbar": {
             "outlinewidth": 0,
             "ticks": ""
            },
            "colorscale": [
             [
              0,
              "#0d0887"
             ],
             [
              0.1111111111111111,
              "#46039f"
             ],
             [
              0.2222222222222222,
              "#7201a8"
             ],
             [
              0.3333333333333333,
              "#9c179e"
             ],
             [
              0.4444444444444444,
              "#bd3786"
             ],
             [
              0.5555555555555556,
              "#d8576b"
             ],
             [
              0.6666666666666666,
              "#ed7953"
             ],
             [
              0.7777777777777778,
              "#fb9f3a"
             ],
             [
              0.8888888888888888,
              "#fdca26"
             ],
             [
              1,
              "#f0f921"
             ]
            ],
            "type": "surface"
           }
          ],
          "table": [
           {
            "cells": {
             "fill": {
              "color": "#EBF0F8"
             },
             "line": {
              "color": "white"
             }
            },
            "header": {
             "fill": {
              "color": "#C8D4E3"
             },
             "line": {
              "color": "white"
             }
            },
            "type": "table"
           }
          ]
         },
         "layout": {
          "annotationdefaults": {
           "arrowcolor": "#2a3f5f",
           "arrowhead": 0,
           "arrowwidth": 1
          },
          "autotypenumbers": "strict",
          "coloraxis": {
           "colorbar": {
            "outlinewidth": 0,
            "ticks": ""
           }
          },
          "colorscale": {
           "diverging": [
            [
             0,
             "#8e0152"
            ],
            [
             0.1,
             "#c51b7d"
            ],
            [
             0.2,
             "#de77ae"
            ],
            [
             0.3,
             "#f1b6da"
            ],
            [
             0.4,
             "#fde0ef"
            ],
            [
             0.5,
             "#f7f7f7"
            ],
            [
             0.6,
             "#e6f5d0"
            ],
            [
             0.7,
             "#b8e186"
            ],
            [
             0.8,
             "#7fbc41"
            ],
            [
             0.9,
             "#4d9221"
            ],
            [
             1,
             "#276419"
            ]
           ],
           "sequential": [
            [
             0,
             "#0d0887"
            ],
            [
             0.1111111111111111,
             "#46039f"
            ],
            [
             0.2222222222222222,
             "#7201a8"
            ],
            [
             0.3333333333333333,
             "#9c179e"
            ],
            [
             0.4444444444444444,
             "#bd3786"
            ],
            [
             0.5555555555555556,
             "#d8576b"
            ],
            [
             0.6666666666666666,
             "#ed7953"
            ],
            [
             0.7777777777777778,
             "#fb9f3a"
            ],
            [
             0.8888888888888888,
             "#fdca26"
            ],
            [
             1,
             "#f0f921"
            ]
           ],
           "sequentialminus": [
            [
             0,
             "#0d0887"
            ],
            [
             0.1111111111111111,
             "#46039f"
            ],
            [
             0.2222222222222222,
             "#7201a8"
            ],
            [
             0.3333333333333333,
             "#9c179e"
            ],
            [
             0.4444444444444444,
             "#bd3786"
            ],
            [
             0.5555555555555556,
             "#d8576b"
            ],
            [
             0.6666666666666666,
             "#ed7953"
            ],
            [
             0.7777777777777778,
             "#fb9f3a"
            ],
            [
             0.8888888888888888,
             "#fdca26"
            ],
            [
             1,
             "#f0f921"
            ]
           ]
          },
          "colorway": [
           "#636efa",
           "#EF553B",
           "#00cc96",
           "#ab63fa",
           "#FFA15A",
           "#19d3f3",
           "#FF6692",
           "#B6E880",
           "#FF97FF",
           "#FECB52"
          ],
          "font": {
           "color": "#2a3f5f"
          },
          "geo": {
           "bgcolor": "white",
           "lakecolor": "white",
           "landcolor": "#E5ECF6",
           "showlakes": true,
           "showland": true,
           "subunitcolor": "white"
          },
          "hoverlabel": {
           "align": "left"
          },
          "hovermode": "closest",
          "mapbox": {
           "style": "light"
          },
          "paper_bgcolor": "white",
          "plot_bgcolor": "#E5ECF6",
          "polar": {
           "angularaxis": {
            "gridcolor": "white",
            "linecolor": "white",
            "ticks": ""
           },
           "bgcolor": "#E5ECF6",
           "radialaxis": {
            "gridcolor": "white",
            "linecolor": "white",
            "ticks": ""
           }
          },
          "scene": {
           "xaxis": {
            "backgroundcolor": "#E5ECF6",
            "gridcolor": "white",
            "gridwidth": 2,
            "linecolor": "white",
            "showbackground": true,
            "ticks": "",
            "zerolinecolor": "white"
           },
           "yaxis": {
            "backgroundcolor": "#E5ECF6",
            "gridcolor": "white",
            "gridwidth": 2,
            "linecolor": "white",
            "showbackground": true,
            "ticks": "",
            "zerolinecolor": "white"
           },
           "zaxis": {
            "backgroundcolor": "#E5ECF6",
            "gridcolor": "white",
            "gridwidth": 2,
            "linecolor": "white",
            "showbackground": true,
            "ticks": "",
            "zerolinecolor": "white"
           }
          },
          "shapedefaults": {
           "line": {
            "color": "#2a3f5f"
           }
          },
          "ternary": {
           "aaxis": {
            "gridcolor": "white",
            "linecolor": "white",
            "ticks": ""
           },
           "baxis": {
            "gridcolor": "white",
            "linecolor": "white",
            "ticks": ""
           },
           "bgcolor": "#E5ECF6",
           "caxis": {
            "gridcolor": "white",
            "linecolor": "white",
            "ticks": ""
           }
          },
          "title": {
           "x": 0.05
          },
          "xaxis": {
           "automargin": true,
           "gridcolor": "white",
           "linecolor": "white",
           "ticks": "",
           "title": {
            "standoff": 15
           },
           "zerolinecolor": "white",
           "zerolinewidth": 2
          },
          "yaxis": {
           "automargin": true,
           "gridcolor": "white",
           "linecolor": "white",
           "ticks": "",
           "title": {
            "standoff": 15
           },
           "zerolinecolor": "white",
           "zerolinewidth": 2
          }
         }
        }
       }
      },
      "text/html": [
       "<div>                            <div id=\"15d1e67b-083e-4dd3-bb6e-ad5b30999a78\" class=\"plotly-graph-div\" style=\"height:525px; width:100%;\"></div>            <script type=\"text/javascript\">                require([\"plotly\"], function(Plotly) {                    window.PLOTLYENV=window.PLOTLYENV || {};                                    if (document.getElementById(\"15d1e67b-083e-4dd3-bb6e-ad5b30999a78\")) {                    Plotly.newPlot(                        \"15d1e67b-083e-4dd3-bb6e-ad5b30999a78\",                        [{\"marker\": {\"color\": [17, 33, 5, 8, 6, 16, 142, 19, 44, 8, 116, 335, 87, 72, 23, 3, 165, 65, 16, 45, 55, 45, 9, 14, 277, 265, 77, 52, 56, 22], \"colorscale\": [[0.0, \"#440154\"], [0.1111111111111111, \"#482878\"], [0.2222222222222222, \"#3e4989\"], [0.3333333333333333, \"#31688e\"], [0.4444444444444444, \"#26828e\"], [0.5555555555555556, \"#1f9e89\"], [0.6666666666666666, \"#35b779\"], [0.7777777777777778, \"#6ece58\"], [0.8888888888888888, \"#b5de2b\"], [1.0, \"#fde725\"]], \"opacity\": 0.8, \"size\": 12}, \"mode\": \"markers\", \"type\": \"scatter3d\", \"x\": [3, 6, 0, 4, 2, 5, 12, 5, 6, 2, 7, 4, 9, 4, 3, 1, 38, 12, 6, 2, 7, 4, 3, 2, 48, 63, 4, 3, 3, 2], \"y\": [18469.14, 33014.86, 4330.44, 13421.82, 9841.04, 22003.22, 148051.25, 26091.14, 49282.41, 10280.77, 106330.23, 232995.54, 91380.4, 71910.46, 30996.86, 3638.01, 246771.12, 87214.43, 20927.23, 45916.37, 62763.42, 43124.07, 11733.19, 18488.62, 331173.26, 397022.2, 87514.41, 53548.14, 47966.09, 25094.18], \"z\": [17, 33, 5, 8, 6, 16, 142, 19, 44, 8, 116, 335, 87, 72, 23, 3, 165, 65, 16, 45, 55, 45, 9, 14, 277, 265, 77, 52, 56, 22]}],                        {\"margin\": {\"b\": 0, \"l\": 0, \"r\": 0, \"t\": 0}, \"template\": {\"data\": {\"bar\": [{\"error_x\": {\"color\": \"#2a3f5f\"}, \"error_y\": {\"color\": \"#2a3f5f\"}, \"marker\": {\"line\": {\"color\": \"#E5ECF6\", \"width\": 0.5}}, \"type\": \"bar\"}], \"barpolar\": [{\"marker\": {\"line\": {\"color\": \"#E5ECF6\", \"width\": 0.5}}, \"type\": \"barpolar\"}], \"carpet\": [{\"aaxis\": {\"endlinecolor\": \"#2a3f5f\", \"gridcolor\": \"white\", \"linecolor\": \"white\", \"minorgridcolor\": \"white\", \"startlinecolor\": \"#2a3f5f\"}, \"baxis\": {\"endlinecolor\": \"#2a3f5f\", \"gridcolor\": \"white\", \"linecolor\": \"white\", \"minorgridcolor\": \"white\", \"startlinecolor\": \"#2a3f5f\"}, \"type\": \"carpet\"}], \"choropleth\": [{\"colorbar\": {\"outlinewidth\": 0, \"ticks\": \"\"}, \"type\": \"choropleth\"}], \"contour\": [{\"colorbar\": {\"outlinewidth\": 0, \"ticks\": \"\"}, \"colorscale\": [[0.0, \"#0d0887\"], [0.1111111111111111, \"#46039f\"], [0.2222222222222222, \"#7201a8\"], [0.3333333333333333, \"#9c179e\"], [0.4444444444444444, \"#bd3786\"], [0.5555555555555556, \"#d8576b\"], [0.6666666666666666, \"#ed7953\"], [0.7777777777777778, \"#fb9f3a\"], [0.8888888888888888, \"#fdca26\"], [1.0, \"#f0f921\"]], \"type\": \"contour\"}], \"contourcarpet\": [{\"colorbar\": {\"outlinewidth\": 0, \"ticks\": \"\"}, \"type\": \"contourcarpet\"}], \"heatmap\": [{\"colorbar\": {\"outlinewidth\": 0, \"ticks\": \"\"}, \"colorscale\": [[0.0, \"#0d0887\"], [0.1111111111111111, \"#46039f\"], [0.2222222222222222, \"#7201a8\"], [0.3333333333333333, \"#9c179e\"], [0.4444444444444444, \"#bd3786\"], [0.5555555555555556, \"#d8576b\"], [0.6666666666666666, \"#ed7953\"], [0.7777777777777778, \"#fb9f3a\"], [0.8888888888888888, \"#fdca26\"], [1.0, \"#f0f921\"]], \"type\": \"heatmap\"}], \"heatmapgl\": [{\"colorbar\": {\"outlinewidth\": 0, \"ticks\": \"\"}, \"colorscale\": [[0.0, \"#0d0887\"], [0.1111111111111111, \"#46039f\"], [0.2222222222222222, \"#7201a8\"], [0.3333333333333333, \"#9c179e\"], [0.4444444444444444, \"#bd3786\"], [0.5555555555555556, \"#d8576b\"], [0.6666666666666666, \"#ed7953\"], [0.7777777777777778, \"#fb9f3a\"], [0.8888888888888888, \"#fdca26\"], [1.0, \"#f0f921\"]], \"type\": \"heatmapgl\"}], \"histogram\": [{\"marker\": {\"colorbar\": {\"outlinewidth\": 0, \"ticks\": \"\"}}, \"type\": \"histogram\"}], \"histogram2d\": [{\"colorbar\": {\"outlinewidth\": 0, \"ticks\": \"\"}, \"colorscale\": [[0.0, \"#0d0887\"], [0.1111111111111111, \"#46039f\"], [0.2222222222222222, \"#7201a8\"], [0.3333333333333333, \"#9c179e\"], [0.4444444444444444, \"#bd3786\"], [0.5555555555555556, \"#d8576b\"], [0.6666666666666666, \"#ed7953\"], [0.7777777777777778, \"#fb9f3a\"], [0.8888888888888888, \"#fdca26\"], [1.0, \"#f0f921\"]], \"type\": \"histogram2d\"}], \"histogram2dcontour\": [{\"colorbar\": {\"outlinewidth\": 0, \"ticks\": \"\"}, \"colorscale\": [[0.0, \"#0d0887\"], [0.1111111111111111, \"#46039f\"], [0.2222222222222222, \"#7201a8\"], [0.3333333333333333, \"#9c179e\"], [0.4444444444444444, \"#bd3786\"], [0.5555555555555556, \"#d8576b\"], [0.6666666666666666, \"#ed7953\"], [0.7777777777777778, \"#fb9f3a\"], [0.8888888888888888, \"#fdca26\"], [1.0, \"#f0f921\"]], \"type\": \"histogram2dcontour\"}], \"mesh3d\": [{\"colorbar\": {\"outlinewidth\": 0, \"ticks\": \"\"}, \"type\": \"mesh3d\"}], \"parcoords\": [{\"line\": {\"colorbar\": {\"outlinewidth\": 0, \"ticks\": \"\"}}, \"type\": \"parcoords\"}], \"pie\": [{\"automargin\": true, \"type\": \"pie\"}], \"scatter\": [{\"marker\": {\"colorbar\": {\"outlinewidth\": 0, \"ticks\": \"\"}}, \"type\": \"scatter\"}], \"scatter3d\": [{\"line\": {\"colorbar\": {\"outlinewidth\": 0, \"ticks\": \"\"}}, \"marker\": {\"colorbar\": {\"outlinewidth\": 0, \"ticks\": \"\"}}, \"type\": \"scatter3d\"}], \"scattercarpet\": [{\"marker\": {\"colorbar\": {\"outlinewidth\": 0, \"ticks\": \"\"}}, \"type\": \"scattercarpet\"}], \"scattergeo\": [{\"marker\": {\"colorbar\": {\"outlinewidth\": 0, \"ticks\": \"\"}}, \"type\": \"scattergeo\"}], \"scattergl\": [{\"marker\": {\"colorbar\": {\"outlinewidth\": 0, \"ticks\": \"\"}}, \"type\": \"scattergl\"}], \"scattermapbox\": [{\"marker\": {\"colorbar\": {\"outlinewidth\": 0, \"ticks\": \"\"}}, \"type\": \"scattermapbox\"}], \"scatterpolar\": [{\"marker\": {\"colorbar\": {\"outlinewidth\": 0, \"ticks\": \"\"}}, \"type\": \"scatterpolar\"}], \"scatterpolargl\": [{\"marker\": {\"colorbar\": {\"outlinewidth\": 0, \"ticks\": \"\"}}, \"type\": \"scatterpolargl\"}], \"scatterternary\": [{\"marker\": {\"colorbar\": {\"outlinewidth\": 0, \"ticks\": \"\"}}, \"type\": \"scatterternary\"}], \"surface\": [{\"colorbar\": {\"outlinewidth\": 0, \"ticks\": \"\"}, \"colorscale\": [[0.0, \"#0d0887\"], [0.1111111111111111, \"#46039f\"], [0.2222222222222222, \"#7201a8\"], [0.3333333333333333, \"#9c179e\"], [0.4444444444444444, \"#bd3786\"], [0.5555555555555556, \"#d8576b\"], [0.6666666666666666, \"#ed7953\"], [0.7777777777777778, \"#fb9f3a\"], [0.8888888888888888, \"#fdca26\"], [1.0, \"#f0f921\"]], \"type\": \"surface\"}], \"table\": [{\"cells\": {\"fill\": {\"color\": \"#EBF0F8\"}, \"line\": {\"color\": \"white\"}}, \"header\": {\"fill\": {\"color\": \"#C8D4E3\"}, \"line\": {\"color\": \"white\"}}, \"type\": \"table\"}]}, \"layout\": {\"annotationdefaults\": {\"arrowcolor\": \"#2a3f5f\", \"arrowhead\": 0, \"arrowwidth\": 1}, \"autotypenumbers\": \"strict\", \"coloraxis\": {\"colorbar\": {\"outlinewidth\": 0, \"ticks\": \"\"}}, \"colorscale\": {\"diverging\": [[0, \"#8e0152\"], [0.1, \"#c51b7d\"], [0.2, \"#de77ae\"], [0.3, \"#f1b6da\"], [0.4, \"#fde0ef\"], [0.5, \"#f7f7f7\"], [0.6, \"#e6f5d0\"], [0.7, \"#b8e186\"], [0.8, \"#7fbc41\"], [0.9, \"#4d9221\"], [1, \"#276419\"]], \"sequential\": [[0.0, \"#0d0887\"], [0.1111111111111111, \"#46039f\"], [0.2222222222222222, \"#7201a8\"], [0.3333333333333333, \"#9c179e\"], [0.4444444444444444, \"#bd3786\"], [0.5555555555555556, \"#d8576b\"], [0.6666666666666666, \"#ed7953\"], [0.7777777777777778, \"#fb9f3a\"], [0.8888888888888888, \"#fdca26\"], [1.0, \"#f0f921\"]], \"sequentialminus\": [[0.0, \"#0d0887\"], [0.1111111111111111, \"#46039f\"], [0.2222222222222222, \"#7201a8\"], [0.3333333333333333, \"#9c179e\"], [0.4444444444444444, \"#bd3786\"], [0.5555555555555556, \"#d8576b\"], [0.6666666666666666, \"#ed7953\"], [0.7777777777777778, \"#fb9f3a\"], [0.8888888888888888, \"#fdca26\"], [1.0, \"#f0f921\"]]}, \"colorway\": [\"#636efa\", \"#EF553B\", \"#00cc96\", \"#ab63fa\", \"#FFA15A\", \"#19d3f3\", \"#FF6692\", \"#B6E880\", \"#FF97FF\", \"#FECB52\"], \"font\": {\"color\": \"#2a3f5f\"}, \"geo\": {\"bgcolor\": \"white\", \"lakecolor\": \"white\", \"landcolor\": \"#E5ECF6\", \"showlakes\": true, \"showland\": true, \"subunitcolor\": \"white\"}, \"hoverlabel\": {\"align\": \"left\"}, \"hovermode\": \"closest\", \"mapbox\": {\"style\": \"light\"}, \"paper_bgcolor\": \"white\", \"plot_bgcolor\": \"#E5ECF6\", \"polar\": {\"angularaxis\": {\"gridcolor\": \"white\", \"linecolor\": \"white\", \"ticks\": \"\"}, \"bgcolor\": \"#E5ECF6\", \"radialaxis\": {\"gridcolor\": \"white\", \"linecolor\": \"white\", \"ticks\": \"\"}}, \"scene\": {\"xaxis\": {\"backgroundcolor\": \"#E5ECF6\", \"gridcolor\": \"white\", \"gridwidth\": 2, \"linecolor\": \"white\", \"showbackground\": true, \"ticks\": \"\", \"zerolinecolor\": \"white\"}, \"yaxis\": {\"backgroundcolor\": \"#E5ECF6\", \"gridcolor\": \"white\", \"gridwidth\": 2, \"linecolor\": \"white\", \"showbackground\": true, \"ticks\": \"\", \"zerolinecolor\": \"white\"}, \"zaxis\": {\"backgroundcolor\": \"#E5ECF6\", \"gridcolor\": \"white\", \"gridwidth\": 2, \"linecolor\": \"white\", \"showbackground\": true, \"ticks\": \"\", \"zerolinecolor\": \"white\"}}, \"shapedefaults\": {\"line\": {\"color\": \"#2a3f5f\"}}, \"ternary\": {\"aaxis\": {\"gridcolor\": \"white\", \"linecolor\": \"white\", \"ticks\": \"\"}, \"baxis\": {\"gridcolor\": \"white\", \"linecolor\": \"white\", \"ticks\": \"\"}, \"bgcolor\": \"#E5ECF6\", \"caxis\": {\"gridcolor\": \"white\", \"linecolor\": \"white\", \"ticks\": \"\"}}, \"title\": {\"x\": 0.05}, \"xaxis\": {\"automargin\": true, \"gridcolor\": \"white\", \"linecolor\": \"white\", \"ticks\": \"\", \"title\": {\"standoff\": 15}, \"zerolinecolor\": \"white\", \"zerolinewidth\": 2}, \"yaxis\": {\"automargin\": true, \"gridcolor\": \"white\", \"linecolor\": \"white\", \"ticks\": \"\", \"title\": {\"standoff\": 15}, \"zerolinecolor\": \"white\", \"zerolinewidth\": 2}}}},                        {\"responsive\": true}                    ).then(function(){\n",
       "                            \n",
       "var gd = document.getElementById('15d1e67b-083e-4dd3-bb6e-ad5b30999a78');\n",
       "var x = new MutationObserver(function (mutations, observer) {{\n",
       "        var display = window.getComputedStyle(gd).display;\n",
       "        if (!display || display === 'none') {{\n",
       "            console.log([gd, 'removed!']);\n",
       "            Plotly.purge(gd);\n",
       "            observer.disconnect();\n",
       "        }}\n",
       "}});\n",
       "\n",
       "// Listen for the removal of the full notebook cells\n",
       "var notebookContainer = gd.closest('#notebook-container');\n",
       "if (notebookContainer) {{\n",
       "    x.observe(notebookContainer, {childList: true});\n",
       "}}\n",
       "\n",
       "// Listen for the clearing of the current output cell\n",
       "var outputEl = gd.closest('.output');\n",
       "if (outputEl) {{\n",
       "    x.observe(outputEl, {childList: true});\n",
       "}}\n",
       "\n",
       "                        })                };                });            </script>        </div>"
      ]
     },
     "metadata": {},
     "output_type": "display_data"
    }
   ],
   "source": [
    "#3D Plotly visualization\n",
    "import chart_studio\n",
    "\n",
    "chart_studio.tools.set_credentials_file(username='DemoAccount', api_key='lr1c37zw81')\n",
    "\n",
    "x = df_bar_pubg['solo_Wins']\n",
    "y = df_bar_pubg['solo_TimeSurvived']\n",
    "z = df_bar_pubg['solo_RoundsPlayed']\n",
    "\n",
    "trace1 = go.Scatter3d(\n",
    "    x=x,\n",
    "    y=y,\n",
    "    z=z,\n",
    "    mode='markers',\n",
    "    marker=dict(\n",
    "    size=12,\n",
    "    color=z,\n",
    "    colorscale='Viridis',\n",
    "    opacity=0.8))\n",
    "\n",
    "data = [trace1]\n",
    "layout = go.Layout(\n",
    "    margin=dict(\n",
    "    l=0,\n",
    "    r=0,\n",
    "    b=0,\n",
    "    t=0)\n",
    ")\n",
    "\n",
    "fig = go.Figure(data=data, layout=layout)\n",
    "iplot(fig, filename='3d-pubg-plot')"
   ]
  },
  {
   "cell_type": "code",
   "execution_count": 21,
   "metadata": {},
   "outputs": [
    {
     "data": {
      "application/vnd.plotly.v1+json": {
       "config": {
        "linkText": "Export to plotly.com",
        "plotlyServerURL": "https://plotly.com",
        "showLink": false
       },
       "data": [
        {
         "boxpoints": "all",
         "fillcolor": "rgba(93, 164, 214, 0.5)",
         "jitter": 0.5,
         "line": {
          "width": 1
         },
         "marker": {
          "size": 2
         },
         "name": "Carmelo Anthony",
         "type": "box",
         "whiskerwidth": 0.2,
         "y": [
          -0.9428111492281281,
          -1.5819790918745547,
          -0.24847562553838554,
          0.33025189220764295,
          -2.786490729159408,
          -0.7791903050852822,
          -1.12155825735593,
          -1.3834037488400144,
          -2.899570407376415,
          1.0087802992365118,
          -1.3547935809782996,
          -2.3354783347097734,
          -1.6287742126521598,
          -0.19495801538658863,
          -1.9762702030608215,
          0.5223290458934302,
          0.26265040955834484,
          -0.0037944068371430495,
          -0.1636715973305597,
          -0.7036066734514614,
          -0.18617267969776063,
          0.03480344554744974,
          0.41296003706129425,
          -1.364115475476929,
          -0.19705112097583466,
          -1.3848228727126561,
          -0.5547315820541009,
          -0.8744471216997408,
          -1.3152784862658282,
          -1.6658648480105571,
          -2.3262592147100456,
          -0.583886583029644,
          -2.0274516360487427,
          -1.8686733212531235,
          -2.0095100599971767,
          -2.4494124883228148,
          -0.9175217046881187,
          -0.9692860722089662,
          -1.2530509923207471,
          -2.883779354483454,
          -2.5136780438923703,
          1.243697057315595,
          -0.5867129035791017,
          -0.3517582379082238,
          -0.2007787206126297,
          -2.582355925566583,
          -2.931519284452241,
          -3.3985378913188753,
          -1.1936846335238362,
          -1.8709414031571567
         ]
        },
        {
         "boxpoints": "all",
         "fillcolor": "rgba(255, 144, 14, 0.5)",
         "jitter": 0.5,
         "line": {
          "width": 1
         },
         "marker": {
          "size": 2
         },
         "name": "Dwyane Wade",
         "type": "box",
         "whiskerwidth": 0.2,
         "y": [
          1.0956160466149014,
          -1.4277543844023945,
          3.109851538929679,
          2.616634929458786,
          0.44216067792523805,
          0.4394974209634529,
          0.823714162110095,
          0.22485682238191707,
          0.49360328425958777,
          0.640946082808042,
          0.12245502232460803,
          2.9605957230540882,
          0.7743941408946214,
          2.4873212352107217,
          2.5386200548335545,
          1.8532247309500065,
          1.3371026658007361,
          2.276321348749061,
          0.6137084771142225,
          0.2956877119449952,
          1.761907092874921,
          0.09984487505613948,
          0.0023450123517937405,
          1.9071857131143721,
          1.9286577676364935,
          1.6648334541221956,
          2.4515768529551276,
          1.7019544851045856,
          0.2576812759384215,
          1.418009978898783,
          0.3371426956358883,
          0.5312588546564848,
          0.8491586166408822,
          1.1116538250438188,
          2.5036305024103997,
          0.2863944714643256,
          1.2626831868562156,
          2.5258991776240283,
          1.3787461730370394,
          0.12762758861892287,
          1.0751264838469614,
          0.7560498330571669,
          2.6790144044914816,
          0.9693977897106785,
          0.7362351234729836,
          1.629371058759534,
          0.5847819045092958,
          1.1652956959666745,
          3.459961722615586,
          0.38179254262180007
         ]
        },
        {
         "boxpoints": "all",
         "fillcolor": "rgba(44, 160, 101, 0.5)",
         "jitter": 0.5,
         "line": {
          "width": 1
         },
         "marker": {
          "size": 2
         },
         "name": "Deron Williams",
         "type": "box",
         "whiskerwidth": 0.2,
         "y": [
          -0.30231637231820047,
          -1.4601290891976817,
          0.9934035136463988,
          0.8450096965639718,
          -1.0526974192018541,
          -0.9855303025352856,
          -0.24511336163263825,
          -0.1213263610829191,
          0.44522570894723595,
          1.706029112383315,
          -1.4305209892092667,
          -2.3069079688291088,
          0.9789981827745521,
          -0.2711752995800573,
          -0.05955398028079758,
          -0.8997190534150895,
          1.9974236029329961,
          1.1681024423353847,
          0.5288202123481305,
          0.15521813132537685,
          -1.2159873800508254,
          -1.7159286446631843,
          1.70291939686053,
          -0.16393328156349024,
          1.4281070230528021,
          -0.8827517607476071,
          -0.4093904761088686,
          0.6807197368866493,
          0.37143777012306606,
          -0.25056451939797947,
          -0.5777502901766649,
          2.1754548963792386,
          -0.03847726506425553,
          -0.40659617876896037,
          -0.8900187341220799,
          -0.9034123615694717,
          -1.8090368246214235,
          -0.2603722153426024,
          0.7291657176689383,
          0.25006532791593106,
          -0.41097395990940905,
          0.4785961559603463,
          0.9185934238836001,
          1.1256830057285638,
          1.3129503407500736,
          0.913757923322808,
          -0.5103706680862536,
          0.8553432403286872,
          0.6875888637840786,
          -0.5910156464866481
         ]
        },
        {
         "boxpoints": "all",
         "fillcolor": "rgba(255, 65, 54, 0.5)",
         "jitter": 0.5,
         "line": {
          "width": 1
         },
         "marker": {
          "size": 2
         },
         "name": "Brook Lopez",
         "type": "box",
         "whiskerwidth": 0.2,
         "y": [
          4.446283387314667,
          0.7783796108385863,
          2.0536573988988955,
          2.0634084537262707,
          2.9040636726342712,
          2.5012026856217635,
          1.7472992340048155,
          2.3626169716147194,
          0.46699379025287624,
          3.5366114896556446,
          2.6335573128954217,
          1.3866030408543542,
          -0.2890537187071649,
          3.5014410512068075,
          2.7846776091748446,
          2.0590519883451446,
          1.3738774449095967,
          0.3577256753652216,
          2.068909162522537,
          2.3912939905634536,
          2.3784351840547413,
          1.5133244854277632,
          2.196598872113309,
          1.4022831943410594,
          1.6877717120122866,
          1.3904554468521746,
          3.039907472271448,
          1.8373881918337582,
          1.0213871262915126,
          2.2869205348255153,
          2.24880020669713,
          -0.407418399764627,
          2.246357947134021,
          0.6356663708614096,
          1.5203037932498522,
          1.3087183487735614,
          1.8016989521234965,
          2.5149118119042266,
          1.8636895390125092,
          0.7923301692591569,
          1.3059732868514207,
          0.6318625354536276,
          2.1163749324129535,
          1.9445382319904028,
          1.6740501978821478,
          2.4870062207322587,
          1.590386351105229,
          1.7382948626404016,
          2.891896571462666,
          1.49258126387038
         ]
        },
        {
         "boxpoints": "all",
         "fillcolor": "rgba(207, 114, 255, 0.5)",
         "jitter": 0.5,
         "line": {
          "width": 1
         },
         "marker": {
          "size": 2
         },
         "name": "Damian Lillard",
         "type": "box",
         "whiskerwidth": 0.2,
         "y": [
          -1.1930348596835518,
          -1.7873617999299694,
          -3.020683945274248,
          -3.037567796527522,
          -2.068892198411273,
          -3.6003568389731258,
          -1.2152995896489047,
          -0.5454152392457736,
          -1.1337427820518415,
          -1.4828802625873687,
          -1.4364676640507898,
          -2.657566840468609,
          -1.3943171903119087,
          -1.7084226546745052,
          -1.0619198676095731,
          -2.2918426293656022,
          -2.6224730556123537,
          -2.5781782937325626,
          -2.1403097515231853,
          -2.9517256113367787,
          -2.1873711002638934,
          -3.4926129091336913,
          -3.488975641383596,
          -2.415658680504869,
          -2.597516059913488,
          -0.434556115069451,
          -1.027219107061655,
          -0.4757554645133053,
          -0.15300818162412777,
          -2.4500971017007482,
          -1.895033406056212,
          -3.1973979356821998,
          -1.0984278493639108,
          -0.7576643496464304,
          -2.7512579280510727,
          -2.8935646435142215,
          -2.461498217545815,
          0.22996866158554985,
          -2.524638830750826,
          -0.8226917351590006,
          -2.561321672939013,
          -1.6666293365558804,
          -1.9506184677915792,
          -3.433750975106027,
          -1.7188632746767187,
          -2.519363198529838,
          -3.058819570331763,
          -2.455197826791827,
          -1.107909400653913,
          -1.5598080395364984
         ]
        },
        {
         "boxpoints": "all",
         "fillcolor": "rgba(127, 96, 0, 0.5)",
         "jitter": 0.5,
         "line": {
          "width": 1
         },
         "marker": {
          "size": 2
         },
         "name": "David West",
         "type": "box",
         "whiskerwidth": 0.2,
         "y": [
          2.4541268694861444,
          2.6597241773836826,
          4.524252472736106,
          3.2366034343997536,
          3.714623356736928,
          1.9285034761187727,
          2.711627362011304,
          1.8314345046901939,
          3.1096406294301646,
          1.7878476615199936,
          2.911977368620211,
          3.6158119746967525,
          2.0191434332253033,
          2.8501658744616325,
          3.3487329847260905,
          3.124652271416083,
          1.7377032861425314,
          4.149558474552696,
          1.7391320421482972,
          3.7125584866861634,
          4.262104668969563,
          3.0869884267389955,
          3.5075005282832388,
          2.501077735450237,
          2.5102639074312383,
          2.993625560748339,
          2.9520481498807256,
          2.4382394063648998,
          2.4353347374598817,
          5.395343211871234,
          3.450364672953407,
          2.830701768484574,
          4.5863580971442115,
          3.1424418051952054,
          3.6839779810928883,
          3.184940459496941,
          5.321425663006284,
          2.53943952415398,
          2.940930468426631,
          4.267109974792898,
          2.5328025412253545,
          2.5551764765930005,
          4.227164853949489,
          1.7100160023115354,
          2.8723658416603,
          3.5586553743254354,
          1.5183893389683751,
          4.082515771376735,
          0.46305546926055285,
          1.0386200045160756
         ]
        }
       ],
       "layout": {
        "margin": {
         "b": 80,
         "l": 40,
         "r": 30,
         "t": 100
        },
        "paper_bgcolor": "rgb(243, 243, 243)",
        "plot_bgcolor": "rgb(243, 243, 243)",
        "showlegend": false,
        "template": {
         "data": {
          "bar": [
           {
            "error_x": {
             "color": "#2a3f5f"
            },
            "error_y": {
             "color": "#2a3f5f"
            },
            "marker": {
             "line": {
              "color": "#E5ECF6",
              "width": 0.5
             }
            },
            "type": "bar"
           }
          ],
          "barpolar": [
           {
            "marker": {
             "line": {
              "color": "#E5ECF6",
              "width": 0.5
             }
            },
            "type": "barpolar"
           }
          ],
          "carpet": [
           {
            "aaxis": {
             "endlinecolor": "#2a3f5f",
             "gridcolor": "white",
             "linecolor": "white",
             "minorgridcolor": "white",
             "startlinecolor": "#2a3f5f"
            },
            "baxis": {
             "endlinecolor": "#2a3f5f",
             "gridcolor": "white",
             "linecolor": "white",
             "minorgridcolor": "white",
             "startlinecolor": "#2a3f5f"
            },
            "type": "carpet"
           }
          ],
          "choropleth": [
           {
            "colorbar": {
             "outlinewidth": 0,
             "ticks": ""
            },
            "type": "choropleth"
           }
          ],
          "contour": [
           {
            "colorbar": {
             "outlinewidth": 0,
             "ticks": ""
            },
            "colorscale": [
             [
              0,
              "#0d0887"
             ],
             [
              0.1111111111111111,
              "#46039f"
             ],
             [
              0.2222222222222222,
              "#7201a8"
             ],
             [
              0.3333333333333333,
              "#9c179e"
             ],
             [
              0.4444444444444444,
              "#bd3786"
             ],
             [
              0.5555555555555556,
              "#d8576b"
             ],
             [
              0.6666666666666666,
              "#ed7953"
             ],
             [
              0.7777777777777778,
              "#fb9f3a"
             ],
             [
              0.8888888888888888,
              "#fdca26"
             ],
             [
              1,
              "#f0f921"
             ]
            ],
            "type": "contour"
           }
          ],
          "contourcarpet": [
           {
            "colorbar": {
             "outlinewidth": 0,
             "ticks": ""
            },
            "type": "contourcarpet"
           }
          ],
          "heatmap": [
           {
            "colorbar": {
             "outlinewidth": 0,
             "ticks": ""
            },
            "colorscale": [
             [
              0,
              "#0d0887"
             ],
             [
              0.1111111111111111,
              "#46039f"
             ],
             [
              0.2222222222222222,
              "#7201a8"
             ],
             [
              0.3333333333333333,
              "#9c179e"
             ],
             [
              0.4444444444444444,
              "#bd3786"
             ],
             [
              0.5555555555555556,
              "#d8576b"
             ],
             [
              0.6666666666666666,
              "#ed7953"
             ],
             [
              0.7777777777777778,
              "#fb9f3a"
             ],
             [
              0.8888888888888888,
              "#fdca26"
             ],
             [
              1,
              "#f0f921"
             ]
            ],
            "type": "heatmap"
           }
          ],
          "heatmapgl": [
           {
            "colorbar": {
             "outlinewidth": 0,
             "ticks": ""
            },
            "colorscale": [
             [
              0,
              "#0d0887"
             ],
             [
              0.1111111111111111,
              "#46039f"
             ],
             [
              0.2222222222222222,
              "#7201a8"
             ],
             [
              0.3333333333333333,
              "#9c179e"
             ],
             [
              0.4444444444444444,
              "#bd3786"
             ],
             [
              0.5555555555555556,
              "#d8576b"
             ],
             [
              0.6666666666666666,
              "#ed7953"
             ],
             [
              0.7777777777777778,
              "#fb9f3a"
             ],
             [
              0.8888888888888888,
              "#fdca26"
             ],
             [
              1,
              "#f0f921"
             ]
            ],
            "type": "heatmapgl"
           }
          ],
          "histogram": [
           {
            "marker": {
             "colorbar": {
              "outlinewidth": 0,
              "ticks": ""
             }
            },
            "type": "histogram"
           }
          ],
          "histogram2d": [
           {
            "colorbar": {
             "outlinewidth": 0,
             "ticks": ""
            },
            "colorscale": [
             [
              0,
              "#0d0887"
             ],
             [
              0.1111111111111111,
              "#46039f"
             ],
             [
              0.2222222222222222,
              "#7201a8"
             ],
             [
              0.3333333333333333,
              "#9c179e"
             ],
             [
              0.4444444444444444,
              "#bd3786"
             ],
             [
              0.5555555555555556,
              "#d8576b"
             ],
             [
              0.6666666666666666,
              "#ed7953"
             ],
             [
              0.7777777777777778,
              "#fb9f3a"
             ],
             [
              0.8888888888888888,
              "#fdca26"
             ],
             [
              1,
              "#f0f921"
             ]
            ],
            "type": "histogram2d"
           }
          ],
          "histogram2dcontour": [
           {
            "colorbar": {
             "outlinewidth": 0,
             "ticks": ""
            },
            "colorscale": [
             [
              0,
              "#0d0887"
             ],
             [
              0.1111111111111111,
              "#46039f"
             ],
             [
              0.2222222222222222,
              "#7201a8"
             ],
             [
              0.3333333333333333,
              "#9c179e"
             ],
             [
              0.4444444444444444,
              "#bd3786"
             ],
             [
              0.5555555555555556,
              "#d8576b"
             ],
             [
              0.6666666666666666,
              "#ed7953"
             ],
             [
              0.7777777777777778,
              "#fb9f3a"
             ],
             [
              0.8888888888888888,
              "#fdca26"
             ],
             [
              1,
              "#f0f921"
             ]
            ],
            "type": "histogram2dcontour"
           }
          ],
          "mesh3d": [
           {
            "colorbar": {
             "outlinewidth": 0,
             "ticks": ""
            },
            "type": "mesh3d"
           }
          ],
          "parcoords": [
           {
            "line": {
             "colorbar": {
              "outlinewidth": 0,
              "ticks": ""
             }
            },
            "type": "parcoords"
           }
          ],
          "pie": [
           {
            "automargin": true,
            "type": "pie"
           }
          ],
          "scatter": [
           {
            "marker": {
             "colorbar": {
              "outlinewidth": 0,
              "ticks": ""
             }
            },
            "type": "scatter"
           }
          ],
          "scatter3d": [
           {
            "line": {
             "colorbar": {
              "outlinewidth": 0,
              "ticks": ""
             }
            },
            "marker": {
             "colorbar": {
              "outlinewidth": 0,
              "ticks": ""
             }
            },
            "type": "scatter3d"
           }
          ],
          "scattercarpet": [
           {
            "marker": {
             "colorbar": {
              "outlinewidth": 0,
              "ticks": ""
             }
            },
            "type": "scattercarpet"
           }
          ],
          "scattergeo": [
           {
            "marker": {
             "colorbar": {
              "outlinewidth": 0,
              "ticks": ""
             }
            },
            "type": "scattergeo"
           }
          ],
          "scattergl": [
           {
            "marker": {
             "colorbar": {
              "outlinewidth": 0,
              "ticks": ""
             }
            },
            "type": "scattergl"
           }
          ],
          "scattermapbox": [
           {
            "marker": {
             "colorbar": {
              "outlinewidth": 0,
              "ticks": ""
             }
            },
            "type": "scattermapbox"
           }
          ],
          "scatterpolar": [
           {
            "marker": {
             "colorbar": {
              "outlinewidth": 0,
              "ticks": ""
             }
            },
            "type": "scatterpolar"
           }
          ],
          "scatterpolargl": [
           {
            "marker": {
             "colorbar": {
              "outlinewidth": 0,
              "ticks": ""
             }
            },
            "type": "scatterpolargl"
           }
          ],
          "scatterternary": [
           {
            "marker": {
             "colorbar": {
              "outlinewidth": 0,
              "ticks": ""
             }
            },
            "type": "scatterternary"
           }
          ],
          "surface": [
           {
            "colorbar": {
             "outlinewidth": 0,
             "ticks": ""
            },
            "colorscale": [
             [
              0,
              "#0d0887"
             ],
             [
              0.1111111111111111,
              "#46039f"
             ],
             [
              0.2222222222222222,
              "#7201a8"
             ],
             [
              0.3333333333333333,
              "#9c179e"
             ],
             [
              0.4444444444444444,
              "#bd3786"
             ],
             [
              0.5555555555555556,
              "#d8576b"
             ],
             [
              0.6666666666666666,
              "#ed7953"
             ],
             [
              0.7777777777777778,
              "#fb9f3a"
             ],
             [
              0.8888888888888888,
              "#fdca26"
             ],
             [
              1,
              "#f0f921"
             ]
            ],
            "type": "surface"
           }
          ],
          "table": [
           {
            "cells": {
             "fill": {
              "color": "#EBF0F8"
             },
             "line": {
              "color": "white"
             }
            },
            "header": {
             "fill": {
              "color": "#C8D4E3"
             },
             "line": {
              "color": "white"
             }
            },
            "type": "table"
           }
          ]
         },
         "layout": {
          "annotationdefaults": {
           "arrowcolor": "#2a3f5f",
           "arrowhead": 0,
           "arrowwidth": 1
          },
          "autotypenumbers": "strict",
          "coloraxis": {
           "colorbar": {
            "outlinewidth": 0,
            "ticks": ""
           }
          },
          "colorscale": {
           "diverging": [
            [
             0,
             "#8e0152"
            ],
            [
             0.1,
             "#c51b7d"
            ],
            [
             0.2,
             "#de77ae"
            ],
            [
             0.3,
             "#f1b6da"
            ],
            [
             0.4,
             "#fde0ef"
            ],
            [
             0.5,
             "#f7f7f7"
            ],
            [
             0.6,
             "#e6f5d0"
            ],
            [
             0.7,
             "#b8e186"
            ],
            [
             0.8,
             "#7fbc41"
            ],
            [
             0.9,
             "#4d9221"
            ],
            [
             1,
             "#276419"
            ]
           ],
           "sequential": [
            [
             0,
             "#0d0887"
            ],
            [
             0.1111111111111111,
             "#46039f"
            ],
            [
             0.2222222222222222,
             "#7201a8"
            ],
            [
             0.3333333333333333,
             "#9c179e"
            ],
            [
             0.4444444444444444,
             "#bd3786"
            ],
            [
             0.5555555555555556,
             "#d8576b"
            ],
            [
             0.6666666666666666,
             "#ed7953"
            ],
            [
             0.7777777777777778,
             "#fb9f3a"
            ],
            [
             0.8888888888888888,
             "#fdca26"
            ],
            [
             1,
             "#f0f921"
            ]
           ],
           "sequentialminus": [
            [
             0,
             "#0d0887"
            ],
            [
             0.1111111111111111,
             "#46039f"
            ],
            [
             0.2222222222222222,
             "#7201a8"
            ],
            [
             0.3333333333333333,
             "#9c179e"
            ],
            [
             0.4444444444444444,
             "#bd3786"
            ],
            [
             0.5555555555555556,
             "#d8576b"
            ],
            [
             0.6666666666666666,
             "#ed7953"
            ],
            [
             0.7777777777777778,
             "#fb9f3a"
            ],
            [
             0.8888888888888888,
             "#fdca26"
            ],
            [
             1,
             "#f0f921"
            ]
           ]
          },
          "colorway": [
           "#636efa",
           "#EF553B",
           "#00cc96",
           "#ab63fa",
           "#FFA15A",
           "#19d3f3",
           "#FF6692",
           "#B6E880",
           "#FF97FF",
           "#FECB52"
          ],
          "font": {
           "color": "#2a3f5f"
          },
          "geo": {
           "bgcolor": "white",
           "lakecolor": "white",
           "landcolor": "#E5ECF6",
           "showlakes": true,
           "showland": true,
           "subunitcolor": "white"
          },
          "hoverlabel": {
           "align": "left"
          },
          "hovermode": "closest",
          "mapbox": {
           "style": "light"
          },
          "paper_bgcolor": "white",
          "plot_bgcolor": "#E5ECF6",
          "polar": {
           "angularaxis": {
            "gridcolor": "white",
            "linecolor": "white",
            "ticks": ""
           },
           "bgcolor": "#E5ECF6",
           "radialaxis": {
            "gridcolor": "white",
            "linecolor": "white",
            "ticks": ""
           }
          },
          "scene": {
           "xaxis": {
            "backgroundcolor": "#E5ECF6",
            "gridcolor": "white",
            "gridwidth": 2,
            "linecolor": "white",
            "showbackground": true,
            "ticks": "",
            "zerolinecolor": "white"
           },
           "yaxis": {
            "backgroundcolor": "#E5ECF6",
            "gridcolor": "white",
            "gridwidth": 2,
            "linecolor": "white",
            "showbackground": true,
            "ticks": "",
            "zerolinecolor": "white"
           },
           "zaxis": {
            "backgroundcolor": "#E5ECF6",
            "gridcolor": "white",
            "gridwidth": 2,
            "linecolor": "white",
            "showbackground": true,
            "ticks": "",
            "zerolinecolor": "white"
           }
          },
          "shapedefaults": {
           "line": {
            "color": "#2a3f5f"
           }
          },
          "ternary": {
           "aaxis": {
            "gridcolor": "white",
            "linecolor": "white",
            "ticks": ""
           },
           "baxis": {
            "gridcolor": "white",
            "linecolor": "white",
            "ticks": ""
           },
           "bgcolor": "#E5ECF6",
           "caxis": {
            "gridcolor": "white",
            "linecolor": "white",
            "ticks": ""
           }
          },
          "title": {
           "x": 0.05
          },
          "xaxis": {
           "automargin": true,
           "gridcolor": "white",
           "linecolor": "white",
           "ticks": "",
           "title": {
            "standoff": 15
           },
           "zerolinecolor": "white",
           "zerolinewidth": 2
          },
          "yaxis": {
           "automargin": true,
           "gridcolor": "white",
           "linecolor": "white",
           "ticks": "",
           "title": {
            "standoff": 15
           },
           "zerolinecolor": "white",
           "zerolinewidth": 2
          }
         }
        },
        "title": {
         "text": "Points Scored by the Top 9 Scoring NBA Players in 2012"
        },
        "yaxis": {
         "autorange": true,
         "dtick": 5,
         "gridcolor": "rgb(255, 255, 255)",
         "gridwidth": 1,
         "showgrid": true,
         "zeroline": true,
         "zerolinecolor": "rgb(255, 255, 255)",
         "zerolinewidth": 2
        }
       }
      },
      "text/html": [
       "<div>                            <div id=\"e2b6777c-3d17-4905-878b-276203bd80cb\" class=\"plotly-graph-div\" style=\"height:525px; width:100%;\"></div>            <script type=\"text/javascript\">                require([\"plotly\"], function(Plotly) {                    window.PLOTLYENV=window.PLOTLYENV || {};                                    if (document.getElementById(\"e2b6777c-3d17-4905-878b-276203bd80cb\")) {                    Plotly.newPlot(                        \"e2b6777c-3d17-4905-878b-276203bd80cb\",                        [{\"boxpoints\": \"all\", \"fillcolor\": \"rgba(93, 164, 214, 0.5)\", \"jitter\": 0.5, \"line\": {\"width\": 1}, \"marker\": {\"size\": 2}, \"name\": \"Carmelo Anthony\", \"type\": \"box\", \"whiskerwidth\": 0.2, \"y\": [-0.9428111492281281, -1.5819790918745547, -0.24847562553838554, 0.33025189220764295, -2.786490729159408, -0.7791903050852822, -1.12155825735593, -1.3834037488400144, -2.899570407376415, 1.0087802992365118, -1.3547935809782996, -2.3354783347097734, -1.6287742126521598, -0.19495801538658863, -1.9762702030608215, 0.5223290458934302, 0.26265040955834484, -0.0037944068371430495, -0.1636715973305597, -0.7036066734514614, -0.18617267969776063, 0.03480344554744974, 0.41296003706129425, -1.364115475476929, -0.19705112097583466, -1.3848228727126561, -0.5547315820541009, -0.8744471216997408, -1.3152784862658282, -1.6658648480105571, -2.3262592147100456, -0.583886583029644, -2.0274516360487427, -1.8686733212531235, -2.0095100599971767, -2.4494124883228148, -0.9175217046881187, -0.9692860722089662, -1.2530509923207471, -2.883779354483454, -2.5136780438923703, 1.243697057315595, -0.5867129035791017, -0.3517582379082238, -0.2007787206126297, -2.582355925566583, -2.931519284452241, -3.3985378913188753, -1.1936846335238362, -1.8709414031571567]}, {\"boxpoints\": \"all\", \"fillcolor\": \"rgba(255, 144, 14, 0.5)\", \"jitter\": 0.5, \"line\": {\"width\": 1}, \"marker\": {\"size\": 2}, \"name\": \"Dwyane Wade\", \"type\": \"box\", \"whiskerwidth\": 0.2, \"y\": [1.0956160466149014, -1.4277543844023945, 3.109851538929679, 2.616634929458786, 0.44216067792523805, 0.4394974209634529, 0.823714162110095, 0.22485682238191707, 0.49360328425958777, 0.640946082808042, 0.12245502232460803, 2.9605957230540882, 0.7743941408946214, 2.4873212352107217, 2.5386200548335545, 1.8532247309500065, 1.3371026658007361, 2.276321348749061, 0.6137084771142225, 0.2956877119449952, 1.761907092874921, 0.09984487505613948, 0.0023450123517937405, 1.9071857131143721, 1.9286577676364935, 1.6648334541221956, 2.4515768529551276, 1.7019544851045856, 0.2576812759384215, 1.418009978898783, 0.3371426956358883, 0.5312588546564848, 0.8491586166408822, 1.1116538250438188, 2.5036305024103997, 0.2863944714643256, 1.2626831868562156, 2.5258991776240283, 1.3787461730370394, 0.12762758861892287, 1.0751264838469614, 0.7560498330571669, 2.6790144044914816, 0.9693977897106785, 0.7362351234729836, 1.629371058759534, 0.5847819045092958, 1.1652956959666745, 3.459961722615586, 0.38179254262180007]}, {\"boxpoints\": \"all\", \"fillcolor\": \"rgba(44, 160, 101, 0.5)\", \"jitter\": 0.5, \"line\": {\"width\": 1}, \"marker\": {\"size\": 2}, \"name\": \"Deron Williams\", \"type\": \"box\", \"whiskerwidth\": 0.2, \"y\": [-0.30231637231820047, -1.4601290891976817, 0.9934035136463988, 0.8450096965639718, -1.0526974192018541, -0.9855303025352856, -0.24511336163263825, -0.1213263610829191, 0.44522570894723595, 1.706029112383315, -1.4305209892092667, -2.3069079688291088, 0.9789981827745521, -0.2711752995800573, -0.05955398028079758, -0.8997190534150895, 1.9974236029329961, 1.1681024423353847, 0.5288202123481305, 0.15521813132537685, -1.2159873800508254, -1.7159286446631843, 1.70291939686053, -0.16393328156349024, 1.4281070230528021, -0.8827517607476071, -0.4093904761088686, 0.6807197368866493, 0.37143777012306606, -0.25056451939797947, -0.5777502901766649, 2.1754548963792386, -0.03847726506425553, -0.40659617876896037, -0.8900187341220799, -0.9034123615694717, -1.8090368246214235, -0.2603722153426024, 0.7291657176689383, 0.25006532791593106, -0.41097395990940905, 0.4785961559603463, 0.9185934238836001, 1.1256830057285638, 1.3129503407500736, 0.913757923322808, -0.5103706680862536, 0.8553432403286872, 0.6875888637840786, -0.5910156464866481]}, {\"boxpoints\": \"all\", \"fillcolor\": \"rgba(255, 65, 54, 0.5)\", \"jitter\": 0.5, \"line\": {\"width\": 1}, \"marker\": {\"size\": 2}, \"name\": \"Brook Lopez\", \"type\": \"box\", \"whiskerwidth\": 0.2, \"y\": [4.446283387314667, 0.7783796108385863, 2.0536573988988955, 2.0634084537262707, 2.9040636726342712, 2.5012026856217635, 1.7472992340048155, 2.3626169716147194, 0.46699379025287624, 3.5366114896556446, 2.6335573128954217, 1.3866030408543542, -0.2890537187071649, 3.5014410512068075, 2.7846776091748446, 2.0590519883451446, 1.3738774449095967, 0.3577256753652216, 2.068909162522537, 2.3912939905634536, 2.3784351840547413, 1.5133244854277632, 2.196598872113309, 1.4022831943410594, 1.6877717120122866, 1.3904554468521746, 3.039907472271448, 1.8373881918337582, 1.0213871262915126, 2.2869205348255153, 2.24880020669713, -0.407418399764627, 2.246357947134021, 0.6356663708614096, 1.5203037932498522, 1.3087183487735614, 1.8016989521234965, 2.5149118119042266, 1.8636895390125092, 0.7923301692591569, 1.3059732868514207, 0.6318625354536276, 2.1163749324129535, 1.9445382319904028, 1.6740501978821478, 2.4870062207322587, 1.590386351105229, 1.7382948626404016, 2.891896571462666, 1.49258126387038]}, {\"boxpoints\": \"all\", \"fillcolor\": \"rgba(207, 114, 255, 0.5)\", \"jitter\": 0.5, \"line\": {\"width\": 1}, \"marker\": {\"size\": 2}, \"name\": \"Damian Lillard\", \"type\": \"box\", \"whiskerwidth\": 0.2, \"y\": [-1.1930348596835518, -1.7873617999299694, -3.020683945274248, -3.037567796527522, -2.068892198411273, -3.6003568389731258, -1.2152995896489047, -0.5454152392457736, -1.1337427820518415, -1.4828802625873687, -1.4364676640507898, -2.657566840468609, -1.3943171903119087, -1.7084226546745052, -1.0619198676095731, -2.2918426293656022, -2.6224730556123537, -2.5781782937325626, -2.1403097515231853, -2.9517256113367787, -2.1873711002638934, -3.4926129091336913, -3.488975641383596, -2.415658680504869, -2.597516059913488, -0.434556115069451, -1.027219107061655, -0.4757554645133053, -0.15300818162412777, -2.4500971017007482, -1.895033406056212, -3.1973979356821998, -1.0984278493639108, -0.7576643496464304, -2.7512579280510727, -2.8935646435142215, -2.461498217545815, 0.22996866158554985, -2.524638830750826, -0.8226917351590006, -2.561321672939013, -1.6666293365558804, -1.9506184677915792, -3.433750975106027, -1.7188632746767187, -2.519363198529838, -3.058819570331763, -2.455197826791827, -1.107909400653913, -1.5598080395364984]}, {\"boxpoints\": \"all\", \"fillcolor\": \"rgba(127, 96, 0, 0.5)\", \"jitter\": 0.5, \"line\": {\"width\": 1}, \"marker\": {\"size\": 2}, \"name\": \"David West\", \"type\": \"box\", \"whiskerwidth\": 0.2, \"y\": [2.4541268694861444, 2.6597241773836826, 4.524252472736106, 3.2366034343997536, 3.714623356736928, 1.9285034761187727, 2.711627362011304, 1.8314345046901939, 3.1096406294301646, 1.7878476615199936, 2.911977368620211, 3.6158119746967525, 2.0191434332253033, 2.8501658744616325, 3.3487329847260905, 3.124652271416083, 1.7377032861425314, 4.149558474552696, 1.7391320421482972, 3.7125584866861634, 4.262104668969563, 3.0869884267389955, 3.5075005282832388, 2.501077735450237, 2.5102639074312383, 2.993625560748339, 2.9520481498807256, 2.4382394063648998, 2.4353347374598817, 5.395343211871234, 3.450364672953407, 2.830701768484574, 4.5863580971442115, 3.1424418051952054, 3.6839779810928883, 3.184940459496941, 5.321425663006284, 2.53943952415398, 2.940930468426631, 4.267109974792898, 2.5328025412253545, 2.5551764765930005, 4.227164853949489, 1.7100160023115354, 2.8723658416603, 3.5586553743254354, 1.5183893389683751, 4.082515771376735, 0.46305546926055285, 1.0386200045160756]}],                        {\"margin\": {\"b\": 80, \"l\": 40, \"r\": 30, \"t\": 100}, \"paper_bgcolor\": \"rgb(243, 243, 243)\", \"plot_bgcolor\": \"rgb(243, 243, 243)\", \"showlegend\": false, \"template\": {\"data\": {\"bar\": [{\"error_x\": {\"color\": \"#2a3f5f\"}, \"error_y\": {\"color\": \"#2a3f5f\"}, \"marker\": {\"line\": {\"color\": \"#E5ECF6\", \"width\": 0.5}}, \"type\": \"bar\"}], \"barpolar\": [{\"marker\": {\"line\": {\"color\": \"#E5ECF6\", \"width\": 0.5}}, \"type\": \"barpolar\"}], \"carpet\": [{\"aaxis\": {\"endlinecolor\": \"#2a3f5f\", \"gridcolor\": \"white\", \"linecolor\": \"white\", \"minorgridcolor\": \"white\", \"startlinecolor\": \"#2a3f5f\"}, \"baxis\": {\"endlinecolor\": \"#2a3f5f\", \"gridcolor\": \"white\", \"linecolor\": \"white\", \"minorgridcolor\": \"white\", \"startlinecolor\": \"#2a3f5f\"}, \"type\": \"carpet\"}], \"choropleth\": [{\"colorbar\": {\"outlinewidth\": 0, \"ticks\": \"\"}, \"type\": \"choropleth\"}], \"contour\": [{\"colorbar\": {\"outlinewidth\": 0, \"ticks\": \"\"}, \"colorscale\": [[0.0, \"#0d0887\"], [0.1111111111111111, \"#46039f\"], [0.2222222222222222, \"#7201a8\"], [0.3333333333333333, \"#9c179e\"], [0.4444444444444444, \"#bd3786\"], [0.5555555555555556, \"#d8576b\"], [0.6666666666666666, \"#ed7953\"], [0.7777777777777778, \"#fb9f3a\"], [0.8888888888888888, \"#fdca26\"], [1.0, \"#f0f921\"]], \"type\": \"contour\"}], \"contourcarpet\": [{\"colorbar\": {\"outlinewidth\": 0, \"ticks\": \"\"}, \"type\": \"contourcarpet\"}], \"heatmap\": [{\"colorbar\": {\"outlinewidth\": 0, \"ticks\": \"\"}, \"colorscale\": [[0.0, \"#0d0887\"], [0.1111111111111111, \"#46039f\"], [0.2222222222222222, \"#7201a8\"], [0.3333333333333333, \"#9c179e\"], [0.4444444444444444, \"#bd3786\"], [0.5555555555555556, \"#d8576b\"], [0.6666666666666666, \"#ed7953\"], [0.7777777777777778, \"#fb9f3a\"], [0.8888888888888888, \"#fdca26\"], [1.0, \"#f0f921\"]], \"type\": \"heatmap\"}], \"heatmapgl\": [{\"colorbar\": {\"outlinewidth\": 0, \"ticks\": \"\"}, \"colorscale\": [[0.0, \"#0d0887\"], [0.1111111111111111, \"#46039f\"], [0.2222222222222222, \"#7201a8\"], [0.3333333333333333, \"#9c179e\"], [0.4444444444444444, \"#bd3786\"], [0.5555555555555556, \"#d8576b\"], [0.6666666666666666, \"#ed7953\"], [0.7777777777777778, \"#fb9f3a\"], [0.8888888888888888, \"#fdca26\"], [1.0, \"#f0f921\"]], \"type\": \"heatmapgl\"}], \"histogram\": [{\"marker\": {\"colorbar\": {\"outlinewidth\": 0, \"ticks\": \"\"}}, \"type\": \"histogram\"}], \"histogram2d\": [{\"colorbar\": {\"outlinewidth\": 0, \"ticks\": \"\"}, \"colorscale\": [[0.0, \"#0d0887\"], [0.1111111111111111, \"#46039f\"], [0.2222222222222222, \"#7201a8\"], [0.3333333333333333, \"#9c179e\"], [0.4444444444444444, \"#bd3786\"], [0.5555555555555556, \"#d8576b\"], [0.6666666666666666, \"#ed7953\"], [0.7777777777777778, \"#fb9f3a\"], [0.8888888888888888, \"#fdca26\"], [1.0, \"#f0f921\"]], \"type\": \"histogram2d\"}], \"histogram2dcontour\": [{\"colorbar\": {\"outlinewidth\": 0, \"ticks\": \"\"}, \"colorscale\": [[0.0, \"#0d0887\"], [0.1111111111111111, \"#46039f\"], [0.2222222222222222, \"#7201a8\"], [0.3333333333333333, \"#9c179e\"], [0.4444444444444444, \"#bd3786\"], [0.5555555555555556, \"#d8576b\"], [0.6666666666666666, \"#ed7953\"], [0.7777777777777778, \"#fb9f3a\"], [0.8888888888888888, \"#fdca26\"], [1.0, \"#f0f921\"]], \"type\": \"histogram2dcontour\"}], \"mesh3d\": [{\"colorbar\": {\"outlinewidth\": 0, \"ticks\": \"\"}, \"type\": \"mesh3d\"}], \"parcoords\": [{\"line\": {\"colorbar\": {\"outlinewidth\": 0, \"ticks\": \"\"}}, \"type\": \"parcoords\"}], \"pie\": [{\"automargin\": true, \"type\": \"pie\"}], \"scatter\": [{\"marker\": {\"colorbar\": {\"outlinewidth\": 0, \"ticks\": \"\"}}, \"type\": \"scatter\"}], \"scatter3d\": [{\"line\": {\"colorbar\": {\"outlinewidth\": 0, \"ticks\": \"\"}}, \"marker\": {\"colorbar\": {\"outlinewidth\": 0, \"ticks\": \"\"}}, \"type\": \"scatter3d\"}], \"scattercarpet\": [{\"marker\": {\"colorbar\": {\"outlinewidth\": 0, \"ticks\": \"\"}}, \"type\": \"scattercarpet\"}], \"scattergeo\": [{\"marker\": {\"colorbar\": {\"outlinewidth\": 0, \"ticks\": \"\"}}, \"type\": \"scattergeo\"}], \"scattergl\": [{\"marker\": {\"colorbar\": {\"outlinewidth\": 0, \"ticks\": \"\"}}, \"type\": \"scattergl\"}], \"scattermapbox\": [{\"marker\": {\"colorbar\": {\"outlinewidth\": 0, \"ticks\": \"\"}}, \"type\": \"scattermapbox\"}], \"scatterpolar\": [{\"marker\": {\"colorbar\": {\"outlinewidth\": 0, \"ticks\": \"\"}}, \"type\": \"scatterpolar\"}], \"scatterpolargl\": [{\"marker\": {\"colorbar\": {\"outlinewidth\": 0, \"ticks\": \"\"}}, \"type\": \"scatterpolargl\"}], \"scatterternary\": [{\"marker\": {\"colorbar\": {\"outlinewidth\": 0, \"ticks\": \"\"}}, \"type\": \"scatterternary\"}], \"surface\": [{\"colorbar\": {\"outlinewidth\": 0, \"ticks\": \"\"}, \"colorscale\": [[0.0, \"#0d0887\"], [0.1111111111111111, \"#46039f\"], [0.2222222222222222, \"#7201a8\"], [0.3333333333333333, \"#9c179e\"], [0.4444444444444444, \"#bd3786\"], [0.5555555555555556, \"#d8576b\"], [0.6666666666666666, \"#ed7953\"], [0.7777777777777778, \"#fb9f3a\"], [0.8888888888888888, \"#fdca26\"], [1.0, \"#f0f921\"]], \"type\": \"surface\"}], \"table\": [{\"cells\": {\"fill\": {\"color\": \"#EBF0F8\"}, \"line\": {\"color\": \"white\"}}, \"header\": {\"fill\": {\"color\": \"#C8D4E3\"}, \"line\": {\"color\": \"white\"}}, \"type\": \"table\"}]}, \"layout\": {\"annotationdefaults\": {\"arrowcolor\": \"#2a3f5f\", \"arrowhead\": 0, \"arrowwidth\": 1}, \"autotypenumbers\": \"strict\", \"coloraxis\": {\"colorbar\": {\"outlinewidth\": 0, \"ticks\": \"\"}}, \"colorscale\": {\"diverging\": [[0, \"#8e0152\"], [0.1, \"#c51b7d\"], [0.2, \"#de77ae\"], [0.3, \"#f1b6da\"], [0.4, \"#fde0ef\"], [0.5, \"#f7f7f7\"], [0.6, \"#e6f5d0\"], [0.7, \"#b8e186\"], [0.8, \"#7fbc41\"], [0.9, \"#4d9221\"], [1, \"#276419\"]], \"sequential\": [[0.0, \"#0d0887\"], [0.1111111111111111, \"#46039f\"], [0.2222222222222222, \"#7201a8\"], [0.3333333333333333, \"#9c179e\"], [0.4444444444444444, \"#bd3786\"], [0.5555555555555556, \"#d8576b\"], [0.6666666666666666, \"#ed7953\"], [0.7777777777777778, \"#fb9f3a\"], [0.8888888888888888, \"#fdca26\"], [1.0, \"#f0f921\"]], \"sequentialminus\": [[0.0, \"#0d0887\"], [0.1111111111111111, \"#46039f\"], [0.2222222222222222, \"#7201a8\"], [0.3333333333333333, \"#9c179e\"], [0.4444444444444444, \"#bd3786\"], [0.5555555555555556, \"#d8576b\"], [0.6666666666666666, \"#ed7953\"], [0.7777777777777778, \"#fb9f3a\"], [0.8888888888888888, \"#fdca26\"], [1.0, \"#f0f921\"]]}, \"colorway\": [\"#636efa\", \"#EF553B\", \"#00cc96\", \"#ab63fa\", \"#FFA15A\", \"#19d3f3\", \"#FF6692\", \"#B6E880\", \"#FF97FF\", \"#FECB52\"], \"font\": {\"color\": \"#2a3f5f\"}, \"geo\": {\"bgcolor\": \"white\", \"lakecolor\": \"white\", \"landcolor\": \"#E5ECF6\", \"showlakes\": true, \"showland\": true, \"subunitcolor\": \"white\"}, \"hoverlabel\": {\"align\": \"left\"}, \"hovermode\": \"closest\", \"mapbox\": {\"style\": \"light\"}, \"paper_bgcolor\": \"white\", \"plot_bgcolor\": \"#E5ECF6\", \"polar\": {\"angularaxis\": {\"gridcolor\": \"white\", \"linecolor\": \"white\", \"ticks\": \"\"}, \"bgcolor\": \"#E5ECF6\", \"radialaxis\": {\"gridcolor\": \"white\", \"linecolor\": \"white\", \"ticks\": \"\"}}, \"scene\": {\"xaxis\": {\"backgroundcolor\": \"#E5ECF6\", \"gridcolor\": \"white\", \"gridwidth\": 2, \"linecolor\": \"white\", \"showbackground\": true, \"ticks\": \"\", \"zerolinecolor\": \"white\"}, \"yaxis\": {\"backgroundcolor\": \"#E5ECF6\", \"gridcolor\": \"white\", \"gridwidth\": 2, \"linecolor\": \"white\", \"showbackground\": true, \"ticks\": \"\", \"zerolinecolor\": \"white\"}, \"zaxis\": {\"backgroundcolor\": \"#E5ECF6\", \"gridcolor\": \"white\", \"gridwidth\": 2, \"linecolor\": \"white\", \"showbackground\": true, \"ticks\": \"\", \"zerolinecolor\": \"white\"}}, \"shapedefaults\": {\"line\": {\"color\": \"#2a3f5f\"}}, \"ternary\": {\"aaxis\": {\"gridcolor\": \"white\", \"linecolor\": \"white\", \"ticks\": \"\"}, \"baxis\": {\"gridcolor\": \"white\", \"linecolor\": \"white\", \"ticks\": \"\"}, \"bgcolor\": \"#E5ECF6\", \"caxis\": {\"gridcolor\": \"white\", \"linecolor\": \"white\", \"ticks\": \"\"}}, \"title\": {\"x\": 0.05}, \"xaxis\": {\"automargin\": true, \"gridcolor\": \"white\", \"linecolor\": \"white\", \"ticks\": \"\", \"title\": {\"standoff\": 15}, \"zerolinecolor\": \"white\", \"zerolinewidth\": 2}, \"yaxis\": {\"automargin\": true, \"gridcolor\": \"white\", \"linecolor\": \"white\", \"ticks\": \"\", \"title\": {\"standoff\": 15}, \"zerolinecolor\": \"white\", \"zerolinewidth\": 2}}}, \"title\": {\"text\": \"Points Scored by the Top 9 Scoring NBA Players in 2012\"}, \"yaxis\": {\"autorange\": true, \"dtick\": 5, \"gridcolor\": \"rgb(255, 255, 255)\", \"gridwidth\": 1, \"showgrid\": true, \"zeroline\": true, \"zerolinecolor\": \"rgb(255, 255, 255)\", \"zerolinewidth\": 2}},                        {\"responsive\": true}                    ).then(function(){\n",
       "                            \n",
       "var gd = document.getElementById('e2b6777c-3d17-4905-878b-276203bd80cb');\n",
       "var x = new MutationObserver(function (mutations, observer) {{\n",
       "        var display = window.getComputedStyle(gd).display;\n",
       "        if (!display || display === 'none') {{\n",
       "            console.log([gd, 'removed!']);\n",
       "            Plotly.purge(gd);\n",
       "            observer.disconnect();\n",
       "        }}\n",
       "}});\n",
       "\n",
       "// Listen for the removal of the full notebook cells\n",
       "var notebookContainer = gd.closest('#notebook-container');\n",
       "if (notebookContainer) {{\n",
       "    x.observe(notebookContainer, {childList: true});\n",
       "}}\n",
       "\n",
       "// Listen for the clearing of the current output cell\n",
       "var outputEl = gd.closest('.output');\n",
       "if (outputEl) {{\n",
       "    x.observe(outputEl, {childList: true});\n",
       "}}\n",
       "\n",
       "                        })                };                });            </script>        </div>"
      ]
     },
     "metadata": {},
     "output_type": "display_data"
    }
   ],
   "source": [
    "# https://plot.ly/python/box-plots/\n",
    "\n",
    "import chart_studio.plotly as py\n",
    "import plotly.graph_objs as go\n",
    "import numpy as np\n",
    "\n",
    "x_data = ['Carmelo Anthony', 'Dwyane Wade',\n",
    "          'Deron Williams', 'Brook Lopez',\n",
    "          'Damian Lillard', 'David West',]\n",
    "\n",
    "y0 = np.random.randn(50)-1\n",
    "y1 = np.random.randn(50)+1\n",
    "y2 = np.random.randn(50)\n",
    "y3 = np.random.randn(50)+2\n",
    "y4 = np.random.randn(50)-2\n",
    "y5 = np.random.randn(50)+3\n",
    "\n",
    "y_data = [y0,y1,y2,y3,y4,y5]\n",
    "\n",
    "colors = ['rgba(93, 164, 214, 0.5)', 'rgba(255, 144, 14, 0.5)', 'rgba(44, 160, 101, 0.5)', 'rgba(255, 65, 54, 0.5)', 'rgba(207, 114, 255, 0.5)', 'rgba(127, 96, 0, 0.5)']\n",
    "\n",
    "traces = []\n",
    "\n",
    "for xd, yd, cls in zip(x_data, y_data, colors):\n",
    "        traces.append(go.Box(\n",
    "            y=yd,\n",
    "            name=xd,\n",
    "            boxpoints='all',\n",
    "            jitter=0.5,\n",
    "            whiskerwidth=0.2,\n",
    "            fillcolor=cls,\n",
    "            marker=dict(\n",
    "                size=2,\n",
    "            ),\n",
    "            line=dict(width=1),\n",
    "        ))\n",
    "\n",
    "layout = go.Layout(\n",
    "    title='Points Scored by the Top 9 Scoring NBA Players in 2012',\n",
    "    yaxis=dict(\n",
    "        autorange=True,\n",
    "        showgrid=True,\n",
    "        zeroline=True,\n",
    "        dtick=5,\n",
    "        gridcolor='rgb(255, 255, 255)',\n",
    "        gridwidth=1,\n",
    "        zerolinecolor='rgb(255, 255, 255)',\n",
    "        zerolinewidth=2,\n",
    "    ),\n",
    "    margin=dict(\n",
    "        l=40,\n",
    "        r=30,\n",
    "        b=80,\n",
    "        t=100,\n",
    "    ),\n",
    "    paper_bgcolor='rgb(243, 243, 243)',\n",
    "    plot_bgcolor='rgb(243, 243, 243)',\n",
    "    showlegend=False\n",
    ")\n",
    "\n",
    "fig = go.Figure(data=traces, layout=layout)\n",
    "iplot(fig)"
   ]
  },
  {
   "cell_type": "code",
   "execution_count": 22,
   "metadata": {},
   "outputs": [
    {
     "data": {
      "application/vnd.plotly.v1+json": {
       "config": {
        "linkText": "Export to plotly.com",
        "plotlyServerURL": "https://plotly.com",
        "showLink": false
       },
       "data": [
        {
         "type": "heatmap",
         "x": [
          "BreakNeck",
          "Blackwalk",
          "mercedes_benz",
          "DORA",
          "n2tstar",
          "coldoxygen",
          "Giken",
          "KoreaNo1",
          "undor",
          "Fordune",
          "PandaTV-Tongk",
          "Benny-_-",
          "PanDaTV_Karl",
          "homeboye",
          "YUPPIEE",
          "Doomhammer",
          "DinghisKhan",
          "YoonRoot",
          "3N1GmA",
          "synthtail",
          "SevenWolf",
          "FZTEAMLDS",
          "1125",
          "BombBurst",
          "SILPHTV",
          "SexyPIG",
          "TOP_94",
          "zeggi",
          "baoli6666666",
          "Toadoo1"
         ],
         "y": [
          17,
          33,
          5,
          8,
          6,
          16,
          142,
          19,
          44,
          8,
          116,
          335,
          87,
          72,
          23,
          3,
          165,
          65,
          16,
          45,
          55,
          45,
          9,
          14,
          277,
          265,
          77,
          52,
          56,
          22
         ],
         "z": [
          3,
          6,
          0,
          4,
          2,
          5,
          12,
          5,
          6,
          2,
          7,
          4,
          9,
          4,
          3,
          1,
          38,
          12,
          6,
          2,
          7,
          4,
          3,
          2,
          48,
          63,
          4,
          3,
          3,
          2
         ]
        }
       ],
       "layout": {
        "template": {
         "data": {
          "bar": [
           {
            "error_x": {
             "color": "#2a3f5f"
            },
            "error_y": {
             "color": "#2a3f5f"
            },
            "marker": {
             "line": {
              "color": "#E5ECF6",
              "width": 0.5
             }
            },
            "type": "bar"
           }
          ],
          "barpolar": [
           {
            "marker": {
             "line": {
              "color": "#E5ECF6",
              "width": 0.5
             }
            },
            "type": "barpolar"
           }
          ],
          "carpet": [
           {
            "aaxis": {
             "endlinecolor": "#2a3f5f",
             "gridcolor": "white",
             "linecolor": "white",
             "minorgridcolor": "white",
             "startlinecolor": "#2a3f5f"
            },
            "baxis": {
             "endlinecolor": "#2a3f5f",
             "gridcolor": "white",
             "linecolor": "white",
             "minorgridcolor": "white",
             "startlinecolor": "#2a3f5f"
            },
            "type": "carpet"
           }
          ],
          "choropleth": [
           {
            "colorbar": {
             "outlinewidth": 0,
             "ticks": ""
            },
            "type": "choropleth"
           }
          ],
          "contour": [
           {
            "colorbar": {
             "outlinewidth": 0,
             "ticks": ""
            },
            "colorscale": [
             [
              0,
              "#0d0887"
             ],
             [
              0.1111111111111111,
              "#46039f"
             ],
             [
              0.2222222222222222,
              "#7201a8"
             ],
             [
              0.3333333333333333,
              "#9c179e"
             ],
             [
              0.4444444444444444,
              "#bd3786"
             ],
             [
              0.5555555555555556,
              "#d8576b"
             ],
             [
              0.6666666666666666,
              "#ed7953"
             ],
             [
              0.7777777777777778,
              "#fb9f3a"
             ],
             [
              0.8888888888888888,
              "#fdca26"
             ],
             [
              1,
              "#f0f921"
             ]
            ],
            "type": "contour"
           }
          ],
          "contourcarpet": [
           {
            "colorbar": {
             "outlinewidth": 0,
             "ticks": ""
            },
            "type": "contourcarpet"
           }
          ],
          "heatmap": [
           {
            "colorbar": {
             "outlinewidth": 0,
             "ticks": ""
            },
            "colorscale": [
             [
              0,
              "#0d0887"
             ],
             [
              0.1111111111111111,
              "#46039f"
             ],
             [
              0.2222222222222222,
              "#7201a8"
             ],
             [
              0.3333333333333333,
              "#9c179e"
             ],
             [
              0.4444444444444444,
              "#bd3786"
             ],
             [
              0.5555555555555556,
              "#d8576b"
             ],
             [
              0.6666666666666666,
              "#ed7953"
             ],
             [
              0.7777777777777778,
              "#fb9f3a"
             ],
             [
              0.8888888888888888,
              "#fdca26"
             ],
             [
              1,
              "#f0f921"
             ]
            ],
            "type": "heatmap"
           }
          ],
          "heatmapgl": [
           {
            "colorbar": {
             "outlinewidth": 0,
             "ticks": ""
            },
            "colorscale": [
             [
              0,
              "#0d0887"
             ],
             [
              0.1111111111111111,
              "#46039f"
             ],
             [
              0.2222222222222222,
              "#7201a8"
             ],
             [
              0.3333333333333333,
              "#9c179e"
             ],
             [
              0.4444444444444444,
              "#bd3786"
             ],
             [
              0.5555555555555556,
              "#d8576b"
             ],
             [
              0.6666666666666666,
              "#ed7953"
             ],
             [
              0.7777777777777778,
              "#fb9f3a"
             ],
             [
              0.8888888888888888,
              "#fdca26"
             ],
             [
              1,
              "#f0f921"
             ]
            ],
            "type": "heatmapgl"
           }
          ],
          "histogram": [
           {
            "marker": {
             "colorbar": {
              "outlinewidth": 0,
              "ticks": ""
             }
            },
            "type": "histogram"
           }
          ],
          "histogram2d": [
           {
            "colorbar": {
             "outlinewidth": 0,
             "ticks": ""
            },
            "colorscale": [
             [
              0,
              "#0d0887"
             ],
             [
              0.1111111111111111,
              "#46039f"
             ],
             [
              0.2222222222222222,
              "#7201a8"
             ],
             [
              0.3333333333333333,
              "#9c179e"
             ],
             [
              0.4444444444444444,
              "#bd3786"
             ],
             [
              0.5555555555555556,
              "#d8576b"
             ],
             [
              0.6666666666666666,
              "#ed7953"
             ],
             [
              0.7777777777777778,
              "#fb9f3a"
             ],
             [
              0.8888888888888888,
              "#fdca26"
             ],
             [
              1,
              "#f0f921"
             ]
            ],
            "type": "histogram2d"
           }
          ],
          "histogram2dcontour": [
           {
            "colorbar": {
             "outlinewidth": 0,
             "ticks": ""
            },
            "colorscale": [
             [
              0,
              "#0d0887"
             ],
             [
              0.1111111111111111,
              "#46039f"
             ],
             [
              0.2222222222222222,
              "#7201a8"
             ],
             [
              0.3333333333333333,
              "#9c179e"
             ],
             [
              0.4444444444444444,
              "#bd3786"
             ],
             [
              0.5555555555555556,
              "#d8576b"
             ],
             [
              0.6666666666666666,
              "#ed7953"
             ],
             [
              0.7777777777777778,
              "#fb9f3a"
             ],
             [
              0.8888888888888888,
              "#fdca26"
             ],
             [
              1,
              "#f0f921"
             ]
            ],
            "type": "histogram2dcontour"
           }
          ],
          "mesh3d": [
           {
            "colorbar": {
             "outlinewidth": 0,
             "ticks": ""
            },
            "type": "mesh3d"
           }
          ],
          "parcoords": [
           {
            "line": {
             "colorbar": {
              "outlinewidth": 0,
              "ticks": ""
             }
            },
            "type": "parcoords"
           }
          ],
          "pie": [
           {
            "automargin": true,
            "type": "pie"
           }
          ],
          "scatter": [
           {
            "marker": {
             "colorbar": {
              "outlinewidth": 0,
              "ticks": ""
             }
            },
            "type": "scatter"
           }
          ],
          "scatter3d": [
           {
            "line": {
             "colorbar": {
              "outlinewidth": 0,
              "ticks": ""
             }
            },
            "marker": {
             "colorbar": {
              "outlinewidth": 0,
              "ticks": ""
             }
            },
            "type": "scatter3d"
           }
          ],
          "scattercarpet": [
           {
            "marker": {
             "colorbar": {
              "outlinewidth": 0,
              "ticks": ""
             }
            },
            "type": "scattercarpet"
           }
          ],
          "scattergeo": [
           {
            "marker": {
             "colorbar": {
              "outlinewidth": 0,
              "ticks": ""
             }
            },
            "type": "scattergeo"
           }
          ],
          "scattergl": [
           {
            "marker": {
             "colorbar": {
              "outlinewidth": 0,
              "ticks": ""
             }
            },
            "type": "scattergl"
           }
          ],
          "scattermapbox": [
           {
            "marker": {
             "colorbar": {
              "outlinewidth": 0,
              "ticks": ""
             }
            },
            "type": "scattermapbox"
           }
          ],
          "scatterpolar": [
           {
            "marker": {
             "colorbar": {
              "outlinewidth": 0,
              "ticks": ""
             }
            },
            "type": "scatterpolar"
           }
          ],
          "scatterpolargl": [
           {
            "marker": {
             "colorbar": {
              "outlinewidth": 0,
              "ticks": ""
             }
            },
            "type": "scatterpolargl"
           }
          ],
          "scatterternary": [
           {
            "marker": {
             "colorbar": {
              "outlinewidth": 0,
              "ticks": ""
             }
            },
            "type": "scatterternary"
           }
          ],
          "surface": [
           {
            "colorbar": {
             "outlinewidth": 0,
             "ticks": ""
            },
            "colorscale": [
             [
              0,
              "#0d0887"
             ],
             [
              0.1111111111111111,
              "#46039f"
             ],
             [
              0.2222222222222222,
              "#7201a8"
             ],
             [
              0.3333333333333333,
              "#9c179e"
             ],
             [
              0.4444444444444444,
              "#bd3786"
             ],
             [
              0.5555555555555556,
              "#d8576b"
             ],
             [
              0.6666666666666666,
              "#ed7953"
             ],
             [
              0.7777777777777778,
              "#fb9f3a"
             ],
             [
              0.8888888888888888,
              "#fdca26"
             ],
             [
              1,
              "#f0f921"
             ]
            ],
            "type": "surface"
           }
          ],
          "table": [
           {
            "cells": {
             "fill": {
              "color": "#EBF0F8"
             },
             "line": {
              "color": "white"
             }
            },
            "header": {
             "fill": {
              "color": "#C8D4E3"
             },
             "line": {
              "color": "white"
             }
            },
            "type": "table"
           }
          ]
         },
         "layout": {
          "annotationdefaults": {
           "arrowcolor": "#2a3f5f",
           "arrowhead": 0,
           "arrowwidth": 1
          },
          "autotypenumbers": "strict",
          "coloraxis": {
           "colorbar": {
            "outlinewidth": 0,
            "ticks": ""
           }
          },
          "colorscale": {
           "diverging": [
            [
             0,
             "#8e0152"
            ],
            [
             0.1,
             "#c51b7d"
            ],
            [
             0.2,
             "#de77ae"
            ],
            [
             0.3,
             "#f1b6da"
            ],
            [
             0.4,
             "#fde0ef"
            ],
            [
             0.5,
             "#f7f7f7"
            ],
            [
             0.6,
             "#e6f5d0"
            ],
            [
             0.7,
             "#b8e186"
            ],
            [
             0.8,
             "#7fbc41"
            ],
            [
             0.9,
             "#4d9221"
            ],
            [
             1,
             "#276419"
            ]
           ],
           "sequential": [
            [
             0,
             "#0d0887"
            ],
            [
             0.1111111111111111,
             "#46039f"
            ],
            [
             0.2222222222222222,
             "#7201a8"
            ],
            [
             0.3333333333333333,
             "#9c179e"
            ],
            [
             0.4444444444444444,
             "#bd3786"
            ],
            [
             0.5555555555555556,
             "#d8576b"
            ],
            [
             0.6666666666666666,
             "#ed7953"
            ],
            [
             0.7777777777777778,
             "#fb9f3a"
            ],
            [
             0.8888888888888888,
             "#fdca26"
            ],
            [
             1,
             "#f0f921"
            ]
           ],
           "sequentialminus": [
            [
             0,
             "#0d0887"
            ],
            [
             0.1111111111111111,
             "#46039f"
            ],
            [
             0.2222222222222222,
             "#7201a8"
            ],
            [
             0.3333333333333333,
             "#9c179e"
            ],
            [
             0.4444444444444444,
             "#bd3786"
            ],
            [
             0.5555555555555556,
             "#d8576b"
            ],
            [
             0.6666666666666666,
             "#ed7953"
            ],
            [
             0.7777777777777778,
             "#fb9f3a"
            ],
            [
             0.8888888888888888,
             "#fdca26"
            ],
            [
             1,
             "#f0f921"
            ]
           ]
          },
          "colorway": [
           "#636efa",
           "#EF553B",
           "#00cc96",
           "#ab63fa",
           "#FFA15A",
           "#19d3f3",
           "#FF6692",
           "#B6E880",
           "#FF97FF",
           "#FECB52"
          ],
          "font": {
           "color": "#2a3f5f"
          },
          "geo": {
           "bgcolor": "white",
           "lakecolor": "white",
           "landcolor": "#E5ECF6",
           "showlakes": true,
           "showland": true,
           "subunitcolor": "white"
          },
          "hoverlabel": {
           "align": "left"
          },
          "hovermode": "closest",
          "mapbox": {
           "style": "light"
          },
          "paper_bgcolor": "white",
          "plot_bgcolor": "#E5ECF6",
          "polar": {
           "angularaxis": {
            "gridcolor": "white",
            "linecolor": "white",
            "ticks": ""
           },
           "bgcolor": "#E5ECF6",
           "radialaxis": {
            "gridcolor": "white",
            "linecolor": "white",
            "ticks": ""
           }
          },
          "scene": {
           "xaxis": {
            "backgroundcolor": "#E5ECF6",
            "gridcolor": "white",
            "gridwidth": 2,
            "linecolor": "white",
            "showbackground": true,
            "ticks": "",
            "zerolinecolor": "white"
           },
           "yaxis": {
            "backgroundcolor": "#E5ECF6",
            "gridcolor": "white",
            "gridwidth": 2,
            "linecolor": "white",
            "showbackground": true,
            "ticks": "",
            "zerolinecolor": "white"
           },
           "zaxis": {
            "backgroundcolor": "#E5ECF6",
            "gridcolor": "white",
            "gridwidth": 2,
            "linecolor": "white",
            "showbackground": true,
            "ticks": "",
            "zerolinecolor": "white"
           }
          },
          "shapedefaults": {
           "line": {
            "color": "#2a3f5f"
           }
          },
          "ternary": {
           "aaxis": {
            "gridcolor": "white",
            "linecolor": "white",
            "ticks": ""
           },
           "baxis": {
            "gridcolor": "white",
            "linecolor": "white",
            "ticks": ""
           },
           "bgcolor": "#E5ECF6",
           "caxis": {
            "gridcolor": "white",
            "linecolor": "white",
            "ticks": ""
           }
          },
          "title": {
           "x": 0.05
          },
          "xaxis": {
           "automargin": true,
           "gridcolor": "white",
           "linecolor": "white",
           "ticks": "",
           "title": {
            "standoff": 15
           },
           "zerolinecolor": "white",
           "zerolinewidth": 2
          },
          "yaxis": {
           "automargin": true,
           "gridcolor": "white",
           "linecolor": "white",
           "ticks": "",
           "title": {
            "standoff": 15
           },
           "zerolinecolor": "white",
           "zerolinewidth": 2
          }
         }
        }
       }
      },
      "text/html": [
       "<div>                            <div id=\"e2df5bae-39e3-43da-a662-f6ab6ea9a15e\" class=\"plotly-graph-div\" style=\"height:525px; width:100%;\"></div>            <script type=\"text/javascript\">                require([\"plotly\"], function(Plotly) {                    window.PLOTLYENV=window.PLOTLYENV || {};                                    if (document.getElementById(\"e2df5bae-39e3-43da-a662-f6ab6ea9a15e\")) {                    Plotly.newPlot(                        \"e2df5bae-39e3-43da-a662-f6ab6ea9a15e\",                        [{\"type\": \"heatmap\", \"x\": [\"BreakNeck\", \"Blackwalk\", \"mercedes_benz\", \"DORA\", \"n2tstar\", \"coldoxygen\", \"Giken\", \"KoreaNo1\", \"undor\", \"Fordune\", \"PandaTV-Tongk\", \"Benny-_-\", \"PanDaTV_Karl\", \"homeboye\", \"YUPPIEE\", \"Doomhammer\", \"DinghisKhan\", \"YoonRoot\", \"3N1GmA\", \"synthtail\", \"SevenWolf\", \"FZTEAMLDS\", \"1125\", \"BombBurst\", \"SILPHTV\", \"SexyPIG\", \"TOP_94\", \"zeggi\", \"baoli6666666\", \"Toadoo1\"], \"y\": [17, 33, 5, 8, 6, 16, 142, 19, 44, 8, 116, 335, 87, 72, 23, 3, 165, 65, 16, 45, 55, 45, 9, 14, 277, 265, 77, 52, 56, 22], \"z\": [3, 6, 0, 4, 2, 5, 12, 5, 6, 2, 7, 4, 9, 4, 3, 1, 38, 12, 6, 2, 7, 4, 3, 2, 48, 63, 4, 3, 3, 2]}],                        {\"template\": {\"data\": {\"bar\": [{\"error_x\": {\"color\": \"#2a3f5f\"}, \"error_y\": {\"color\": \"#2a3f5f\"}, \"marker\": {\"line\": {\"color\": \"#E5ECF6\", \"width\": 0.5}}, \"type\": \"bar\"}], \"barpolar\": [{\"marker\": {\"line\": {\"color\": \"#E5ECF6\", \"width\": 0.5}}, \"type\": \"barpolar\"}], \"carpet\": [{\"aaxis\": {\"endlinecolor\": \"#2a3f5f\", \"gridcolor\": \"white\", \"linecolor\": \"white\", \"minorgridcolor\": \"white\", \"startlinecolor\": \"#2a3f5f\"}, \"baxis\": {\"endlinecolor\": \"#2a3f5f\", \"gridcolor\": \"white\", \"linecolor\": \"white\", \"minorgridcolor\": \"white\", \"startlinecolor\": \"#2a3f5f\"}, \"type\": \"carpet\"}], \"choropleth\": [{\"colorbar\": {\"outlinewidth\": 0, \"ticks\": \"\"}, \"type\": \"choropleth\"}], \"contour\": [{\"colorbar\": {\"outlinewidth\": 0, \"ticks\": \"\"}, \"colorscale\": [[0.0, \"#0d0887\"], [0.1111111111111111, \"#46039f\"], [0.2222222222222222, \"#7201a8\"], [0.3333333333333333, \"#9c179e\"], [0.4444444444444444, \"#bd3786\"], [0.5555555555555556, \"#d8576b\"], [0.6666666666666666, \"#ed7953\"], [0.7777777777777778, \"#fb9f3a\"], [0.8888888888888888, \"#fdca26\"], [1.0, \"#f0f921\"]], \"type\": \"contour\"}], \"contourcarpet\": [{\"colorbar\": {\"outlinewidth\": 0, \"ticks\": \"\"}, \"type\": \"contourcarpet\"}], \"heatmap\": [{\"colorbar\": {\"outlinewidth\": 0, \"ticks\": \"\"}, \"colorscale\": [[0.0, \"#0d0887\"], [0.1111111111111111, \"#46039f\"], [0.2222222222222222, \"#7201a8\"], [0.3333333333333333, \"#9c179e\"], [0.4444444444444444, \"#bd3786\"], [0.5555555555555556, \"#d8576b\"], [0.6666666666666666, \"#ed7953\"], [0.7777777777777778, \"#fb9f3a\"], [0.8888888888888888, \"#fdca26\"], [1.0, \"#f0f921\"]], \"type\": \"heatmap\"}], \"heatmapgl\": [{\"colorbar\": {\"outlinewidth\": 0, \"ticks\": \"\"}, \"colorscale\": [[0.0, \"#0d0887\"], [0.1111111111111111, \"#46039f\"], [0.2222222222222222, \"#7201a8\"], [0.3333333333333333, \"#9c179e\"], [0.4444444444444444, \"#bd3786\"], [0.5555555555555556, \"#d8576b\"], [0.6666666666666666, \"#ed7953\"], [0.7777777777777778, \"#fb9f3a\"], [0.8888888888888888, \"#fdca26\"], [1.0, \"#f0f921\"]], \"type\": \"heatmapgl\"}], \"histogram\": [{\"marker\": {\"colorbar\": {\"outlinewidth\": 0, \"ticks\": \"\"}}, \"type\": \"histogram\"}], \"histogram2d\": [{\"colorbar\": {\"outlinewidth\": 0, \"ticks\": \"\"}, \"colorscale\": [[0.0, \"#0d0887\"], [0.1111111111111111, \"#46039f\"], [0.2222222222222222, \"#7201a8\"], [0.3333333333333333, \"#9c179e\"], [0.4444444444444444, \"#bd3786\"], [0.5555555555555556, \"#d8576b\"], [0.6666666666666666, \"#ed7953\"], [0.7777777777777778, \"#fb9f3a\"], [0.8888888888888888, \"#fdca26\"], [1.0, \"#f0f921\"]], \"type\": \"histogram2d\"}], \"histogram2dcontour\": [{\"colorbar\": {\"outlinewidth\": 0, \"ticks\": \"\"}, \"colorscale\": [[0.0, \"#0d0887\"], [0.1111111111111111, \"#46039f\"], [0.2222222222222222, \"#7201a8\"], [0.3333333333333333, \"#9c179e\"], [0.4444444444444444, \"#bd3786\"], [0.5555555555555556, \"#d8576b\"], [0.6666666666666666, \"#ed7953\"], [0.7777777777777778, \"#fb9f3a\"], [0.8888888888888888, \"#fdca26\"], [1.0, \"#f0f921\"]], \"type\": \"histogram2dcontour\"}], \"mesh3d\": [{\"colorbar\": {\"outlinewidth\": 0, \"ticks\": \"\"}, \"type\": \"mesh3d\"}], \"parcoords\": [{\"line\": {\"colorbar\": {\"outlinewidth\": 0, \"ticks\": \"\"}}, \"type\": \"parcoords\"}], \"pie\": [{\"automargin\": true, \"type\": \"pie\"}], \"scatter\": [{\"marker\": {\"colorbar\": {\"outlinewidth\": 0, \"ticks\": \"\"}}, \"type\": \"scatter\"}], \"scatter3d\": [{\"line\": {\"colorbar\": {\"outlinewidth\": 0, \"ticks\": \"\"}}, \"marker\": {\"colorbar\": {\"outlinewidth\": 0, \"ticks\": \"\"}}, \"type\": \"scatter3d\"}], \"scattercarpet\": [{\"marker\": {\"colorbar\": {\"outlinewidth\": 0, \"ticks\": \"\"}}, \"type\": \"scattercarpet\"}], \"scattergeo\": [{\"marker\": {\"colorbar\": {\"outlinewidth\": 0, \"ticks\": \"\"}}, \"type\": \"scattergeo\"}], \"scattergl\": [{\"marker\": {\"colorbar\": {\"outlinewidth\": 0, \"ticks\": \"\"}}, \"type\": \"scattergl\"}], \"scattermapbox\": [{\"marker\": {\"colorbar\": {\"outlinewidth\": 0, \"ticks\": \"\"}}, \"type\": \"scattermapbox\"}], \"scatterpolar\": [{\"marker\": {\"colorbar\": {\"outlinewidth\": 0, \"ticks\": \"\"}}, \"type\": \"scatterpolar\"}], \"scatterpolargl\": [{\"marker\": {\"colorbar\": {\"outlinewidth\": 0, \"ticks\": \"\"}}, \"type\": \"scatterpolargl\"}], \"scatterternary\": [{\"marker\": {\"colorbar\": {\"outlinewidth\": 0, \"ticks\": \"\"}}, \"type\": \"scatterternary\"}], \"surface\": [{\"colorbar\": {\"outlinewidth\": 0, \"ticks\": \"\"}, \"colorscale\": [[0.0, \"#0d0887\"], [0.1111111111111111, \"#46039f\"], [0.2222222222222222, \"#7201a8\"], [0.3333333333333333, \"#9c179e\"], [0.4444444444444444, \"#bd3786\"], [0.5555555555555556, \"#d8576b\"], [0.6666666666666666, \"#ed7953\"], [0.7777777777777778, \"#fb9f3a\"], [0.8888888888888888, \"#fdca26\"], [1.0, \"#f0f921\"]], \"type\": \"surface\"}], \"table\": [{\"cells\": {\"fill\": {\"color\": \"#EBF0F8\"}, \"line\": {\"color\": \"white\"}}, \"header\": {\"fill\": {\"color\": \"#C8D4E3\"}, \"line\": {\"color\": \"white\"}}, \"type\": \"table\"}]}, \"layout\": {\"annotationdefaults\": {\"arrowcolor\": \"#2a3f5f\", \"arrowhead\": 0, \"arrowwidth\": 1}, \"autotypenumbers\": \"strict\", \"coloraxis\": {\"colorbar\": {\"outlinewidth\": 0, \"ticks\": \"\"}}, \"colorscale\": {\"diverging\": [[0, \"#8e0152\"], [0.1, \"#c51b7d\"], [0.2, \"#de77ae\"], [0.3, \"#f1b6da\"], [0.4, \"#fde0ef\"], [0.5, \"#f7f7f7\"], [0.6, \"#e6f5d0\"], [0.7, \"#b8e186\"], [0.8, \"#7fbc41\"], [0.9, \"#4d9221\"], [1, \"#276419\"]], \"sequential\": [[0.0, \"#0d0887\"], [0.1111111111111111, \"#46039f\"], [0.2222222222222222, \"#7201a8\"], [0.3333333333333333, \"#9c179e\"], [0.4444444444444444, \"#bd3786\"], [0.5555555555555556, \"#d8576b\"], [0.6666666666666666, \"#ed7953\"], [0.7777777777777778, \"#fb9f3a\"], [0.8888888888888888, \"#fdca26\"], [1.0, \"#f0f921\"]], \"sequentialminus\": [[0.0, \"#0d0887\"], [0.1111111111111111, \"#46039f\"], [0.2222222222222222, \"#7201a8\"], [0.3333333333333333, \"#9c179e\"], [0.4444444444444444, \"#bd3786\"], [0.5555555555555556, \"#d8576b\"], [0.6666666666666666, \"#ed7953\"], [0.7777777777777778, \"#fb9f3a\"], [0.8888888888888888, \"#fdca26\"], [1.0, \"#f0f921\"]]}, \"colorway\": [\"#636efa\", \"#EF553B\", \"#00cc96\", \"#ab63fa\", \"#FFA15A\", \"#19d3f3\", \"#FF6692\", \"#B6E880\", \"#FF97FF\", \"#FECB52\"], \"font\": {\"color\": \"#2a3f5f\"}, \"geo\": {\"bgcolor\": \"white\", \"lakecolor\": \"white\", \"landcolor\": \"#E5ECF6\", \"showlakes\": true, \"showland\": true, \"subunitcolor\": \"white\"}, \"hoverlabel\": {\"align\": \"left\"}, \"hovermode\": \"closest\", \"mapbox\": {\"style\": \"light\"}, \"paper_bgcolor\": \"white\", \"plot_bgcolor\": \"#E5ECF6\", \"polar\": {\"angularaxis\": {\"gridcolor\": \"white\", \"linecolor\": \"white\", \"ticks\": \"\"}, \"bgcolor\": \"#E5ECF6\", \"radialaxis\": {\"gridcolor\": \"white\", \"linecolor\": \"white\", \"ticks\": \"\"}}, \"scene\": {\"xaxis\": {\"backgroundcolor\": \"#E5ECF6\", \"gridcolor\": \"white\", \"gridwidth\": 2, \"linecolor\": \"white\", \"showbackground\": true, \"ticks\": \"\", \"zerolinecolor\": \"white\"}, \"yaxis\": {\"backgroundcolor\": \"#E5ECF6\", \"gridcolor\": \"white\", \"gridwidth\": 2, \"linecolor\": \"white\", \"showbackground\": true, \"ticks\": \"\", \"zerolinecolor\": \"white\"}, \"zaxis\": {\"backgroundcolor\": \"#E5ECF6\", \"gridcolor\": \"white\", \"gridwidth\": 2, \"linecolor\": \"white\", \"showbackground\": true, \"ticks\": \"\", \"zerolinecolor\": \"white\"}}, \"shapedefaults\": {\"line\": {\"color\": \"#2a3f5f\"}}, \"ternary\": {\"aaxis\": {\"gridcolor\": \"white\", \"linecolor\": \"white\", \"ticks\": \"\"}, \"baxis\": {\"gridcolor\": \"white\", \"linecolor\": \"white\", \"ticks\": \"\"}, \"bgcolor\": \"#E5ECF6\", \"caxis\": {\"gridcolor\": \"white\", \"linecolor\": \"white\", \"ticks\": \"\"}}, \"title\": {\"x\": 0.05}, \"xaxis\": {\"automargin\": true, \"gridcolor\": \"white\", \"linecolor\": \"white\", \"ticks\": \"\", \"title\": {\"standoff\": 15}, \"zerolinecolor\": \"white\", \"zerolinewidth\": 2}, \"yaxis\": {\"automargin\": true, \"gridcolor\": \"white\", \"linecolor\": \"white\", \"ticks\": \"\", \"title\": {\"standoff\": 15}, \"zerolinecolor\": \"white\", \"zerolinewidth\": 2}}}},                        {\"responsive\": true}                    ).then(function(){\n",
       "                            \n",
       "var gd = document.getElementById('e2df5bae-39e3-43da-a662-f6ab6ea9a15e');\n",
       "var x = new MutationObserver(function (mutations, observer) {{\n",
       "        var display = window.getComputedStyle(gd).display;\n",
       "        if (!display || display === 'none') {{\n",
       "            console.log([gd, 'removed!']);\n",
       "            Plotly.purge(gd);\n",
       "            observer.disconnect();\n",
       "        }}\n",
       "}});\n",
       "\n",
       "// Listen for the removal of the full notebook cells\n",
       "var notebookContainer = gd.closest('#notebook-container');\n",
       "if (notebookContainer) {{\n",
       "    x.observe(notebookContainer, {childList: true});\n",
       "}}\n",
       "\n",
       "// Listen for the clearing of the current output cell\n",
       "var outputEl = gd.closest('.output');\n",
       "if (outputEl) {{\n",
       "    x.observe(outputEl, {childList: true});\n",
       "}}\n",
       "\n",
       "                        })                };                });            </script>        </div>"
      ]
     },
     "metadata": {},
     "output_type": "display_data"
    }
   ],
   "source": [
    "#NOTE\n",
    "\n",
    "trace = go.Heatmap(z= df_bar_pubg['solo_Wins'],\n",
    "                   x= df_bar_pubg['player_name'],\n",
    "                   y= df_bar_pubg['solo_RoundsPlayed'])\n",
    "data=[trace]\n",
    "iplot(data, filename='labelled-heatmap')"
   ]
  }
 ],
 "metadata": {
  "kernelspec": {
   "display_name": "Python 3",
   "language": "python",
   "name": "python3"
  },
  "language_info": {
   "codemirror_mode": {
    "name": "ipython",
    "version": 3
   },
   "file_extension": ".py",
   "mimetype": "text/x-python",
   "name": "python",
   "nbconvert_exporter": "python",
   "pygments_lexer": "ipython3",
   "version": "3.7.3"
  }
 },
 "nbformat": 4,
 "nbformat_minor": 2
}
